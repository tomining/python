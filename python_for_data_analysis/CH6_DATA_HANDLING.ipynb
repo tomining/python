{
 "cells": [
  {
   "cell_type": "markdown",
   "metadata": {},
   "source": [
    "# 데이터 로딩, 저장, 파일 형식"
   ]
  },
  {
   "cell_type": "markdown",
   "metadata": {},
   "source": [
    "입/출력\n",
    "* 텍스트 파일을 이용하는 방법\n",
    "* 데이터베이스를 이용하는 방법\n",
    "* 웹 API를 이용하는 방법"
   ]
  },
  {
   "cell_type": "markdown",
   "metadata": {},
   "source": [
    "## 6.1. 텍스트 파일을 이용하는 방법"
   ]
  },
  {
   "cell_type": "markdown",
   "metadata": {},
   "source": [
    "pandas 파일 파싱 함수\n",
    "\n",
    "<table align=\"left\">\n",
    "    <thead>\n",
    "        <td>함수</td>\n",
    "        <td>설명</td>\n",
    "    </thead>\n",
    "    <tbody>\n",
    "        <tr>\n",
    "            <td>read_csv</td>\n",
    "            <td>파일, URL 또는 파일과 유사한 객체로부터 구분된 데이터를 읽어온다. 데이터 구분자는 쉼표(,)를 기본으로 한다.<\\td>\n",
    "        </tr>\n",
    "        <tr>\n",
    "            <td>read_table</td>\n",
    "            <td>파일, URL 또는 파일과 유사한 객체로부터 구분된 데이터를 읽어온다. 데이터 구분자는 탭를 기본으로 한다.탭<\\td>\n",
    "        </tr>\n",
    "        <tr>\n",
    "            <td>read_fwf</td>\n",
    "            <td>고정폭 컬럼 형식에서 데이터를 읽어온다.</td>\n",
    "        </tr>\n",
    "        <tr>\n",
    "            <td>read_clipboard</td>\n",
    "            <td>클립보드에 있는 데이터를 읽어오는 read_table 함수. 웹 페이지에서 표를 긁어올 때 유용하다</td>\n",
    "        </tr>\n",
    "    </tbody>\n",
    "</table>"
   ]
  },
  {
   "cell_type": "code",
   "execution_count": null,
   "metadata": {
    "collapsed": true
   },
   "outputs": [],
   "source": []
  }
 ],
 "metadata": {
  "kernelspec": {
   "display_name": "Python 3",
   "language": "python",
   "name": "python3"
  },
  "language_info": {
   "codemirror_mode": {
    "name": "ipython",
    "version": 3
   },
   "file_extension": ".py",
   "mimetype": "text/x-python",
   "name": "python",
   "nbconvert_exporter": "python",
   "pygments_lexer": "ipython3",
   "version": "3.5.1"
  }
 },
 "nbformat": 4,
 "nbformat_minor": 0
}
