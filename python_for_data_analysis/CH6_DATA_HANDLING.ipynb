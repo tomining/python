{
 "cells": [
  {
   "cell_type": "markdown",
   "metadata": {},
   "source": [
    "# 데이터 로딩, 저장, 파일 형식"
   ]
  },
  {
   "cell_type": "markdown",
   "metadata": {},
   "source": [
    "입/출력\n",
    "* 텍스트 파일을 이용하는 방법\n",
    "* 데이터베이스를 이용하는 방법\n",
    "* 웹 API를 이용하는 방법"
   ]
  },
  {
   "cell_type": "code",
   "execution_count": 39,
   "metadata": {
    "collapsed": true
   },
   "outputs": [],
   "source": [
    "import pandas as pd\n",
    "import numpy as np"
   ]
  },
  {
   "cell_type": "markdown",
   "metadata": {},
   "source": [
    "## 6.1. 텍스트 파일을 이용하는 방법"
   ]
  },
  {
   "cell_type": "markdown",
   "metadata": {},
   "source": [
    "pandas 파일 파싱 함수\n",
    "\n",
    "<table align=\"left\">\n",
    "    <thead>\n",
    "        <td>함수</td>\n",
    "        <td>설명</td>\n",
    "    </thead>\n",
    "    <tbody>\n",
    "        <tr>\n",
    "            <td>read_csv</td>\n",
    "            <td>파일, URL 또는 파일과 유사한 객체로부터 구분된 데이터를 읽어온다. 데이터 구분자는 쉼표(,)를 기본으로 한다.<\\td>\n",
    "        </tr>\n",
    "        <tr>\n",
    "            <td>read_table</td>\n",
    "            <td>파일, URL 또는 파일과 유사한 객체로부터 구분된 데이터를 읽어온다. 데이터 구분자는 탭를 기본으로 한다.탭<\\td>\n",
    "        </tr>\n",
    "        <tr>\n",
    "            <td>read_fwf</td>\n",
    "            <td>고정폭 컬럼 형식에서 데이터를 읽어온다.</td>\n",
    "        </tr>\n",
    "        <tr>\n",
    "            <td>read_clipboard</td>\n",
    "            <td>클립보드에 있는 데이터를 읽어오는 read_table 함수. 웹 페이지에서 표를 긁어올 때 유용하다</td>\n",
    "        </tr>\n",
    "    </tbody>\n",
    "</table>"
   ]
  },
  {
   "cell_type": "markdown",
   "metadata": {
    "collapsed": true
   },
   "source": [
    "위 함수는 텍스트 데이터를 DataFrame 으로 읽어오는 함수로, 몇 가지 옵션을 제공합니다.\n",
    "\n",
    "1. 색인 : 반환하는 DataFrame 에서 하나 이상의 칼럼을 색인으로 지정할 수 있다. 파일이나 사용자로부터 칼럼의 이름을 받거나 아무것도 받지 않을 수 있다.\n",
    "2. 자료형 추론과 데이터 변환 : 사용자가 정의 값 변환과 비어있는 값을 위한 사용자 리스트를 포함한다.\n",
    "3. 날짜 분석 : 여러 칼럼에 걸쳐 있는 날짜와 시간 정보를 하나의 칼럼에 조합해서 결과에 반영한다.\n",
    "4. 반복 : 여러 파일에 걸쳐 있는 자료를 반복적으로 읽어올 수 있다.\n",
    "5. 정제되지 않은 데이터 처리 : 로우나 꼬리말, 주석 건너뛰기 또는 천 단위마다 쉼표로 구분된 숫자 같은 사소한 일을 처리해 준다."
   ]
  },
  {
   "cell_type": "code",
   "execution_count": 1,
   "metadata": {
    "collapsed": false
   },
   "outputs": [
    {
     "name": "stdout",
     "output_type": "stream",
     "text": [
      "a,b,c,d,message\r\n",
      "1,2,3,4,hello\r\n",
      "5,6,7,8,world\r\n",
      "9,10,11,12,foo"
     ]
    }
   ],
   "source": [
    "!cat ch06/ex1.csv"
   ]
  },
  {
   "cell_type": "code",
   "execution_count": 3,
   "metadata": {
    "collapsed": true
   },
   "outputs": [],
   "source": [
    "df = pd.read_csv('ch06/ex1.csv')"
   ]
  },
  {
   "cell_type": "code",
   "execution_count": 4,
   "metadata": {
    "collapsed": false
   },
   "outputs": [
    {
     "data": {
      "text/html": [
       "<div>\n",
       "<table border=\"1\" class=\"dataframe\">\n",
       "  <thead>\n",
       "    <tr style=\"text-align: right;\">\n",
       "      <th></th>\n",
       "      <th>a</th>\n",
       "      <th>b</th>\n",
       "      <th>c</th>\n",
       "      <th>d</th>\n",
       "      <th>message</th>\n",
       "    </tr>\n",
       "  </thead>\n",
       "  <tbody>\n",
       "    <tr>\n",
       "      <th>0</th>\n",
       "      <td>1</td>\n",
       "      <td>2</td>\n",
       "      <td>3</td>\n",
       "      <td>4</td>\n",
       "      <td>hello</td>\n",
       "    </tr>\n",
       "    <tr>\n",
       "      <th>1</th>\n",
       "      <td>5</td>\n",
       "      <td>6</td>\n",
       "      <td>7</td>\n",
       "      <td>8</td>\n",
       "      <td>world</td>\n",
       "    </tr>\n",
       "    <tr>\n",
       "      <th>2</th>\n",
       "      <td>9</td>\n",
       "      <td>10</td>\n",
       "      <td>11</td>\n",
       "      <td>12</td>\n",
       "      <td>foo</td>\n",
       "    </tr>\n",
       "  </tbody>\n",
       "</table>\n",
       "</div>"
      ],
      "text/plain": [
       "   a   b   c   d message\n",
       "0  1   2   3   4   hello\n",
       "1  5   6   7   8   world\n",
       "2  9  10  11  12     foo"
      ]
     },
     "execution_count": 4,
     "metadata": {},
     "output_type": "execute_result"
    }
   ],
   "source": [
    "df"
   ]
  },
  {
   "cell_type": "markdown",
   "metadata": {},
   "source": [
    "구분자를 지정할 수도 있다."
   ]
  },
  {
   "cell_type": "code",
   "execution_count": 5,
   "metadata": {
    "collapsed": false
   },
   "outputs": [
    {
     "data": {
      "text/html": [
       "<div>\n",
       "<table border=\"1\" class=\"dataframe\">\n",
       "  <thead>\n",
       "    <tr style=\"text-align: right;\">\n",
       "      <th></th>\n",
       "      <th>a</th>\n",
       "      <th>b</th>\n",
       "      <th>c</th>\n",
       "      <th>d</th>\n",
       "      <th>message</th>\n",
       "    </tr>\n",
       "  </thead>\n",
       "  <tbody>\n",
       "    <tr>\n",
       "      <th>0</th>\n",
       "      <td>1</td>\n",
       "      <td>2</td>\n",
       "      <td>3</td>\n",
       "      <td>4</td>\n",
       "      <td>hello</td>\n",
       "    </tr>\n",
       "    <tr>\n",
       "      <th>1</th>\n",
       "      <td>5</td>\n",
       "      <td>6</td>\n",
       "      <td>7</td>\n",
       "      <td>8</td>\n",
       "      <td>world</td>\n",
       "    </tr>\n",
       "    <tr>\n",
       "      <th>2</th>\n",
       "      <td>9</td>\n",
       "      <td>10</td>\n",
       "      <td>11</td>\n",
       "      <td>12</td>\n",
       "      <td>foo</td>\n",
       "    </tr>\n",
       "  </tbody>\n",
       "</table>\n",
       "</div>"
      ],
      "text/plain": [
       "   a   b   c   d message\n",
       "0  1   2   3   4   hello\n",
       "1  5   6   7   8   world\n",
       "2  9  10  11  12     foo"
      ]
     },
     "execution_count": 5,
     "metadata": {},
     "output_type": "execute_result"
    }
   ],
   "source": [
    "pd.read_table('ch06/ex1.csv', sep=',')"
   ]
  },
  {
   "cell_type": "code",
   "execution_count": 6,
   "metadata": {
    "collapsed": false
   },
   "outputs": [
    {
     "name": "stdout",
     "output_type": "stream",
     "text": [
      "1,2,3,4,hello\r\n",
      "5,6,7,8,world\r\n",
      "9,10,11,12,foo"
     ]
    }
   ],
   "source": [
    "!cat ch06/ex2.csv"
   ]
  },
  {
   "cell_type": "markdown",
   "metadata": {},
   "source": [
    "header 옵션을 사용하지 않으면 첫 row 를 header 로 사용하게 되며, header 값이 없는 경우는 header=None 옵션을 주도록 한다."
   ]
  },
  {
   "cell_type": "code",
   "execution_count": 7,
   "metadata": {
    "collapsed": false
   },
   "outputs": [
    {
     "data": {
      "text/html": [
       "<div>\n",
       "<table border=\"1\" class=\"dataframe\">\n",
       "  <thead>\n",
       "    <tr style=\"text-align: right;\">\n",
       "      <th></th>\n",
       "      <th>0</th>\n",
       "      <th>1</th>\n",
       "      <th>2</th>\n",
       "      <th>3</th>\n",
       "      <th>4</th>\n",
       "    </tr>\n",
       "  </thead>\n",
       "  <tbody>\n",
       "    <tr>\n",
       "      <th>0</th>\n",
       "      <td>1</td>\n",
       "      <td>2</td>\n",
       "      <td>3</td>\n",
       "      <td>4</td>\n",
       "      <td>hello</td>\n",
       "    </tr>\n",
       "    <tr>\n",
       "      <th>1</th>\n",
       "      <td>5</td>\n",
       "      <td>6</td>\n",
       "      <td>7</td>\n",
       "      <td>8</td>\n",
       "      <td>world</td>\n",
       "    </tr>\n",
       "    <tr>\n",
       "      <th>2</th>\n",
       "      <td>9</td>\n",
       "      <td>10</td>\n",
       "      <td>11</td>\n",
       "      <td>12</td>\n",
       "      <td>foo</td>\n",
       "    </tr>\n",
       "  </tbody>\n",
       "</table>\n",
       "</div>"
      ],
      "text/plain": [
       "   0   1   2   3      4\n",
       "0  1   2   3   4  hello\n",
       "1  5   6   7   8  world\n",
       "2  9  10  11  12    foo"
      ]
     },
     "execution_count": 7,
     "metadata": {},
     "output_type": "execute_result"
    }
   ],
   "source": [
    "pd.read_csv('ch06/ex2.csv', header=None)"
   ]
  },
  {
   "cell_type": "markdown",
   "metadata": {},
   "source": [
    "Header 를 직접 지정할 수도 있다."
   ]
  },
  {
   "cell_type": "code",
   "execution_count": 8,
   "metadata": {
    "collapsed": false
   },
   "outputs": [
    {
     "data": {
      "text/html": [
       "<div>\n",
       "<table border=\"1\" class=\"dataframe\">\n",
       "  <thead>\n",
       "    <tr style=\"text-align: right;\">\n",
       "      <th></th>\n",
       "      <th>a</th>\n",
       "      <th>b</th>\n",
       "      <th>c</th>\n",
       "      <th>d</th>\n",
       "      <th>message</th>\n",
       "    </tr>\n",
       "  </thead>\n",
       "  <tbody>\n",
       "    <tr>\n",
       "      <th>0</th>\n",
       "      <td>1</td>\n",
       "      <td>2</td>\n",
       "      <td>3</td>\n",
       "      <td>4</td>\n",
       "      <td>hello</td>\n",
       "    </tr>\n",
       "    <tr>\n",
       "      <th>1</th>\n",
       "      <td>5</td>\n",
       "      <td>6</td>\n",
       "      <td>7</td>\n",
       "      <td>8</td>\n",
       "      <td>world</td>\n",
       "    </tr>\n",
       "    <tr>\n",
       "      <th>2</th>\n",
       "      <td>9</td>\n",
       "      <td>10</td>\n",
       "      <td>11</td>\n",
       "      <td>12</td>\n",
       "      <td>foo</td>\n",
       "    </tr>\n",
       "  </tbody>\n",
       "</table>\n",
       "</div>"
      ],
      "text/plain": [
       "   a   b   c   d message\n",
       "0  1   2   3   4   hello\n",
       "1  5   6   7   8   world\n",
       "2  9  10  11  12     foo"
      ]
     },
     "execution_count": 8,
     "metadata": {},
     "output_type": "execute_result"
    }
   ],
   "source": [
    "pd.read_csv('ch06/ex2.csv', names=['a', 'b', 'c', 'd', 'message'])"
   ]
  },
  {
   "cell_type": "code",
   "execution_count": 9,
   "metadata": {
    "collapsed": true
   },
   "outputs": [],
   "source": [
    "names = ['a', 'b', 'c' ,'d', 'message']"
   ]
  },
  {
   "cell_type": "markdown",
   "metadata": {},
   "source": [
    "index_col 옵션을 사용하여 특정 컬럼 값을 index 로 활용할 수도 있다."
   ]
  },
  {
   "cell_type": "code",
   "execution_count": 10,
   "metadata": {
    "collapsed": false
   },
   "outputs": [
    {
     "data": {
      "text/html": [
       "<div>\n",
       "<table border=\"1\" class=\"dataframe\">\n",
       "  <thead>\n",
       "    <tr style=\"text-align: right;\">\n",
       "      <th></th>\n",
       "      <th>a</th>\n",
       "      <th>b</th>\n",
       "      <th>c</th>\n",
       "      <th>d</th>\n",
       "    </tr>\n",
       "    <tr>\n",
       "      <th>message</th>\n",
       "      <th></th>\n",
       "      <th></th>\n",
       "      <th></th>\n",
       "      <th></th>\n",
       "    </tr>\n",
       "  </thead>\n",
       "  <tbody>\n",
       "    <tr>\n",
       "      <th>hello</th>\n",
       "      <td>1</td>\n",
       "      <td>2</td>\n",
       "      <td>3</td>\n",
       "      <td>4</td>\n",
       "    </tr>\n",
       "    <tr>\n",
       "      <th>world</th>\n",
       "      <td>5</td>\n",
       "      <td>6</td>\n",
       "      <td>7</td>\n",
       "      <td>8</td>\n",
       "    </tr>\n",
       "    <tr>\n",
       "      <th>foo</th>\n",
       "      <td>9</td>\n",
       "      <td>10</td>\n",
       "      <td>11</td>\n",
       "      <td>12</td>\n",
       "    </tr>\n",
       "  </tbody>\n",
       "</table>\n",
       "</div>"
      ],
      "text/plain": [
       "         a   b   c   d\n",
       "message               \n",
       "hello    1   2   3   4\n",
       "world    5   6   7   8\n",
       "foo      9  10  11  12"
      ]
     },
     "execution_count": 10,
     "metadata": {},
     "output_type": "execute_result"
    }
   ],
   "source": [
    "pd.read_csv('ch06/ex2.csv', names=names, index_col='message')"
   ]
  },
  {
   "cell_type": "markdown",
   "metadata": {},
   "source": [
    "계층적 색인을 사용하고자 한다면??"
   ]
  },
  {
   "cell_type": "code",
   "execution_count": 11,
   "metadata": {
    "collapsed": false
   },
   "outputs": [
    {
     "name": "stdout",
     "output_type": "stream",
     "text": [
      "key1,key2,value1,value2\r\n",
      "one,a,1,2\r\n",
      "one,b,3,4\r\n",
      "one,c,5,6\r\n",
      "one,d,7,8\r\n",
      "two,a,9,10\r\n",
      "two,b,11,12\r\n",
      "two,c,13,14\r\n",
      "two,d,15,16\r\n"
     ]
    }
   ],
   "source": [
    "!cat ch06/csv_mindex.csv"
   ]
  },
  {
   "cell_type": "code",
   "execution_count": 12,
   "metadata": {
    "collapsed": false
   },
   "outputs": [
    {
     "data": {
      "text/html": [
       "<div>\n",
       "<table border=\"1\" class=\"dataframe\">\n",
       "  <thead>\n",
       "    <tr style=\"text-align: right;\">\n",
       "      <th></th>\n",
       "      <th></th>\n",
       "      <th>value1</th>\n",
       "      <th>value2</th>\n",
       "    </tr>\n",
       "    <tr>\n",
       "      <th>key1</th>\n",
       "      <th>key2</th>\n",
       "      <th></th>\n",
       "      <th></th>\n",
       "    </tr>\n",
       "  </thead>\n",
       "  <tbody>\n",
       "    <tr>\n",
       "      <th rowspan=\"4\" valign=\"top\">one</th>\n",
       "      <th>a</th>\n",
       "      <td>1</td>\n",
       "      <td>2</td>\n",
       "    </tr>\n",
       "    <tr>\n",
       "      <th>b</th>\n",
       "      <td>3</td>\n",
       "      <td>4</td>\n",
       "    </tr>\n",
       "    <tr>\n",
       "      <th>c</th>\n",
       "      <td>5</td>\n",
       "      <td>6</td>\n",
       "    </tr>\n",
       "    <tr>\n",
       "      <th>d</th>\n",
       "      <td>7</td>\n",
       "      <td>8</td>\n",
       "    </tr>\n",
       "    <tr>\n",
       "      <th rowspan=\"4\" valign=\"top\">two</th>\n",
       "      <th>a</th>\n",
       "      <td>9</td>\n",
       "      <td>10</td>\n",
       "    </tr>\n",
       "    <tr>\n",
       "      <th>b</th>\n",
       "      <td>11</td>\n",
       "      <td>12</td>\n",
       "    </tr>\n",
       "    <tr>\n",
       "      <th>c</th>\n",
       "      <td>13</td>\n",
       "      <td>14</td>\n",
       "    </tr>\n",
       "    <tr>\n",
       "      <th>d</th>\n",
       "      <td>15</td>\n",
       "      <td>16</td>\n",
       "    </tr>\n",
       "  </tbody>\n",
       "</table>\n",
       "</div>"
      ],
      "text/plain": [
       "           value1  value2\n",
       "key1 key2                \n",
       "one  a          1       2\n",
       "     b          3       4\n",
       "     c          5       6\n",
       "     d          7       8\n",
       "two  a          9      10\n",
       "     b         11      12\n",
       "     c         13      14\n",
       "     d         15      16"
      ]
     },
     "execution_count": 12,
     "metadata": {},
     "output_type": "execute_result"
    }
   ],
   "source": [
    "parsed = pd.read_csv('ch06/csv_mindex.csv', index_col=['key1', 'key2'])\n",
    "parsed"
   ]
  },
  {
   "cell_type": "markdown",
   "metadata": {},
   "source": [
    "고정된 구분자 없이 공백 또는 다른 패턴의 필드로 구분된 경우가 있는데, 이 때는 read_table 의 sep 옵션에 정규표현식을 사용하자."
   ]
  },
  {
   "cell_type": "code",
   "execution_count": 13,
   "metadata": {
    "collapsed": false
   },
   "outputs": [
    {
     "data": {
      "text/plain": [
       "['            A         B         C\\n',\n",
       " 'aaa -0.264438 -1.026059 -0.619500\\n',\n",
       " 'bbb  0.927272  0.302904 -0.032399\\n',\n",
       " 'ccc -0.264273 -0.386314 -0.217601\\n',\n",
       " 'ddd -0.871858 -0.348382  1.100491\\n']"
      ]
     },
     "execution_count": 13,
     "metadata": {},
     "output_type": "execute_result"
    }
   ],
   "source": [
    "list(open('ch06/ex3.txt'))"
   ]
  },
  {
   "cell_type": "markdown",
   "metadata": {},
   "source": [
    "이 경우 첫 row 가 칼럼이 하나 적기 때문에 read_table 시에 첫 번째 컬럼은 DataFrame 의 색인으로 지정한다."
   ]
  },
  {
   "cell_type": "code",
   "execution_count": 14,
   "metadata": {
    "collapsed": false
   },
   "outputs": [
    {
     "data": {
      "text/html": [
       "<div>\n",
       "<table border=\"1\" class=\"dataframe\">\n",
       "  <thead>\n",
       "    <tr style=\"text-align: right;\">\n",
       "      <th></th>\n",
       "      <th>A</th>\n",
       "      <th>B</th>\n",
       "      <th>C</th>\n",
       "    </tr>\n",
       "  </thead>\n",
       "  <tbody>\n",
       "    <tr>\n",
       "      <th>aaa</th>\n",
       "      <td>-0.264438</td>\n",
       "      <td>-1.026059</td>\n",
       "      <td>-0.619500</td>\n",
       "    </tr>\n",
       "    <tr>\n",
       "      <th>bbb</th>\n",
       "      <td>0.927272</td>\n",
       "      <td>0.302904</td>\n",
       "      <td>-0.032399</td>\n",
       "    </tr>\n",
       "    <tr>\n",
       "      <th>ccc</th>\n",
       "      <td>-0.264273</td>\n",
       "      <td>-0.386314</td>\n",
       "      <td>-0.217601</td>\n",
       "    </tr>\n",
       "    <tr>\n",
       "      <th>ddd</th>\n",
       "      <td>-0.871858</td>\n",
       "      <td>-0.348382</td>\n",
       "      <td>1.100491</td>\n",
       "    </tr>\n",
       "  </tbody>\n",
       "</table>\n",
       "</div>"
      ],
      "text/plain": [
       "            A         B         C\n",
       "aaa -0.264438 -1.026059 -0.619500\n",
       "bbb  0.927272  0.302904 -0.032399\n",
       "ccc -0.264273 -0.386314 -0.217601\n",
       "ddd -0.871858 -0.348382  1.100491"
      ]
     },
     "execution_count": 14,
     "metadata": {},
     "output_type": "execute_result"
    }
   ],
   "source": [
    "result = pd.read_table('ch06/ex3.txt', sep='\\s+')\n",
    "result"
   ]
  },
  {
   "cell_type": "markdown",
   "metadata": {},
   "source": [
    "skiprows 옵션을 이용하여 특정 row 를 제외하고 읽을 수도 있다."
   ]
  },
  {
   "cell_type": "code",
   "execution_count": 15,
   "metadata": {
    "collapsed": false
   },
   "outputs": [
    {
     "name": "stdout",
     "output_type": "stream",
     "text": [
      "# hey!\r\n",
      "a,b,c,d,message\r\n",
      "# just wanted to make things more difficult for you\r\n",
      "# who reads CSV files with computers, anyway?\r\n",
      "1,2,3,4,hello\r\n",
      "5,6,7,8,world\r\n",
      "9,10,11,12,foo"
     ]
    }
   ],
   "source": [
    "!cat ch06/ex4.csv"
   ]
  },
  {
   "cell_type": "code",
   "execution_count": 16,
   "metadata": {
    "collapsed": false
   },
   "outputs": [
    {
     "data": {
      "text/html": [
       "<div>\n",
       "<table border=\"1\" class=\"dataframe\">\n",
       "  <thead>\n",
       "    <tr style=\"text-align: right;\">\n",
       "      <th></th>\n",
       "      <th>a</th>\n",
       "      <th>b</th>\n",
       "      <th>c</th>\n",
       "      <th>d</th>\n",
       "      <th>message</th>\n",
       "    </tr>\n",
       "  </thead>\n",
       "  <tbody>\n",
       "    <tr>\n",
       "      <th>0</th>\n",
       "      <td>1</td>\n",
       "      <td>2</td>\n",
       "      <td>3</td>\n",
       "      <td>4</td>\n",
       "      <td>hello</td>\n",
       "    </tr>\n",
       "    <tr>\n",
       "      <th>1</th>\n",
       "      <td>5</td>\n",
       "      <td>6</td>\n",
       "      <td>7</td>\n",
       "      <td>8</td>\n",
       "      <td>world</td>\n",
       "    </tr>\n",
       "    <tr>\n",
       "      <th>2</th>\n",
       "      <td>9</td>\n",
       "      <td>10</td>\n",
       "      <td>11</td>\n",
       "      <td>12</td>\n",
       "      <td>foo</td>\n",
       "    </tr>\n",
       "  </tbody>\n",
       "</table>\n",
       "</div>"
      ],
      "text/plain": [
       "   a   b   c   d message\n",
       "0  1   2   3   4   hello\n",
       "1  5   6   7   8   world\n",
       "2  9  10  11  12     foo"
      ]
     },
     "execution_count": 16,
     "metadata": {},
     "output_type": "execute_result"
    }
   ],
   "source": [
    "pd.read_csv('ch06/ex4.csv', skiprows=[0, 2, 3])"
   ]
  },
  {
   "cell_type": "markdown",
   "metadata": {},
   "source": [
    "누락된 값 처리하기"
   ]
  },
  {
   "cell_type": "code",
   "execution_count": 17,
   "metadata": {
    "collapsed": false
   },
   "outputs": [
    {
     "name": "stdout",
     "output_type": "stream",
     "text": [
      "something,a,b,c,d,message\r\n",
      "one,1,2,3,4,NA\r\n",
      "two,5,6,,8,world\r\n",
      "three,9,10,11,12,foo"
     ]
    }
   ],
   "source": [
    "!cat ch06/ex5.csv"
   ]
  },
  {
   "cell_type": "code",
   "execution_count": 18,
   "metadata": {
    "collapsed": false
   },
   "outputs": [
    {
     "data": {
      "text/html": [
       "<div>\n",
       "<table border=\"1\" class=\"dataframe\">\n",
       "  <thead>\n",
       "    <tr style=\"text-align: right;\">\n",
       "      <th></th>\n",
       "      <th>something</th>\n",
       "      <th>a</th>\n",
       "      <th>b</th>\n",
       "      <th>c</th>\n",
       "      <th>d</th>\n",
       "      <th>message</th>\n",
       "    </tr>\n",
       "  </thead>\n",
       "  <tbody>\n",
       "    <tr>\n",
       "      <th>0</th>\n",
       "      <td>one</td>\n",
       "      <td>1</td>\n",
       "      <td>2</td>\n",
       "      <td>3.0</td>\n",
       "      <td>4</td>\n",
       "      <td>NaN</td>\n",
       "    </tr>\n",
       "    <tr>\n",
       "      <th>1</th>\n",
       "      <td>two</td>\n",
       "      <td>5</td>\n",
       "      <td>6</td>\n",
       "      <td>NaN</td>\n",
       "      <td>8</td>\n",
       "      <td>world</td>\n",
       "    </tr>\n",
       "    <tr>\n",
       "      <th>2</th>\n",
       "      <td>three</td>\n",
       "      <td>9</td>\n",
       "      <td>10</td>\n",
       "      <td>11.0</td>\n",
       "      <td>12</td>\n",
       "      <td>foo</td>\n",
       "    </tr>\n",
       "  </tbody>\n",
       "</table>\n",
       "</div>"
      ],
      "text/plain": [
       "  something  a   b     c   d message\n",
       "0       one  1   2   3.0   4     NaN\n",
       "1       two  5   6   NaN   8   world\n",
       "2     three  9  10  11.0  12     foo"
      ]
     },
     "execution_count": 18,
     "metadata": {},
     "output_type": "execute_result"
    }
   ],
   "source": [
    "result = pd.read_csv('ch06/ex5.csv')\n",
    "result"
   ]
  },
  {
   "cell_type": "code",
   "execution_count": 19,
   "metadata": {
    "collapsed": false
   },
   "outputs": [
    {
     "data": {
      "text/html": [
       "<div>\n",
       "<table border=\"1\" class=\"dataframe\">\n",
       "  <thead>\n",
       "    <tr style=\"text-align: right;\">\n",
       "      <th></th>\n",
       "      <th>something</th>\n",
       "      <th>a</th>\n",
       "      <th>b</th>\n",
       "      <th>c</th>\n",
       "      <th>d</th>\n",
       "      <th>message</th>\n",
       "    </tr>\n",
       "  </thead>\n",
       "  <tbody>\n",
       "    <tr>\n",
       "      <th>0</th>\n",
       "      <td>False</td>\n",
       "      <td>False</td>\n",
       "      <td>False</td>\n",
       "      <td>False</td>\n",
       "      <td>False</td>\n",
       "      <td>True</td>\n",
       "    </tr>\n",
       "    <tr>\n",
       "      <th>1</th>\n",
       "      <td>False</td>\n",
       "      <td>False</td>\n",
       "      <td>False</td>\n",
       "      <td>True</td>\n",
       "      <td>False</td>\n",
       "      <td>False</td>\n",
       "    </tr>\n",
       "    <tr>\n",
       "      <th>2</th>\n",
       "      <td>False</td>\n",
       "      <td>False</td>\n",
       "      <td>False</td>\n",
       "      <td>False</td>\n",
       "      <td>False</td>\n",
       "      <td>False</td>\n",
       "    </tr>\n",
       "  </tbody>\n",
       "</table>\n",
       "</div>"
      ],
      "text/plain": [
       "  something      a      b      c      d message\n",
       "0     False  False  False  False  False    True\n",
       "1     False  False  False   True  False   False\n",
       "2     False  False  False  False  False   False"
      ]
     },
     "execution_count": 19,
     "metadata": {},
     "output_type": "execute_result"
    }
   ],
   "source": [
    "pd.isnull(result)"
   ]
  },
  {
   "cell_type": "code",
   "execution_count": 21,
   "metadata": {
    "collapsed": false
   },
   "outputs": [
    {
     "data": {
      "text/html": [
       "<div>\n",
       "<table border=\"1\" class=\"dataframe\">\n",
       "  <thead>\n",
       "    <tr style=\"text-align: right;\">\n",
       "      <th></th>\n",
       "      <th>something</th>\n",
       "      <th>a</th>\n",
       "      <th>b</th>\n",
       "      <th>c</th>\n",
       "      <th>d</th>\n",
       "      <th>message</th>\n",
       "    </tr>\n",
       "  </thead>\n",
       "  <tbody>\n",
       "    <tr>\n",
       "      <th>0</th>\n",
       "      <td>one</td>\n",
       "      <td>1</td>\n",
       "      <td>2</td>\n",
       "      <td>3.0</td>\n",
       "      <td>4</td>\n",
       "      <td>NaN</td>\n",
       "    </tr>\n",
       "    <tr>\n",
       "      <th>1</th>\n",
       "      <td>two</td>\n",
       "      <td>5</td>\n",
       "      <td>6</td>\n",
       "      <td>NaN</td>\n",
       "      <td>8</td>\n",
       "      <td>world</td>\n",
       "    </tr>\n",
       "    <tr>\n",
       "      <th>2</th>\n",
       "      <td>three</td>\n",
       "      <td>9</td>\n",
       "      <td>10</td>\n",
       "      <td>11.0</td>\n",
       "      <td>12</td>\n",
       "      <td>foo</td>\n",
       "    </tr>\n",
       "  </tbody>\n",
       "</table>\n",
       "</div>"
      ],
      "text/plain": [
       "  something  a   b     c   d message\n",
       "0       one  1   2   3.0   4     NaN\n",
       "1       two  5   6   NaN   8   world\n",
       "2     three  9  10  11.0  12     foo"
      ]
     },
     "execution_count": 21,
     "metadata": {},
     "output_type": "execute_result"
    }
   ],
   "source": [
    "result = pd.read_csv('ch06/ex5.csv', na_values=['NULL'])\n",
    "result"
   ]
  },
  {
   "cell_type": "markdown",
   "metadata": {},
   "source": [
    "열마다 다른 NA 문자를 사전 값으로 넘겨 처리할 수도 있다."
   ]
  },
  {
   "cell_type": "code",
   "execution_count": 22,
   "metadata": {
    "collapsed": true
   },
   "outputs": [],
   "source": [
    "sentinels = {'message': ['foo', 'NA'], 'something': ['two']}"
   ]
  },
  {
   "cell_type": "code",
   "execution_count": 23,
   "metadata": {
    "collapsed": false
   },
   "outputs": [
    {
     "data": {
      "text/html": [
       "<div>\n",
       "<table border=\"1\" class=\"dataframe\">\n",
       "  <thead>\n",
       "    <tr style=\"text-align: right;\">\n",
       "      <th></th>\n",
       "      <th>something</th>\n",
       "      <th>a</th>\n",
       "      <th>b</th>\n",
       "      <th>c</th>\n",
       "      <th>d</th>\n",
       "      <th>message</th>\n",
       "    </tr>\n",
       "  </thead>\n",
       "  <tbody>\n",
       "    <tr>\n",
       "      <th>0</th>\n",
       "      <td>one</td>\n",
       "      <td>1</td>\n",
       "      <td>2</td>\n",
       "      <td>3.0</td>\n",
       "      <td>4</td>\n",
       "      <td>NaN</td>\n",
       "    </tr>\n",
       "    <tr>\n",
       "      <th>1</th>\n",
       "      <td>NaN</td>\n",
       "      <td>5</td>\n",
       "      <td>6</td>\n",
       "      <td>NaN</td>\n",
       "      <td>8</td>\n",
       "      <td>world</td>\n",
       "    </tr>\n",
       "    <tr>\n",
       "      <th>2</th>\n",
       "      <td>three</td>\n",
       "      <td>9</td>\n",
       "      <td>10</td>\n",
       "      <td>11.0</td>\n",
       "      <td>12</td>\n",
       "      <td>NaN</td>\n",
       "    </tr>\n",
       "  </tbody>\n",
       "</table>\n",
       "</div>"
      ],
      "text/plain": [
       "  something  a   b     c   d message\n",
       "0       one  1   2   3.0   4     NaN\n",
       "1       NaN  5   6   NaN   8   world\n",
       "2     three  9  10  11.0  12     NaN"
      ]
     },
     "execution_count": 23,
     "metadata": {},
     "output_type": "execute_result"
    }
   ],
   "source": [
    "pd.read_csv('ch06/ex5.csv', na_values=sentinels)"
   ]
  },
  {
   "cell_type": "markdown",
   "metadata": {},
   "source": [
    "read_csv/read_table 함수 인자\n",
    "\n",
    "<table align=\"left\">\n",
    "    <thead>\n",
    "        <td>인자</td>\n",
    "        <td>설명</td>\n",
    "    </thead>\n",
    "    <tbody>\n",
    "        <tr>\n",
    "            <td>path</td>\n",
    "            <td>파일 시스템에서의 위치, URL, 파일 객체를 나타내는 문자열</td>\n",
    "        </tr>\n",
    "        <tr>\n",
    "            <td>sep or delimiter</td>\n",
    "            <td>필드를 구분하기 위해 사용할 연속된 문자나 정규표현식</td>\n",
    "        </tr>\n",
    "        <tr>\n",
    "            <td>header</td>\n",
    "            <td>칼럼의 이름으로 사용할 로우의 번호, 기본 값은 0(첫 로우)이며, 헤더가 없으면 None으로 지정할 수 있다.</td>\n",
    "        </tr>\n",
    "        <tr>\n",
    "            <td>index_col</td>\n",
    "            <td>색인으로 사용할 칼럼 번호나 이름. 계층적 색인을 지정할 경우 리스트를 넘길 수 있다.</td>\n",
    "        </tr>\n",
    "        <tr>\n",
    "            <td>names</td>\n",
    "            <td>칼럼 이름으로 사용할 리스트. header=None 과 함께 사용한다.</td>\n",
    "        </tr>\n",
    "        <tr>\n",
    "            <td>skiprows</td>\n",
    "            <td>파일의 시작부터 무시할 로우의 개수 또는 무시할 로우 번호가 담긴 리스트</td>\n",
    "        </tr>\n",
    "        <tr>\n",
    "            <td>na_values</td>\n",
    "            <td>NA 값으로 처리할 값들의 나열</td>\n",
    "        </tr>\n",
    "        <tr>\n",
    "            <td>comment</td>\n",
    "            <td>추석으로 분류되어 파싱하지 않을 문자 혹은 문자열</td>\n",
    "        </tr>\n",
    "        <tr>\n",
    "            <td>parse_dates</td>\n",
    "            <td>날짜를 datetime으로 변환할지의 여부, 기본값은 False 이며, True일 경우 모든 칼럼에 다 적용된다. 리스트를 넘기면 변환할 칼럼을 지정할 수 있다.</td>\n",
    "        </tr>\n",
    "        <tr>\n",
    "            <td>keep_date_col</td>\n",
    "            <td>여러 칼럼을 datetime으로 변환했을 경우 원래 칼럼을 남겨둘지의 여부, 기본값은 False</td>\n",
    "        </tr>\n",
    "        <tr>\n",
    "            <td>converters</td>\n",
    "            <td>변환 시 칼럼에 적용할 함수를 지정한다. 예를 들어 {'foo':f} 는 'foo' 칼럼에 f 함수를 적용한다. 전달하는 사전의 키 값은 칼럼 이름이나 번호가 될 수 있다.</td>\n",
    "        </tr>\n",
    "        <tr>\n",
    "            <td>dayfirst</td>\n",
    "            <td>모호한 날짜 형식일 경우 국제 형식으로 간주한다(1/7/2016는 2016년 7월 1일로 간주한다). 기본값은 False</td>\n",
    "        </tr>\n",
    "        <tr>\n",
    "            <td>date_parser</td>\n",
    "            <td>날짜 변환시 사용할 함수</td>\n",
    "        </tr>\n",
    "        <tr>\n",
    "            <td>nrows</td>\n",
    "            <td>파일의 첫 일부만 읽어올 때 처음 몇 줄을 읽을 것인지 지정한다.</td>\n",
    "        </tr>\n",
    "        <tr>\n",
    "            <td>iterator</td>\n",
    "            <td>파일을 조금씩 읽을 때 사용하도록 TextParser 객체를 반환하도록 한다. 기본값은 False</td>\n",
    "        </tr>\n",
    "        <tr>\n",
    "            <td>chunksize</td>\n",
    "            <td>TextParser 객체에서 사용할 한 번에 읽을 파일의 크기</td>\n",
    "        </tr>\n",
    "        <tr>\n",
    "            <td>skip_footer</td>\n",
    "            <td>무시할 파일의 마지막 줄 수</td>\n",
    "        </tr>\n",
    "        <tr>\n",
    "            <td>verbose</td>\n",
    "            <td>파싱 결과에 대한 정보를 출력한다. 숫자가 아닌 값이 들어있는 칼럼이면서 누락된 값이 있다면 줄 번호를 출력한다. 기본값은 False</td>\n",
    "        </tr>\n",
    "        <tr>\n",
    "            <td>encoding</td>\n",
    "            <td>유니코드 인코딩 종류를 지정한다. UTF-8로 인코딩된 텍스트일 경우 'utf-8'로 지정한다.</td>\n",
    "        </tr>\n",
    "        <tr>\n",
    "            <td>squeeze</td>\n",
    "            <td>로우가 하나뿐이라면 Series 객체를 반환한다. 기본값은 False</td>\n",
    "        </tr>\n",
    "        <tr>\n",
    "            <td>thousands</td>\n",
    "            <td>숫자를 천 단위로 끊을 때 사용할 ','나 '.' 같은 구분자</td>\n",
    "        </tr>\n",
    "    </tbody>\n",
    "</table>"
   ]
  },
  {
   "cell_type": "markdown",
   "metadata": {},
   "source": [
    "### 6.1.1. 텍스트 파일 조금씩 읽어오기"
   ]
  },
  {
   "cell_type": "code",
   "execution_count": 24,
   "metadata": {
    "collapsed": false
   },
   "outputs": [
    {
     "data": {
      "text/html": [
       "<div>\n",
       "<table border=\"1\" class=\"dataframe\">\n",
       "  <thead>\n",
       "    <tr style=\"text-align: right;\">\n",
       "      <th></th>\n",
       "      <th>one</th>\n",
       "      <th>two</th>\n",
       "      <th>three</th>\n",
       "      <th>four</th>\n",
       "      <th>key</th>\n",
       "    </tr>\n",
       "  </thead>\n",
       "  <tbody>\n",
       "    <tr>\n",
       "      <th>0</th>\n",
       "      <td>0.467976</td>\n",
       "      <td>-0.038649</td>\n",
       "      <td>-0.295344</td>\n",
       "      <td>-1.824726</td>\n",
       "      <td>L</td>\n",
       "    </tr>\n",
       "    <tr>\n",
       "      <th>1</th>\n",
       "      <td>-0.358893</td>\n",
       "      <td>1.404453</td>\n",
       "      <td>0.704965</td>\n",
       "      <td>-0.200638</td>\n",
       "      <td>B</td>\n",
       "    </tr>\n",
       "    <tr>\n",
       "      <th>2</th>\n",
       "      <td>-0.501840</td>\n",
       "      <td>0.659254</td>\n",
       "      <td>-0.421691</td>\n",
       "      <td>-0.057688</td>\n",
       "      <td>G</td>\n",
       "    </tr>\n",
       "    <tr>\n",
       "      <th>3</th>\n",
       "      <td>0.204886</td>\n",
       "      <td>1.074134</td>\n",
       "      <td>1.388361</td>\n",
       "      <td>-0.982404</td>\n",
       "      <td>R</td>\n",
       "    </tr>\n",
       "    <tr>\n",
       "      <th>4</th>\n",
       "      <td>0.354628</td>\n",
       "      <td>-0.133116</td>\n",
       "      <td>0.283763</td>\n",
       "      <td>-0.837063</td>\n",
       "      <td>Q</td>\n",
       "    </tr>\n",
       "    <tr>\n",
       "      <th>5</th>\n",
       "      <td>1.817480</td>\n",
       "      <td>0.742273</td>\n",
       "      <td>0.419395</td>\n",
       "      <td>-2.251035</td>\n",
       "      <td>Q</td>\n",
       "    </tr>\n",
       "    <tr>\n",
       "      <th>6</th>\n",
       "      <td>-0.776764</td>\n",
       "      <td>0.935518</td>\n",
       "      <td>-0.332872</td>\n",
       "      <td>-1.875641</td>\n",
       "      <td>U</td>\n",
       "    </tr>\n",
       "    <tr>\n",
       "      <th>7</th>\n",
       "      <td>-0.913135</td>\n",
       "      <td>1.530624</td>\n",
       "      <td>-0.572657</td>\n",
       "      <td>0.477252</td>\n",
       "      <td>K</td>\n",
       "    </tr>\n",
       "    <tr>\n",
       "      <th>8</th>\n",
       "      <td>0.358480</td>\n",
       "      <td>-0.497572</td>\n",
       "      <td>-0.367016</td>\n",
       "      <td>0.507702</td>\n",
       "      <td>S</td>\n",
       "    </tr>\n",
       "    <tr>\n",
       "      <th>9</th>\n",
       "      <td>-1.740877</td>\n",
       "      <td>-1.160417</td>\n",
       "      <td>-1.637830</td>\n",
       "      <td>2.172201</td>\n",
       "      <td>G</td>\n",
       "    </tr>\n",
       "    <tr>\n",
       "      <th>10</th>\n",
       "      <td>0.240564</td>\n",
       "      <td>-0.328249</td>\n",
       "      <td>1.252155</td>\n",
       "      <td>1.072796</td>\n",
       "      <td>8</td>\n",
       "    </tr>\n",
       "    <tr>\n",
       "      <th>11</th>\n",
       "      <td>0.764018</td>\n",
       "      <td>1.165476</td>\n",
       "      <td>-0.639544</td>\n",
       "      <td>1.495258</td>\n",
       "      <td>R</td>\n",
       "    </tr>\n",
       "    <tr>\n",
       "      <th>12</th>\n",
       "      <td>0.571035</td>\n",
       "      <td>-0.310537</td>\n",
       "      <td>0.582437</td>\n",
       "      <td>-0.298765</td>\n",
       "      <td>1</td>\n",
       "    </tr>\n",
       "    <tr>\n",
       "      <th>13</th>\n",
       "      <td>2.317658</td>\n",
       "      <td>0.430710</td>\n",
       "      <td>-1.334216</td>\n",
       "      <td>0.199679</td>\n",
       "      <td>P</td>\n",
       "    </tr>\n",
       "    <tr>\n",
       "      <th>14</th>\n",
       "      <td>1.547771</td>\n",
       "      <td>-1.119753</td>\n",
       "      <td>-2.277634</td>\n",
       "      <td>0.329586</td>\n",
       "      <td>J</td>\n",
       "    </tr>\n",
       "    <tr>\n",
       "      <th>15</th>\n",
       "      <td>-1.310608</td>\n",
       "      <td>0.401719</td>\n",
       "      <td>-1.000987</td>\n",
       "      <td>1.156708</td>\n",
       "      <td>E</td>\n",
       "    </tr>\n",
       "    <tr>\n",
       "      <th>16</th>\n",
       "      <td>-0.088496</td>\n",
       "      <td>0.634712</td>\n",
       "      <td>0.153324</td>\n",
       "      <td>0.415335</td>\n",
       "      <td>B</td>\n",
       "    </tr>\n",
       "    <tr>\n",
       "      <th>17</th>\n",
       "      <td>-0.018663</td>\n",
       "      <td>-0.247487</td>\n",
       "      <td>-1.446522</td>\n",
       "      <td>0.750938</td>\n",
       "      <td>A</td>\n",
       "    </tr>\n",
       "    <tr>\n",
       "      <th>18</th>\n",
       "      <td>-0.070127</td>\n",
       "      <td>-1.579097</td>\n",
       "      <td>0.120892</td>\n",
       "      <td>0.671432</td>\n",
       "      <td>F</td>\n",
       "    </tr>\n",
       "    <tr>\n",
       "      <th>19</th>\n",
       "      <td>-0.194678</td>\n",
       "      <td>-0.492039</td>\n",
       "      <td>2.359605</td>\n",
       "      <td>0.319810</td>\n",
       "      <td>H</td>\n",
       "    </tr>\n",
       "    <tr>\n",
       "      <th>20</th>\n",
       "      <td>-0.248618</td>\n",
       "      <td>0.868707</td>\n",
       "      <td>-0.492226</td>\n",
       "      <td>-0.717959</td>\n",
       "      <td>W</td>\n",
       "    </tr>\n",
       "    <tr>\n",
       "      <th>21</th>\n",
       "      <td>-1.091549</td>\n",
       "      <td>-0.867110</td>\n",
       "      <td>-0.647760</td>\n",
       "      <td>-0.832562</td>\n",
       "      <td>C</td>\n",
       "    </tr>\n",
       "    <tr>\n",
       "      <th>22</th>\n",
       "      <td>0.641404</td>\n",
       "      <td>-0.138822</td>\n",
       "      <td>-0.621963</td>\n",
       "      <td>-0.284839</td>\n",
       "      <td>C</td>\n",
       "    </tr>\n",
       "    <tr>\n",
       "      <th>23</th>\n",
       "      <td>1.216408</td>\n",
       "      <td>0.992687</td>\n",
       "      <td>0.165162</td>\n",
       "      <td>-0.069619</td>\n",
       "      <td>V</td>\n",
       "    </tr>\n",
       "    <tr>\n",
       "      <th>24</th>\n",
       "      <td>-0.564474</td>\n",
       "      <td>0.792832</td>\n",
       "      <td>0.747053</td>\n",
       "      <td>0.571675</td>\n",
       "      <td>I</td>\n",
       "    </tr>\n",
       "    <tr>\n",
       "      <th>25</th>\n",
       "      <td>1.759879</td>\n",
       "      <td>-0.515666</td>\n",
       "      <td>-0.230481</td>\n",
       "      <td>1.362317</td>\n",
       "      <td>S</td>\n",
       "    </tr>\n",
       "    <tr>\n",
       "      <th>26</th>\n",
       "      <td>0.126266</td>\n",
       "      <td>0.309281</td>\n",
       "      <td>0.382820</td>\n",
       "      <td>-0.239199</td>\n",
       "      <td>L</td>\n",
       "    </tr>\n",
       "    <tr>\n",
       "      <th>27</th>\n",
       "      <td>1.334360</td>\n",
       "      <td>-0.100152</td>\n",
       "      <td>-0.840731</td>\n",
       "      <td>-0.643967</td>\n",
       "      <td>6</td>\n",
       "    </tr>\n",
       "    <tr>\n",
       "      <th>28</th>\n",
       "      <td>-0.737620</td>\n",
       "      <td>0.278087</td>\n",
       "      <td>-0.053235</td>\n",
       "      <td>-0.950972</td>\n",
       "      <td>J</td>\n",
       "    </tr>\n",
       "    <tr>\n",
       "      <th>29</th>\n",
       "      <td>-1.148486</td>\n",
       "      <td>-0.986292</td>\n",
       "      <td>-0.144963</td>\n",
       "      <td>0.124362</td>\n",
       "      <td>Y</td>\n",
       "    </tr>\n",
       "    <tr>\n",
       "      <th>...</th>\n",
       "      <td>...</td>\n",
       "      <td>...</td>\n",
       "      <td>...</td>\n",
       "      <td>...</td>\n",
       "      <td>...</td>\n",
       "    </tr>\n",
       "    <tr>\n",
       "      <th>9970</th>\n",
       "      <td>0.633495</td>\n",
       "      <td>-0.186524</td>\n",
       "      <td>0.927627</td>\n",
       "      <td>0.143164</td>\n",
       "      <td>4</td>\n",
       "    </tr>\n",
       "    <tr>\n",
       "      <th>9971</th>\n",
       "      <td>0.308636</td>\n",
       "      <td>-0.112857</td>\n",
       "      <td>0.762842</td>\n",
       "      <td>-1.072977</td>\n",
       "      <td>1</td>\n",
       "    </tr>\n",
       "    <tr>\n",
       "      <th>9972</th>\n",
       "      <td>-1.627051</td>\n",
       "      <td>-0.978151</td>\n",
       "      <td>0.154745</td>\n",
       "      <td>-1.229037</td>\n",
       "      <td>Z</td>\n",
       "    </tr>\n",
       "    <tr>\n",
       "      <th>9973</th>\n",
       "      <td>0.314847</td>\n",
       "      <td>0.097989</td>\n",
       "      <td>0.199608</td>\n",
       "      <td>0.955193</td>\n",
       "      <td>P</td>\n",
       "    </tr>\n",
       "    <tr>\n",
       "      <th>9974</th>\n",
       "      <td>1.666907</td>\n",
       "      <td>0.992005</td>\n",
       "      <td>0.496128</td>\n",
       "      <td>-0.686391</td>\n",
       "      <td>S</td>\n",
       "    </tr>\n",
       "    <tr>\n",
       "      <th>9975</th>\n",
       "      <td>0.010603</td>\n",
       "      <td>0.708540</td>\n",
       "      <td>-1.258711</td>\n",
       "      <td>0.226541</td>\n",
       "      <td>K</td>\n",
       "    </tr>\n",
       "    <tr>\n",
       "      <th>9976</th>\n",
       "      <td>0.118693</td>\n",
       "      <td>-0.714455</td>\n",
       "      <td>-0.501342</td>\n",
       "      <td>-0.254764</td>\n",
       "      <td>K</td>\n",
       "    </tr>\n",
       "    <tr>\n",
       "      <th>9977</th>\n",
       "      <td>0.302616</td>\n",
       "      <td>-2.011527</td>\n",
       "      <td>-0.628085</td>\n",
       "      <td>0.768827</td>\n",
       "      <td>H</td>\n",
       "    </tr>\n",
       "    <tr>\n",
       "      <th>9978</th>\n",
       "      <td>-0.098572</td>\n",
       "      <td>1.769086</td>\n",
       "      <td>-0.215027</td>\n",
       "      <td>-0.053076</td>\n",
       "      <td>A</td>\n",
       "    </tr>\n",
       "    <tr>\n",
       "      <th>9979</th>\n",
       "      <td>-0.019058</td>\n",
       "      <td>1.964994</td>\n",
       "      <td>0.738538</td>\n",
       "      <td>-0.883776</td>\n",
       "      <td>F</td>\n",
       "    </tr>\n",
       "    <tr>\n",
       "      <th>9980</th>\n",
       "      <td>-0.595349</td>\n",
       "      <td>0.001781</td>\n",
       "      <td>-1.423355</td>\n",
       "      <td>-1.458477</td>\n",
       "      <td>M</td>\n",
       "    </tr>\n",
       "    <tr>\n",
       "      <th>9981</th>\n",
       "      <td>1.392170</td>\n",
       "      <td>-1.396560</td>\n",
       "      <td>-1.425306</td>\n",
       "      <td>-0.847535</td>\n",
       "      <td>H</td>\n",
       "    </tr>\n",
       "    <tr>\n",
       "      <th>9982</th>\n",
       "      <td>-0.896029</td>\n",
       "      <td>-0.152287</td>\n",
       "      <td>1.924483</td>\n",
       "      <td>0.365184</td>\n",
       "      <td>6</td>\n",
       "    </tr>\n",
       "    <tr>\n",
       "      <th>9983</th>\n",
       "      <td>-2.274642</td>\n",
       "      <td>-0.901874</td>\n",
       "      <td>1.500352</td>\n",
       "      <td>0.996541</td>\n",
       "      <td>N</td>\n",
       "    </tr>\n",
       "    <tr>\n",
       "      <th>9984</th>\n",
       "      <td>-0.301898</td>\n",
       "      <td>1.019906</td>\n",
       "      <td>1.102160</td>\n",
       "      <td>2.624526</td>\n",
       "      <td>I</td>\n",
       "    </tr>\n",
       "    <tr>\n",
       "      <th>9985</th>\n",
       "      <td>-2.548389</td>\n",
       "      <td>-0.585374</td>\n",
       "      <td>1.496201</td>\n",
       "      <td>-0.718815</td>\n",
       "      <td>D</td>\n",
       "    </tr>\n",
       "    <tr>\n",
       "      <th>9986</th>\n",
       "      <td>-0.064588</td>\n",
       "      <td>0.759292</td>\n",
       "      <td>-1.568415</td>\n",
       "      <td>-0.420933</td>\n",
       "      <td>E</td>\n",
       "    </tr>\n",
       "    <tr>\n",
       "      <th>9987</th>\n",
       "      <td>-0.143365</td>\n",
       "      <td>-1.111760</td>\n",
       "      <td>-1.815581</td>\n",
       "      <td>0.435274</td>\n",
       "      <td>2</td>\n",
       "    </tr>\n",
       "    <tr>\n",
       "      <th>9988</th>\n",
       "      <td>-0.070412</td>\n",
       "      <td>-1.055921</td>\n",
       "      <td>0.338017</td>\n",
       "      <td>-0.440763</td>\n",
       "      <td>X</td>\n",
       "    </tr>\n",
       "    <tr>\n",
       "      <th>9989</th>\n",
       "      <td>0.649148</td>\n",
       "      <td>0.994273</td>\n",
       "      <td>-1.384227</td>\n",
       "      <td>0.485120</td>\n",
       "      <td>Q</td>\n",
       "    </tr>\n",
       "    <tr>\n",
       "      <th>9990</th>\n",
       "      <td>-0.370769</td>\n",
       "      <td>0.404356</td>\n",
       "      <td>-1.051628</td>\n",
       "      <td>-1.050899</td>\n",
       "      <td>8</td>\n",
       "    </tr>\n",
       "    <tr>\n",
       "      <th>9991</th>\n",
       "      <td>-0.409980</td>\n",
       "      <td>0.155627</td>\n",
       "      <td>-0.818990</td>\n",
       "      <td>1.277350</td>\n",
       "      <td>W</td>\n",
       "    </tr>\n",
       "    <tr>\n",
       "      <th>9992</th>\n",
       "      <td>0.301214</td>\n",
       "      <td>-1.111203</td>\n",
       "      <td>0.668258</td>\n",
       "      <td>0.671922</td>\n",
       "      <td>A</td>\n",
       "    </tr>\n",
       "    <tr>\n",
       "      <th>9993</th>\n",
       "      <td>1.821117</td>\n",
       "      <td>0.416445</td>\n",
       "      <td>0.173874</td>\n",
       "      <td>0.505118</td>\n",
       "      <td>X</td>\n",
       "    </tr>\n",
       "    <tr>\n",
       "      <th>9994</th>\n",
       "      <td>0.068804</td>\n",
       "      <td>1.322759</td>\n",
       "      <td>0.802346</td>\n",
       "      <td>0.223618</td>\n",
       "      <td>H</td>\n",
       "    </tr>\n",
       "    <tr>\n",
       "      <th>9995</th>\n",
       "      <td>2.311896</td>\n",
       "      <td>-0.417070</td>\n",
       "      <td>-1.409599</td>\n",
       "      <td>-0.515821</td>\n",
       "      <td>L</td>\n",
       "    </tr>\n",
       "    <tr>\n",
       "      <th>9996</th>\n",
       "      <td>-0.479893</td>\n",
       "      <td>-0.650419</td>\n",
       "      <td>0.745152</td>\n",
       "      <td>-0.646038</td>\n",
       "      <td>E</td>\n",
       "    </tr>\n",
       "    <tr>\n",
       "      <th>9997</th>\n",
       "      <td>0.523331</td>\n",
       "      <td>0.787112</td>\n",
       "      <td>0.486066</td>\n",
       "      <td>1.093156</td>\n",
       "      <td>K</td>\n",
       "    </tr>\n",
       "    <tr>\n",
       "      <th>9998</th>\n",
       "      <td>-0.362559</td>\n",
       "      <td>0.598894</td>\n",
       "      <td>-1.843201</td>\n",
       "      <td>0.887292</td>\n",
       "      <td>G</td>\n",
       "    </tr>\n",
       "    <tr>\n",
       "      <th>9999</th>\n",
       "      <td>-0.096376</td>\n",
       "      <td>-1.012999</td>\n",
       "      <td>-0.657431</td>\n",
       "      <td>-0.573315</td>\n",
       "      <td>0</td>\n",
       "    </tr>\n",
       "  </tbody>\n",
       "</table>\n",
       "<p>10000 rows × 5 columns</p>\n",
       "</div>"
      ],
      "text/plain": [
       "           one       two     three      four key\n",
       "0     0.467976 -0.038649 -0.295344 -1.824726   L\n",
       "1    -0.358893  1.404453  0.704965 -0.200638   B\n",
       "2    -0.501840  0.659254 -0.421691 -0.057688   G\n",
       "3     0.204886  1.074134  1.388361 -0.982404   R\n",
       "4     0.354628 -0.133116  0.283763 -0.837063   Q\n",
       "5     1.817480  0.742273  0.419395 -2.251035   Q\n",
       "6    -0.776764  0.935518 -0.332872 -1.875641   U\n",
       "7    -0.913135  1.530624 -0.572657  0.477252   K\n",
       "8     0.358480 -0.497572 -0.367016  0.507702   S\n",
       "9    -1.740877 -1.160417 -1.637830  2.172201   G\n",
       "10    0.240564 -0.328249  1.252155  1.072796   8\n",
       "11    0.764018  1.165476 -0.639544  1.495258   R\n",
       "12    0.571035 -0.310537  0.582437 -0.298765   1\n",
       "13    2.317658  0.430710 -1.334216  0.199679   P\n",
       "14    1.547771 -1.119753 -2.277634  0.329586   J\n",
       "15   -1.310608  0.401719 -1.000987  1.156708   E\n",
       "16   -0.088496  0.634712  0.153324  0.415335   B\n",
       "17   -0.018663 -0.247487 -1.446522  0.750938   A\n",
       "18   -0.070127 -1.579097  0.120892  0.671432   F\n",
       "19   -0.194678 -0.492039  2.359605  0.319810   H\n",
       "20   -0.248618  0.868707 -0.492226 -0.717959   W\n",
       "21   -1.091549 -0.867110 -0.647760 -0.832562   C\n",
       "22    0.641404 -0.138822 -0.621963 -0.284839   C\n",
       "23    1.216408  0.992687  0.165162 -0.069619   V\n",
       "24   -0.564474  0.792832  0.747053  0.571675   I\n",
       "25    1.759879 -0.515666 -0.230481  1.362317   S\n",
       "26    0.126266  0.309281  0.382820 -0.239199   L\n",
       "27    1.334360 -0.100152 -0.840731 -0.643967   6\n",
       "28   -0.737620  0.278087 -0.053235 -0.950972   J\n",
       "29   -1.148486 -0.986292 -0.144963  0.124362   Y\n",
       "...        ...       ...       ...       ...  ..\n",
       "9970  0.633495 -0.186524  0.927627  0.143164   4\n",
       "9971  0.308636 -0.112857  0.762842 -1.072977   1\n",
       "9972 -1.627051 -0.978151  0.154745 -1.229037   Z\n",
       "9973  0.314847  0.097989  0.199608  0.955193   P\n",
       "9974  1.666907  0.992005  0.496128 -0.686391   S\n",
       "9975  0.010603  0.708540 -1.258711  0.226541   K\n",
       "9976  0.118693 -0.714455 -0.501342 -0.254764   K\n",
       "9977  0.302616 -2.011527 -0.628085  0.768827   H\n",
       "9978 -0.098572  1.769086 -0.215027 -0.053076   A\n",
       "9979 -0.019058  1.964994  0.738538 -0.883776   F\n",
       "9980 -0.595349  0.001781 -1.423355 -1.458477   M\n",
       "9981  1.392170 -1.396560 -1.425306 -0.847535   H\n",
       "9982 -0.896029 -0.152287  1.924483  0.365184   6\n",
       "9983 -2.274642 -0.901874  1.500352  0.996541   N\n",
       "9984 -0.301898  1.019906  1.102160  2.624526   I\n",
       "9985 -2.548389 -0.585374  1.496201 -0.718815   D\n",
       "9986 -0.064588  0.759292 -1.568415 -0.420933   E\n",
       "9987 -0.143365 -1.111760 -1.815581  0.435274   2\n",
       "9988 -0.070412 -1.055921  0.338017 -0.440763   X\n",
       "9989  0.649148  0.994273 -1.384227  0.485120   Q\n",
       "9990 -0.370769  0.404356 -1.051628 -1.050899   8\n",
       "9991 -0.409980  0.155627 -0.818990  1.277350   W\n",
       "9992  0.301214 -1.111203  0.668258  0.671922   A\n",
       "9993  1.821117  0.416445  0.173874  0.505118   X\n",
       "9994  0.068804  1.322759  0.802346  0.223618   H\n",
       "9995  2.311896 -0.417070 -1.409599 -0.515821   L\n",
       "9996 -0.479893 -0.650419  0.745152 -0.646038   E\n",
       "9997  0.523331  0.787112  0.486066  1.093156   K\n",
       "9998 -0.362559  0.598894 -1.843201  0.887292   G\n",
       "9999 -0.096376 -1.012999 -0.657431 -0.573315   0\n",
       "\n",
       "[10000 rows x 5 columns]"
      ]
     },
     "execution_count": 24,
     "metadata": {},
     "output_type": "execute_result"
    }
   ],
   "source": [
    "result = pd.read_csv('ch06/ex6.csv')\n",
    "result"
   ]
  },
  {
   "cell_type": "code",
   "execution_count": 25,
   "metadata": {
    "collapsed": false
   },
   "outputs": [
    {
     "data": {
      "text/html": [
       "<div>\n",
       "<table border=\"1\" class=\"dataframe\">\n",
       "  <thead>\n",
       "    <tr style=\"text-align: right;\">\n",
       "      <th></th>\n",
       "      <th>one</th>\n",
       "      <th>two</th>\n",
       "      <th>three</th>\n",
       "      <th>four</th>\n",
       "      <th>key</th>\n",
       "    </tr>\n",
       "  </thead>\n",
       "  <tbody>\n",
       "    <tr>\n",
       "      <th>0</th>\n",
       "      <td>0.467976</td>\n",
       "      <td>-0.038649</td>\n",
       "      <td>-0.295344</td>\n",
       "      <td>-1.824726</td>\n",
       "      <td>L</td>\n",
       "    </tr>\n",
       "    <tr>\n",
       "      <th>1</th>\n",
       "      <td>-0.358893</td>\n",
       "      <td>1.404453</td>\n",
       "      <td>0.704965</td>\n",
       "      <td>-0.200638</td>\n",
       "      <td>B</td>\n",
       "    </tr>\n",
       "    <tr>\n",
       "      <th>2</th>\n",
       "      <td>-0.501840</td>\n",
       "      <td>0.659254</td>\n",
       "      <td>-0.421691</td>\n",
       "      <td>-0.057688</td>\n",
       "      <td>G</td>\n",
       "    </tr>\n",
       "    <tr>\n",
       "      <th>3</th>\n",
       "      <td>0.204886</td>\n",
       "      <td>1.074134</td>\n",
       "      <td>1.388361</td>\n",
       "      <td>-0.982404</td>\n",
       "      <td>R</td>\n",
       "    </tr>\n",
       "    <tr>\n",
       "      <th>4</th>\n",
       "      <td>0.354628</td>\n",
       "      <td>-0.133116</td>\n",
       "      <td>0.283763</td>\n",
       "      <td>-0.837063</td>\n",
       "      <td>Q</td>\n",
       "    </tr>\n",
       "  </tbody>\n",
       "</table>\n",
       "</div>"
      ],
      "text/plain": [
       "        one       two     three      four key\n",
       "0  0.467976 -0.038649 -0.295344 -1.824726   L\n",
       "1 -0.358893  1.404453  0.704965 -0.200638   B\n",
       "2 -0.501840  0.659254 -0.421691 -0.057688   G\n",
       "3  0.204886  1.074134  1.388361 -0.982404   R\n",
       "4  0.354628 -0.133116  0.283763 -0.837063   Q"
      ]
     },
     "execution_count": 25,
     "metadata": {},
     "output_type": "execute_result"
    }
   ],
   "source": [
    "pd.read_csv('ch06/ex6.csv', nrows=5)"
   ]
  },
  {
   "cell_type": "code",
   "execution_count": 26,
   "metadata": {
    "collapsed": false
   },
   "outputs": [
    {
     "data": {
      "text/plain": [
       "<pandas.io.parsers.TextFileReader at 0x1116f01d0>"
      ]
     },
     "execution_count": 26,
     "metadata": {},
     "output_type": "execute_result"
    }
   ],
   "source": [
    "chunker = pd.read_csv('ch06/ex6.csv', chunksize=1000)\n",
    "chunker"
   ]
  },
  {
   "cell_type": "code",
   "execution_count": 27,
   "metadata": {
    "collapsed": true
   },
   "outputs": [],
   "source": [
    "tot = pd.Series([])\n",
    "for piece in chunker:\n",
    "    tot = tot.add(piece['key'].value_counts(), fill_value=0)\n",
    "    \n",
    "tot = tot.sort_values(ascending=False)"
   ]
  },
  {
   "cell_type": "code",
   "execution_count": 28,
   "metadata": {
    "collapsed": false
   },
   "outputs": [
    {
     "data": {
      "text/plain": [
       "E    368.0\n",
       "X    364.0\n",
       "L    346.0\n",
       "O    343.0\n",
       "Q    340.0\n",
       "M    338.0\n",
       "J    337.0\n",
       "F    335.0\n",
       "K    334.0\n",
       "H    330.0\n",
       "V    328.0\n",
       "I    327.0\n",
       "U    326.0\n",
       "P    324.0\n",
       "D    320.0\n",
       "A    320.0\n",
       "R    318.0\n",
       "Y    314.0\n",
       "G    308.0\n",
       "S    308.0\n",
       "N    306.0\n",
       "W    305.0\n",
       "T    304.0\n",
       "B    302.0\n",
       "Z    288.0\n",
       "C    286.0\n",
       "4    171.0\n",
       "6    166.0\n",
       "7    164.0\n",
       "8    162.0\n",
       "3    162.0\n",
       "5    157.0\n",
       "2    152.0\n",
       "0    151.0\n",
       "9    150.0\n",
       "1    146.0\n",
       "dtype: float64"
      ]
     },
     "execution_count": 28,
     "metadata": {},
     "output_type": "execute_result"
    }
   ],
   "source": [
    "tot"
   ]
  },
  {
   "cell_type": "markdown",
   "metadata": {},
   "source": [
    "### 6.1.2. 데이터를 텍스트 형식으로 기록하기"
   ]
  },
  {
   "cell_type": "code",
   "execution_count": 29,
   "metadata": {
    "collapsed": false
   },
   "outputs": [
    {
     "data": {
      "text/html": [
       "<div>\n",
       "<table border=\"1\" class=\"dataframe\">\n",
       "  <thead>\n",
       "    <tr style=\"text-align: right;\">\n",
       "      <th></th>\n",
       "      <th>something</th>\n",
       "      <th>a</th>\n",
       "      <th>b</th>\n",
       "      <th>c</th>\n",
       "      <th>d</th>\n",
       "      <th>message</th>\n",
       "    </tr>\n",
       "  </thead>\n",
       "  <tbody>\n",
       "    <tr>\n",
       "      <th>0</th>\n",
       "      <td>one</td>\n",
       "      <td>1</td>\n",
       "      <td>2</td>\n",
       "      <td>3.0</td>\n",
       "      <td>4</td>\n",
       "      <td>NaN</td>\n",
       "    </tr>\n",
       "    <tr>\n",
       "      <th>1</th>\n",
       "      <td>two</td>\n",
       "      <td>5</td>\n",
       "      <td>6</td>\n",
       "      <td>NaN</td>\n",
       "      <td>8</td>\n",
       "      <td>world</td>\n",
       "    </tr>\n",
       "    <tr>\n",
       "      <th>2</th>\n",
       "      <td>three</td>\n",
       "      <td>9</td>\n",
       "      <td>10</td>\n",
       "      <td>11.0</td>\n",
       "      <td>12</td>\n",
       "      <td>foo</td>\n",
       "    </tr>\n",
       "  </tbody>\n",
       "</table>\n",
       "</div>"
      ],
      "text/plain": [
       "  something  a   b     c   d message\n",
       "0       one  1   2   3.0   4     NaN\n",
       "1       two  5   6   NaN   8   world\n",
       "2     three  9  10  11.0  12     foo"
      ]
     },
     "execution_count": 29,
     "metadata": {},
     "output_type": "execute_result"
    }
   ],
   "source": [
    "data = pd.read_csv('ch06/ex5.csv')\n",
    "data"
   ]
  },
  {
   "cell_type": "code",
   "execution_count": 30,
   "metadata": {
    "collapsed": true
   },
   "outputs": [],
   "source": [
    "data.to_csv('ch06/out.csv')"
   ]
  },
  {
   "cell_type": "code",
   "execution_count": 31,
   "metadata": {
    "collapsed": false
   },
   "outputs": [
    {
     "name": "stdout",
     "output_type": "stream",
     "text": [
      ",something,a,b,c,d,message\r\n",
      "0,one,1,2,3.0,4,\r\n",
      "1,two,5,6,,8,world\r\n",
      "2,three,9,10,11.0,12,foo\r\n"
     ]
    }
   ],
   "source": [
    "!cat ch06/out.csv"
   ]
  },
  {
   "cell_type": "code",
   "execution_count": 32,
   "metadata": {
    "collapsed": true
   },
   "outputs": [],
   "source": [
    "import sys"
   ]
  },
  {
   "cell_type": "code",
   "execution_count": 33,
   "metadata": {
    "collapsed": false
   },
   "outputs": [
    {
     "name": "stdout",
     "output_type": "stream",
     "text": [
      "|something|a|b|c|d|message\n",
      "0|one|1|2|3.0|4|\n",
      "1|two|5|6||8|world\n",
      "2|three|9|10|11.0|12|foo\n"
     ]
    }
   ],
   "source": [
    "data.to_csv(sys.stdout, sep='|')"
   ]
  },
  {
   "cell_type": "markdown",
   "metadata": {},
   "source": [
    "누락된 값도 처리가 가능하다"
   ]
  },
  {
   "cell_type": "code",
   "execution_count": 34,
   "metadata": {
    "collapsed": false
   },
   "outputs": [
    {
     "name": "stdout",
     "output_type": "stream",
     "text": [
      ",something,a,b,c,d,message\n",
      "0,one,1,2,3.0,4,NULL\n",
      "1,two,5,6,NULL,8,world\n",
      "2,three,9,10,11.0,12,foo\n"
     ]
    }
   ],
   "source": [
    "data.to_csv(sys.stdout, na_rep='NULL')"
   ]
  },
  {
   "cell_type": "markdown",
   "metadata": {},
   "source": [
    "로우와 칼럼 이름을 제외하고 출력할 수도 있다."
   ]
  },
  {
   "cell_type": "code",
   "execution_count": 35,
   "metadata": {
    "collapsed": false
   },
   "outputs": [
    {
     "name": "stdout",
     "output_type": "stream",
     "text": [
      "one,1,2,3.0,4,\n",
      "two,5,6,,8,world\n",
      "three,9,10,11.0,12,foo\n"
     ]
    }
   ],
   "source": [
    "data.to_csv(sys.stdout, index=False, header=False)"
   ]
  },
  {
   "cell_type": "markdown",
   "metadata": {},
   "source": [
    "일부 칼럼만 출력할 수도 있다."
   ]
  },
  {
   "cell_type": "code",
   "execution_count": 36,
   "metadata": {
    "collapsed": false
   },
   "outputs": [
    {
     "name": "stdout",
     "output_type": "stream",
     "text": [
      "something,a,b,c,d,message\n",
      "one,1,2,3.0,4,\n",
      "two,5,6,,8,world\n",
      "three,9,10,11.0,12,foo\n"
     ]
    }
   ],
   "source": [
    "data.to_csv(sys.stdout, index=False, cols=['a', 'b', 'c'])"
   ]
  },
  {
   "cell_type": "markdown",
   "metadata": {},
   "source": [
    "Series 도 to_csv 메서드를 지원한다."
   ]
  },
  {
   "cell_type": "code",
   "execution_count": 38,
   "metadata": {
    "collapsed": false
   },
   "outputs": [],
   "source": [
    "dates = pd.date_range('1/1/2016', periods=7)"
   ]
  },
  {
   "cell_type": "code",
   "execution_count": 40,
   "metadata": {
    "collapsed": true
   },
   "outputs": [],
   "source": [
    "ts = pd.Series(np.arange(7), index=dates)"
   ]
  },
  {
   "cell_type": "code",
   "execution_count": 41,
   "metadata": {
    "collapsed": true
   },
   "outputs": [],
   "source": [
    "ts.to_csv('ch06/tseries.csv')"
   ]
  },
  {
   "cell_type": "code",
   "execution_count": 42,
   "metadata": {
    "collapsed": false
   },
   "outputs": [
    {
     "name": "stdout",
     "output_type": "stream",
     "text": [
      "2016-01-01,0\r\n",
      "2016-01-02,1\r\n",
      "2016-01-03,2\r\n",
      "2016-01-04,3\r\n",
      "2016-01-05,4\r\n",
      "2016-01-06,5\r\n",
      "2016-01-07,6\r\n"
     ]
    }
   ],
   "source": [
    "!cat ch06/tseries.csv"
   ]
  },
  {
   "cell_type": "markdown",
   "metadata": {},
   "source": [
    "csv 파일을 읽어 Series 로 만들 수도 있다."
   ]
  },
  {
   "cell_type": "code",
   "execution_count": 43,
   "metadata": {
    "collapsed": false
   },
   "outputs": [
    {
     "data": {
      "text/plain": [
       "2016-01-01    0\n",
       "2016-01-02    1\n",
       "2016-01-03    2\n",
       "2016-01-04    3\n",
       "2016-01-05    4\n",
       "2016-01-06    5\n",
       "2016-01-07    6\n",
       "dtype: int64"
      ]
     },
     "execution_count": 43,
     "metadata": {},
     "output_type": "execute_result"
    }
   ],
   "source": [
    "pd.Series.from_csv('ch06/tseries.csv', parse_dates=True)"
   ]
  },
  {
   "cell_type": "markdown",
   "metadata": {},
   "source": [
    "### 6.1.3. 수동으로 구분 형식 처리하기"
   ]
  },
  {
   "cell_type": "markdown",
   "metadata": {},
   "source": [
    "대부분 read_table 같은 함수로 처리가 가능하나, 잘못된 형식이 포함된 경우 수동으로 처리해야 하는 경우도 있다."
   ]
  },
  {
   "cell_type": "code",
   "execution_count": 44,
   "metadata": {
    "collapsed": false
   },
   "outputs": [
    {
     "name": "stdout",
     "output_type": "stream",
     "text": [
      "\"a\",\"b\",\"c\"\r\n",
      "\"1\",\"2\",\"3\"\r\n",
      "\"1\",\"2\",\"3\",\"4\"\r\n"
     ]
    }
   ],
   "source": [
    "!cat ch06/ex7.csv"
   ]
  },
  {
   "cell_type": "code",
   "execution_count": 57,
   "metadata": {
    "collapsed": true
   },
   "outputs": [],
   "source": [
    "import csv"
   ]
  },
  {
   "cell_type": "code",
   "execution_count": 58,
   "metadata": {
    "collapsed": true
   },
   "outputs": [],
   "source": [
    "f = open('ch06/ex7.csv')\n",
    "reader = csv.reader(f)"
   ]
  },
  {
   "cell_type": "code",
   "execution_count": 59,
   "metadata": {
    "collapsed": false
   },
   "outputs": [
    {
     "name": "stdout",
     "output_type": "stream",
     "text": [
      "['a', 'b', 'c']\n",
      "['1', '2', '3']\n",
      "['1', '2', '3', '4']\n"
     ]
    }
   ],
   "source": [
    "for line in reader:\n",
    "    print(line)"
   ]
  },
  {
   "cell_type": "code",
   "execution_count": 60,
   "metadata": {
    "collapsed": false
   },
   "outputs": [
    {
     "data": {
      "text/plain": [
       "{'a': ('1', '1'), 'b': ('2', '2'), 'c': ('3', '3')}"
      ]
     },
     "execution_count": 60,
     "metadata": {},
     "output_type": "execute_result"
    }
   ],
   "source": [
    "lines = list(csv.reader(open('ch06/ex7.csv')))\n",
    "header, values = lines[0], lines[1:]\n",
    "data_dict = {h: v for h, v in zip(header, zip(*values))}\n",
    "data_dict"
   ]
  },
  {
   "cell_type": "markdown",
   "metadata": {},
   "source": [
    "csv 파일은 다양한 형태로 존재할 수 있는데, 예를 들면 구분자나 문자열을 둘러싸는 방법, 개행문자 등이 있다.<br/>\n",
    "이를 해결하는 방법은 csv.Dialect 를 상속받아 새로운 클래스를 정의해서 해결할 수 있다."
   ]
  },
  {
   "cell_type": "code",
   "execution_count": 61,
   "metadata": {
    "collapsed": false
   },
   "outputs": [],
   "source": [
    "class my_dialect(csv.Dialect):\n",
    "    lineterminator = '\\n'\n",
    "    delimiter = ';'\n",
    "    quotechar = '\"'\n",
    "    quoting = csv.QUOTE_MINIMAL\n",
    "    \n",
    "reader = csv.reader(f, dialect=my_dialect)"
   ]
  },
  {
   "cell_type": "code",
   "execution_count": 62,
   "metadata": {
    "collapsed": true
   },
   "outputs": [],
   "source": [
    "reader = csv.reader(f, delimiter='|')"
   ]
  },
  {
   "cell_type": "markdown",
   "metadata": {},
   "source": [
    "csv 관련 옵션\n",
    "\n",
    "<table align=\"left\">\n",
    "    <thead>\n",
    "        <td>인자</td>\n",
    "        <td>설명</td>\n",
    "    </thead>\n",
    "    <tbody>\n",
    "        <tr>\n",
    "            <td>delimiter</td>\n",
    "            <td>필드를 구분하기 위한 한 글짜짜리 구분자. 기본값은 ','</td>\n",
    "        </tr>\n",
    "        <tr>\n",
    "            <td>lineterminator</td>\n",
    "            <td>파일을 저장할 때 사용할 개행문자. 기본값은 '\\r\\n'. 파일을 읽을 때는 이 값을 무시하며 자동으로 플랫폼별 개행문자를 인식한다.</td>\n",
    "        </tr>\n",
    "        <tr>\n",
    "            <td>quotechar</td>\n",
    "            <td>각 필드에서 값을 둘러싸고 있는 문자. 기본값은 '\"'</td>\n",
    "        </tr>\n",
    "        <tr>\n",
    "            <td>quoting</td>\n",
    "            <td>값을 읽거나 쓸 때 둘러쌀 문자 컨펜션. csv.QUOTE_ALL(모든 필드에 적용), csv.QUOTE_MINIMAL(구분자 같은 특별한 문자가 포함된 필드만 적용), csv.QUOTE_NONE(값을 둘러싸지 않음)</td>\n",
    "        </tr>\n",
    "        <tr>\n",
    "            <td>skipinitialspace</td>\n",
    "            <td>구분자 뒤에 있는 공백문자를 무시할지의 여부. 기본값은 False</td>\n",
    "        </tr>\n",
    "        <tr>\n",
    "            <td>doublequote</td>\n",
    "            <td>값을 둘러싸는 문자가 필드 내에 존재할 경우의 처리 여부. True면 그 문자까지 모두 둘러싼다.</td>\n",
    "        </tr>\n",
    "        <tr>\n",
    "            <td>escapechar</td>\n",
    "            <td>quoting이 csv.QUOTE_NONE 일 때, 값이 구분자와 같은 문자가 있을 경우 구별할 수 있도록 해주는 이스케이프 문자('\\' 같은). 기본값은 None</td>\n",
    "        </tr>\n",
    "    </tbody>\n",
    "</table>"
   ]
  },
  {
   "cell_type": "markdown",
   "metadata": {},
   "source": [
    "좀 더 복잡하거나 한 글자를 초과하는 고정 길이를 가진다면 csv 모듈을 사용할 수 없다.<br/>\n",
    "이 경우 줄을 나누고 split 이나 re.split 등을 이용하여 가공해야 한다."
   ]
  },
  {
   "cell_type": "code",
   "execution_count": 54,
   "metadata": {
    "collapsed": true
   },
   "outputs": [],
   "source": [
    "with open('mydata.csv', 'w') as f:\n",
    "    writer = csv.writer(f, dialect=my_dialect)\n",
    "    writer.writerow(('one', 'two', 'three'))\n",
    "    writer.writerow(('1', '2', '3'))\n",
    "    writer.writerow(('4', '5', '6'))\n",
    "    writer.writerow(('7', '8', '9'))"
   ]
  },
  {
   "cell_type": "code",
   "execution_count": 55,
   "metadata": {
    "collapsed": false
   },
   "outputs": [
    {
     "name": "stdout",
     "output_type": "stream",
     "text": [
      "one;two;three\r\n",
      "1;2;3\r\n",
      "4;5;6\r\n",
      "7;8;9\r\n"
     ]
    }
   ],
   "source": [
    "!cat mydata.csv"
   ]
  },
  {
   "cell_type": "markdown",
   "metadata": {},
   "source": [
    "### 6.1.4. JSON 데이터"
   ]
  },
  {
   "cell_type": "code",
   "execution_count": 67,
   "metadata": {
    "collapsed": true
   },
   "outputs": [],
   "source": [
    "obj = \"\"\"\n",
    "{\n",
    "    \"name\": \"Wes\",\n",
    "    \"places_lived\":[\"United States\", \"Spain\", \"Germany\"],\n",
    "    \"pet\": null,\n",
    "    \"siblings\":[\n",
    "        {\"name\": \"Scott\", \"age\": 25, \"pet\": \"Zuko\"},\n",
    "        {\"name\": \"Katie\", \"age\": 33, \"pet\": \"Cisco\"}\n",
    "    ]\n",
    "}\n",
    "\"\"\""
   ]
  },
  {
   "cell_type": "code",
   "execution_count": 68,
   "metadata": {
    "collapsed": true
   },
   "outputs": [],
   "source": [
    "import json"
   ]
  },
  {
   "cell_type": "code",
   "execution_count": 69,
   "metadata": {
    "collapsed": false
   },
   "outputs": [],
   "source": [
    "result = json.loads(obj)"
   ]
  },
  {
   "cell_type": "code",
   "execution_count": 70,
   "metadata": {
    "collapsed": false
   },
   "outputs": [
    {
     "data": {
      "text/plain": [
       "{'name': 'Wes',\n",
       " 'pet': None,\n",
       " 'places_lived': ['United States', 'Spain', 'Germany'],\n",
       " 'siblings': [{'age': 25, 'name': 'Scott', 'pet': 'Zuko'},\n",
       "  {'age': 33, 'name': 'Katie', 'pet': 'Cisco'}]}"
      ]
     },
     "execution_count": 70,
     "metadata": {},
     "output_type": "execute_result"
    }
   ],
   "source": [
    "result"
   ]
  },
  {
   "cell_type": "markdown",
   "metadata": {},
   "source": [
    "json.dumps 는 파이썬 객체를 json 형태로 변환한다"
   ]
  },
  {
   "cell_type": "code",
   "execution_count": 72,
   "metadata": {
    "collapsed": false
   },
   "outputs": [
    {
     "data": {
      "text/plain": [
       "'{\"places_lived\": [\"United States\", \"Spain\", \"Germany\"], \"pet\": null, \"name\": \"Wes\", \"siblings\": [{\"age\": 25, \"pet\": \"Zuko\", \"name\": \"Scott\"}, {\"age\": 33, \"pet\": \"Cisco\", \"name\": \"Katie\"}]}'"
      ]
     },
     "execution_count": 72,
     "metadata": {},
     "output_type": "execute_result"
    }
   ],
   "source": [
    "json.dumps(result)"
   ]
  },
  {
   "cell_type": "code",
   "execution_count": 73,
   "metadata": {
    "collapsed": true
   },
   "outputs": [],
   "source": [
    "siblings = pd.DataFrame(result['siblings'], columns=['name', 'age'])"
   ]
  },
  {
   "cell_type": "code",
   "execution_count": 74,
   "metadata": {
    "collapsed": false
   },
   "outputs": [
    {
     "data": {
      "text/html": [
       "<div>\n",
       "<table border=\"1\" class=\"dataframe\">\n",
       "  <thead>\n",
       "    <tr style=\"text-align: right;\">\n",
       "      <th></th>\n",
       "      <th>name</th>\n",
       "      <th>age</th>\n",
       "    </tr>\n",
       "  </thead>\n",
       "  <tbody>\n",
       "    <tr>\n",
       "      <th>0</th>\n",
       "      <td>Scott</td>\n",
       "      <td>25</td>\n",
       "    </tr>\n",
       "    <tr>\n",
       "      <th>1</th>\n",
       "      <td>Katie</td>\n",
       "      <td>33</td>\n",
       "    </tr>\n",
       "  </tbody>\n",
       "</table>\n",
       "</div>"
      ],
      "text/plain": [
       "    name  age\n",
       "0  Scott   25\n",
       "1  Katie   33"
      ]
     },
     "execution_count": 74,
     "metadata": {},
     "output_type": "execute_result"
    }
   ],
   "source": [
    "siblings"
   ]
  },
  {
   "cell_type": "markdown",
   "metadata": {},
   "source": [
    "### 6.1.5. XML 과 HTML : 웹 내용 긁어오기"
   ]
  },
  {
   "cell_type": "code",
   "execution_count": 75,
   "metadata": {
    "collapsed": true
   },
   "outputs": [],
   "source": [
    "import requests\n",
    "from lxml.html import parse\n",
    "from io import StringIO"
   ]
  },
  {
   "cell_type": "code",
   "execution_count": 77,
   "metadata": {
    "collapsed": false
   },
   "outputs": [],
   "source": [
    "text = requests.get('http://finance.yahoo.com/q/op?s=AAPL+Options').text\n",
    "parsed = parse(StringIO(text))"
   ]
  },
  {
   "cell_type": "code",
   "execution_count": 78,
   "metadata": {
    "collapsed": true
   },
   "outputs": [],
   "source": [
    "doc = parsed.getroot()"
   ]
  },
  {
   "cell_type": "code",
   "execution_count": 79,
   "metadata": {
    "collapsed": true
   },
   "outputs": [],
   "source": [
    "links = doc.findall('.//a')"
   ]
  },
  {
   "cell_type": "code",
   "execution_count": 80,
   "metadata": {
    "collapsed": false
   },
   "outputs": [
    {
     "data": {
      "text/plain": [
       "[<Element a at 0x11257c188>,\n",
       " <Element a at 0x11257c1d8>,\n",
       " <Element a at 0x11257c228>,\n",
       " <Element a at 0x11257c278>,\n",
       " <Element a at 0x11257c2c8>]"
      ]
     },
     "execution_count": 80,
     "metadata": {},
     "output_type": "execute_result"
    }
   ],
   "source": [
    "links[15:20]"
   ]
  },
  {
   "cell_type": "code",
   "execution_count": 81,
   "metadata": {
    "collapsed": false
   },
   "outputs": [
    {
     "data": {
      "text/plain": [
       "<Element a at 0x11257c598>"
      ]
     },
     "execution_count": 81,
     "metadata": {},
     "output_type": "execute_result"
    }
   ],
   "source": [
    "lnk = links[28]\n",
    "lnk"
   ]
  },
  {
   "cell_type": "code",
   "execution_count": 82,
   "metadata": {
    "collapsed": false
   },
   "outputs": [
    {
     "data": {
      "text/plain": [
       "'https://help.yahoo.com/l/us/yahoo/finance/'"
      ]
     },
     "execution_count": 82,
     "metadata": {},
     "output_type": "execute_result"
    }
   ],
   "source": [
    "lnk.get('href')"
   ]
  },
  {
   "cell_type": "code",
   "execution_count": 83,
   "metadata": {
    "collapsed": false
   },
   "outputs": [
    {
     "data": {
      "text/plain": [
       "'Help'"
      ]
     },
     "execution_count": 83,
     "metadata": {},
     "output_type": "execute_result"
    }
   ],
   "source": [
    "lnk.text_content()"
   ]
  },
  {
   "cell_type": "code",
   "execution_count": 84,
   "metadata": {
    "collapsed": false,
    "scrolled": true
   },
   "outputs": [
    {
     "data": {
      "text/plain": [
       "['/q/op?s=AAPL&strike=107.00',\n",
       " '/q?s=AAPL160701P00107000',\n",
       " '/q/op?s=AAPL&strike=110.00',\n",
       " '/q?s=AAPL160701P00110000',\n",
       " '/q/op?s=AAPL&strike=130.00',\n",
       " '/q?s=AAPL160701P00130000',\n",
       " '/q/op?s=AAPL&strike=135.00',\n",
       " '/q?s=AAPL160701P00135000',\n",
       " '/q/op?s=AAPL&strike=140.00',\n",
       " '/q?s=AAPL160701P00140000']"
      ]
     },
     "execution_count": 84,
     "metadata": {},
     "output_type": "execute_result"
    }
   ],
   "source": [
    "urls = [lnk.get('href') for lnk in doc.findall('.//a')]\n",
    "urls[-10:]"
   ]
  },
  {
   "cell_type": "markdown",
   "metadata": {},
   "source": [
    "이제 찾고자 하는 table은 하나씩 확인해야 한다."
   ]
  },
  {
   "cell_type": "code",
   "execution_count": 85,
   "metadata": {
    "collapsed": true
   },
   "outputs": [],
   "source": [
    "tables = doc.findall('.//table')\n",
    "calls = tables[1]\n",
    "puts = tables[2]"
   ]
  },
  {
   "cell_type": "code",
   "execution_count": 97,
   "metadata": {
    "collapsed": false
   },
   "outputs": [
    {
     "data": {
      "text/plain": [
       "'\\n\\n\\n    \\n        \\n            \\n            #header,#y-hd,#hd .yfi_doc,#yfi_hd{background:#fff !important}#yfin_gs #yfimh #yucsHead,#yfin_gs #yfi_doc #yucsHead,#yfin_gs #yfi_fp_hd #yucsHead,#yfin_gs #y-hd #yucsHead,#yfin_gs #yfi_hd #yucsHead,#yfin_gs #yfi-doc #yucsHead{-webkit-box-shadow:0 0 9px 0 #490f76 !important;-moz-box-shadow:0 0 9px 0 #490f76 !important;box-shadow:0 0 9px 0 #490f76 !important;border-bottom:1px solid #490f76 !important}#yog-hd,#yfi-hd,#ysp-hd,#hd,#yfimh,#yfi_hd,#yfi_fp_hd,#masthead,#yfi_nav_header #navigation,#y-nav #navigation,.ad_in_head{background-color:#fff;background-image:none}#header,#hd .yfi_doc,#y-hd .yfi_doc,#yfi_hd .yfi_doc{width:100% !important}#yucs{margin:0 auto;width:970px}#yfi_nav_header,.y-nav-legobg,#y-nav #navigation{margin:0 auto;width:970px}#yucs .yucs-avatar{height:22px;width:22px}#yucs #yucs-profile_text .yuhead-name-greeting{display:none}#yucs #yucs-profile_text .yuhead-name{top:0;max-width:65px}#yucs-profile_text{max-width:65px}#yog-bd .yom-stage{background:transparent}#yog-hd{height:84px}.yog-bd,.yog-grid{padding:4px 10px}.nav-stack ul.yog-grid{padding:0}#yucs #yucs-search.yucs-bbb .yucs-button_theme{background:-moz-linear-gradient(top, #01a5e1 0, #0297ce 100%);background:-webkit-gradient(linear, left top, left bottom, color-stop(0%, #01a5e1), color-stop(100%, #0297ce));background:-webkit-linear-gradient(top, #01a5e1 0, #0297ce 100%);background:-o-linear-gradient(top, #01a5e1 0, #0297ce 100%);background:-ms-linear-gradient(top, #01a5e1 0, #0297ce 100%);background:linear-gradient(to bottom, #01a5e1 0, #0297ce 100%);-webkit-box-shadow:inset 0 1px 3px 0 #01c0eb;box-shadow:inset 0 1px 3px 0 #01c0eb;background-color:#019ed8;background-color:transparent\\\\0/IE9;background-color:transparent\\\\9;*background:none;border:1px solid #595959;padding-left:0px;padding-right:0px}#yucs #yucs-search.yucs-bbb #yucs-prop_search_button_wrapper .yucs-gradient{filter:progid:DXImageTransform.Microsoft.gradient(startColorstr=\\'#01a5e1\\', endColorstr=\\'#0297ce\\',GradientType=0 );-ms-filter:\"progid:DXImageTransform.Microsoft.gradient( startColorstr=\\'#01a5e1\\', endColorstr=\\'#0297ce\\',GradientType=0 )\";background-color:#019ed8\\\\0/IE9}#yucs #yucs-search.yucs-bbb #yucs-prop_search_button_wrapper{*border:1px solid #595959}#yucs #yucs-search .yucs-button_theme{background:#0f8ed8;border:0;box-shadow:0 2px #044e6e}@media all{#yucs.yucs-mc,#yucs-top-inner{width:auto !important;margin:0 !important}#yucsHead{_text-align:left !important}#yucs-top-inner,#yucs.yucs-mc{min-width:970px !important;max-width:1240px !important;padding-left:10px !important;padding-right:10px !important}#yucs.yucs-mc{_width:970px !important;_margin:0 !important}#yucsHead #yucs .yucs-fl-left #yucs-search{position:absolute;left:190px !important;max-width:none !important;margin-left:0;_left:190px;_width:510px !important}.yog-ad-billboard #yucs-top-inner,.yog-ad-billboard #yucs.yucs-mc{max-width:1130px !important}#yucs .yog-cp{position:inherit}}#yucs #yucs-logo{width:150px !important;height:34px !important}#yucs #yucs-logo div{width:94px !important;margin:0 auto !important}.lt #yucs-logo div{background-position:-121px center !important}#yucs-logo a{margin-left:-13px !important}#yog-hd .yom-bar, #yog-hd .yom-nav, #y-nav, #hd .ysp-full-bar,  #yfi_nav_header, #hd .mast {\\r\\nfloat: none;\\r\\nwidth: 970px;\\r\\nmargin: 0 auto;\\r\\n}\\r\\n\\r\\n#yog-bd .yom-stage {\\r\\nbackground: transparent;\\r\\n}\\r\\n\\r\\n#y-nav .yom-nav {\\r\\npadding-top: 0px;\\r\\n}\\r\\n\\r\\n#ysp-search-assist .bd {\\r\\ndisplay:none;\\r\\n}\\r\\n\\r\\n#ysp-search-assist h4 {\\r\\npadding-left: 8px;\\r\\n}\\r\\n\\r\\n\\r\\n    #yfi-portfolios-multi-quotes #y-nav, #yfi-portfolios-multi-quotes #navigation, #yfi-portfolios-multi-quotes .y-nav-legobg, \\r\\n    #yfi-portfolios-my-portfolios #y-nav, #yfi-portfolios-my-portfolios #navigation, #yfi-portfolios-my-portfolios .y-nav-legobg {\\r\\n        width : 100%;\\r\\n    }   HomeMailSearchNewsSportsFinanceCelebrityWeatherAnswersFlickrMobileMorePoliticsMoviesMusicTVGroupsStyleBeautyTechShopping#yucs-top-ff-promo { position:absolute; right:0; right:auto\\\\9; left:950px\\\\9; right:0\\\\9\\\\0; left:auto\\\\9\\\\0; margin-left:18px;}#yucs-top-ff-promo a span { text-decoration: none; display: inline-block;}@media screen and (max-width: 1124px) { #UH.yucs-mail #yucs-top-ff-promo { display:none; }}@media screen and (max-width:1150px) { #yucs-top-ff-promo { right:auto; }}Try Yahoo Finance on Firefox\\xa0» var s = false, ts,re2,sdts,v2= null, cookies = \"; \" + document.cookie, dss = cookies.split(\"; DSS=\"), m, ua = window.navigator.userAgent.toLowerCase(); m = ua.match(/firefox\\\\/(\\\\d+)/); if (!m || (m && m[1] && parseInt(m[1]) < 34)) { if (ua.indexOf(\\'version\\') >= 0 && ua.indexOf(\\'crios\\') < 0) { s = true; } if (!!window.opera || navigator.userAgent.indexOf(\\' OPR/\\') >= 0) { s = true; } if (dss && dss.length === 2) { re2 = new RegExp(\\'sdts=(\\\\\\\\d+)\\'); v2 = re2.exec(dss[1]); if (v2 && v2.length === 2) { sdts = v2[1]; } if (sdts && (parseInt(new Date().getTime()/1000) - sdts) < 604800) { s = true; } } if (!s) { m = document.getElementById(\\'yucs-top-ff-promo\\'); m.className = m.className.replace(/D\\\\(n\\\\)/g,\\'\\'); } }      #yucs #yucs-logo-ani { width:120px ; height:34px; background-image:url(https://s.yimg.com/rz/l/yahoo_finance_en-US_f_pw_119x34.png) ; _background-image:url(https://s.yimg.com/rz/l/yahoo_finance_en-US_f_pw_119x34.gif) ; *left: 0px; display:block ; visibility: visible; position: relative; clip: auto; } .lt #yucs-logo-ani { background-position: 100% 0px !important; } .lt #yucs[data-property=\\'mail\\'] #yucs-logo-ani { background-position: -350px 0px !important; } #yucs-logo { margin-top:0px!important; padding-top: 11px; width: 120px; } #yucs[data-property=\\'homes\\'] #yucs-logo { width: 102px; } .advisor #yucs-link-ani { left: 21px !important; } #yucs #yucs-logo a {margin-left: 0!important;}#yucs #yucs-link-ani {width: 100% !important;} @media only screen and (-webkit-min-device-pixel-ratio: 2), only screen and ( min--moz-device-pixel-ratio: 2), only screen and ( -o-min-device-pixel-ratio: 2/1), only screen and ( min-device-pixel-ratio: 2), only screen and ( min-resolution: 192dpi), only screen and ( min-resolution: 2dppx) { #yucs #yucs-logo-ani { background-image: url(https://s.yimg.com/rz/l/yahoo_finance_en-US_f_pw_119x34_2x.png) !important; background-size: 235px 34px; } }    Yahoo Finance    #yucs #yucs-logo-ani {visibility: visible;position: relative;clip: auto;}        Search FinanceSearch Web              Sign in   Mail    Help     Account Info Help Suggestions     YahooHome            \\n        \\n\\n\\n    \\n\\n    \\n\\n        \\n\\n    \\n    \\n        \\n        \\n        \\n            Finance Home\\n            \\n        \\n        \\n        \\n        \\n        \\n            My Portfolio\\n            \\n            \\n                \\n                \\n                    \\n                    \\n                    \\n                \\n                \\n                \\n                View All Portfolios\\n                \\n                Create Portfolio\\n                \\n            \\n            \\n        \\n        \\n        \\n        \\n        \\n            My Quotes News\\n            \\n        \\n        \\n        \\n        \\n        \\n            Market Data\\n            \\n            \\n                \\n                \\n                Stocks\\n                \\n                Mutual Funds\\n                \\n                Options\\n                \\n                ETFs\\n                \\n                Bonds\\n                \\n                Commodities\\n                \\n                Currencies\\n                \\n                Calendars\\n                \\n            \\n            \\n        \\n        \\n        \\n        \\n        \\n            Yahoo Originals\\n            \\n            \\n                \\n                \\n                Berkshire Hathaway\\n                \\n                Market Movers\\n                \\n                Midday Movers\\n                \\n                The Final Round\\n                \\n                Sportsbook\\n                \\n                Business\\n                \\n                Investing\\n                \\n                Personal Finance\\n                \\n                Breakout\\n                \\n                Cost of Living\\n                \\n                The Daily Ticker\\n                \\n                Driven\\n                \\n                Hot Stock Minute\\n                \\n                Just Explain It\\n                \\n                Aaron Task\\n                \\n                Michael Santoli\\n                \\n                Jeff Macke\\n                \\n                Aaron Pressman\\n                \\n                Andy Serwer, Editor\\n                \\n                David Pogue\\n                \\n                Sam Ro\\n                \\n                Rick Newman\\n                \\n                Mandi Woodruff\\n                \\n                Daniel Roberts\\n                \\n                Nicole Sinclair\\n                \\n                Melody Hahm\\n                \\n                Brittany Jones-Cooper\\n                \\n                Julia La Roche\\n                \\n                The Exchange\\n                \\n                Unexpected Returns\\n                \\n                Philip Pearlman\\n                \\n                Daniel Howley\\n                \\n            \\n            \\n        \\n        \\n        \\n        \\n        \\n            Business & Finance\\n            \\n            \\n                \\n                \\n                Company News\\n                \\n                Economic News\\n                \\n                Market News\\n                \\n            \\n            \\n        \\n        \\n        \\n        \\n        \\n            Personal Finance\\n            \\n            \\n                \\n                \\n                Career & Education\\n                \\n                Real Estate\\n                \\n                Retirement\\n                \\n                Credit & Debt\\n                \\n                Taxes\\n                \\n                Autos\\n                \\n                Health & Lifestyle\\n                \\n                Featured Videos\\n                \\n                Rates in Your Area\\n                \\n                Calculators\\n                \\n                Tools\\n                \\n            \\n            \\n        \\n        \\n        \\n        \\n        \\n            CNBC\\n            \\n            \\n                \\n                \\n                Big Data Download\\n                \\n                Off the Cuff\\n                \\n                Power Pitch\\n                \\n                Talking Numbers\\n                \\n                The Biz Fix\\n                \\n                Top/Best/Most\\n                \\n            \\n            \\n        \\n        \\n        \\n        \\n        \\n            Contributors\\n            \\n        \\n        \\n        \\n    \\n    \\n\\n\\n\\n\\n\\n\\n        \\n            \\n   \\n              \\n    #lookupTxtQuotes {\\n        float: left;\\n        height: 22px;\\n        padding: 3px 0 3px 5px;\\n        width: 80px;\\n        font-size: 11px;\\n    }\\n\\n    .ac-form .yui3-fin-ac {\\n        width: 50em;\\n        border: 1px solid #DDD;\\n        background: #fefefe;\\n        overflow: visible;\\n        text-align: left;\\n        padding: .5em;\\n        font-size: 12px;\\n        z-index: 1000;\\n        line-height: 1.22em;\\n    }\\n\\n    .ac-form .yui3-highlight, em {\\n        font-weight: bold;\\n        font-style: normal;\\n    }\\n\\n    .ac-form .yui3-fin-ac-list {\\n        margin: 0;\\n        padding-bottom: .4em;\\n        padding: 0.38em 0;\\n        width: 100%;\\n    }\\n\\n    .ac-form .yui3-fin-ac-list li {\\n        padding: 0.15em 0.38em;\\n        _width: 100%;\\n        cursor: default;\\n        white-space: nowrap;\\n        list-style: none;\\n        vertical-align: bottom;\\n        margin: 0;\\n        position: relative;\\n    }\\n\\n    .ac-form .symbol {\\n        width: 8.5em;\\n        display: inline-block;\\n        margin: 0 1em 0 0;\\n        overflow: hidden;\\n    }\\n\\n    .ac-form .name {\\n        display: inline-block;\\n        left: 0;\\n        width: 25em;\\n        overflow: hidden;\\n        position: relative;\\n    }\\n\\n    .ac-form .exch_type_wrapper {\\n        color: #aaa;\\n        height: auto;\\n        text-align: right;\\n        font-size: 92%;\\n        _font-size: 72%;\\n        position: absolute;\\n        right: 0;\\n    }\\n\\n    .ac-form .yui-ac-ft {\\n        font-family: Verdana,sans-serif;\\n        font-size: 92%;\\n        text-align: left;\\n    }\\n\\n    .ac-form .moreresults {\\n        padding-left: 0.3em;\\n    }\\n\\n    .yui3-fin-ac-item-hover, .yui3-fin-ac-item-active {\\n        background: #D6F7FF;\\n        cursor: pointer;\\n    }\\n\\n    .yui-ac-ft a {\\n        color: #039;\\n        text-decoration: none;\\n        font-size: inherit !important;\\n    }\\n\\n    .yui-ac-ft .tip {\\n        border-top: 1px solid #D6D6D6;\\n        color: #636363;\\n        padding: 0.5em 0 0 0.4em;\\n        margin-top: .25em;\\n    }\\n\\n\\n\\n    \\n    \\n        \\n            Search for share prices\\n            Enter Symbol\\n            \\n\\n            \\n\\n            \\n                \\n                    \\n                        \\n                            \\n                        \\n                    \\n                \\n            \\n        \\n    \\n    Finance Search\\n        Fri, Jul 01 2016, 9:09am EDT - U.S. Markets open in 21 mins.\\n\\n    \\n   \\n\\n\\n        \\n        \\n            \\n                \\n\\n                    \\n                        \\n                            Dow\\n                            \\n                                \\n                                -\\n                            \\n                        \\n                        \\n                    \\n                        \\n                        \\n                            Nasdaq\\n                        \\n                            \\n                            -\\n\\n                        \\n                    \\n                        \\n                        \\n                    \\n                \\n\\n                \\n\\n    \\n        \\n\\n    \\n\\n    \\n        More on AAPL\\n    \\n    \\n\\n        \\n            Quotes\\n            \\n            \\n                \\n                    Summary\\n                \\n            \\n                \\n                    Order Book\\n                \\n            \\n                \\n                    Options\\n                \\n            \\n                \\n                    Historical Prices\\n                \\n            \\n            \\n        \\n            Charts\\n            \\n            \\n                \\n                    Interactive\\n                \\n            \\n            \\n        \\n            News & Info\\n            \\n            \\n                \\n                    Headlines\\n                \\n            \\n                \\n                    \\n                    \\n                        Press Releases\\n                    \\n                \\n            \\n                \\n                    Company Events\\n                \\n            \\n                \\n                    Message Boards\\n                \\n            \\n                \\n                    Market Pulse\\n                \\n            \\n            \\n        \\n            Company\\n            \\n            \\n                \\n                    Profile\\n                \\n            \\n                \\n                    Key Statistics\\n                \\n            \\n                \\n                    SEC Filings\\n                \\n            \\n                \\n                    Competitors\\n                \\n            \\n                \\n                    Industry\\n                \\n            \\n                \\n                    Components\\n                \\n            \\n            \\n        \\n            Analyst Coverage\\n            \\n            \\n                \\n                    Analyst Opinion\\n                \\n            \\n                \\n                    Analyst Estimates\\n                \\n            \\n            \\n        \\n            Ownership\\n            \\n            \\n                \\n                    Major Holders\\n                \\n            \\n                \\n                    Insider Transactions\\n                \\n            \\n                \\n                    Insider Roster\\n                \\n            \\n            \\n        \\n            Financials\\n            \\n            \\n                \\n                    Income Statement\\n                \\n            \\n                \\n                    Balance Sheet\\n                \\n            \\n                \\n                    Cash Flow\\n                \\n            \\n            \\n        \\n    \\n    \\n\\n    \\n\\n\\n\\n                \\n                    var SKY_noadPos = document.getElementById(\"yom-ad-SKY\");  if (SKY_noadPos) {SKY_noadPos.style.display=\"none\";}\\n                \\n                \\n\\n                    \\n                        \\n                            var FB2_1_noadPos = document.getElementById(\"yom-ad-FB2-1\");  if (FB2_1_noadPos) {FB2_1_noadPos.style.display=\"none\";}\\n                        \\n                        \\n                            \\n                        \\n                        \\n                            \\n                        \\n                        \\n                            \\n                        \\n                    \\n                    \\n   \\n       /*\\n*  Stencil defined classes - https://git.corp.yahoo.com/pages/ape/stencil/behavior/index.html\\n*   .PageOverlay\\n*   .ModalDismissBtn.Btn\\n*/\\n\\n/*\\n* User defined classes\\n*   #ham-nav-cue-modal - styles for the modal window\\n*   .padd-border - styles for the content box of #ham-nav-cue-modal\\n*   #ham-nav-cue-modal:after, #ham-nav-cue-modal:before - used to create modal window\\'s arrow.\\n*/\\n\\n.PageOverlay #ham-nav-cue-modal {\\n    left: 49px;\\n    transition: -webkit-transform .3s;\\n    max-width: 240px;\\n}\\n\\n.PageOverlay #ham-nav-cue-modal .padd-border {\\n    border: solid #5300C5 2px;\\n    padding: 5px 5px 10px 15px;\\n}\\n\\n.PageOverlay {\\n    z-index: 201;\\n}\\n\\n#ham-nav-cue-modal:after,\\n#ham-nav-cue-modal:before {\\n    content: \"\";\\n    border-style: solid;\\n    border-width: 10px;\\n    width: 0;\\n    height: 0;\\n    position: absolute;\\n    top: 4%;\\n    left: -20px;\\n}\\n\\n#ham-nav-cue-modal:before {\\n    border-color: transparent #5300C5 transparent transparent;\\n}\\n\\n#ham-nav-cue-modal:after {\\n    margin-left: 3px;\\n    border-color: transparent #fff transparent transparent;\\n}\\n\\n.ModalDismissBtn.Btn {\\n    background: transparent;\\n    border-color: transparent;\\n}\\n.follow-quote,.follow-quote-proxy {\\n    color: #999;\\n}\\n.Icon.follow-quote-following {\\n    color: #eac02b;\\n}\\n\\n.follow-quote-tooltip {\\n    z-index: 400;\\n    text-align: center;\\n}\\n\\n.follow-quote-area:hover .follow-quote {\\n    display: inline-block;\\n}\\n\\n.follow-quote-area:hover .quote-link,.follow-quote-visible .quote-link {\\n    display: inline-block;\\n    max-width: 50px;\\n    _width: 50px;\\n}       \\n  \\n    \\n        img {\\n            vertical-align: baseline;\\n        }\\n        .follow-quote {\\n            margin-left: 5px;\\n            margin-right: 2px;\\n        }\\n        .yfi_rt_quote_summary .rtq_exch {\\n            font: inherit;\\n        }\\n        .up_g.time_rtq_content, span.yfi-price-change-green {\\n            color: #80 !important;\\n        }\\n        .time_rtq, .follow-quote-txt {\\n            color: #979ba2;\\n        }\\n        .yfin_gs span.yfi-price-change-red, .yfin_gs span.yfi-price-change-green {\\n            font-weight: bold;\\n        }\\n        .yfi_rt_quote_summary .hd h2 {\\n            font: inherit;\\n        }\\n        span.yfi-price-change-red {\\n            color: #C00 !important;\\n        }\\n        /* to hide the up/down arrow */\\n        .yfi_rt_quote_summary_rt_top .time_rtq_content img {\\n            display: none;\\n        }\\n\\n        .quote_summary {\\n            min-height: 77px;\\n        }\\n\\n        .app_promo.after_hours, .app_promo.pre_market {\\n            top: 8px;\\n        }\\n    \\n    \\n      \\n        \\n          \\n            \\n              \\n                Apple Inc. (AAPL)\\n                \\ue023  \\n                    Watchlist\\n                \\n              \\n            \\n            \\n              \\n                  \\n                        95.60\\n                  \\n                \\n                    -(-) \\n                \\n                    NASDAQ - As of 4:00PM EDT\\n\\n              \\n              |\\n                    \\n                    After Hours:\\n                        95.56  -0.04 (0.04%) 9:05AM EDT\\n                    \\n                    \\n              \\n            \\n            \\n              #yfi_toolbox_mini_rtq.sigfig_promo {\\n              bottom:45px !important;\\n              }\\n            \\n            \\n                \\n\\n            \\n          \\n        \\n      \\n    \\n  \\n\\n    \\n   \\n\\n\\n                    \\n                    \\n   \\n       .App_v2 {\\n    border: none;\\n    margin: 0;\\n    padding: 0;\\n}\\n\\n.options-table {\\n    position: relative;\\n}\\n\\n/*.Icon.up {*/\\n    /*display: none;*/\\n/*}*/\\n\\n.option_column {\\n    width: auto;\\n}\\n\\n.header_text {\\n    float: left;\\n    max-width: 50px;\\n}\\n.header_sorts {\\n    color: #00be8c;\\n    float: left;\\n}\\n\\n.size-toggle-menu {\\n    margin-left: 600px;\\n}\\n\\n.in-the-money-banner {\\n    background-color: rgba(224,241,231,1);\\n    padding: 7px;\\n    position: relative;\\n    top: -3px;\\n    width: 95px;\\n}\\n\\n.in-the-money.odd {\\n    background-color: rgba(232,249,239,1);\\n}\\n\\n.in-the-money.even {\\n    background-color: rgba(224,241,231,1);\\n}\\n\\n.toggle li{\\n    display: inline-block;\\n    cursor: pointer;\\n    border: 1px solid #e2e2e6;\\n    border-right-width: 0;\\n    color: #454545;\\n    background-color: #fff;\\n    float: left;\\n    padding: 0px;\\n    margin: 0px;\\n}\\n\\n.toggle li a {\\n  padding: 7px;\\n  display: block;\\n}\\n\\n.toggle li:hover{\\n    background-color: #e2e2e6;\\n}\\n\\n.toggle li.active{\\n    color: #fff;\\n    background-color: #30d3b6;\\n    border-color: #30d3b6;\\n    border-bottom-color: #0c8087;\\n}\\n\\n.toggle li:first-child{\\n    border-radius: 3px 0 0 3px;\\n}\\n\\n.toggle li:last-child{\\n    border-radius: 0 3px 3px 0;\\n    border-right-width: 1px;\\n}\\n\\n.high-low .up {\\n    display: none;\\n}\\n\\n.high-low .down {\\n    display: block;\\n}\\n\\n.low-high .down {\\n    display: none;\\n}\\n\\n.low-high .up {\\n    display: block;\\n}\\n\\n.option_column.sortable {\\n    cursor: pointer;\\n}\\n\\n.option-filter-overlay {\\n    background-color: #fff;\\n    border: 1px solid #979ba2;\\n    border-radius: 3px;\\n    float: left;\\n    padding: 15px;\\n    position: absolute;\\n    top: 60px;\\n    z-index: 10;\\n    display: none;\\n}\\n\\n#optionsStraddlesTable .option-filter-overlay {\\n    left: 430px;\\n}\\n\\n.option-filter-overlay.active {\\n    display: block;\\n}\\n\\n.option-filter-overlay .strike-filter{\\n    height: 25px;\\n    width: 75px;\\n}\\n\\n#straddleTable .column-strike .cell{\\n    width: 30px;\\n}\\n\\n/**columns**/\\n\\n#quote-table th.column-expires {\\n    width: 102px;\\n}\\n.straddle-expire div.option_entry {\\n    min-width: 65px;\\n}\\n.column-last .cell {\\n    width: 55px;\\n}\\n\\n.column-change .cell {\\n    width: 70px;\\n}\\n\\n.cell .change {\\n    width: 35px;\\n}\\n\\n.column-percentChange .cell {\\n    width: 85px;\\n}\\n\\n.column-volume .cell {\\n    width: 70px;\\n}\\n\\n.cell .sessionVolume {\\n    width: 37px;\\n}\\n\\n.column-session-volume .cell {\\n    width: 75px;\\n}\\n\\n.column-openInterest .cell, .column-openInterestChange .cell {\\n    width: 75px;\\n}\\n.cell .openInterest, .cell .openInterestChange {\\n    width: 37px;\\n}\\n\\n.column-bid .cell {\\n    width: 50px;\\n}\\n\\n.column-ask .cell {\\n    width: 55px;\\n}\\n\\n.column-impliedVolatility .cell {\\n    width: 75px;\\n}\\n\\n.cell .impliedVolatility {\\n    width: 37px;\\n}\\n\\n.column-contractName .cell {\\n    width: 170px;\\n}\\n\\n.options-menu-item {\\n    position: relative;\\n    top: -11px;\\n}\\n\\n.options-table {\\n  margin-bottom: 30px;\\n}\\n.options-table.hidden {\\n  display: none;\\n}\\n#quote-table table {\\n  width: 100%;\\n}\\n#quote-table tr * {\\n  font-family: \\'Helvetica Neue\\', Helvetica, Arial, sans-serif;\\n  font-size: 15px;\\n  color: #454545;\\n  font-weight: 200;\\n}\\n#quote-table tr a {\\n    color: #1D1DA3;\\n}\\n#quote-table tr .Icon {\\n  font-family: YGlyphs;\\n}\\n#quote-table tr.odd {\\n  background-color: #f7f7f7;\\n}\\n#quote-table tr th {\\n  -webkit-box-sizing: border-box;\\n  -moz-box-sizing: border-box;\\n  box-sizing: border-box;\\n  text-align: center;\\n  width: 60px;\\n  font-size: 11px !important;\\n  padding-top: 10px;\\n  padding-right: 5px;\\n  padding-bottom: 10px;\\n  vertical-align: middle;\\n}\\n#quote-table tr th * {\\n  font-size: 11px;\\n}\\n#quote-table tr th .expand-icon {\\n  display: block !important;\\n  margin: 0 auto;\\n  border: 1px solid #e2e2e6;\\n  background-color: #fcfcfc;\\n  -webkit-border-radius: 2px;\\n  border-radius: 2px;\\n  padding: 2px 0;\\n}\\n#quote-table tr th.column-strike {\\n  width: 82px;\\n}\\n#quote-table tr th .sort-icons {\\n  position: absolute;\\n  margin-left: 2px;\\n}\\n#quote-table tr th .Icon {\\n  display: none;\\n}\\n#quote-table tr th.low-high .up {\\n  display: block !important;\\n}\\n#quote-table tr th.high-low .down {\\n  display: block !important;\\n}\\n#quote-table td {\\n  text-align: center;\\n  padding: 7px 5px 7px 5px;\\n}\\n#quote-table td:first-child,\\n#quote-table th:first-child {\\n  border-right: 1px solid #e2e2e6;\\n}\\n#quote-table .D-ib .Icon {\\n  color: #66aeb2;\\n}\\n#quote-table caption {\\n  background-color: #454545 !important;\\n  color: #fff;\\n  font-size: medium;\\n  padding: 4px;\\n  padding-left: 20px !important;\\n  text-rendering: antialiased;\\n  -webkit-box-sizing: border-box;\\n  -moz-box-sizing: border-box;\\n  box-sizing: border-box;\\n}\\n#quote-table caption .callStraddles {\\n  width:50%;\\n  text-align:center;\\n  float:left;\\n}\\n#quote-table caption .putStraddles {\\n  width:50%;\\n  text-align:center;\\n  float:right;\\n}\\n#quote-table .in-the-money.even {\\n  background-color: #f3fdfc;\\n}\\n#quote-table .in-the-money.even td:first-child {\\n  -webkit-box-shadow: inset 5px 0 0 0 #d5f8f3;\\n  box-shadow: inset 5px 0 0 0 #d5f8f3;\\n}\\n#quote-table .in-the-money.even td:last-child {\\n  -webkit-box-shadow: inset -5px 0 0 0 #d5f8f3;\\n  box-shadow: inset -5px 0 0 0 #d5f8f3;\\n}\\n#quote-table .in-the-money.odd {\\n  background-color: #ecf6f4;\\n}\\n#quote-table .in-the-money.odd td:first-child {\\n  -webkit-box-shadow: inset 5px 0 0 0 #cff3ec;\\n  box-shadow: inset 5px 0 0 0 #cff3ec;\\n}\\n#quote-table .in-the-money.odd td:last-child {\\n  -webkit-box-shadow: inset -5px 0 0 0 #cff3ec;\\n  box-shadow: inset -5px 0 0 0 #cff3ec;\\n}\\n#quote-table .column-strike {\\n  text-align: center;\\n  padding: 4px 20px;\\n}\\n#quote-table .column-strike .header_text,\\n#quote-table .column-expires .cell .expiration{\\n  color: #454545;\\n  font-size: 15px;\\n  font-weight: bold;\\n  max-width: 100%;\\n}\\n#quote-table .column-strike .header_text {\\n    width: 100%;\\n}\\n#quote-table .column-strike .filter {\\n  border: 1px solid #e2e2e6;\\n  background-color: #fcfcfc;\\n  color: #858585;\\n  display: inline-block;\\n  padding: 1px 10px;\\n  -webkit-border-radius: 3px;\\n  border-radius: 3px;\\n  margin-top: 4px;\\n}\\n#quote-table .column-strike .filter span {\\n  position: relative;\\n  top: -2px;\\n  font-weight: bold;\\n  margin-left: -5px;\\n}\\n\\n#quote-table .column-strike .sort-icons {\\n   top: 35px;\\n}\\n#quote-table .column-expires .sort-icons {\\n    top: 45px;\\n}\\n#optionsStraddlesTable .column-expires .sort-icons {\\n    top: 40px;\\n}\\n#quote-table #options_menu {\\n  width: 100%;\\n}\\n#quote-table #options_menu .SelectBox-Pick {\\n  background-color: #fcfcfc !important;\\n  border: 1px solid #e2e2e6;\\n  color: #128086;\\n  font-size: 14px;\\n  padding: 5px;\\n  padding-top: 8px;\\n}\\n#quote-table #options_menu .SelectBox-Text {\\n  font-weight: bold;\\n}\\n#quote-table .size-toggle-menu {\\n  margin-left: 15px !important;\\n}\\n#quote-table .options-menu-item {\\n  top: -9px;\\n}\\n#quote-table .option_view {\\n  float: right;\\n}\\n#quote-table .option-change-pos {\\n  color: #2ac194;\\n}\\n#quote-table .option-change-neg {\\n  color: #f90f31;\\n}\\n#quote-table .toggle li {\\n  color: #128086;\\n  background-color: #fcfcfc;\\n}\\n#quote-table .toggle li.active {\\n  color: #fff;\\n  background-color: #35d2b6;\\n}\\n#quote-table .expand-icon {\\n  color: #b5b5b5;\\n  font-size: 12px;\\n  cursor: pointer;\\n}\\n#quote-table .straddleCallContractName {\\n  padding-left: 25px;\\n}\\n#quote-table .straddlePutContractName {\\n  padding-left: 20px;\\n}\\n#quote-table .straddle-row-expand {\\n  display: none;\\n  border-bottom: 1px solid #f9f9f9;\\n}\\n#quote-table .straddle-row-expand td {\\n  padding-right: 5px;\\n}\\n#quote-table .straddle-row-expand label {\\n  color: #454545;\\n  font-size: 11px;\\n  margin-bottom: 2px;\\n  color: #888;\\n}\\n#quote-table .straddle-row-expand label,\\n#quote-table .straddle-row-expand div {\\n  display: block;\\n  font-weight: 400;\\n  text-align: left;\\n  padding-left: 5px;\\n}\\n#quote-table .expand-icon-up {\\n  display: none;\\n}\\n#quote-table tr.expanded + .straddle-row-expand {\\n  display: table-row;\\n}\\n#quote-table tr.expanded .expand-icon-up {\\n  display: inline-block;\\n}\\n#quote-table tr.expanded .expand-icon-down {\\n  display: none;\\n}\\n.in-the-money-banner {\\n  color: #7f8584;\\n  font-size: 11px;\\n  background-color: #eefcfa;\\n  border-left: 12px solid #e0faf6;\\n  border-right: 12px solid #e0faf6;\\n  width: 76px !important;\\n  text-align: center;\\n  padding: 5px !important;\\n  margin-top: 5px;\\n  margin-left: 15px;\\n}\\n#optionsStraddlesTable td div {\\n  text-align: center;\\n}\\n#optionsStraddlesTable .straddle-strike,\\n#optionsStraddlesTable .column-strike,\\n#optionsStraddlesTable .straddle-expire{\\n  border-right: 1px solid #e2e2e6;\\n  border-left: 1px solid #e2e2e6;\\n}\\n#optionsStraddlesTable td:first-child,\\n#optionsStraddlesTable th:first-child {\\n  border-right: none !important;\\n}\\n#optionsStraddlesTable .odd td.in-the-money {\\n  background-color: #ecf6f4;\\n}\\n#optionsStraddlesTable .odd td.in-the-money:first-child {\\n  -webkit-box-shadow: inset 5px 0 0 0 #cff3ec;\\n  box-shadow: inset 5px 0 0 0 #cff3ec;\\n}\\n#optionsStraddlesTable .odd td.in-the-money:last-child {\\n  -webkit-box-shadow: inset -5px 0 0 0 #cff3ec;\\n  box-shadow: inset -5px 0 0 0 #cff3ec;\\n}\\n#optionsStraddlesTable .even td.in-the-money {\\n  background-color: #f3fdfc;\\n}\\n#optionsStraddlesTable .even td.in-the-money:first-child {\\n  -webkit-box-shadow: inset 5px 0 0 0 #d5f8f3;\\n  box-shadow: inset 5px 0 0 0 #d5f8f3;\\n}\\n#optionsStraddlesTable .even td.in-the-money:last-child {\\n  -webkit-box-shadow: inset -5px 0 0 0 #d5f8f3;\\n  box-shadow: inset -5px 0 0 0 #d5f8f3;\\n}\\n.column-expand-all {\\n  cursor: pointer;\\n}\\n.options-table.expand-all tr + .straddle-row-expand {\\n  display: table-row !important;\\n}\\n.options-table.expand-all tr .expand-icon-up {\\n  display: inline-block !important;\\n}\\n.options-table.expand-all tr .expand-icon-down {\\n  display: none !important;\\n}\\n.options_menu .toggle a {\\n  color: #128086;\\n}\\n.options_menu .toggle a:hover {\\n  text-decoration: none;\\n}\\n.options_menu .toggle .active a {\\n  color: #fff;\\n}\\n#options_menu .symbol_lookup {\\n    float: right;\\n    top: -11px;\\n}\\n.symbol_lookup .options-ac-input {\\n    border-radius: 0;\\n    height: 26px;\\n    width: 79%;\\n}\\n.goto-icon {\\n    border-left: 1px solid #e2e2e6;\\n    color: #028087;\\n    cursor: pointer;\\n}\\n.symbol_lookup .goto-icon {\\n    height: 27px;\\n    line-height: 2.1em;\\n}\\n#finAcOutput {\\n    left: 10px;\\n    top: -10px;\\n}\\n#finAcOutput .yui3-fin-ac-hidden {\\n    display: none;\\n}\\n#finAcOutput .yui3-aclist {\\n    border: 1px solid #DDD;\\n    background: #fefefe;\\n    font-size: 92%;\\n    left: 0 !important;\\n    overflow: visible;\\n    padding: .5em;\\n    position: absolute !important;\\n    text-align: left;\\n    top: 0 !important;\\n\\n}\\n#finAcOutput li.yui3-fin-ac-item-active,\\n#finAcOutput li.yui3-fin-ac-item-hover {\\n    background: #F1F1F1;\\n    cursor: pointer;\\n}\\n#finAcOutput div:first-child {\\n    width: 30em !important;\\n}\\n#finAcOutput b.yui3-highlight {\\n    font-weight: bold;\\n}\\n#finAcOutput li .name {\\n    display: inline-block;\\n    left: 0;\\n    width: 25em;\\n    overflow: hidden;\\n    position: relative;\\n}\\n\\n#finAcOutput li .symbol {\\n    width: 8.5em;\\n    display: inline-block;\\n    margin: 0 1em 0 0;\\n    overflow: hidden;\\n}\\n\\n#finAcOutput li {\\n    color: #444;\\n    cursor: default;\\n    font-weight: 300;\\n    list-style: none;\\n    margin: 0;\\n    padding: .15em .38em;\\n    position: relative;\\n    vertical-align: bottom;\\n    white-space: nowrap;\\n}\\n\\n.yui3-fin-ac-hidden {\\n    visibility: hidden;\\n}\\n\\n.filterRangeRow {\\n    line-height: 5px;\\n}\\n.filterRangeTitle {\\n    padding-bottom: 5px;\\n    font-size: 12px !important;\\n}\\n.clear-filter {\\n    padding-left: 20px;\\n}\\n.closeFilter {\\n    font-size: 10px !important;\\n    color: red !important;\\n}\\n.modify-filter {\\n    font-size: 11px !important;\\n}\\n.showModifyFilter {\\n    top: 80px;\\n    left: 630px;\\n}\\n\\n#options_menu {\\n    margin-bottom: -15px;\\n}\\n\\n#optionsTableApplet {\\n    margin-top: 9px;\\n    width: 1070px;\\n}\\n\\n#yfi_charts.desktop #yfi_doc, #yfi_charts.tablet #yfi_doc {\\n    width: 1440px;\\n}\\n\\n#yfi_charts.tablet #yfi_investing_content {\\n    width: 1070px;\\n}\\n\\n#sky {\\n    float: right;\\n    margin-left: 30px;\\n    margin-top: 50px;\\n    width: 170px;\\n}\\n       \\n\\n    \\n        \\n            \\n                July 1, 2016\\ue002\\n                \\n                    \\n\\n                        July 1, 2016\\n                    \\n\\n                        July 8, 2016\\n                    \\n\\n                        July 15, 2016\\n                    \\n\\n                        July 22, 2016\\n                    \\n\\n                        July 29, 2016\\n                    \\n\\n                        August 5, 2016\\n                    \\n\\n                        August 12, 2016\\n                    \\n\\n                        August 19, 2016\\n                    \\n\\n                        September 16, 2016\\n                    \\n\\n                        October 21, 2016\\n                    \\n\\n                        January 20, 2017\\n                    \\n\\n                        March 17, 2017\\n                    \\n\\n                        April 21, 2017\\n                    \\n\\n                        June 16, 2017\\n                    \\n\\n                        January 19, 2018\\n                    \\n                \\n            \\n        \\n        \\n\\n        \\n            \\n                \\n                    \\n                    \\ue015\\n                \\n                \\n            \\n        \\n        \\n            \\n                \\n                    List\\n                \\n                \\n                    Straddle\\n                \\n            \\n\\n        \\n        \\n            In The Money\\n        \\n    \\n\\n    \\n        \\n            \\n                \\n\\tShow Me Strikes From\\n\\t\\n\\t    $ \\n\\t    to $ \\n\\t\\n\\tApply Filter\\n\\tClear Filter\\n\\n\\n                \\n\\n    \\n        \\n            \\n                \\n                    \\n                        Calls\\n                        \\n                    \\n                \\n            \\n            \\n                \\n                    \\n    \\n\\n        \\n            \\n                \\n                     Strike\\n                    \\n                        \\ue004\\n                        \\ue002\\n                    \\n                \\n                ∵ Filter\\n            \\n        \\n    \\n\\n    \\n        \\n            Contract Name\\n        \\n    \\n\\n    \\n\\n        \\n            \\n                \\n                    Last\\n                    \\n                        \\ue004\\n                        \\ue002\\n                    \\n                \\n            \\n        \\n    \\n\\n    \\n\\n        \\n            \\n                \\n                    Bid\\n                    \\n                        \\ue004\\n                        \\ue002\\n                    \\n                \\n            \\n        \\n    \\n\\n    \\n\\n        \\n            \\n                \\n                    Ask\\n                    \\n                        \\ue004\\n                        \\ue002\\n                    \\n                \\n            \\n        \\n    \\n\\n    \\n\\n        \\n            \\n                \\n                    Change\\n                    \\n                        \\ue004\\n                        \\ue002\\n                    \\n                \\n            \\n        \\n    \\n\\n    \\n\\n        \\n            \\n                \\n                    %Change\\n                    \\n                        \\ue004\\n                        \\ue002\\n                    \\n                \\n            \\n        \\n    \\n\\n    \\n\\n        \\n            \\n                \\n                    Volume\\n                    \\n                        \\ue004\\n                        \\ue002\\n                    \\n                \\n            \\n        \\n    \\n\\n    \\n\\n        \\n            \\n                \\n                    Open Interest\\n                    \\n                        \\ue004\\n                        \\ue002\\n                    \\n                \\n            \\n        \\n    \\n\\n    \\n\\n        \\n            \\n                \\n                    Implied Volatility\\n                    \\n                        \\ue004\\n                        \\ue002\\n                    \\n                \\n            \\n        \\n    \\n\\n\\n                \\n                \\n                \\n                    \\n                        \\n                            \\n                            ✕\\n                            [modify]\\n                        \\n                    \\n                \\n                \\n            \\n\\n            \\n                \\n                    \\n                    \\n    \\n        \\n            50.00\\n        \\n        \\n            AAPL160701C00050000\\n        \\n        \\n            45.70\\n        \\n        \\n            45.30\\n        \\n        \\n            45.70\\n        \\n        \\n            3.15\\n        \\n        \\n            \\n                7.40%\\n            \\n        \\n        \\n            2\\n        \\n        \\n            3\\n        \\n        \\n            564.06%\\n        \\n    \\n\\n    \\n        \\n            55.00\\n        \\n        \\n            AAPL160701C00055000\\n        \\n        \\n            39.55\\n        \\n        \\n            40.30\\n        \\n        \\n            40.70\\n        \\n        \\n            2.00\\n        \\n        \\n            \\n                5.33%\\n            \\n        \\n        \\n            7\\n        \\n        \\n            2\\n        \\n        \\n            488.28%\\n        \\n    \\n\\n    \\n        \\n            60.00\\n        \\n        \\n            AAPL160701C00060000\\n        \\n        \\n            34.60\\n        \\n        \\n            35.30\\n        \\n        \\n            35.70\\n        \\n        \\n            2.05\\n        \\n        \\n            \\n                6.30%\\n            \\n        \\n        \\n            1\\n        \\n        \\n            1\\n        \\n        \\n            418.75%\\n        \\n    \\n\\n    \\n        \\n            75.00\\n        \\n        \\n            AAPL160701C00075000\\n        \\n        \\n            25.10\\n        \\n        \\n            22.80\\n        \\n        \\n            23.15\\n        \\n        \\n            0.00\\n        \\n        \\n            \\n                0.00%\\n            \\n        \\n        \\n            1\\n        \\n        \\n            1\\n        \\n        \\n            523.24%\\n        \\n    \\n\\n    \\n        \\n            80.00\\n        \\n        \\n            AAPL160701C00080000\\n        \\n        \\n            12.36\\n        \\n        \\n            0.00\\n        \\n        \\n            0.00\\n        \\n        \\n            0.00\\n        \\n        \\n            \\n                0.00%\\n            \\n        \\n        \\n            1\\n        \\n        \\n            0\\n        \\n        \\n            0.00%\\n        \\n    \\n\\n    \\n        \\n            85.00\\n        \\n        \\n            AAPL160701C00085000\\n        \\n        \\n            10.40\\n        \\n        \\n            10.30\\n        \\n        \\n            10.65\\n        \\n        \\n            1.30\\n        \\n        \\n            \\n                14.29%\\n            \\n        \\n        \\n            10\\n        \\n        \\n            138\\n        \\n        \\n            114.06%\\n        \\n    \\n\\n    \\n        \\n            85.50\\n        \\n        \\n            AAPL160701C00085500\\n        \\n        \\n            8.72\\n        \\n        \\n            9.90\\n        \\n        \\n            10.30\\n        \\n        \\n            0.00\\n        \\n        \\n            \\n                0.00%\\n            \\n        \\n        \\n            2\\n        \\n        \\n            2\\n        \\n        \\n            50.00%\\n        \\n    \\n\\n    \\n        \\n            86.00\\n        \\n        \\n            AAPL160701C00086000\\n        \\n        \\n            8.50\\n        \\n        \\n            9.30\\n        \\n        \\n            9.65\\n        \\n        \\n            1.30\\n        \\n        \\n            \\n                18.06%\\n            \\n        \\n        \\n            7\\n        \\n        \\n            7\\n        \\n        \\n            104.69%\\n        \\n    \\n\\n    \\n        \\n            87.00\\n        \\n        \\n            AAPL160701C00087000\\n        \\n        \\n            5.85\\n        \\n        \\n            6.50\\n        \\n        \\n            6.75\\n        \\n        \\n            0.85\\n        \\n        \\n            \\n                17.00%\\n            \\n        \\n        \\n            4\\n        \\n        \\n            18\\n        \\n        \\n            0.00%\\n        \\n    \\n\\n    \\n        \\n            87.50\\n        \\n        \\n            AAPL160701C00087500\\n        \\n        \\n            4.40\\n        \\n        \\n            0.00\\n        \\n        \\n            0.00\\n        \\n        \\n            0.00\\n        \\n        \\n            \\n                0.00%\\n            \\n        \\n        \\n            22\\n        \\n        \\n            0\\n        \\n        \\n            0.00%\\n        \\n    \\n\\n    \\n        \\n            88.00\\n        \\n        \\n            AAPL160701C00088000\\n        \\n        \\n            6.70\\n        \\n        \\n            7.30\\n        \\n        \\n            7.70\\n        \\n        \\n            0.80\\n        \\n        \\n            \\n                13.56%\\n            \\n        \\n        \\n            3\\n        \\n        \\n            47\\n        \\n        \\n            96.88%\\n        \\n    \\n\\n    \\n        \\n            88.50\\n        \\n        \\n            AAPL160701C00088500\\n        \\n        \\n            7.00\\n        \\n        \\n            6.80\\n        \\n        \\n            7.20\\n        \\n        \\n            1.53\\n        \\n        \\n            \\n                27.97%\\n            \\n        \\n        \\n            5\\n        \\n        \\n            167\\n        \\n        \\n            91.41%\\n        \\n    \\n\\n    \\n        \\n            89.00\\n        \\n        \\n            AAPL160701C00089000\\n        \\n        \\n            5.70\\n        \\n        \\n            6.35\\n        \\n        \\n            6.65\\n        \\n        \\n            0.35\\n        \\n        \\n            \\n                6.54%\\n            \\n        \\n        \\n            20\\n        \\n        \\n            218\\n        \\n        \\n            75.39%\\n        \\n    \\n\\n    \\n        \\n            89.50\\n        \\n        \\n            AAPL160701C00089500\\n        \\n        \\n            4.49\\n        \\n        \\n            4.80\\n        \\n        \\n            5.10\\n        \\n        \\n            0.35\\n        \\n        \\n            \\n                8.45%\\n            \\n        \\n        \\n            200\\n        \\n        \\n            345\\n        \\n        \\n            0.00%\\n        \\n    \\n\\n    \\n        \\n            90.00\\n        \\n        \\n            AAPL160701C00090000\\n        \\n        \\n            5.60\\n        \\n        \\n            5.35\\n        \\n        \\n            5.65\\n        \\n        \\n            1.15\\n        \\n        \\n            \\n                25.84%\\n            \\n        \\n        \\n            210\\n        \\n        \\n            1279\\n        \\n        \\n            65.63%\\n        \\n    \\n\\n    \\n        \\n            90.50\\n        \\n        \\n            AAPL160701C00090500\\n        \\n        \\n            5.20\\n        \\n        \\n            4.85\\n        \\n        \\n            5.15\\n        \\n        \\n            1.20\\n        \\n        \\n            \\n                30.00%\\n            \\n        \\n        \\n            5\\n        \\n        \\n            817\\n        \\n        \\n            60.55%\\n        \\n    \\n\\n    \\n        \\n            91.00\\n        \\n        \\n            AAPL160701C00091000\\n        \\n        \\n            4.53\\n        \\n        \\n            4.35\\n        \\n        \\n            4.65\\n        \\n        \\n            1.08\\n        \\n        \\n            \\n                31.30%\\n            \\n        \\n        \\n            52\\n        \\n        \\n            1717\\n        \\n        \\n            55.47%\\n        \\n    \\n\\n    \\n        \\n            91.50\\n        \\n        \\n            AAPL160701C00091500\\n        \\n        \\n            4.10\\n        \\n        \\n            3.85\\n        \\n        \\n            4.15\\n        \\n        \\n            1.15\\n        \\n        \\n            \\n                38.98%\\n            \\n        \\n        \\n            96\\n        \\n        \\n            2271\\n        \\n        \\n            50.39%\\n        \\n    \\n\\n    \\n        \\n            92.00\\n        \\n        \\n            AAPL160701C00092000\\n        \\n        \\n            3.51\\n        \\n        \\n            3.50\\n        \\n        \\n            3.65\\n        \\n        \\n            1.05\\n        \\n        \\n            \\n                42.68%\\n            \\n        \\n        \\n            1500\\n        \\n        \\n            3661\\n        \\n        \\n            45.31%\\n        \\n    \\n\\n    \\n        \\n            92.50\\n        \\n        \\n            AAPL160701C00092500\\n        \\n        \\n            2.95\\n        \\n        \\n            2.90\\n        \\n        \\n            3.15\\n        \\n        \\n            0.95\\n        \\n        \\n            \\n                47.50%\\n            \\n        \\n        \\n            621\\n        \\n        \\n            2528\\n        \\n        \\n            40.23%\\n        \\n    \\n\\n    \\n        \\n            93.00\\n        \\n        \\n            AAPL160701C00093000\\n        \\n        \\n            2.48\\n        \\n        \\n            2.52\\n        \\n        \\n            2.67\\n        \\n        \\n            0.93\\n        \\n        \\n            \\n                60.00%\\n            \\n        \\n        \\n            1527\\n        \\n        \\n            7391\\n        \\n        \\n            37.89%\\n        \\n    \\n\\n    \\n        \\n            93.50\\n        \\n        \\n            AAPL160701C00093500\\n        \\n        \\n            1.97\\n        \\n        \\n            1.92\\n        \\n        \\n            2.20\\n        \\n        \\n            0.80\\n        \\n        \\n            \\n                68.38%\\n            \\n        \\n        \\n            2008\\n        \\n        \\n            5834\\n        \\n        \\n            35.55%\\n        \\n    \\n\\n    \\n        \\n            94.00\\n        \\n        \\n            AAPL160701C00094000\\n        \\n        \\n            1.50\\n        \\n        \\n            1.55\\n        \\n        \\n            1.71\\n        \\n        \\n            0.70\\n        \\n        \\n            \\n                87.50%\\n            \\n        \\n        \\n            10616\\n        \\n        \\n            10833\\n        \\n        \\n            30.27%\\n        \\n    \\n\\n    \\n        \\n            94.50\\n        \\n        \\n            AAPL160701C00094500\\n        \\n        \\n            1.01\\n        \\n        \\n            1.06\\n        \\n        \\n            1.22\\n        \\n        \\n            0.49\\n        \\n        \\n            \\n                94.23%\\n            \\n        \\n        \\n            13975\\n        \\n        \\n            6078\\n        \\n        \\n            24.41%\\n        \\n    \\n\\n    \\n        \\n            95.00\\n        \\n        \\n            AAPL160701C00095000\\n        \\n        \\n            0.76\\n        \\n        \\n            0.72\\n        \\n        \\n            0.80\\n        \\n        \\n            0.47\\n        \\n        \\n            \\n                162.07%\\n            \\n        \\n        \\n            15843\\n        \\n        \\n            16019\\n        \\n        \\n            21.88%\\n        \\n    \\n\\n    \\n        \\n            95.50\\n        \\n        \\n            AAPL160701C00095500\\n        \\n        \\n            0.40\\n        \\n        \\n            0.40\\n        \\n        \\n            0.46\\n        \\n        \\n            0.25\\n        \\n        \\n            \\n                166.67%\\n            \\n        \\n        \\n            12883\\n        \\n        \\n            6588\\n        \\n        \\n            20.41%\\n        \\n    \\n\\n    \\n        \\n            96.00\\n        \\n        \\n            AAPL160701C00096000\\n        \\n        \\n            0.20\\n        \\n        \\n            0.19\\n        \\n        \\n            0.20\\n        \\n        \\n            0.12\\n        \\n        \\n            \\n                150.00%\\n            \\n        \\n        \\n            18595\\n        \\n        \\n            12812\\n        \\n        \\n            18.26%\\n        \\n    \\n\\n    \\n        \\n            96.50\\n        \\n        \\n            AAPL160701C00096500\\n        \\n        \\n            0.08\\n        \\n        \\n            0.07\\n        \\n        \\n            0.09\\n        \\n        \\n            0.04\\n        \\n        \\n            \\n                100.00%\\n            \\n        \\n        \\n            6332\\n        \\n        \\n            4518\\n        \\n        \\n            19.14%\\n        \\n    \\n\\n    \\n        \\n            97.00\\n        \\n        \\n            AAPL160701C00097000\\n        \\n        \\n            0.02\\n        \\n        \\n            0.01\\n        \\n        \\n            0.02\\n        \\n        \\n            0.00\\n        \\n        \\n            \\n                0.00%\\n            \\n        \\n        \\n            5973\\n        \\n        \\n            4616\\n        \\n        \\n            17.19%\\n        \\n    \\n\\n    \\n        \\n            97.50\\n        \\n        \\n            AAPL160701C00097500\\n        \\n        \\n            0.01\\n        \\n        \\n            0.01\\n        \\n        \\n            0.01\\n        \\n        \\n            0.00\\n        \\n        \\n            \\n                0.00%\\n            \\n        \\n        \\n            435\\n        \\n        \\n            2527\\n        \\n        \\n            19.53%\\n        \\n    \\n\\n    \\n        \\n            98.00\\n        \\n        \\n            AAPL160701C00098000\\n        \\n        \\n            0.01\\n        \\n        \\n            0.00\\n        \\n        \\n            0.01\\n        \\n        \\n            0.00\\n        \\n        \\n            \\n                0.00%\\n            \\n        \\n        \\n            139\\n        \\n        \\n            5041\\n        \\n        \\n            23.44%\\n        \\n    \\n\\n    \\n        \\n            98.50\\n        \\n        \\n            AAPL160701C00098500\\n        \\n        \\n            0.01\\n        \\n        \\n            0.00\\n        \\n        \\n            0.00\\n        \\n        \\n            0.00\\n        \\n        \\n            \\n                0.00%\\n            \\n        \\n        \\n            426\\n        \\n        \\n            0\\n        \\n        \\n            12.50%\\n        \\n    \\n\\n    \\n        \\n            99.00\\n        \\n        \\n            AAPL160701C00099000\\n        \\n        \\n            0.01\\n        \\n        \\n            0.00\\n        \\n        \\n            0.02\\n        \\n        \\n            0.00\\n        \\n        \\n            \\n                0.00%\\n            \\n        \\n        \\n            54\\n        \\n        \\n            3533\\n        \\n        \\n            35.16%\\n        \\n    \\n\\n    \\n        \\n            99.50\\n        \\n        \\n            AAPL160701C00099500\\n        \\n        \\n            0.02\\n        \\n        \\n            0.00\\n        \\n        \\n            0.01\\n        \\n        \\n            0.01\\n        \\n        \\n            \\n                100.00%\\n            \\n        \\n        \\n            1\\n        \\n        \\n            2370\\n        \\n        \\n            35.16%\\n        \\n    \\n\\n    \\n        \\n            100.00\\n        \\n        \\n            AAPL160701C00100000\\n        \\n        \\n            0.01\\n        \\n        \\n            0.00\\n        \\n        \\n            0.01\\n        \\n        \\n            0.00\\n        \\n        \\n            \\n                0.00%\\n            \\n        \\n        \\n            54\\n        \\n        \\n            22936\\n        \\n        \\n            39.06%\\n        \\n    \\n\\n    \\n        \\n            101.00\\n        \\n        \\n            AAPL160701C00101000\\n        \\n        \\n            0.02\\n        \\n        \\n            0.00\\n        \\n        \\n            0.01\\n        \\n        \\n            0.00\\n        \\n        \\n            \\n                0.00%\\n            \\n        \\n        \\n            181\\n        \\n        \\n            3256\\n        \\n        \\n            46.88%\\n        \\n    \\n\\n    \\n        \\n            102.00\\n        \\n        \\n            AAPL160701C00102000\\n        \\n        \\n            0.01\\n        \\n        \\n            0.00\\n        \\n        \\n            0.01\\n        \\n        \\n            -0.01\\n        \\n        \\n            \\n                -50.00%\\n            \\n        \\n        \\n            8\\n        \\n        \\n            2560\\n        \\n        \\n            50.00%\\n        \\n    \\n\\n    \\n        \\n            103.00\\n        \\n        \\n            AAPL160701C00103000\\n        \\n        \\n            0.02\\n        \\n        \\n            0.00\\n        \\n        \\n            0.01\\n        \\n        \\n            0.01\\n        \\n        \\n            \\n                100.00%\\n            \\n        \\n        \\n            18\\n        \\n        \\n            3371\\n        \\n        \\n            56.25%\\n        \\n    \\n\\n    \\n        \\n            104.00\\n        \\n        \\n            AAPL160701C00104000\\n        \\n        \\n            0.01\\n        \\n        \\n            0.01\\n        \\n        \\n            0.01\\n        \\n        \\n            -0.02\\n        \\n        \\n            \\n                -66.67%\\n            \\n        \\n        \\n            6\\n        \\n        \\n            680\\n        \\n        \\n            67.19%\\n        \\n    \\n\\n    \\n        \\n            105.00\\n        \\n        \\n            AAPL160701C00105000\\n        \\n        \\n            0.01\\n        \\n        \\n            0.00\\n        \\n        \\n            0.01\\n        \\n        \\n            0.00\\n        \\n        \\n            \\n                0.00%\\n            \\n        \\n        \\n            62\\n        \\n        \\n            8606\\n        \\n        \\n            68.75%\\n        \\n    \\n\\n    \\n        \\n            106.00\\n        \\n        \\n            AAPL160701C00106000\\n        \\n        \\n            0.01\\n        \\n        \\n            0.00\\n        \\n        \\n            0.02\\n        \\n        \\n            -0.01\\n        \\n        \\n            \\n                -50.00%\\n            \\n        \\n        \\n            10\\n        \\n        \\n            462\\n        \\n        \\n            81.25%\\n        \\n    \\n\\n    \\n        \\n            107.00\\n        \\n        \\n            AAPL160701C00107000\\n        \\n        \\n            0.02\\n        \\n        \\n            0.02\\n        \\n        \\n            0.03\\n        \\n        \\n            -0.02\\n        \\n        \\n            \\n                -50.00%\\n            \\n        \\n        \\n            5\\n        \\n        \\n            783\\n        \\n        \\n            97.66%\\n        \\n    \\n\\n    \\n        \\n            110.00\\n        \\n        \\n            AAPL160701C00110000\\n        \\n        \\n            0.01\\n        \\n        \\n            0.01\\n        \\n        \\n            0.02\\n        \\n        \\n            -0.02\\n        \\n        \\n            \\n                -66.67%\\n            \\n        \\n        \\n            3\\n        \\n        \\n            1422\\n        \\n        \\n            110.94%\\n        \\n    \\n\\n\\n                    \\n                    \\n                    \\n                    \\n                \\n            \\n        \\n    \\n\\n\\n\\n            \\n\\n            \\n                \\n\\tShow Me Strikes From\\n\\t\\n\\t    $ \\n\\t    to $ \\n\\t\\n\\tApply Filter\\n\\tClear Filter\\n\\n\\n                \\n\\n    \\n        \\n            \\n                \\n                    \\n                        \\n                        Puts\\n                    \\n                \\n            \\n            \\n                \\n                    \\n    \\n\\n        \\n            \\n                \\n                     Strike\\n                    \\n                        \\ue004\\n                        \\ue002\\n                    \\n                \\n                ∵ Filter\\n            \\n        \\n    \\n\\n    \\n        \\n            Contract Name\\n        \\n    \\n\\n    \\n\\n        \\n            \\n                \\n                    Last\\n                    \\n                        \\ue004\\n                        \\ue002\\n                    \\n                \\n            \\n        \\n    \\n\\n    \\n\\n        \\n            \\n                \\n                    Bid\\n                    \\n                        \\ue004\\n                        \\ue002\\n                    \\n                \\n            \\n        \\n    \\n\\n    \\n\\n        \\n            \\n                \\n                    Ask\\n                    \\n                        \\ue004\\n                        \\ue002\\n                    \\n                \\n            \\n        \\n    \\n\\n    \\n\\n        \\n            \\n                \\n                    Change\\n                    \\n                        \\ue004\\n                        \\ue002\\n                    \\n                \\n            \\n        \\n    \\n\\n    \\n\\n        \\n            \\n                \\n                    %Change\\n                    \\n                        \\ue004\\n                        \\ue002\\n                    \\n                \\n            \\n        \\n    \\n\\n    \\n\\n        \\n            \\n                \\n                    Volume\\n                    \\n                        \\ue004\\n                        \\ue002\\n                    \\n                \\n            \\n        \\n    \\n\\n    \\n\\n        \\n            \\n                \\n                    Open Interest\\n                    \\n                        \\ue004\\n                        \\ue002\\n                    \\n                \\n            \\n        \\n    \\n\\n    \\n\\n        \\n            \\n                \\n                    Implied Volatility\\n                    \\n                        \\ue004\\n                        \\ue002\\n                    \\n                \\n            \\n        \\n    \\n\\n\\n                \\n                \\n                \\n                    \\n                        \\n                            \\n                            ✕\\n                            [modify]\\n                        \\n                    \\n                \\n                \\n            \\n\\n            \\n                \\n                    \\n    \\n        \\n            70.00\\n        \\n        \\n            AAPL160701P00070000\\n        \\n        \\n            0.01\\n        \\n        \\n            0.00\\n        \\n        \\n            0.08\\n        \\n        \\n            0.00\\n        \\n        \\n            \\n                0.00%\\n            \\n        \\n        \\n            10\\n        \\n        \\n            0\\n        \\n        \\n            257.81%\\n        \\n    \\n\\n    \\n        \\n            75.00\\n        \\n        \\n            AAPL160701P00075000\\n        \\n        \\n            0.01\\n        \\n        \\n            0.00\\n        \\n        \\n            0.00\\n        \\n        \\n            0.00\\n        \\n        \\n            \\n                0.00%\\n            \\n        \\n        \\n            109\\n        \\n        \\n            0\\n        \\n        \\n            50.00%\\n        \\n    \\n\\n    \\n        \\n            80.00\\n        \\n        \\n            AAPL160701P00080000\\n        \\n        \\n            0.01\\n        \\n        \\n            0.00\\n        \\n        \\n            0.00\\n        \\n        \\n            0.00\\n        \\n        \\n            \\n                0.00%\\n            \\n        \\n        \\n            2072\\n        \\n        \\n            0\\n        \\n        \\n            50.00%\\n        \\n    \\n\\n    \\n        \\n            81.00\\n        \\n        \\n            AAPL160701P00081000\\n        \\n        \\n            0.01\\n        \\n        \\n            0.00\\n        \\n        \\n            0.01\\n        \\n        \\n            -0.01\\n        \\n        \\n            \\n                -50.00%\\n            \\n        \\n        \\n            1200\\n        \\n        \\n            1625\\n        \\n        \\n            115.63%\\n        \\n    \\n\\n    \\n        \\n            82.00\\n        \\n        \\n            AAPL160701P00082000\\n        \\n        \\n            0.01\\n        \\n        \\n            0.00\\n        \\n        \\n            0.01\\n        \\n        \\n            -0.01\\n        \\n        \\n            \\n                -50.00%\\n            \\n        \\n        \\n            265\\n        \\n        \\n            942\\n        \\n        \\n            106.25%\\n        \\n    \\n\\n    \\n        \\n            83.00\\n        \\n        \\n            AAPL160701P00083000\\n        \\n        \\n            0.01\\n        \\n        \\n            0.01\\n        \\n        \\n            0.01\\n        \\n        \\n            -0.01\\n        \\n        \\n            \\n                -50.00%\\n            \\n        \\n        \\n            511\\n        \\n        \\n            1116\\n        \\n        \\n            107.81%\\n        \\n    \\n\\n    \\n        \\n            84.00\\n        \\n        \\n            AAPL160701P00084000\\n        \\n        \\n            0.01\\n        \\n        \\n            0.01\\n        \\n        \\n            0.01\\n        \\n        \\n            -0.02\\n        \\n        \\n            \\n                -66.67%\\n            \\n        \\n        \\n            2889\\n        \\n        \\n            5153\\n        \\n        \\n            99.22%\\n        \\n    \\n\\n    \\n        \\n            85.00\\n        \\n        \\n            AAPL160701P00085000\\n        \\n        \\n            0.01\\n        \\n        \\n            0.01\\n        \\n        \\n            0.01\\n        \\n        \\n            -0.01\\n        \\n        \\n            \\n                -50.00%\\n            \\n        \\n        \\n            26\\n        \\n        \\n            3050\\n        \\n        \\n            90.63%\\n        \\n    \\n\\n    \\n        \\n            85.50\\n        \\n        \\n            AAPL160701P00085500\\n        \\n        \\n            0.01\\n        \\n        \\n            0.01\\n        \\n        \\n            0.01\\n        \\n        \\n            -0.04\\n        \\n        \\n            \\n                -80.00%\\n            \\n        \\n        \\n            866\\n        \\n        \\n            361\\n        \\n        \\n            87.50%\\n        \\n    \\n\\n    \\n        \\n            86.00\\n        \\n        \\n            AAPL160701P00086000\\n        \\n        \\n            0.01\\n        \\n        \\n            0.01\\n        \\n        \\n            0.02\\n        \\n        \\n            -0.05\\n        \\n        \\n            \\n                -83.33%\\n            \\n        \\n        \\n            970\\n        \\n        \\n            1162\\n        \\n        \\n            87.50%\\n        \\n    \\n\\n    \\n        \\n            86.50\\n        \\n        \\n            AAPL160701P00086500\\n        \\n        \\n            0.01\\n        \\n        \\n            0.01\\n        \\n        \\n            0.02\\n        \\n        \\n            -0.12\\n        \\n        \\n            \\n                -92.31%\\n            \\n        \\n        \\n            275\\n        \\n        \\n            528\\n        \\n        \\n            82.81%\\n        \\n    \\n\\n    \\n        \\n            87.00\\n        \\n        \\n            AAPL160701P00087000\\n        \\n        \\n            0.01\\n        \\n        \\n            0.01\\n        \\n        \\n            0.02\\n        \\n        \\n            -0.08\\n        \\n        \\n            \\n                -88.89%\\n            \\n        \\n        \\n            1183\\n        \\n        \\n            868\\n        \\n        \\n            79.69%\\n        \\n    \\n\\n    \\n        \\n            87.50\\n        \\n        \\n            AAPL160701P00087500\\n        \\n        \\n            0.01\\n        \\n        \\n            0.00\\n        \\n        \\n            0.01\\n        \\n        \\n            -0.01\\n        \\n        \\n            \\n                -50.00%\\n            \\n        \\n        \\n            25\\n        \\n        \\n            1052\\n        \\n        \\n            65.63%\\n        \\n    \\n\\n    \\n        \\n            88.00\\n        \\n        \\n            AAPL160701P00088000\\n        \\n        \\n            0.01\\n        \\n        \\n            0.01\\n        \\n        \\n            0.01\\n        \\n        \\n            -0.01\\n        \\n        \\n            \\n                -50.00%\\n            \\n        \\n        \\n            132\\n        \\n        \\n            2478\\n        \\n        \\n            67.19%\\n        \\n    \\n\\n    \\n        \\n            88.50\\n        \\n        \\n            AAPL160701P00088500\\n        \\n        \\n            0.01\\n        \\n        \\n            0.00\\n        \\n        \\n            0.01\\n        \\n        \\n            -0.01\\n        \\n        \\n            \\n                -50.00%\\n            \\n        \\n        \\n            58\\n        \\n        \\n            1471\\n        \\n        \\n            57.81%\\n        \\n    \\n\\n    \\n        \\n            89.00\\n        \\n        \\n            AAPL160701P00089000\\n        \\n        \\n            0.01\\n        \\n        \\n            0.01\\n        \\n        \\n            0.01\\n        \\n        \\n            -0.01\\n        \\n        \\n            \\n                -50.00%\\n            \\n        \\n        \\n            333\\n        \\n        \\n            2033\\n        \\n        \\n            59.38%\\n        \\n    \\n\\n    \\n        \\n            89.50\\n        \\n        \\n            AAPL160701P00089500\\n        \\n        \\n            0.01\\n        \\n        \\n            0.01\\n        \\n        \\n            0.01\\n        \\n        \\n            -0.01\\n        \\n        \\n            \\n                -50.00%\\n            \\n        \\n        \\n            240\\n        \\n        \\n            2196\\n        \\n        \\n            54.69%\\n        \\n    \\n\\n    \\n        \\n            90.00\\n        \\n        \\n            AAPL160701P00090000\\n        \\n        \\n            0.01\\n        \\n        \\n            0.01\\n        \\n        \\n            0.02\\n        \\n        \\n            -0.02\\n        \\n        \\n            \\n                -66.67%\\n            \\n        \\n        \\n            119\\n        \\n        \\n            5895\\n        \\n        \\n            53.91%\\n        \\n    \\n\\n    \\n        \\n            90.50\\n        \\n        \\n            AAPL160701P00090500\\n        \\n        \\n            0.01\\n        \\n        \\n            0.01\\n        \\n        \\n            0.01\\n        \\n        \\n            -0.02\\n        \\n        \\n            \\n                -66.67%\\n            \\n        \\n        \\n            120\\n        \\n        \\n            1936\\n        \\n        \\n            46.88%\\n        \\n    \\n\\n    \\n        \\n            91.00\\n        \\n        \\n            AAPL160701P00091000\\n        \\n        \\n            0.01\\n        \\n        \\n            0.01\\n        \\n        \\n            0.02\\n        \\n        \\n            -0.03\\n        \\n        \\n            \\n                -75.00%\\n            \\n        \\n        \\n            122\\n        \\n        \\n            5536\\n        \\n        \\n            47.27%\\n        \\n    \\n\\n    \\n        \\n            91.50\\n        \\n        \\n            AAPL160701P00091500\\n        \\n        \\n            0.01\\n        \\n        \\n            0.01\\n        \\n        \\n            0.02\\n        \\n        \\n            -0.04\\n        \\n        \\n            \\n                -80.00%\\n            \\n        \\n        \\n            1139\\n        \\n        \\n            3004\\n        \\n        \\n            42.97%\\n        \\n    \\n\\n    \\n        \\n            92.00\\n        \\n        \\n            AAPL160701P00092000\\n        \\n        \\n            0.01\\n        \\n        \\n            0.01\\n        \\n        \\n            0.02\\n        \\n        \\n            -0.05\\n        \\n        \\n            \\n                -83.33%\\n            \\n        \\n        \\n            7206\\n        \\n        \\n            7208\\n        \\n        \\n            38.28%\\n        \\n    \\n\\n    \\n        \\n            92.50\\n        \\n        \\n            AAPL160701P00092500\\n        \\n        \\n            0.02\\n        \\n        \\n            0.01\\n        \\n        \\n            0.02\\n        \\n        \\n            -0.08\\n        \\n        \\n            \\n                -80.00%\\n            \\n        \\n        \\n            3527\\n        \\n        \\n            4820\\n        \\n        \\n            33.59%\\n        \\n    \\n\\n    \\n        \\n            93.00\\n        \\n        \\n            AAPL160701P00093000\\n        \\n        \\n            0.02\\n        \\n        \\n            0.02\\n        \\n        \\n            0.03\\n        \\n        \\n            -0.14\\n        \\n        \\n            \\n                -87.50%\\n            \\n        \\n        \\n            6630\\n        \\n        \\n            9290\\n        \\n        \\n            31.25%\\n        \\n    \\n\\n    \\n        \\n            93.50\\n        \\n        \\n            AAPL160701P00093500\\n        \\n        \\n            0.04\\n        \\n        \\n            0.03\\n        \\n        \\n            0.04\\n        \\n        \\n            -0.22\\n        \\n        \\n            \\n                -84.62%\\n            \\n        \\n        \\n            11029\\n        \\n        \\n            3834\\n        \\n        \\n            28.13%\\n        \\n    \\n\\n    \\n        \\n            94.00\\n        \\n        \\n            AAPL160701P00094000\\n        \\n        \\n            0.03\\n        \\n        \\n            0.03\\n        \\n        \\n            0.04\\n        \\n        \\n            -0.40\\n        \\n        \\n            \\n                -93.02%\\n            \\n        \\n        \\n            16014\\n        \\n        \\n            6455\\n        \\n        \\n            22.66%\\n        \\n    \\n\\n    \\n        \\n            94.50\\n        \\n        \\n            AAPL160701P00094500\\n        \\n        \\n            0.10\\n        \\n        \\n            0.08\\n        \\n        \\n            0.10\\n        \\n        \\n            -0.52\\n        \\n        \\n            \\n                -83.87%\\n            \\n        \\n        \\n            14833\\n        \\n        \\n            3472\\n        \\n        \\n            22.85%\\n        \\n    \\n\\n    \\n        \\n            95.00\\n        \\n        \\n            AAPL160701P00095000\\n        \\n        \\n            0.20\\n        \\n        \\n            0.16\\n        \\n        \\n            0.20\\n        \\n        \\n            -0.69\\n        \\n        \\n            \\n                -77.53%\\n            \\n        \\n        \\n            24641\\n        \\n        \\n            6613\\n        \\n        \\n            21.88%\\n        \\n    \\n\\n    \\n        \\n            95.50\\n        \\n        \\n            AAPL160701P00095500\\n        \\n        \\n            0.33\\n        \\n        \\n            0.32\\n        \\n        \\n            0.35\\n        \\n        \\n            -0.93\\n        \\n        \\n            \\n                -73.81%\\n            \\n        \\n        \\n            11164\\n        \\n        \\n            1633\\n        \\n        \\n            19.92%\\n        \\n    \\n\\n    \\n        \\n            96.00\\n        \\n        \\n            AAPL160701P00096000\\n        \\n        \\n            0.67\\n        \\n        \\n            0.58\\n        \\n        \\n            0.63\\n        \\n        \\n            -0.98\\n        \\n        \\n            \\n                -59.39%\\n            \\n        \\n        \\n            6392\\n        \\n        \\n            3328\\n        \\n        \\n            19.92%\\n        \\n    \\n\\n    \\n        \\n            96.50\\n        \\n        \\n            AAPL160701P00096500\\n        \\n        \\n            1.15\\n        \\n        \\n            0.94\\n        \\n        \\n            1.20\\n        \\n        \\n            -0.99\\n        \\n        \\n            \\n                -46.26%\\n            \\n        \\n        \\n            637\\n        \\n        \\n            1199\\n        \\n        \\n            32.62%\\n        \\n    \\n\\n    \\n        \\n            97.00\\n        \\n        \\n            AAPL160701P00097000\\n        \\n        \\n            1.60\\n        \\n        \\n            1.36\\n        \\n        \\n            1.64\\n        \\n        \\n            -0.98\\n        \\n        \\n            \\n                -37.98%\\n            \\n        \\n        \\n            285\\n        \\n        \\n            1979\\n        \\n        \\n            36.72%\\n        \\n    \\n\\n    \\n        \\n            97.50\\n        \\n        \\n            AAPL160701P00097500\\n        \\n        \\n            1.90\\n        \\n        \\n            1.83\\n        \\n        \\n            2.13\\n        \\n        \\n            -1.30\\n        \\n        \\n            \\n                -40.63%\\n            \\n        \\n        \\n            372\\n        \\n        \\n            655\\n        \\n        \\n            43.16%\\n        \\n    \\n\\n    \\n        \\n            98.00\\n        \\n        \\n            AAPL160701P00098000\\n        \\n        \\n            2.55\\n        \\n        \\n            2.33\\n        \\n        \\n            2.60\\n        \\n        \\n            -1.09\\n        \\n        \\n            \\n                -29.95%\\n            \\n        \\n        \\n            77\\n        \\n        \\n            606\\n        \\n        \\n            47.36%\\n        \\n    \\n\\n    \\n        \\n            98.50\\n        \\n        \\n            AAPL160701P00098500\\n        \\n        \\n            2.94\\n        \\n        \\n            2.85\\n        \\n        \\n            3.15\\n        \\n        \\n            -1.16\\n        \\n        \\n            \\n                -28.29%\\n            \\n        \\n        \\n            7\\n        \\n        \\n            673\\n        \\n        \\n            57.81%\\n        \\n    \\n\\n    \\n        \\n            99.00\\n        \\n        \\n            AAPL160701P00099000\\n        \\n        \\n            3.35\\n        \\n        \\n            3.30\\n        \\n        \\n            3.65\\n        \\n        \\n            -1.40\\n        \\n        \\n            \\n                -29.47%\\n            \\n        \\n        \\n            40\\n        \\n        \\n            520\\n        \\n        \\n            64.06%\\n        \\n    \\n\\n    \\n        \\n            99.50\\n        \\n        \\n            AAPL160701P00099500\\n        \\n        \\n            3.95\\n        \\n        \\n            3.85\\n        \\n        \\n            4.15\\n        \\n        \\n            -1.17\\n        \\n        \\n            \\n                -22.85%\\n            \\n        \\n        \\n            2\\n        \\n        \\n            2216\\n        \\n        \\n            54.30%\\n        \\n    \\n\\n    \\n        \\n            100.00\\n        \\n        \\n            AAPL160701P00100000\\n        \\n        \\n            4.52\\n        \\n        \\n            4.35\\n        \\n        \\n            4.65\\n        \\n        \\n            -1.13\\n        \\n        \\n            \\n                -20.00%\\n            \\n        \\n        \\n            158\\n        \\n        \\n            15902\\n        \\n        \\n            59.38%\\n        \\n    \\n\\n    \\n        \\n            101.00\\n        \\n        \\n            AAPL160701P00101000\\n        \\n        \\n            5.52\\n        \\n        \\n            5.30\\n        \\n        \\n            5.65\\n        \\n        \\n            -1.36\\n        \\n        \\n            \\n                -19.77%\\n            \\n        \\n        \\n            51\\n        \\n        \\n            279\\n        \\n        \\n            64.84%\\n        \\n    \\n\\n    \\n        \\n            102.00\\n        \\n        \\n            AAPL160701P00102000\\n        \\n        \\n            6.60\\n        \\n        \\n            6.35\\n        \\n        \\n            6.65\\n        \\n        \\n            -0.99\\n        \\n        \\n            \\n                -13.04%\\n            \\n        \\n        \\n            4\\n        \\n        \\n            0\\n        \\n        \\n            78.52%\\n        \\n    \\n\\n    \\n        \\n            103.00\\n        \\n        \\n            AAPL160701P00103000\\n        \\n        \\n            8.73\\n        \\n        \\n            8.40\\n        \\n        \\n            8.70\\n        \\n        \\n            -1.50\\n        \\n        \\n            \\n                -14.66%\\n            \\n        \\n        \\n            1\\n        \\n        \\n            56\\n        \\n        \\n            180.66%\\n        \\n    \\n\\n    \\n        \\n            104.00\\n        \\n        \\n            AAPL160701P00104000\\n        \\n        \\n            11.75\\n        \\n        \\n            10.25\\n        \\n        \\n            10.55\\n        \\n        \\n            -0.67\\n        \\n        \\n            \\n                -5.39%\\n            \\n        \\n        \\n            2\\n        \\n        \\n            10\\n        \\n        \\n            247.27%\\n        \\n    \\n\\n    \\n        \\n            105.00\\n        \\n        \\n            AAPL160701P00105000\\n        \\n        \\n            9.70\\n        \\n        \\n            9.30\\n        \\n        \\n            9.65\\n        \\n        \\n            -0.94\\n        \\n        \\n            \\n                -8.83%\\n            \\n        \\n        \\n            4\\n        \\n        \\n            6151\\n        \\n        \\n            99.61%\\n        \\n    \\n\\n    \\n        \\n            106.00\\n        \\n        \\n            AAPL160701P00106000\\n        \\n        \\n            10.69\\n        \\n        \\n            10.20\\n        \\n        \\n            10.70\\n        \\n        \\n            -2.33\\n        \\n        \\n            \\n                -17.90%\\n            \\n        \\n        \\n            4\\n        \\n        \\n            11\\n        \\n        \\n            100.78%\\n        \\n    \\n\\n    \\n        \\n            107.00\\n        \\n        \\n            AAPL160701P00107000\\n        \\n        \\n            13.02\\n        \\n        \\n            12.45\\n        \\n        \\n            12.75\\n        \\n        \\n            -1.97\\n        \\n        \\n            \\n                -13.14%\\n            \\n        \\n        \\n            1\\n        \\n        \\n            29\\n        \\n        \\n            234.18%\\n        \\n    \\n\\n    \\n        \\n            110.00\\n        \\n        \\n            AAPL160701P00110000\\n        \\n        \\n            15.67\\n        \\n        \\n            15.40\\n        \\n        \\n            15.75\\n        \\n        \\n            -1.93\\n        \\n        \\n            \\n                -10.97%\\n            \\n        \\n        \\n            2\\n        \\n        \\n            13\\n        \\n        \\n            266.41%\\n        \\n    \\n\\n    \\n        \\n            130.00\\n        \\n        \\n            AAPL160701P00130000\\n        \\n        \\n            34.55\\n        \\n        \\n            34.25\\n        \\n        \\n            34.65\\n        \\n        \\n            -3.35\\n        \\n        \\n            \\n                -8.84%\\n            \\n        \\n        \\n            1\\n        \\n        \\n            1\\n        \\n        \\n            253.13%\\n        \\n    \\n\\n    \\n        \\n            135.00\\n        \\n        \\n            AAPL160701P00135000\\n        \\n        \\n            39.55\\n        \\n        \\n            39.25\\n        \\n        \\n            39.65\\n        \\n        \\n            0.00\\n        \\n        \\n            \\n                0.00%\\n            \\n        \\n        \\n            1\\n        \\n        \\n            0\\n        \\n        \\n            278.91%\\n        \\n    \\n\\n    \\n        \\n            140.00\\n        \\n        \\n            AAPL160701P00140000\\n        \\n        \\n            44.55\\n        \\n        \\n            44.25\\n        \\n        \\n            44.65\\n        \\n        \\n            -1.00\\n        \\n        \\n            \\n                -2.20%\\n            \\n        \\n        \\n            2\\n        \\n        \\n            0\\n        \\n        \\n            303.13%\\n        \\n    \\n\\n\\n                    \\n                    \\n                    \\n                    \\n                    \\n                \\n            \\n        \\n    \\n\\n\\n\\n            \\n        \\n    \\n\\n    \\n   \\n\\n\\n                    \\n\\n\\n                \\n\\n            \\n        \\n\\n\\n\\n    \\n\\n\\n        \\n(function (root) {\\n// -- Data --\\nroot.Af || (root.Af = {});\\nroot.Af.config || (root.Af.config = {});\\nroot.Af.config.transport || (root.Af.config.transport = {});\\nroot.Af.config.transport.xhr = \"\\\\u002F_td_charts_api\";\\nroot.YUI || (root.YUI = {});\\nroot.YUI.Env || (root.YUI.Env = {});\\nroot.YUI.Env.Af || (root.YUI.Env.Af = {});\\nroot.YUI.Env.Af.settings || (root.YUI.Env.Af.settings = {});\\nroot.YUI.Env.Af.settings.transport || (root.YUI.Env.Af.settings.transport = {});\\nroot.YUI.Env.Af.settings.transport.xhr = \"\\\\u002F_td_charts_api\";\\nroot.YUI.Env.Af.settings.beacon || (root.YUI.Env.Af.settings.beacon = {});\\nroot.YUI.Env.Af.settings.beacon.pathPrefix = \"\\\\u002F_td_charts_api\\\\u002Fbeacon\";\\nroot.app || (root.app = {});\\nroot.app.yui = {\"use\":function bootstrap() { var self = this, d = document, head = d.getElementsByTagName(\\'head\\')[0], ie = /MSIE/.test(navigator.userAgent), pending = 0, callback = [], args = arguments, config = typeof YUI_config != \"undefined\" ? YUI_config : {}; function flush() { var l = callback.length, i; if (!self.YUI && typeof YUI == \"undefined\") { throw new Error(\"YUI was not injected correctly!\"); } self.YUI = self.YUI || YUI; for (i = 0; i < l; i++) { callback.shift()(); } } function decrementRequestPending() { pending--; if (pending <= 0) { setTimeout(flush, 0); } else { load(); } } function createScriptNode(src) { var node = d.createElement(\\'script\\'); if (node.async) { node.async = false; } if (ie) { node.onreadystatechange = function () { if (/loaded|complete/.test(this.readyState)) { this.onreadystatechange = null; decrementRequestPending(); } }; } else { node.onload = node.onerror = decrementRequestPending; } node.setAttribute(\\'src\\', src); return node; } function load() { if (!config.seed) { throw new Error(\\'YUI_config.seed array is required.\\'); } var seed = config.seed, l = seed.length, i, node; pending = pending || seed.length; self._injected = true; for (i = 0; i < l; i++) { node = createScriptNode(seed.shift()); head.appendChild(node); if (node.async !== false) { break; } } } callback.push(function () { var i; if (!self._Y) { self.YUI.Env.core.push.apply(self.YUI.Env.core, config.extendedCore || []); self._Y = self.YUI(); self.use = self._Y.use; if (config.patches && config.patches.length) { for (i = 0; i < config.patches.length; i += 1) { config.patches[i](self._Y, self._Y.Env._loader); } } } self._Y.use.apply(self._Y, args); }); self.YUI = self.YUI || (typeof YUI != \"undefined\" ? YUI : null); if (!self.YUI && !self._injected) { load(); } else if (pending <= 0) { flush(); } return this; },\"ready\":function (callback) { this.use(function () { callback(); }); }};\\nroot.routeMap = {\"quote-details\":{\"path\":\"\\\\u002Fq\\\\u002F?\",\"keys\":[],\"regexp\":/^\\\\/q\\\\/?\\\\/?$/i,\"annotations\":{\"name\":\"quote-details\",\"aliases\":[\"quote-details\"]}},\"recent-quotes\":{\"path\":\"\\\\u002Fquotes\\\\u002F?\",\"keys\":[],\"regexp\":/^\\\\/quotes\\\\/?\\\\/?$/i,\"annotations\":{\"name\":\"recent-quotes\",\"aliases\":[\"recent-quotes\"]}},\"quote-chart\":{\"path\":\"\\\\u002Fchart\\\\u002F?\",\"keys\":[],\"regexp\":/^\\\\/chart\\\\/?\\\\/?$/i,\"annotations\":{\"name\":\"quote-chart\",\"aliases\":[\"quote-chart\"]}},\"desktop-chart\":{\"path\":\"\\\\u002Fecharts\\\\u002F?\",\"keys\":[],\"regexp\":/^\\\\/echarts\\\\/?\\\\/?$/i,\"annotations\":{\"name\":\"desktop-chart\",\"aliases\":[\"desktop-chart\"]}},\"desktop-chart-virgo\":{\"path\":\"\\\\u002Fecharts2\\\\u002F?\",\"keys\":[],\"regexp\":/^\\\\/echarts2\\\\/?\\\\/?$/i,\"annotations\":{\"name\":\"desktop-chart-virgo\",\"aliases\":[\"desktop-chart-virgo\"]}},\"options\":{\"path\":\"\\\\u002Fq\\\\u002Fop\\\\u002F?\",\"keys\":[],\"regexp\":/^\\\\/q\\\\/op\\\\/?\\\\/?$/i,\"annotations\":{\"name\":\"options\",\"aliases\":[\"options\"]}}};\\nroot.genUrl = function (routeName, context) {\\n        var route = routeMap[routeName],\\n            path, keys, i, len, key, param, regex;\\n\\n        if (!route) { return \\'\\'; }\\n\\n        path = route.path;\\n        keys = route.keys;\\n\\n        if (context && (len = keys.length)) {\\n            for (i = 0; i < len; i += 1) {\\n                key   = keys[i];\\n                param = key.name || key;\\n                regex = new RegExp(\\'[:*]\\' + param + \\'\\\\\\\\b\\');\\n                path  = path.replace(regex, context[param]);\\n            }\\n        }\\n\\n        // Replace missing params with empty strings.\\n        return path.replace(/([:*])([\\\\w\\\\-]+)?/g, \\'\\');\\n    };\\nroot.App || (root.App = {});\\nroot.App.Cache || (root.App.Cache = {});\\nroot.App.Cache.globals = {\"config\":{\"hosts\":{\"_default\":\"finance.yahoo.com\",\"production\":\"finance.yahoo.com\",\"staging\":\"stage.finance.yahoo.com\",\"functional.test\":\"qa1.finance.yahoo.com\",\"smoke.test\":\"int1.finance.yahoo.com\",\"development\":\"int1.finance.yahoo.com\"},\"dss\":{\"assetPath\":\"\\\\u002Fpv\\\\u002Fstatic\\\\u002Flib\\\\u002Fios-default-set_201312031214.js\",\"pn\":\"yahoo_finance_us_web\",\"secureAssetHost\":\"https:\\\\u002F\\\\u002Fs.yimg.com\",\"assetHost\":\"http:\\\\u002F\\\\u002Fl.yimg.com\",\"cookieName\":\"DSS\"},\"mrs\":{\"mrs_host\":\"mrs-ynews.mrs.o.yimg.com\",\"key\":\"mrs.ynews.crumbkey\",\"app_id\":\"ynews\"},\"title\":\"Yahoo Finance - Business Finance, Stock Market, Quotes, News\",\"crumbKey\":\"touchdown.crumbkey\",\"asset_combo\":true,\"asset_mode\":\"prod\",\"asset_filter\":\"min\",\"assets\":{\"js\":[{\"location\":\"bottom\",\"value\":\"https:\\\\u002F\\\\u002Fs.yimg.com\\\\u002Fos\\\\u002Fmit\\\\u002Fmedia\\\\u002Fm\\\\u002Fheader\\\\u002Fheader-uh3-finance-hardcoded-jsonblob-min-1583812.js\"}],\"css\":[\"css.master\",{\"location\":\"top\",\"value\":\"https:\\\\u002F\\\\u002Fs.yimg.com\\\\u002Fos\\\\u002Fmit\\\\u002Fmedia\\\\u002Fm\\\\u002Fquotes\\\\u002Fquotes-search-gs-smartphone-min-1680382.css\"},{\"location\":\"top\",\"value\":\"https:\\\\u002F\\\\u002Fs.yimg.com\\\\u002Fos\\\\u002Fstencil\\\\u002F3.1.0\\\\u002Fstyles-ltr.css\"},{\"location\":\"top\",\"value\":\"https:\\\\u002F\\\\u002Fs.yimg.com\\\\u002Fos\\\\u002Ffinance\\\\u002Fdd-icon\\\\u002F1.0.19\\\\u002Fyahoo-finance-icons.css\"}],\"options\":{\"inc_init_bottom\":\"0\",\"inc_rapid\":\"1\",\"rapid_version\":\"3.21\",\"yui_instance_location\":\"bottom\"}},\"cdn\":{\"comboBase\":\"https:\\\\u002F\\\\u002Fs.yimg.com\\\\u002Fzz\\\\u002Fcombo?\",\"comboSep\":\"&\",\"prefixMap\":{\"http:\\\\u002F\\\\u002Fl.yimg.com\\\\u002F\":\"\"},\"base\":\"http:\\\\u002F\\\\u002Fl.yimg.com\"},\"prefix_map\":{\"http:\\\\u002F\\\\u002Fl.yimg.com\\\\u002F\":\"\"},\"xhrPath\":\"_td_charts_api\",\"adsEnabled\":true,\"ads\":{\"position\":{\"LREC\":{\"w\":\"300\",\"h\":\"265\"},\"FB2-1\":{\"w\":\"198\",\"h\":\"60\"},\"FB2-2\":{\"w\":\"198\",\"h\":\"60\"},\"FB2-3\":{\"w\":\"198\",\"h\":\"60\"},\"FB2-4\":{\"w\":\"198\",\"h\":\"60\"},\"LDRP\":{\"w\":\"320\",\"h\":\"76\",\"metaSize\":true},\"WBTN\":{\"w\":\"120\",\"h\":\"60\"},\"WBTN-1\":{\"w\":\"120\",\"h\":\"60\"},\"FB2-0\":{\"w\":\"120\",\"h\":\"60\"},\"SKY\":{\"w\":\"160\",\"h\":\"600\"}}},\"spaceid\":\"2022773886\",\"customSpaceIds\":{\"currency\":\"2142178955\",\"mutualfund\":\"1197773430\"},\"urlSpaceId\":\"true\",\"urlSpaceIdMap\":{\"quotes\":\"980779717\",\"q\\\\u002Fop\":\"28951412\",\"q\":\"980779724\"},\"rapidSettings\":{\"webworker_file\":\"\\\\u002Frapid-worker.js\",\"client_only\":1,\"keys\":{\"version\":\"td app\",\"site\":\"mobile-web-quotes\"},\"ywa\":{\"project_id\":\"1000911397279\",\"document_group\":\"interactive-chart\",\"host\":\"y.analytics.yahoo.com\"},\"ywaMappingAction\":{\"click\":12,\"hvr\":115,\"rottn\":128,\"drag\":105},\"ywaMappingCf\":{\"_p\":20,\"ad\":58,\"authfb\":11,\"bpos\":24,\"camp\":54,\"cat\":25,\"code\":55,\"cpos\":21,\"ct\":23,\"dcl\":26,\"dir\":108,\"domContentLoadedEventEnd\":44,\"elm\":56,\"elmt\":57,\"f\":40,\"ft\":51,\"grpt\":109,\"ilc\":39,\"itc\":111,\"loadEventEnd\":45,\"ltxt\":17,\"mpos\":110,\"mrkt\":12,\"pcp\":67,\"pct\":48,\"pd\":46,\"pkgt\":22,\"pos\":20,\"prov\":114,\"psp\":72,\"pst\":68,\"pstcat\":47,\"pt\":13,\"rescode\":27,\"responseEnd\":43,\"responseStart\":41,\"rspns\":107,\"sca\":53,\"sec\":18,\"site\":42,\"slk\":19,\"sort\":28,\"t1\":121,\"t2\":122,\"t3\":123,\"t4\":124,\"t5\":125,\"t6\":126,\"t7\":127,\"t8\":128,\"t9\":129,\"tar\":113,\"test\":14,\"v\":52,\"ver\":49,\"x\":50},\"tracked_mods\":[\"yfi_investing_nav\",\"chart-details\"],\"nofollow_class\":[]},\"property\":\"finance\",\"uh\":{\"experience\":\"GS\"},\"loginRedirectHost\":\"finance.yahoo.com\",\"default_ticker\":\"YHOO\",\"default_market_tickers\":[\"^DJI\",\"^IXIC\"],\"layout\":\"options\",\"packageName\":\"finance-td-app-mobile-web\",\"customActions\":{\"before\":[function (req, res, data, callback) {\\n    var header,\\n        config = req.config(),\\n        path = req.path;\\n\\n    if (req.i13n && req.i13n.stampNonClassified) {\\n        //console.log(\\'=====> [universal_header] page stamped: \\' + req.i13n.isStamped() + \\' with spaceid \\' + req.i13n.getSpaceid());\\n        req.i13n.stampNonClassified(config.spaceid);\\n    }\\n    config.uh = config.uh || {};\\n    config.uh.experience = config.uh.experience || \\'uh3\\';\\n\\n    req.query.experience = config.uh.experience;\\n    req.query.property = \\'finance\\';\\n    header = finUH.getMarkup(req);\\n\\n    res.locals = res.locals || {};\\n\\n    if (header.sidebar) {\\n        res.locals.sidebar_css = header.sidebar.uh_css;\\n        res.locals.sidebar_js = header.sidebar.uh_js;\\n        data.sidebar_markup = header.sidebar.uh_markup;\\n    }\\n\\n    res.locals.uh_css = header.uh_css;\\n    res.locals.uh_js = header.uh_js;\\n    data.uh_markup = header.uh_markup;\\n    //TODO - localize these strings\\n    if (path && path.indexOf(\\'op\\') > -1) {\\n        res.locals.page_title = parseSymbol(req.query.s) + \" Option Chain | Yahoo! Inc. Stock - Yahoo! Finance\";\\n    } else if (path && ((path.indexOf(\\'echarts\\') > -1) || (path.indexOf(\\'q\\') > -1))) {\\n        res.locals.page_title = parseSymbol(req.query.s) + \" Interactive Stock Chart | Yahoo! Inc. Stock - Yahoo! Finance\";\\n    } else {\\n        res.locals.page_title = config.title;\\n    }\\n    callback();\\n},function (req, res, data, next) {\\n    /* this would invoke the ESI plugin on YTS */\\n    res.parentRes.set(\\'X-Esi\\', \\'1\\');\\n\\n    var hosts = req.config().hosts,\\n        hostToSet = hosts._default;\\n\\n    Object.keys(hosts).some(function (host) {\\n        if (req.headers.host.indexOf(host) >= 0) {\\n            hostToSet = hosts[host];\\n            return true;\\n        }\\n    });\\n\\n    /* saving request host server name for esi end point */\\n    res.locals.requesturl = {\\n        host: hostToSet\\n    };\\n\\n     /* saving header x-yahoo-request-url for Darla configuration */\\n    res.locals.requestxhosturl = req.headers[\\'x-env-host\\'] ? {host: req.headers[\\'x-env-host\\']} : {host: hostToSet};\\n\\n    //urlPath is used for ./node_modules/assembler/node_modules/dust-helpers/lib/util.js::getSpaceId()\\n    //see: https://git.corp.yahoo.com/sports/sportacular-web\\n    req.context.urlPath = req.path;\\n\\n    // console.log(JSON.stringify({\\n    //     requesturl: res.locals.requesturl.host,\\n    //     requestxhosturl: res.locals.requestxhosturl,\\n    //     urlPath: req.context.urlPath\\n    // }));\\n\\n    next();\\n},function (req, res, data, callback) {\\n\\n    res.locals = res.locals || {};\\n    if (req.query && req.query.s) {\\n        res.locals.quote = req.query.s;\\n    }\\n\\n    callback();\\n},function (req, res, data, callback) {\\n    var params,\\n        ticker,\\n        config, i;\\n\\n    req = req || {};\\n    req.params = req.params || {};\\n\\n    config = req.config() || {};\\n\\n    res.locals.bucket = req.getBucket() || \\'\\';\\n\\n    data = data || {};\\n\\n    params = req.params || {};\\n    ticker = (params.ticker || (req.query && req.query.s) || \\'YHOO\\').toUpperCase();\\n    ticker = ticker.split(\\'+\\')[0];//Split on + if it\\'s in the ticker\\n    ticker = ticker.split(\\' \\')[0];//Split on space if it\\'s in the ticker\\n\\n    params.tickers = [];\\n    if (config.default_market_tickers) {\\n        params.tickers = params.tickers.concat(config.default_market_tickers);\\n    }\\n    params.tickers.push(ticker);\\n    params.tickers = params.tickers.join(\\',\\');\\n    params.format = \\'inflated\\';\\n\\n    //Move this into a new action\\n    res.locals.isTablet = config.isTablet;\\n\\n    quoteStore.read(\\'finance_quote\\', params, req, function (err, qData) {\\n        if (!err && qData.quotes && qData.quotes.length > 0) {\\n            res.locals.quoteData = qData;\\n            for (i = 0; i < qData.quotes.length; i = i +  1) {\\n                if (qData.quotes[i].symbol.toUpperCase() === ticker.toUpperCase()) {\\n                    params.ticker_securityType = qData.quotes[i].type;\\n                }\\n            }\\n            params.tickers = ticker;\\n        }\\n        callback();\\n    });\\n},function (req, res, data, callback) {\\n\\n    marketTimeStore.read(\\'markettime\\', {}, req, function (err, data) {\\n        if (data && data.index) {\\n            res.parentRes.locals.markettime = data.index.markettime;\\n        }\\n        callback();\\n    });\\n}],\"after\":[]}},\"context\":{\"authed\":\"0\",\"ynet\":\"0\",\"ssl\":\"0\",\"spdy\":\"0\",\"ytee\":\"0\",\"mode\":\"normal\",\"bucket\":\"\",\"colo\":\"gq1\",\"device\":\"desktop\",\"bot\":\"1\",\"environment\":\"prod\",\"lang\":\"en-US\",\"partner\":\"none\",\"site\":\"finance\",\"region\":\"US\",\"intl\":\"us\",\"tz\":\"America\\\\u002FLos_Angeles\",\"edgepipeEnabled\":false,\"urlPath\":\"\\\\u002Fq\\\\u002Fop\"},\"intl\":{\"locales\":\"en-US\"},\"user\":{\"crumb\":\"Qq4OCqUfEv6\",\"firstName\":null}};\\nroot.YUI_config = {\"version\":\"3.17.2\",\"base\":\"http:\\\\u002F\\\\u002Fyui.yahooapis.com\\\\u002F3.17.2\\\\u002F\",\"comboBase\":\"http:\\\\u002F\\\\u002Fl.yimg.com\\\\u002Fzz\\\\u002Fcombo?\",\"comboSep\":\"&\",\"root\":\"yui:3.17.2\\\\u002F\",\"filter\":\"min\",\"logLevel\":\"error\",\"combine\":true,\"patches\":[function patchLangBundlesRequires(Y, loader) {\\n    var getRequires = loader.getRequires;\\n    loader.getRequires = function (mod) {\\n        var i, j, m, name, mods, loadDefaultBundle,\\n            locales = Y.config.lang || [],\\n            r = getRequires.apply(this, arguments);\\n        // expanding requirements with optional requires\\n        if (mod.langBundles && !mod.langBundlesExpanded) {\\n            mod.langBundlesExpanded = [];\\n            locales = typeof locales === \\'string\\' ? [locales] : locales.concat();\\n            for (i = 0; i < mod.langBundles.length; i += 1) {\\n                mods = [];\\n                loadDefaultBundle = false;\\n                name = mod.group + \\'-lang-\\' + mod.langBundles[i];\\n                for (j = 0; j < locales.length; j += 1) {\\n                    m = this.getModule(name + \\'_\\' + locales[j].toLowerCase());\\n                    if (m) {\\n                        mods.push(m);\\n                    } else {\\n                        // if one of the requested locales is missing,\\n                        // the default lang should be fetched\\n                        loadDefaultBundle = true;\\n                    }\\n                }\\n                if (!mods.length || loadDefaultBundle) {\\n                    // falling back to the default lang bundle when needed\\n                    m = this.getModule(name);\\n                    if (m) {\\n                        mods.push(m);\\n                    }\\n                }\\n                // adding requirements for each lang bundle\\n                // (duplications are not a problem since they will be deduped)\\n                for (j = 0; j < mods.length; j += 1) {\\n                    mod.langBundlesExpanded = mod.langBundlesExpanded.concat(this.getRequires(mods[j]), [mods[j].name]);\\n                }\\n            }\\n        }\\n        return mod.langBundlesExpanded && mod.langBundlesExpanded.length ?\\n                [].concat(mod.langBundlesExpanded, r) : r;\\n    };\\n}],\"modules\":{\"IntlPolyfill\":{\"fullpath\":\"https:\\\\u002F\\\\u002Fs.yimg.com\\\\u002Fzz\\\\u002Fcombo?yui:platform\\\\u002Fintl\\\\u002F0.1.4\\\\u002FIntl.min.js&yui:platform\\\\u002Fintl\\\\u002F0.1.4\\\\u002Flocale-data\\\\u002Fjsonp\\\\u002F{lang}.js\",\"condition\":{\"name\":\"IntlPolyfill\",\"trigger\":\"intl-messageformat\",\"test\":function (Y) {\\n                        return !Y.config.global.Intl;\\n                    },\"when\":\"before\"},\"configFn\":function (mod) {\\n                    var lang = \\'en-US\\';\\n                    if (window.YUI_config && window.YUI_config.lang && window.IntlAvailableLangs && window.IntlAvailableLangs[window.YUI_config.lang]) {\\n                        lang = window.YUI_config.lang;\\n                    }\\n                    mod.fullpath = mod.fullpath.replace(\\'{lang}\\', lang);\\n                    return true;\\n                }}},\"groups\":{\"finance-td-app-mobile-web\":{\"base\":\"http:\\\\u002F\\\\u002Fl.yimg.com\\\\u002Fos\\\\u002Fmit\\\\u002Ftd\\\\u002Ffinance-td-app-mobile-web-2.0.405\\\\u002F\",\"root\":\"os\\\\u002Fmit\\\\u002Ftd\\\\u002Ffinance-td-app-mobile-web-2.0.405\\\\u002F\",\"combine\":true,\"filter\":\"min\",\"comboBase\":\"http:\\\\u002F\\\\u002Fl.yimg.com\\\\u002Fzz\\\\u002Fcombo?\",\"comboSep\":\"&\"},\"ape-af\":{\"base\":\"http:\\\\u002F\\\\u002Fl.yimg.com\\\\u002Fos\\\\u002Fmit\\\\u002Ftd\\\\u002Fape-af-0.0.327\\\\u002F\",\"root\":\"os\\\\u002Fmit\\\\u002Ftd\\\\u002Fape-af-0.0.327\\\\u002F\",\"combine\":true,\"filter\":\"min\",\"comboBase\":\"http:\\\\u002F\\\\u002Fl.yimg.com\\\\u002Fzz\\\\u002Fcombo?\",\"comboSep\":\"&\"},\"mjata\":{\"base\":\"http:\\\\u002F\\\\u002Fl.yimg.com\\\\u002Fos\\\\u002Fmit\\\\u002Ftd\\\\u002Fmjata-0.4.35\\\\u002F\",\"root\":\"os\\\\u002Fmit\\\\u002Ftd\\\\u002Fmjata-0.4.35\\\\u002F\",\"combine\":true,\"filter\":\"min\",\"comboBase\":\"http:\\\\u002F\\\\u002Fl.yimg.com\\\\u002Fzz\\\\u002Fcombo?\",\"comboSep\":\"&\"},\"ape-applet\":{\"base\":\"http:\\\\u002F\\\\u002Fl.yimg.com\\\\u002Fos\\\\u002Fmit\\\\u002Ftd\\\\u002Fape-applet-0.0.207\\\\u002F\",\"root\":\"os\\\\u002Fmit\\\\u002Ftd\\\\u002Fape-applet-0.0.207\\\\u002F\",\"combine\":true,\"filter\":\"min\",\"comboBase\":\"http:\\\\u002F\\\\u002Fl.yimg.com\\\\u002Fzz\\\\u002Fcombo?\",\"comboSep\":\"&\"},\"applet-server\":{\"base\":\"http:\\\\u002F\\\\u002Fl.yimg.com\\\\u002Fos\\\\u002Fmit\\\\u002Ftd\\\\u002Fapplet-server-0.2.77\\\\u002F\",\"root\":\"os\\\\u002Fmit\\\\u002Ftd\\\\u002Fapplet-server-0.2.77\\\\u002F\",\"combine\":true,\"filter\":\"min\",\"comboBase\":\"http:\\\\u002F\\\\u002Fl.yimg.com\\\\u002Fzz\\\\u002Fcombo?\",\"comboSep\":\"&\"},\"td-api\":{\"base\":\"http:\\\\u002F\\\\u002Fl.yimg.com\\\\u002Fos\\\\u002Fmit\\\\u002Ftd\\\\u002Ftd-api-0.1.89\\\\u002F\",\"root\":\"os\\\\u002Fmit\\\\u002Ftd\\\\u002Ftd-api-0.1.89\\\\u002F\",\"combine\":true,\"filter\":\"min\",\"comboBase\":\"http:\\\\u002F\\\\u002Fl.yimg.com\\\\u002Fzz\\\\u002Fcombo?\",\"comboSep\":\"&\"},\"finance-streamer\":{\"base\":\"http:\\\\u002F\\\\u002Fl.yimg.com\\\\u002Fos\\\\u002Fmit\\\\u002Ftd\\\\u002Ffinance-streamer-0.0.16\\\\u002F\",\"root\":\"os\\\\u002Fmit\\\\u002Ftd\\\\u002Ffinance-streamer-0.0.16\\\\u002F\",\"combine\":true,\"filter\":\"min\",\"comboBase\":\"http:\\\\u002F\\\\u002Fl.yimg.com\\\\u002Fzz\\\\u002Fcombo?\",\"comboSep\":\"&\"},\"stencil\":{\"base\":\"http:\\\\u002F\\\\u002Fl.yimg.com\\\\u002Fos\\\\u002Fmit\\\\u002Ftd\\\\u002Fstencil-0.1.306\\\\u002F\",\"root\":\"os\\\\u002Fmit\\\\u002Ftd\\\\u002Fstencil-0.1.306\\\\u002F\",\"combine\":true,\"filter\":\"min\",\"comboBase\":\"http:\\\\u002F\\\\u002Fl.yimg.com\\\\u002Fzz\\\\u002Fcombo?\",\"comboSep\":\"&\"},\"td-applet-ads\":{\"base\":\"http:\\\\u002F\\\\u002Fl.yimg.com\\\\u002Fos\\\\u002Fmit\\\\u002Ftd\\\\u002Ftd-applet-ads-0.1.575\\\\u002F\",\"root\":\"os\\\\u002Fmit\\\\u002Ftd\\\\u002Ftd-applet-ads-0.1.575\\\\u002F\",\"combine\":true,\"filter\":\"min\",\"comboBase\":\"http:\\\\u002F\\\\u002Fl.yimg.com\\\\u002Fzz\\\\u002Fcombo?\",\"comboSep\":\"&\"},\"td-applet-charts\":{\"base\":\"http:\\\\u002F\\\\u002Fl.yimg.com\\\\u002Fos\\\\u002Fmit\\\\u002Ftd\\\\u002Ftd-applet-charts-0.3.1\\\\u002F\",\"root\":\"os\\\\u002Fmit\\\\u002Ftd\\\\u002Ftd-applet-charts-0.3.1\\\\u002F\",\"combine\":true,\"filter\":\"min\",\"comboBase\":\"http:\\\\u002F\\\\u002Fl.yimg.com\\\\u002Fzz\\\\u002Fcombo?\",\"comboSep\":\"&\"},\"finance-yui-scripts\":{\"base\":\"http:\\\\u002F\\\\u002Fl.yimg.com\\\\u002Fos\\\\u002Fmit\\\\u002Ftd\\\\u002Ffinance-yui-scripts-0.0.24\\\\u002F\",\"root\":\"os\\\\u002Fmit\\\\u002Ftd\\\\u002Ffinance-yui-scripts-0.0.24\\\\u002F\",\"combine\":true,\"filter\":\"min\",\"comboBase\":\"http:\\\\u002F\\\\u002Fl.yimg.com\\\\u002Fzz\\\\u002Fcombo?\",\"comboSep\":\"&\"},\"td-lib-social\":{\"base\":\"http:\\\\u002F\\\\u002Fl.yimg.com\\\\u002Fos\\\\u002Fmit\\\\u002Ftd\\\\u002Ftd-lib-social-0.1.207\\\\u002F\",\"root\":\"os\\\\u002Fmit\\\\u002Ftd\\\\u002Ftd-lib-social-0.1.207\\\\u002F\",\"combine\":true,\"filter\":\"min\",\"comboBase\":\"http:\\\\u002F\\\\u002Fl.yimg.com\\\\u002Fzz\\\\u002Fcombo?\",\"comboSep\":\"&\"},\"td-applet-mw-quote-details\":{\"base\":\"http:\\\\u002F\\\\u002Fl.yimg.com\\\\u002Fos\\\\u002Fmit\\\\u002Ftd\\\\u002Ftd-applet-mw-quote-details-2.3.161\\\\u002F\",\"root\":\"os\\\\u002Fmit\\\\u002Ftd\\\\u002Ftd-applet-mw-quote-details-2.3.161\\\\u002F\",\"combine\":true,\"filter\":\"min\",\"comboBase\":\"http:\\\\u002F\\\\u002Fl.yimg.com\\\\u002Fzz\\\\u002Fcombo?\",\"comboSep\":\"&\"},\"td-applet-mw-quote-news\":{\"base\":\"http:\\\\u002F\\\\u002Fl.yimg.com\\\\u002Fos\\\\u002Fmit\\\\u002Ftd\\\\u002Ftd-applet-mw-quote-news-2.3.224\\\\u002F\",\"root\":\"os\\\\u002Fmit\\\\u002Ftd\\\\u002Ftd-applet-mw-quote-news-2.3.224\\\\u002F\",\"combine\":true,\"filter\":\"min\",\"comboBase\":\"http:\\\\u002F\\\\u002Fl.yimg.com\\\\u002Fzz\\\\u002Fcombo?\",\"comboSep\":\"&\"},\"td-applet-mw-quote-search\":{\"base\":\"http:\\\\u002F\\\\u002Fl.yimg.com\\\\u002Fos\\\\u002Fmit\\\\u002Ftd\\\\u002Ftd-applet-mw-quote-search-1.2.67\\\\u002F\",\"root\":\"os\\\\u002Fmit\\\\u002Ftd\\\\u002Ftd-applet-mw-quote-search-1.2.67\\\\u002F\",\"combine\":true,\"filter\":\"min\",\"comboBase\":\"http:\\\\u002F\\\\u002Fl.yimg.com\\\\u002Fzz\\\\u002Fcombo?\",\"comboSep\":\"&\"},\"td-applet-mw-quotes\":{\"base\":\"http:\\\\u002F\\\\u002Fl.yimg.com\\\\u002Fos\\\\u002Fmit\\\\u002Ftd\\\\u002Ftd-applet-mw-quotes-4.2.12\\\\u002F\",\"root\":\"os\\\\u002Fmit\\\\u002Ftd\\\\u002Ftd-applet-mw-quotes-4.2.12\\\\u002F\",\"combine\":true,\"filter\":\"min\",\"comboBase\":\"http:\\\\u002F\\\\u002Fl.yimg.com\\\\u002Fzz\\\\u002Fcombo?\",\"comboSep\":\"&\"},\"td-applet-options-table\":{\"base\":\"http:\\\\u002F\\\\u002Fl.yimg.com\\\\u002Fos\\\\u002Fmit\\\\u002Ftd\\\\u002Ftd-applet-options-table-0.1.193\\\\u002F\",\"root\":\"os\\\\u002Fmit\\\\u002Ftd\\\\u002Ftd-applet-options-table-0.1.193\\\\u002F\",\"combine\":true,\"filter\":\"min\",\"comboBase\":\"http:\\\\u002F\\\\u002Fl.yimg.com\\\\u002Fzz\\\\u002Fcombo?\",\"comboSep\":\"&\"},\"td-finance-uh\":{\"base\":\"http:\\\\u002F\\\\u002Fl.yimg.com\\\\u002Fos\\\\u002Fmit\\\\u002Ftd\\\\u002Ftd-finance-uh-0.1.2\\\\u002F\",\"root\":\"os\\\\u002Fmit\\\\u002Ftd\\\\u002Ftd-finance-uh-0.1.2\\\\u002F\",\"combine\":true,\"filter\":\"min\",\"comboBase\":\"http:\\\\u002F\\\\u002Fl.yimg.com\\\\u002Fzz\\\\u002Fcombo?\",\"comboSep\":\"&\"},\"assembler\":{\"base\":\"http:\\\\u002F\\\\u002Fl.yimg.com\\\\u002Fos\\\\u002Fmit\\\\u002Ftd\\\\u002Fassembler-0.3.100\\\\u002F\",\"root\":\"os\\\\u002Fmit\\\\u002Ftd\\\\u002Fassembler-0.3.100\\\\u002F\",\"combine\":true,\"filter\":\"min\",\"comboBase\":\"http:\\\\u002F\\\\u002Fl.yimg.com\\\\u002Fzz\\\\u002Fcombo?\",\"comboSep\":\"&\"},\"td-dev-info\":{\"base\":\"http:\\\\u002F\\\\u002Fl.yimg.com\\\\u002Fos\\\\u002Fmit\\\\u002Ftd\\\\u002Ftd-dev-info-0.0.30\\\\u002F\",\"root\":\"os\\\\u002Fmit\\\\u002Ftd\\\\u002Ftd-dev-info-0.0.30\\\\u002F\",\"combine\":true,\"filter\":\"min\",\"comboBase\":\"http:\\\\u002F\\\\u002Fl.yimg.com\\\\u002Fzz\\\\u002Fcombo?\",\"comboSep\":\"&\"},\"dust-helpers\":{\"base\":\"http:\\\\u002F\\\\u002Fl.yimg.com\\\\u002Fos\\\\u002Fmit\\\\u002Ftd\\\\u002Fdust-helpers-0.0.144\\\\u002F\",\"root\":\"os\\\\u002Fmit\\\\u002Ftd\\\\u002Fdust-helpers-0.0.144\\\\u002F\",\"combine\":true,\"filter\":\"min\",\"comboBase\":\"http:\\\\u002F\\\\u002Fl.yimg.com\\\\u002Fzz\\\\u002Fcombo?\",\"comboSep\":\"&\"}},\"seed\":[\"yui\",\"loader-finance-td-app-mobile-web\",\"loader-ape-af\",\"loader-mjata\",\"loader-ape-applet\",\"loader-applet-server\",\"loader-td-api\",\"loader-finance-streamer\",\"loader-stencil\",\"loader-td-applet-ads\",\"loader-td-applet-charts\",\"loader-finance-yui-scripts\",\"loader-td-lib-social\",\"loader-td-applet-mw-quote-details\",\"loader-td-applet-mw-quote-news\",\"loader-td-applet-mw-quote-search\",\"loader-td-applet-mw-quotes\",\"loader-td-applet-options-table\",\"loader-td-finance-uh\",\"loader-assembler\",\"loader-td-dev-info\",\"loader-dust-helpers\"],\"extendedCore\":[\"loader-finance-td-app-mobile-web\",\"loader-ape-af\",\"loader-mjata\",\"loader-ape-applet\",\"loader-applet-server\",\"loader-td-api\",\"loader-finance-streamer\",\"loader-stencil\",\"loader-td-applet-ads\",\"loader-td-applet-charts\",\"loader-finance-yui-scripts\",\"loader-td-lib-social\",\"loader-td-applet-mw-quote-details\",\"loader-td-applet-mw-quote-news\",\"loader-td-applet-mw-quote-search\",\"loader-td-applet-mw-quotes\",\"loader-td-applet-options-table\",\"loader-td-finance-uh\",\"loader-assembler\",\"loader-td-dev-info\",\"loader-dust-helpers\"]};\\nroot.YUI_config || (root.YUI_config = {});\\nroot.YUI_config.seed = [\"http:\\\\u002F\\\\u002Fl.yimg.com\\\\u002Fzz\\\\u002Fcombo?yui:3.17.2\\\\u002Fyui\\\\u002Fyui-min.js&os\\\\u002Fmit\\\\u002Ftd\\\\u002Ffinance-td-app-mobile-web-2.0.405\\\\u002Floader-finance-td-app-mobile-web\\\\u002Floader-finance-td-app-mobile-web-min.js&os\\\\u002Fmit\\\\u002Ftd\\\\u002Fape-af-0.0.327\\\\u002Floader-ape-af\\\\u002Floader-ape-af-min.js&os\\\\u002Fmit\\\\u002Ftd\\\\u002Fmjata-0.4.35\\\\u002Floader-mjata\\\\u002Floader-mjata-min.js&os\\\\u002Fmit\\\\u002Ftd\\\\u002Fape-applet-0.0.207\\\\u002Floader-ape-applet\\\\u002Floader-ape-applet-min.js&os\\\\u002Fmit\\\\u002Ftd\\\\u002Fapplet-server-0.2.77\\\\u002Floader-applet-server\\\\u002Floader-applet-server-min.js&os\\\\u002Fmit\\\\u002Ftd\\\\u002Ftd-api-0.1.89\\\\u002Floader-td-api\\\\u002Floader-td-api-min.js&os\\\\u002Fmit\\\\u002Ftd\\\\u002Ffinance-streamer-0.0.16\\\\u002Floader-finance-streamer\\\\u002Floader-finance-streamer-min.js&os\\\\u002Fmit\\\\u002Ftd\\\\u002Fstencil-0.1.306\\\\u002Floader-stencil\\\\u002Floader-stencil-min.js&os\\\\u002Fmit\\\\u002Ftd\\\\u002Ftd-applet-ads-0.1.575\\\\u002Floader-td-applet-ads\\\\u002Floader-td-applet-ads-min.js&os\\\\u002Fmit\\\\u002Ftd\\\\u002Ftd-applet-charts-0.3.1\\\\u002Floader-td-applet-charts\\\\u002Floader-td-applet-charts-min.js&os\\\\u002Fmit\\\\u002Ftd\\\\u002Ffinance-yui-scripts-0.0.24\\\\u002Floader-finance-yui-scripts\\\\u002Floader-finance-yui-scripts-min.js&os\\\\u002Fmit\\\\u002Ftd\\\\u002Ftd-lib-social-0.1.207\\\\u002Floader-td-lib-social\\\\u002Floader-td-lib-social-min.js&os\\\\u002Fmit\\\\u002Ftd\\\\u002Ftd-applet-mw-quote-details-2.3.161\\\\u002Floader-td-applet-mw-quote-details\\\\u002Floader-td-applet-mw-quote-details-min.js&os\\\\u002Fmit\\\\u002Ftd\\\\u002Ftd-applet-mw-quote-news-2.3.224\\\\u002Floader-td-applet-mw-quote-news\\\\u002Floader-td-applet-mw-quote-news-min.js&os\\\\u002Fmit\\\\u002Ftd\\\\u002Ftd-applet-mw-quote-search-1.2.67\\\\u002Floader-td-applet-mw-quote-search\\\\u002Floader-td-applet-mw-quote-search-min.js&os\\\\u002Fmit\\\\u002Ftd\\\\u002Ftd-applet-mw-quotes-4.2.12\\\\u002Floader-td-applet-mw-quotes\\\\u002Floader-td-applet-mw-quotes-min.js&os\\\\u002Fmit\\\\u002Ftd\\\\u002Ftd-applet-options-table-0.1.193\\\\u002Floader-td-applet-options-table\\\\u002Floader-td-applet-options-table-min.js&os\\\\u002Fmit\\\\u002Ftd\\\\u002Ftd-finance-uh-0.1.2\\\\u002Floader-td-finance-uh\\\\u002Floader-td-finance-uh-min.js&os\\\\u002Fmit\\\\u002Ftd\\\\u002Fassembler-0.3.100\\\\u002Floader-assembler\\\\u002Floader-assembler-min.js&os\\\\u002Fmit\\\\u002Ftd\\\\u002Ftd-dev-info-0.0.30\\\\u002Floader-td-dev-info\\\\u002Floader-td-dev-info-min.js&os\\\\u002Fmit\\\\u002Ftd\\\\u002Fdust-helpers-0.0.144\\\\u002Floader-dust-helpers\\\\u002Floader-dust-helpers-min.js\"];\\nroot.YUI_config.lang = \"en-US\";\\n}(this));\\n\\n\\n        \\n            \\n\\n\\n\\n(function (root) {\\n// -- Data --\\nroot.Af || (root.Af = {});\\nroot.Af.config || (root.Af.config = {});\\nroot.Af.config.transport || (root.Af.config.transport = {});\\nroot.Af.config.transport.xhr = \"\\\\u002F_td_charts_api\";\\nroot.YUI || (root.YUI = {});\\nroot.YUI.Env || (root.YUI.Env = {});\\nroot.YUI.Env.Af || (root.YUI.Env.Af = {});\\nroot.YUI.Env.Af.settings || (root.YUI.Env.Af.settings = {});\\nroot.YUI.Env.Af.settings.transport || (root.YUI.Env.Af.settings.transport = {});\\nroot.YUI.Env.Af.settings.transport.xhr = \"\\\\u002F_td_charts_api\";\\nroot.YUI.Env.Af.settings.beacon || (root.YUI.Env.Af.settings.beacon = {});\\nroot.YUI.Env.Af.settings.beacon.pathPrefix = \"\\\\u002F_td_charts_api\\\\u002Fbeacon\";\\nroot.app || (root.app = {});\\nroot.app.yui = {\"use\":function bootstrap() { var self = this, d = document, head = d.getElementsByTagName(\\'head\\')[0], ie = /MSIE/.test(navigator.userAgent), pending = 0, callback = [], args = arguments, config = typeof YUI_config != \"undefined\" ? YUI_config : {}; function flush() { var l = callback.length, i; if (!self.YUI && typeof YUI == \"undefined\") { throw new Error(\"YUI was not injected correctly!\"); } self.YUI = self.YUI || YUI; for (i = 0; i < l; i++) { callback.shift()(); } } function decrementRequestPending() { pending--; if (pending <= 0) { setTimeout(flush, 0); } else { load(); } } function createScriptNode(src) { var node = d.createElement(\\'script\\'); if (node.async) { node.async = false; } if (ie) { node.onreadystatechange = function () { if (/loaded|complete/.test(this.readyState)) { this.onreadystatechange = null; decrementRequestPending(); } }; } else { node.onload = node.onerror = decrementRequestPending; } node.setAttribute(\\'src\\', src); return node; } function load() { if (!config.seed) { throw new Error(\\'YUI_config.seed array is required.\\'); } var seed = config.seed, l = seed.length, i, node; pending = pending || seed.length; self._injected = true; for (i = 0; i < l; i++) { node = createScriptNode(seed.shift()); head.appendChild(node); if (node.async !== false) { break; } } } callback.push(function () { var i; if (!self._Y) { self.YUI.Env.core.push.apply(self.YUI.Env.core, config.extendedCore || []); self._Y = self.YUI(); self.use = self._Y.use; if (config.patches && config.patches.length) { for (i = 0; i < config.patches.length; i += 1) { config.patches[i](self._Y, self._Y.Env._loader); } } } self._Y.use.apply(self._Y, args); }); self.YUI = self.YUI || (typeof YUI != \"undefined\" ? YUI : null); if (!self.YUI && !self._injected) { load(); } else if (pending <= 0) { flush(); } return this; },\"ready\":function (callback) { this.use(function () { callback(); }); }};\\nroot.routeMap = {\"quote-details\":{\"path\":\"\\\\u002Fq\\\\u002F?\",\"keys\":[],\"regexp\":/^\\\\/q\\\\/?\\\\/?$/i,\"annotations\":{\"name\":\"quote-details\",\"aliases\":[\"quote-details\"]}},\"recent-quotes\":{\"path\":\"\\\\u002Fquotes\\\\u002F?\",\"keys\":[],\"regexp\":/^\\\\/quotes\\\\/?\\\\/?$/i,\"annotations\":{\"name\":\"recent-quotes\",\"aliases\":[\"recent-quotes\"]}},\"quote-chart\":{\"path\":\"\\\\u002Fchart\\\\u002F?\",\"keys\":[],\"regexp\":/^\\\\/chart\\\\/?\\\\/?$/i,\"annotations\":{\"name\":\"quote-chart\",\"aliases\":[\"quote-chart\"]}},\"desktop-chart\":{\"path\":\"\\\\u002Fecharts\\\\u002F?\",\"keys\":[],\"regexp\":/^\\\\/echarts\\\\/?\\\\/?$/i,\"annotations\":{\"name\":\"desktop-chart\",\"aliases\":[\"desktop-chart\"]}},\"desktop-chart-virgo\":{\"path\":\"\\\\u002Fecharts2\\\\u002F?\",\"keys\":[],\"regexp\":/^\\\\/echarts2\\\\/?\\\\/?$/i,\"annotations\":{\"name\":\"desktop-chart-virgo\",\"aliases\":[\"desktop-chart-virgo\"]}},\"options\":{\"path\":\"\\\\u002Fq\\\\u002Fop\\\\u002F?\",\"keys\":[],\"regexp\":/^\\\\/q\\\\/op\\\\/?\\\\/?$/i,\"annotations\":{\"name\":\"options\",\"aliases\":[\"options\"]}}};\\nroot.genUrl = function (routeName, context) {\\n        var route = routeMap[routeName],\\n            path, keys, i, len, key, param, regex;\\n\\n        if (!route) { return \\'\\'; }\\n\\n        path = route.path;\\n        keys = route.keys;\\n\\n        if (context && (len = keys.length)) {\\n            for (i = 0; i < len; i += 1) {\\n                key   = keys[i];\\n                param = key.name || key;\\n                regex = new RegExp(\\'[:*]\\' + param + \\'\\\\\\\\b\\');\\n                path  = path.replace(regex, context[param]);\\n            }\\n        }\\n\\n        // Replace missing params with empty strings.\\n        return path.replace(/([:*])([\\\\w\\\\-]+)?/g, \\'\\');\\n    };\\nroot.App || (root.App = {});\\nroot.App.Cache || (root.App.Cache = {});\\nroot.App.Cache.globals = {\"config\":{\"hosts\":{\"_default\":\"finance.yahoo.com\",\"production\":\"finance.yahoo.com\",\"staging\":\"stage.finance.yahoo.com\",\"functional.test\":\"qa1.finance.yahoo.com\",\"smoke.test\":\"int1.finance.yahoo.com\",\"development\":\"int1.finance.yahoo.com\"},\"dss\":{\"assetPath\":\"\\\\u002Fpv\\\\u002Fstatic\\\\u002Flib\\\\u002Fios-default-set_201312031214.js\",\"pn\":\"yahoo_finance_us_web\",\"secureAssetHost\":\"https:\\\\u002F\\\\u002Fs.yimg.com\",\"assetHost\":\"http:\\\\u002F\\\\u002Fl.yimg.com\",\"cookieName\":\"DSS\"},\"mrs\":{\"mrs_host\":\"mrs-ynews.mrs.o.yimg.com\",\"key\":\"mrs.ynews.crumbkey\",\"app_id\":\"ynews\"},\"title\":\"Yahoo Finance - Business Finance, Stock Market, Quotes, News\",\"crumbKey\":\"touchdown.crumbkey\",\"asset_combo\":true,\"asset_mode\":\"prod\",\"asset_filter\":\"min\",\"assets\":{\"js\":[{\"location\":\"bottom\",\"value\":\"https:\\\\u002F\\\\u002Fs.yimg.com\\\\u002Fos\\\\u002Fmit\\\\u002Fmedia\\\\u002Fm\\\\u002Fheader\\\\u002Fheader-uh3-finance-hardcoded-jsonblob-min-1583812.js\"}],\"css\":[\"css.master\",{\"location\":\"top\",\"value\":\"https:\\\\u002F\\\\u002Fs.yimg.com\\\\u002Fos\\\\u002Fmit\\\\u002Fmedia\\\\u002Fm\\\\u002Fquotes\\\\u002Fquotes-search-gs-smartphone-min-1680382.css\"},{\"location\":\"top\",\"value\":\"https:\\\\u002F\\\\u002Fs.yimg.com\\\\u002Fos\\\\u002Fstencil\\\\u002F3.1.0\\\\u002Fstyles-ltr.css\"},{\"location\":\"top\",\"value\":\"https:\\\\u002F\\\\u002Fs.yimg.com\\\\u002Fos\\\\u002Ffinance\\\\u002Fdd-icon\\\\u002F1.0.19\\\\u002Fyahoo-finance-icons.css\"}],\"options\":{\"inc_init_bottom\":\"0\",\"inc_rapid\":\"1\",\"rapid_version\":\"3.21\",\"yui_instance_location\":\"bottom\"}},\"cdn\":{\"comboBase\":\"https:\\\\u002F\\\\u002Fs.yimg.com\\\\u002Fzz\\\\u002Fcombo?\",\"comboSep\":\"&\",\"prefixMap\":{\"http:\\\\u002F\\\\u002Fl.yimg.com\\\\u002F\":\"\"},\"base\":\"http:\\\\u002F\\\\u002Fl.yimg.com\"},\"prefix_map\":{\"http:\\\\u002F\\\\u002Fl.yimg.com\\\\u002F\":\"\"},\"xhrPath\":\"_td_charts_api\",\"adsEnabled\":true,\"ads\":{\"position\":{\"LREC\":{\"w\":\"300\",\"h\":\"265\"},\"FB2-1\":{\"w\":\"198\",\"h\":\"60\"},\"FB2-2\":{\"w\":\"198\",\"h\":\"60\"},\"FB2-3\":{\"w\":\"198\",\"h\":\"60\"},\"FB2-4\":{\"w\":\"198\",\"h\":\"60\"},\"LDRP\":{\"w\":\"320\",\"h\":\"76\",\"metaSize\":true},\"WBTN\":{\"w\":\"120\",\"h\":\"60\"},\"WBTN-1\":{\"w\":\"120\",\"h\":\"60\"},\"FB2-0\":{\"w\":\"120\",\"h\":\"60\"},\"SKY\":{\"w\":\"160\",\"h\":\"600\"}}},\"spaceid\":\"2022773886\",\"customSpaceIds\":{\"currency\":\"2142178955\",\"mutualfund\":\"1197773430\"},\"urlSpaceId\":\"true\",\"urlSpaceIdMap\":{\"quotes\":\"980779717\",\"q\\\\u002Fop\":\"28951412\",\"q\":\"980779724\"},\"rapidSettings\":{\"webworker_file\":\"\\\\u002Frapid-worker.js\",\"client_only\":1,\"keys\":{\"version\":\"td app\",\"site\":\"mobile-web-quotes\"},\"ywa\":{\"project_id\":\"1000911397279\",\"document_group\":\"interactive-chart\",\"host\":\"y.analytics.yahoo.com\"},\"ywaMappingAction\":{\"click\":12,\"hvr\":115,\"rottn\":128,\"drag\":105},\"ywaMappingCf\":{\"_p\":20,\"ad\":58,\"authfb\":11,\"bpos\":24,\"camp\":54,\"cat\":25,\"code\":55,\"cpos\":21,\"ct\":23,\"dcl\":26,\"dir\":108,\"domContentLoadedEventEnd\":44,\"elm\":56,\"elmt\":57,\"f\":40,\"ft\":51,\"grpt\":109,\"ilc\":39,\"itc\":111,\"loadEventEnd\":45,\"ltxt\":17,\"mpos\":110,\"mrkt\":12,\"pcp\":67,\"pct\":48,\"pd\":46,\"pkgt\":22,\"pos\":20,\"prov\":114,\"psp\":72,\"pst\":68,\"pstcat\":47,\"pt\":13,\"rescode\":27,\"responseEnd\":43,\"responseStart\":41,\"rspns\":107,\"sca\":53,\"sec\":18,\"site\":42,\"slk\":19,\"sort\":28,\"t1\":121,\"t2\":122,\"t3\":123,\"t4\":124,\"t5\":125,\"t6\":126,\"t7\":127,\"t8\":128,\"t9\":129,\"tar\":113,\"test\":14,\"v\":52,\"ver\":49,\"x\":50},\"tracked_mods\":[\"yfi_investing_nav\",\"chart-details\"],\"nofollow_class\":[]},\"property\":\"finance\",\"uh\":{\"experience\":\"GS\"},\"loginRedirectHost\":\"finance.yahoo.com\",\"default_ticker\":\"YHOO\",\"default_market_tickers\":[\"^DJI\",\"^IXIC\"],\"layout\":\"options\",\"packageName\":\"finance-td-app-mobile-web\",\"customActions\":{\"before\":[function (req, res, data, callback) {\\n    var header,\\n        config = req.config(),\\n        path = req.path;\\n\\n    if (req.i13n && req.i13n.stampNonClassified) {\\n        //console.log(\\'=====> [universal_header] page stamped: \\' + req.i13n.isStamped() + \\' with spaceid \\' + req.i13n.getSpaceid());\\n        req.i13n.stampNonClassified(config.spaceid);\\n    }\\n    config.uh = config.uh || {};\\n    config.uh.experience = config.uh.experience || \\'uh3\\';\\n\\n    req.query.experience = config.uh.experience;\\n    req.query.property = \\'finance\\';\\n    header = finUH.getMarkup(req);\\n\\n    res.locals = res.locals || {};\\n\\n    if (header.sidebar) {\\n        res.locals.sidebar_css = header.sidebar.uh_css;\\n        res.locals.sidebar_js = header.sidebar.uh_js;\\n        data.sidebar_markup = header.sidebar.uh_markup;\\n    }\\n\\n    res.locals.uh_css = header.uh_css;\\n    res.locals.uh_js = header.uh_js;\\n    data.uh_markup = header.uh_markup;\\n    //TODO - localize these strings\\n    if (path && path.indexOf(\\'op\\') > -1) {\\n        res.locals.page_title = parseSymbol(req.query.s) + \" Option Chain | Yahoo! Inc. Stock - Yahoo! Finance\";\\n    } else if (path && ((path.indexOf(\\'echarts\\') > -1) || (path.indexOf(\\'q\\') > -1))) {\\n        res.locals.page_title = parseSymbol(req.query.s) + \" Interactive Stock Chart | Yahoo! Inc. Stock - Yahoo! Finance\";\\n    } else {\\n        res.locals.page_title = config.title;\\n    }\\n    callback();\\n},function (req, res, data, next) {\\n    /* this would invoke the ESI plugin on YTS */\\n    res.parentRes.set(\\'X-Esi\\', \\'1\\');\\n\\n    var hosts = req.config().hosts,\\n        hostToSet = hosts._default;\\n\\n    Object.keys(hosts).some(function (host) {\\n        if (req.headers.host.indexOf(host) >= 0) {\\n            hostToSet = hosts[host];\\n            return true;\\n        }\\n    });\\n\\n    /* saving request host server name for esi end point */\\n    res.locals.requesturl = {\\n        host: hostToSet\\n    };\\n\\n     /* saving header x-yahoo-request-url for Darla configuration */\\n    res.locals.requestxhosturl = req.headers[\\'x-env-host\\'] ? {host: req.headers[\\'x-env-host\\']} : {host: hostToSet};\\n\\n    //urlPath is used for ./node_modules/assembler/node_modules/dust-helpers/lib/util.js::getSpaceId()\\n    //see: https://git.corp.yahoo.com/sports/sportacular-web\\n    req.context.urlPath = req.path;\\n\\n    // console.log(JSON.stringify({\\n    //     requesturl: res.locals.requesturl.host,\\n    //     requestxhosturl: res.locals.requestxhosturl,\\n    //     urlPath: req.context.urlPath\\n    // }));\\n\\n    next();\\n},function (req, res, data, callback) {\\n\\n    res.locals = res.locals || {};\\n    if (req.query && req.query.s) {\\n        res.locals.quote = req.query.s;\\n    }\\n\\n    callback();\\n},function (req, res, data, callback) {\\n    var params,\\n        ticker,\\n        config, i;\\n\\n    req = req || {};\\n    req.params = req.params || {};\\n\\n    config = req.config() || {};\\n\\n    res.locals.bucket = req.getBucket() || \\'\\';\\n\\n    data = data || {};\\n\\n    params = req.params || {};\\n    ticker = (params.ticker || (req.query && req.query.s) || \\'YHOO\\').toUpperCase();\\n    ticker = ticker.split(\\'+\\')[0];//Split on + if it\\'s in the ticker\\n    ticker = ticker.split(\\' \\')[0];//Split on space if it\\'s in the ticker\\n\\n    params.tickers = [];\\n    if (config.default_market_tickers) {\\n        params.tickers = params.tickers.concat(config.default_market_tickers);\\n    }\\n    params.tickers.push(ticker);\\n    params.tickers = params.tickers.join(\\',\\');\\n    params.format = \\'inflated\\';\\n\\n    //Move this into a new action\\n    res.locals.isTablet = config.isTablet;\\n\\n    quoteStore.read(\\'finance_quote\\', params, req, function (err, qData) {\\n        if (!err && qData.quotes && qData.quotes.length > 0) {\\n            res.locals.quoteData = qData;\\n            for (i = 0; i < qData.quotes.length; i = i +  1) {\\n                if (qData.quotes[i].symbol.toUpperCase() === ticker.toUpperCase()) {\\n                    params.ticker_securityType = qData.quotes[i].type;\\n                }\\n            }\\n            params.tickers = ticker;\\n        }\\n        callback();\\n    });\\n},function (req, res, data, callback) {\\n\\n    marketTimeStore.read(\\'markettime\\', {}, req, function (err, data) {\\n        if (data && data.index) {\\n            res.parentRes.locals.markettime = data.index.markettime;\\n        }\\n        callback();\\n    });\\n}],\"after\":[]}},\"context\":{\"authed\":\"0\",\"ynet\":\"0\",\"ssl\":\"0\",\"spdy\":\"0\",\"ytee\":\"0\",\"mode\":\"normal\",\"bucket\":\"\",\"colo\":\"gq1\",\"device\":\"desktop\",\"bot\":\"1\",\"environment\":\"prod\",\"lang\":\"en-US\",\"partner\":\"none\",\"site\":\"finance\",\"region\":\"US\",\"intl\":\"us\",\"tz\":\"America\\\\u002FLos_Angeles\",\"edgepipeEnabled\":false,\"urlPath\":\"\\\\u002Fq\\\\u002Fop\"},\"intl\":{\"locales\":\"en-US\"},\"user\":{\"crumb\":\"Qq4OCqUfEv6\",\"firstName\":null}};\\nroot.YUI_config = {\"version\":\"3.17.2\",\"base\":\"http:\\\\u002F\\\\u002Fyui.yahooapis.com\\\\u002F3.17.2\\\\u002F\",\"comboBase\":\"http:\\\\u002F\\\\u002Fl.yimg.com\\\\u002Fzz\\\\u002Fcombo?\",\"comboSep\":\"&\",\"root\":\"yui:3.17.2\\\\u002F\",\"filter\":\"min\",\"logLevel\":\"error\",\"combine\":true,\"patches\":[function patchLangBundlesRequires(Y, loader) {\\n    var getRequires = loader.getRequires;\\n    loader.getRequires = function (mod) {\\n        var i, j, m, name, mods, loadDefaultBundle,\\n            locales = Y.config.lang || [],\\n            r = getRequires.apply(this, arguments);\\n        // expanding requirements with optional requires\\n        if (mod.langBundles && !mod.langBundlesExpanded) {\\n            mod.langBundlesExpanded = [];\\n            locales = typeof locales === \\'string\\' ? [locales] : locales.concat();\\n            for (i = 0; i < mod.langBundles.length; i += 1) {\\n                mods = [];\\n                loadDefaultBundle = false;\\n                name = mod.group + \\'-lang-\\' + mod.langBundles[i];\\n                for (j = 0; j < locales.length; j += 1) {\\n                    m = this.getModule(name + \\'_\\' + locales[j].toLowerCase());\\n                    if (m) {\\n                        mods.push(m);\\n                    } else {\\n                        // if one of the requested locales is missing,\\n                        // the default lang should be fetched\\n                        loadDefaultBundle = true;\\n                    }\\n                }\\n                if (!mods.length || loadDefaultBundle) {\\n                    // falling back to the default lang bundle when needed\\n                    m = this.getModule(name);\\n                    if (m) {\\n                        mods.push(m);\\n                    }\\n                }\\n                // adding requirements for each lang bundle\\n                // (duplications are not a problem since they will be deduped)\\n                for (j = 0; j < mods.length; j += 1) {\\n                    mod.langBundlesExpanded = mod.langBundlesExpanded.concat(this.getRequires(mods[j]), [mods[j].name]);\\n                }\\n            }\\n        }\\n        return mod.langBundlesExpanded && mod.langBundlesExpanded.length ?\\n                [].concat(mod.langBundlesExpanded, r) : r;\\n    };\\n}],\"modules\":{\"IntlPolyfill\":{\"fullpath\":\"https:\\\\u002F\\\\u002Fs.yimg.com\\\\u002Fzz\\\\u002Fcombo?yui:platform\\\\u002Fintl\\\\u002F0.1.4\\\\u002FIntl.min.js&yui:platform\\\\u002Fintl\\\\u002F0.1.4\\\\u002Flocale-data\\\\u002Fjsonp\\\\u002F{lang}.js\",\"condition\":{\"name\":\"IntlPolyfill\",\"trigger\":\"intl-messageformat\",\"test\":function (Y) {\\n                        return !Y.config.global.Intl;\\n                    },\"when\":\"before\"},\"configFn\":function (mod) {\\n                    var lang = \\'en-US\\';\\n                    if (window.YUI_config && window.YUI_config.lang && window.IntlAvailableLangs && window.IntlAvailableLangs[window.YUI_config.lang]) {\\n                        lang = window.YUI_config.lang;\\n                    }\\n                    mod.fullpath = mod.fullpath.replace(\\'{lang}\\', lang);\\n                    return true;\\n                }}},\"groups\":{\"finance-td-app-mobile-web\":{\"base\":\"http:\\\\u002F\\\\u002Fl.yimg.com\\\\u002Fos\\\\u002Fmit\\\\u002Ftd\\\\u002Ffinance-td-app-mobile-web-2.0.405\\\\u002F\",\"root\":\"os\\\\u002Fmit\\\\u002Ftd\\\\u002Ffinance-td-app-mobile-web-2.0.405\\\\u002F\",\"combine\":true,\"filter\":\"min\",\"comboBase\":\"http:\\\\u002F\\\\u002Fl.yimg.com\\\\u002Fzz\\\\u002Fcombo?\",\"comboSep\":\"&\"},\"ape-af\":{\"base\":\"http:\\\\u002F\\\\u002Fl.yimg.com\\\\u002Fos\\\\u002Fmit\\\\u002Ftd\\\\u002Fape-af-0.0.327\\\\u002F\",\"root\":\"os\\\\u002Fmit\\\\u002Ftd\\\\u002Fape-af-0.0.327\\\\u002F\",\"combine\":true,\"filter\":\"min\",\"comboBase\":\"http:\\\\u002F\\\\u002Fl.yimg.com\\\\u002Fzz\\\\u002Fcombo?\",\"comboSep\":\"&\"},\"mjata\":{\"base\":\"http:\\\\u002F\\\\u002Fl.yimg.com\\\\u002Fos\\\\u002Fmit\\\\u002Ftd\\\\u002Fmjata-0.4.35\\\\u002F\",\"root\":\"os\\\\u002Fmit\\\\u002Ftd\\\\u002Fmjata-0.4.35\\\\u002F\",\"combine\":true,\"filter\":\"min\",\"comboBase\":\"http:\\\\u002F\\\\u002Fl.yimg.com\\\\u002Fzz\\\\u002Fcombo?\",\"comboSep\":\"&\"},\"ape-applet\":{\"base\":\"http:\\\\u002F\\\\u002Fl.yimg.com\\\\u002Fos\\\\u002Fmit\\\\u002Ftd\\\\u002Fape-applet-0.0.207\\\\u002F\",\"root\":\"os\\\\u002Fmit\\\\u002Ftd\\\\u002Fape-applet-0.0.207\\\\u002F\",\"combine\":true,\"filter\":\"min\",\"comboBase\":\"http:\\\\u002F\\\\u002Fl.yimg.com\\\\u002Fzz\\\\u002Fcombo?\",\"comboSep\":\"&\"},\"applet-server\":{\"base\":\"http:\\\\u002F\\\\u002Fl.yimg.com\\\\u002Fos\\\\u002Fmit\\\\u002Ftd\\\\u002Fapplet-server-0.2.77\\\\u002F\",\"root\":\"os\\\\u002Fmit\\\\u002Ftd\\\\u002Fapplet-server-0.2.77\\\\u002F\",\"combine\":true,\"filter\":\"min\",\"comboBase\":\"http:\\\\u002F\\\\u002Fl.yimg.com\\\\u002Fzz\\\\u002Fcombo?\",\"comboSep\":\"&\"},\"td-api\":{\"base\":\"http:\\\\u002F\\\\u002Fl.yimg.com\\\\u002Fos\\\\u002Fmit\\\\u002Ftd\\\\u002Ftd-api-0.1.89\\\\u002F\",\"root\":\"os\\\\u002Fmit\\\\u002Ftd\\\\u002Ftd-api-0.1.89\\\\u002F\",\"combine\":true,\"filter\":\"min\",\"comboBase\":\"http:\\\\u002F\\\\u002Fl.yimg.com\\\\u002Fzz\\\\u002Fcombo?\",\"comboSep\":\"&\"},\"finance-streamer\":{\"base\":\"http:\\\\u002F\\\\u002Fl.yimg.com\\\\u002Fos\\\\u002Fmit\\\\u002Ftd\\\\u002Ffinance-streamer-0.0.16\\\\u002F\",\"root\":\"os\\\\u002Fmit\\\\u002Ftd\\\\u002Ffinance-streamer-0.0.16\\\\u002F\",\"combine\":true,\"filter\":\"min\",\"comboBase\":\"http:\\\\u002F\\\\u002Fl.yimg.com\\\\u002Fzz\\\\u002Fcombo?\",\"comboSep\":\"&\"},\"stencil\":{\"base\":\"http:\\\\u002F\\\\u002Fl.yimg.com\\\\u002Fos\\\\u002Fmit\\\\u002Ftd\\\\u002Fstencil-0.1.306\\\\u002F\",\"root\":\"os\\\\u002Fmit\\\\u002Ftd\\\\u002Fstencil-0.1.306\\\\u002F\",\"combine\":true,\"filter\":\"min\",\"comboBase\":\"http:\\\\u002F\\\\u002Fl.yimg.com\\\\u002Fzz\\\\u002Fcombo?\",\"comboSep\":\"&\"},\"td-applet-ads\":{\"base\":\"http:\\\\u002F\\\\u002Fl.yimg.com\\\\u002Fos\\\\u002Fmit\\\\u002Ftd\\\\u002Ftd-applet-ads-0.1.575\\\\u002F\",\"root\":\"os\\\\u002Fmit\\\\u002Ftd\\\\u002Ftd-applet-ads-0.1.575\\\\u002F\",\"combine\":true,\"filter\":\"min\",\"comboBase\":\"http:\\\\u002F\\\\u002Fl.yimg.com\\\\u002Fzz\\\\u002Fcombo?\",\"comboSep\":\"&\"},\"td-applet-charts\":{\"base\":\"http:\\\\u002F\\\\u002Fl.yimg.com\\\\u002Fos\\\\u002Fmit\\\\u002Ftd\\\\u002Ftd-applet-charts-0.3.1\\\\u002F\",\"root\":\"os\\\\u002Fmit\\\\u002Ftd\\\\u002Ftd-applet-charts-0.3.1\\\\u002F\",\"combine\":true,\"filter\":\"min\",\"comboBase\":\"http:\\\\u002F\\\\u002Fl.yimg.com\\\\u002Fzz\\\\u002Fcombo?\",\"comboSep\":\"&\"},\"finance-yui-scripts\":{\"base\":\"http:\\\\u002F\\\\u002Fl.yimg.com\\\\u002Fos\\\\u002Fmit\\\\u002Ftd\\\\u002Ffinance-yui-scripts-0.0.24\\\\u002F\",\"root\":\"os\\\\u002Fmit\\\\u002Ftd\\\\u002Ffinance-yui-scripts-0.0.24\\\\u002F\",\"combine\":true,\"filter\":\"min\",\"comboBase\":\"http:\\\\u002F\\\\u002Fl.yimg.com\\\\u002Fzz\\\\u002Fcombo?\",\"comboSep\":\"&\"},\"td-lib-social\":{\"base\":\"http:\\\\u002F\\\\u002Fl.yimg.com\\\\u002Fos\\\\u002Fmit\\\\u002Ftd\\\\u002Ftd-lib-social-0.1.207\\\\u002F\",\"root\":\"os\\\\u002Fmit\\\\u002Ftd\\\\u002Ftd-lib-social-0.1.207\\\\u002F\",\"combine\":true,\"filter\":\"min\",\"comboBase\":\"http:\\\\u002F\\\\u002Fl.yimg.com\\\\u002Fzz\\\\u002Fcombo?\",\"comboSep\":\"&\"},\"td-applet-mw-quote-details\":{\"base\":\"http:\\\\u002F\\\\u002Fl.yimg.com\\\\u002Fos\\\\u002Fmit\\\\u002Ftd\\\\u002Ftd-applet-mw-quote-details-2.3.161\\\\u002F\",\"root\":\"os\\\\u002Fmit\\\\u002Ftd\\\\u002Ftd-applet-mw-quote-details-2.3.161\\\\u002F\",\"combine\":true,\"filter\":\"min\",\"comboBase\":\"http:\\\\u002F\\\\u002Fl.yimg.com\\\\u002Fzz\\\\u002Fcombo?\",\"comboSep\":\"&\"},\"td-applet-mw-quote-news\":{\"base\":\"http:\\\\u002F\\\\u002Fl.yimg.com\\\\u002Fos\\\\u002Fmit\\\\u002Ftd\\\\u002Ftd-applet-mw-quote-news-2.3.224\\\\u002F\",\"root\":\"os\\\\u002Fmit\\\\u002Ftd\\\\u002Ftd-applet-mw-quote-news-2.3.224\\\\u002F\",\"combine\":true,\"filter\":\"min\",\"comboBase\":\"http:\\\\u002F\\\\u002Fl.yimg.com\\\\u002Fzz\\\\u002Fcombo?\",\"comboSep\":\"&\"},\"td-applet-mw-quote-search\":{\"base\":\"http:\\\\u002F\\\\u002Fl.yimg.com\\\\u002Fos\\\\u002Fmit\\\\u002Ftd\\\\u002Ftd-applet-mw-quote-search-1.2.67\\\\u002F\",\"root\":\"os\\\\u002Fmit\\\\u002Ftd\\\\u002Ftd-applet-mw-quote-search-1.2.67\\\\u002F\",\"combine\":true,\"filter\":\"min\",\"comboBase\":\"http:\\\\u002F\\\\u002Fl.yimg.com\\\\u002Fzz\\\\u002Fcombo?\",\"comboSep\":\"&\"},\"td-applet-mw-quotes\":{\"base\":\"http:\\\\u002F\\\\u002Fl.yimg.com\\\\u002Fos\\\\u002Fmit\\\\u002Ftd\\\\u002Ftd-applet-mw-quotes-4.2.12\\\\u002F\",\"root\":\"os\\\\u002Fmit\\\\u002Ftd\\\\u002Ftd-applet-mw-quotes-4.2.12\\\\u002F\",\"combine\":true,\"filter\":\"min\",\"comboBase\":\"http:\\\\u002F\\\\u002Fl.yimg.com\\\\u002Fzz\\\\u002Fcombo?\",\"comboSep\":\"&\"},\"td-applet-options-table\":{\"base\":\"http:\\\\u002F\\\\u002Fl.yimg.com\\\\u002Fos\\\\u002Fmit\\\\u002Ftd\\\\u002Ftd-applet-options-table-0.1.193\\\\u002F\",\"root\":\"os\\\\u002Fmit\\\\u002Ftd\\\\u002Ftd-applet-options-table-0.1.193\\\\u002F\",\"combine\":true,\"filter\":\"min\",\"comboBase\":\"http:\\\\u002F\\\\u002Fl.yimg.com\\\\u002Fzz\\\\u002Fcombo?\",\"comboSep\":\"&\"},\"td-finance-uh\":{\"base\":\"http:\\\\u002F\\\\u002Fl.yimg.com\\\\u002Fos\\\\u002Fmit\\\\u002Ftd\\\\u002Ftd-finance-uh-0.1.2\\\\u002F\",\"root\":\"os\\\\u002Fmit\\\\u002Ftd\\\\u002Ftd-finance-uh-0.1.2\\\\u002F\",\"combine\":true,\"filter\":\"min\",\"comboBase\":\"http:\\\\u002F\\\\u002Fl.yimg.com\\\\u002Fzz\\\\u002Fcombo?\",\"comboSep\":\"&\"},\"assembler\":{\"base\":\"http:\\\\u002F\\\\u002Fl.yimg.com\\\\u002Fos\\\\u002Fmit\\\\u002Ftd\\\\u002Fassembler-0.3.100\\\\u002F\",\"root\":\"os\\\\u002Fmit\\\\u002Ftd\\\\u002Fassembler-0.3.100\\\\u002F\",\"combine\":true,\"filter\":\"min\",\"comboBase\":\"http:\\\\u002F\\\\u002Fl.yimg.com\\\\u002Fzz\\\\u002Fcombo?\",\"comboSep\":\"&\"},\"td-dev-info\":{\"base\":\"http:\\\\u002F\\\\u002Fl.yimg.com\\\\u002Fos\\\\u002Fmit\\\\u002Ftd\\\\u002Ftd-dev-info-0.0.30\\\\u002F\",\"root\":\"os\\\\u002Fmit\\\\u002Ftd\\\\u002Ftd-dev-info-0.0.30\\\\u002F\",\"combine\":true,\"filter\":\"min\",\"comboBase\":\"http:\\\\u002F\\\\u002Fl.yimg.com\\\\u002Fzz\\\\u002Fcombo?\",\"comboSep\":\"&\"},\"dust-helpers\":{\"base\":\"http:\\\\u002F\\\\u002Fl.yimg.com\\\\u002Fos\\\\u002Fmit\\\\u002Ftd\\\\u002Fdust-helpers-0.0.144\\\\u002F\",\"root\":\"os\\\\u002Fmit\\\\u002Ftd\\\\u002Fdust-helpers-0.0.144\\\\u002F\",\"combine\":true,\"filter\":\"min\",\"comboBase\":\"http:\\\\u002F\\\\u002Fl.yimg.com\\\\u002Fzz\\\\u002Fcombo?\",\"comboSep\":\"&\"}},\"seed\":[\"yui\",\"loader-finance-td-app-mobile-web\",\"loader-ape-af\",\"loader-mjata\",\"loader-ape-applet\",\"loader-applet-server\",\"loader-td-api\",\"loader-finance-streamer\",\"loader-stencil\",\"loader-td-applet-ads\",\"loader-td-applet-charts\",\"loader-finance-yui-scripts\",\"loader-td-lib-social\",\"loader-td-applet-mw-quote-details\",\"loader-td-applet-mw-quote-news\",\"loader-td-applet-mw-quote-search\",\"loader-td-applet-mw-quotes\",\"loader-td-applet-options-table\",\"loader-td-finance-uh\",\"loader-assembler\",\"loader-td-dev-info\",\"loader-dust-helpers\"],\"extendedCore\":[\"loader-finance-td-app-mobile-web\",\"loader-ape-af\",\"loader-mjata\",\"loader-ape-applet\",\"loader-applet-server\",\"loader-td-api\",\"loader-finance-streamer\",\"loader-stencil\",\"loader-td-applet-ads\",\"loader-td-applet-charts\",\"loader-finance-yui-scripts\",\"loader-td-lib-social\",\"loader-td-applet-mw-quote-details\",\"loader-td-applet-mw-quote-news\",\"loader-td-applet-mw-quote-search\",\"loader-td-applet-mw-quotes\",\"loader-td-applet-options-table\",\"loader-td-finance-uh\",\"loader-assembler\",\"loader-td-dev-info\",\"loader-dust-helpers\"]};\\nroot.YUI_config || (root.YUI_config = {});\\nroot.YUI_config.seed = [\"http:\\\\u002F\\\\u002Fl.yimg.com\\\\u002Fzz\\\\u002Fcombo?yui:3.17.2\\\\u002Fyui\\\\u002Fyui-min.js&os\\\\u002Fmit\\\\u002Ftd\\\\u002Ffinance-td-app-mobile-web-2.0.405\\\\u002Floader-finance-td-app-mobile-web\\\\u002Floader-finance-td-app-mobile-web-min.js&os\\\\u002Fmit\\\\u002Ftd\\\\u002Fape-af-0.0.327\\\\u002Floader-ape-af\\\\u002Floader-ape-af-min.js&os\\\\u002Fmit\\\\u002Ftd\\\\u002Fmjata-0.4.35\\\\u002Floader-mjata\\\\u002Floader-mjata-min.js&os\\\\u002Fmit\\\\u002Ftd\\\\u002Fape-applet-0.0.207\\\\u002Floader-ape-applet\\\\u002Floader-ape-applet-min.js&os\\\\u002Fmit\\\\u002Ftd\\\\u002Fapplet-server-0.2.77\\\\u002Floader-applet-server\\\\u002Floader-applet-server-min.js&os\\\\u002Fmit\\\\u002Ftd\\\\u002Ftd-api-0.1.89\\\\u002Floader-td-api\\\\u002Floader-td-api-min.js&os\\\\u002Fmit\\\\u002Ftd\\\\u002Ffinance-streamer-0.0.16\\\\u002Floader-finance-streamer\\\\u002Floader-finance-streamer-min.js&os\\\\u002Fmit\\\\u002Ftd\\\\u002Fstencil-0.1.306\\\\u002Floader-stencil\\\\u002Floader-stencil-min.js&os\\\\u002Fmit\\\\u002Ftd\\\\u002Ftd-applet-ads-0.1.575\\\\u002Floader-td-applet-ads\\\\u002Floader-td-applet-ads-min.js&os\\\\u002Fmit\\\\u002Ftd\\\\u002Ftd-applet-charts-0.3.1\\\\u002Floader-td-applet-charts\\\\u002Floader-td-applet-charts-min.js&os\\\\u002Fmit\\\\u002Ftd\\\\u002Ffinance-yui-scripts-0.0.24\\\\u002Floader-finance-yui-scripts\\\\u002Floader-finance-yui-scripts-min.js&os\\\\u002Fmit\\\\u002Ftd\\\\u002Ftd-lib-social-0.1.207\\\\u002Floader-td-lib-social\\\\u002Floader-td-lib-social-min.js&os\\\\u002Fmit\\\\u002Ftd\\\\u002Ftd-applet-mw-quote-details-2.3.161\\\\u002Floader-td-applet-mw-quote-details\\\\u002Floader-td-applet-mw-quote-details-min.js&os\\\\u002Fmit\\\\u002Ftd\\\\u002Ftd-applet-mw-quote-news-2.3.224\\\\u002Floader-td-applet-mw-quote-news\\\\u002Floader-td-applet-mw-quote-news-min.js&os\\\\u002Fmit\\\\u002Ftd\\\\u002Ftd-applet-mw-quote-search-1.2.67\\\\u002Floader-td-applet-mw-quote-search\\\\u002Floader-td-applet-mw-quote-search-min.js&os\\\\u002Fmit\\\\u002Ftd\\\\u002Ftd-applet-mw-quotes-4.2.12\\\\u002Floader-td-applet-mw-quotes\\\\u002Floader-td-applet-mw-quotes-min.js&os\\\\u002Fmit\\\\u002Ftd\\\\u002Ftd-applet-options-table-0.1.193\\\\u002Floader-td-applet-options-table\\\\u002Floader-td-applet-options-table-min.js&os\\\\u002Fmit\\\\u002Ftd\\\\u002Ftd-finance-uh-0.1.2\\\\u002Floader-td-finance-uh\\\\u002Floader-td-finance-uh-min.js&os\\\\u002Fmit\\\\u002Ftd\\\\u002Fassembler-0.3.100\\\\u002Floader-assembler\\\\u002Floader-assembler-min.js&os\\\\u002Fmit\\\\u002Ftd\\\\u002Ftd-dev-info-0.0.30\\\\u002Floader-td-dev-info\\\\u002Floader-td-dev-info-min.js&os\\\\u002Fmit\\\\u002Ftd\\\\u002Fdust-helpers-0.0.144\\\\u002Floader-dust-helpers\\\\u002Floader-dust-helpers-min.js\"];\\nroot.YUI_config.lang = \"en-US\";\\n}(this));\\n\\nYMedia = YUI({\"combine\":true,\"filter\":\"min\",\"maxURLLength\":2000});if (YMedia.config.patches && YMedia.config.patches.length) {for (var i = 0; i < YMedia.config.patches.length; i += 1) {YMedia.config.patches[i](YMedia, YMedia.Env._loader);}}\\nYMedia.applyConfig({\"groups\":{\"td-applet-mw-quote-search\":{\"base\":\"http://l.yimg.com/os/mit/td/td-applet-mw-quote-search-1.2.67/\",\"root\":\"os/mit/td/td-applet-mw-quote-search-1.2.67/\",\"combine\":true,\"filter\":\"min\",\"comboBase\":\"http://l.yimg.com/zz/combo?\",\"comboSep\":\"&\"}}});window.Af=window.Af||{};window.Af.bootstrap=window.Af.bootstrap||{};window.Af.bootstrap[\"2360758879867453\"] = {\"applet_type\":\"td-applet-mw-quote-search\",\"models\":{\"applet_model\":{\"data\":{\"lang\":\"en-US\",\"region\":\"US\"}}},\"views\":{\"main\":{\"yui_module\":\"td-applet-quotesearch-desktopview\",\"yui_class\":\"TD.Applet.QuotesearchDesktopView\",\"config\":{\"type\":\"lookup\"}}},\"templates\":{\"main\":{\"yui_module\":\"td-applet-mw-quote-search-templates-main\",\"template_name\":\"td-applet-mw-quote-search-templates-main\"},\"lookup\":{\"yui_module\":\"td-applet-mw-quote-search-templates-lookup\",\"template_name\":\"td-applet-mw-quote-search-templates-lookup\"}},\"i18n\":{\"TITLE\":\"quotesearch\",\"ENTER_SYMBOL\":\"Enter Symbol\",\"LOOKUP\":\"Look Up\"},\"transport\":{\"xhr\":\"/_td_charts_api\"},\"context\":{\"bucket\":\"\",\"crumb\":\"Qq4OCqUfEv6\",\"device\":\"desktop\",\"lang\":\"en-US\",\"region\":\"US\",\"site\":\"finance\"}};\\nYMedia.applyConfig({\"groups\":{\"td-applet-mw-quote-search\":{\"base\":\"http://l.yimg.com/os/mit/td/td-applet-mw-quote-search-1.2.67/\",\"root\":\"os/mit/td/td-applet-mw-quote-search-1.2.67/\",\"combine\":true,\"filter\":\"min\",\"comboBase\":\"http://l.yimg.com/zz/combo?\",\"comboSep\":\"&\"}}});window.Af=window.Af||{};window.Af.bootstrap=window.Af.bootstrap||{};window.Af.bootstrap[\"2360758880970557\"] = {\"applet_type\":\"td-applet-mw-quote-search\",\"models\":{\"applet_model\":{\"data\":{\"lang\":\"en-US\",\"region\":\"US\"}}},\"views\":{\"main\":{\"yui_module\":\"td-applet-quotesearch-desktopview\",\"yui_class\":\"TD.Applet.QuotesearchDesktopView\",\"config\":{\"type\":\"options\"}}},\"templates\":{\"main\":{\"yui_module\":\"td-applet-mw-quote-search-templates-main\",\"template_name\":\"td-applet-mw-quote-search-templates-main\"},\"lookup\":{\"yui_module\":\"td-applet-mw-quote-search-templates-lookup\",\"template_name\":\"td-applet-mw-quote-search-templates-lookup\"}},\"i18n\":{\"TITLE\":\"quotesearch\",\"ENTER_SYMBOL\":\"Enter Symbol\",\"LOOKUP\":\"Look Up\"},\"transport\":{\"xhr\":\"/_td_charts_api\"},\"context\":{\"bucket\":\"\",\"crumb\":\"Qq4OCqUfEv6\",\"device\":\"desktop\",\"lang\":\"en-US\",\"region\":\"US\",\"site\":\"finance\"}};\\nYMedia.applyConfig({\"groups\":{\"td-applet-mw-quote-details\":{\"base\":\"http://l.yimg.com/os/mit/td/td-applet-mw-quote-details-2.3.161/\",\"root\":\"os/mit/td/td-applet-mw-quote-details-2.3.161/\",\"combine\":true,\"filter\":\"min\",\"comboBase\":\"http://l.yimg.com/zz/combo?\",\"comboSep\":\"&\"}}});window.Af=window.Af||{};window.Af.bootstrap=window.Af.bootstrap||{};window.Af.bootstrap[\"2360758881401209\"] = {\"applet_type\":\"td-applet-mw-quote-details\",\"models\":{\"mwquotedetails\":{\"yui_module\":\"td-applet-mw-quote-details-model\",\"yui_class\":\"TD.Applet.MWQuoteDetailsModel\",\"data\":{\"quoteDetails\":{\"quotes\":[{\"name\":\"Apple Inc.\",\"symbol\":\"AAPL\",\"details_url\":\"http://finance.yahoo.com/q?s=AAPL\",\"exchange\":{\"symbol\":\"NASDAQ\",\"id\":\"NMS\",\"status\":\"REGULAR_MARKET\"},\"type\":\"equity\",\"price\":{\"fmt\":\"95.60\",\"raw\":\"95.599998\"},\"volume\":{\"fmt\":\"2.6k\",\"raw\":\"2570\",\"longFmt\":\"2,570\"},\"avg_daily_volume\":{\"fmt\":\"39.9m\",\"raw\":\"39872400\",\"longFmt\":\"39,872,400\"},\"avg_3m_volume\":{\"fmt\":\"39.9m\",\"raw\":\"39872400\",\"longFmt\":\"39,872,400\"},\"timestamp\":\"1467316801\",\"time\":\"4:00PM EDT\",\"trend\":\"\",\"price_change\":{\"fmt\":\"-\"},\"price_pct_change\":{\"fmt\":\"-\"},\"day_high\":{},\"day_low\":{},\"fiftytwo_week_high\":{},\"fiftytwo_week_low\":{},\"open\":{\"data_source\":\"1\",\"fmt\":\"0.00\",\"raw\":\"0.000000\"},\"pe_ratio\":{\"fmt\":\"10.64\",\"raw\":\"10.642324\"},\"prev_close\":{\"data_source\":\"1\",\"fmt\":\"95.60\",\"raw\":\"95.599998\"},\"beta_coefficient\":{\"fmt\":\"1.49\",\"raw\":\"1.486790\"},\"market_cap\":{\"data_source\":\"1\",\"currency\":\"USD\",\"fmt\":\"523.64B\",\"raw\":\"523642299642.105103\"},\"eps\":{\"fmt\":\"8.98\",\"raw\":\"8.983000\"},\"one_year_target\":{\"fmt\":\"124.52\",\"raw\":\"124.520000\"},\"dividend_per_share\":{\"raw\":\"2.280000\",\"fmt\":\"2.28\"},\"after_hours\":{\"change\":{\"data_source\":\"6\",\"raw\":\"-0.040001\",\"fmt\":\"-0.04\"},\"percent_change\":\"0.04%\",\"isDown\":true,\"time\":{\"data_source\":\"6\",\"raw\":\"2016-07-01T13:05:30Z\",\"fmt\":\"9:05AM EDT\"},\"price\":{\"data_source\":\"6\",\"raw\":\"95.559998\",\"fmt\":\"95.56\"}}}]},\"symbol\":\"aapl\",\"login\":\"https://login.yahoo.com/config/login_verify2?.src=finance&.done=http%3A%2F%2Ffinance.yahoo.com%2Fecharts%3Fs%3Daapl\",\"hamNavQueEnabled\":false,\"crumb\":\"Qq4OCqUfEv6\"}},\"applet_model\":{\"models\":[\"mwquotedetails\"],\"data\":{}}},\"views\":{\"main\":{\"yui_module\":\"td-applet-quote-details-desktopview\",\"yui_class\":\"TD.Applet.QuoteDetailsDesktopView\"}},\"templates\":{\"main\":{\"yui_module\":\"td-applet-mw-quote-details-templates-main\",\"template_name\":\"td-applet-mw-quote-details-templates-main\"}},\"i18n\":{\"HAM_NAV_MODAL_MSG\":\"has been added to your list. Go to My Portfolio for more!\",\"FOLLOW\":\"Follow\",\"FOLLOWING\":\"Following\",\"WATCHLIST\":\"Watchlist\",\"IN_WATCHLIST\":\"In Watchlist\",\"TO_FOLLOW\":\" to Follow\",\"TO_WATCHLIST\":\" to Add to Watchlist\",\"AFTER_HOURS\":\"After Hours\",\"PRE_MARKET\":\"Pre-Market\"},\"transport\":{\"xhr\":\"/_td_charts_api\"},\"context\":{\"bucket\":\"\",\"crumb\":\"Qq4OCqUfEv6\",\"device\":\"desktop\",\"lang\":\"en-US\",\"region\":\"US\",\"site\":\"finance\"}};\\nYMedia.applyConfig({\"groups\":{\"td-applet-options-table\":{\"base\":\"http://l.yimg.com/os/mit/td/td-applet-options-table-0.1.193/\",\"root\":\"os/mit/td/td-applet-options-table-0.1.193/\",\"combine\":true,\"filter\":\"min\",\"comboBase\":\"http://l.yimg.com/zz/combo?\",\"comboSep\":\"&\"}}});window.Af=window.Af||{};window.Af.bootstrap=window.Af.bootstrap||{};window.Af.bootstrap[\"2360758880493130\"] = {\"applet_type\":\"td-applet-options-table\",\"models\":{\"options-table\":{\"yui_module\":\"td-options-table-model\",\"yui_class\":\"TD.Options-table.Model\"},\"applet_model\":{\"models\":[\"options-table\"],\"data\":{\"optionData\":{\"underlyingSymbol\":\"AAPL\",\"expirationDates\":[\"2016-07-01T00:00:00.000Z\",\"2016-07-08T00:00:00.000Z\",\"2016-07-15T00:00:00.000Z\",\"2016-07-22T00:00:00.000Z\",\"2016-07-29T00:00:00.000Z\",\"2016-08-05T00:00:00.000Z\",\"2016-08-12T00:00:00.000Z\",\"2016-08-19T00:00:00.000Z\",\"2016-09-16T00:00:00.000Z\",\"2016-10-21T00:00:00.000Z\",\"2017-01-20T00:00:00.000Z\",\"2017-03-17T00:00:00.000Z\",\"2017-04-21T00:00:00.000Z\",\"2017-06-16T00:00:00.000Z\",\"2018-01-19T00:00:00.000Z\"],\"strikes\":[50,55,60,70,75,80,81,82,83,84,85,85.5,86,86.5,87,87.5,88,88.5,89,89.5,90,90.5,91,91.5,92,92.5,93,93.5,94,94.5,95,95.5,96,96.5,97,97.5,98,98.5,99,99.5,100,101,102,103,104,105,106,107,110,130,135,140],\"hasMiniOptions\":false,\"quote\":{\"quoteType\":\"EQUITY\",\"quoteSourceName\":\"Nasdaq Real Time Price\",\"currency\":\"USD\",\"regularMarketPrice\":95.6,\"regularMarketTime\":1467316801,\"regularMarketChange\":0,\"regularMarketOpen\":0,\"regularMarketDayHigh\":0,\"regularMarketDayLow\":0,\"regularMarketVolume\":2570,\"shortName\":\"Apple Inc.\",\"exchange\":\"NMS\",\"longName\":\"Apple Inc.\",\"forwardPE\":10.610433,\"priceToBook\":4.0146136,\"sourceInterval\":15,\"exchangeTimezoneName\":\"America/New_York\",\"exchangeTimezoneShortName\":\"EDT\",\"gmtOffSetMilliseconds\":-14400000,\"preMarketChange\":-0.040000916,\"preMarketChangePercent\":-0.04184196,\"preMarketTime\":1467378330,\"preMarketPrice\":95.56,\"regularMarketChangePercent\":0,\"regularMarketPreviousClose\":95.6,\"bid\":95.55,\"ask\":95.56,\"bidSize\":195,\"marketState\":\"PRE\",\"askSize\":2,\"messageBoardId\":\"finmb_24937\",\"fullExchangeName\":\"NasdaqGS\",\"averageDailyVolume3Month\":39872435,\"averageDailyVolume10Day\":41237750,\"fiftyTwoWeekLowChange\":95.6,\"fiftyTwoWeekHighChange\":-37.370003,\"fiftyTwoWeekHighChangePercent\":-0.28104085,\"fiftyTwoWeekLow\":0,\"fiftyTwoWeekHigh\":132.97,\"dividendDate\":1463011200,\"earningsTimestamp\":1469577600,\"earningsTimestampStart\":1468972800,\"earningsTimestampEnd\":1469491200,\"trailingAnnualDividendRate\":2.08,\"trailingPE\":10.642324,\"epsTrailingTwelveMonths\":8.983,\"epsForward\":9.01,\"sharesOutstanding\":5477430000,\"bookValue\":23.813,\"marketCap\":523642273792,\"fiftyDayAverage\":96.356285,\"fiftyDayAverageChange\":-0.7562866,\"fiftyDayAverageChangePercent\":-0.007848856,\"twoHundredDayAverage\":100.35725,\"twoHundredDayAverageChange\":-4.757248,\"twoHundredDayAverageChangePercent\":-0.047403134,\"symbol\":\"AAPL\"},\"options\":{\"calls\":[{\"percentChange\":{\"raw\":7.4030595,\"fmt\":\"7.40%\"},\"openInterest\":{\"raw\":3,\"fmt\":\"3\",\"longFmt\":\"3\"},\"strike\":{\"raw\":50,\"fmt\":\"50.00\"},\"change\":{\"raw\":3.1500015,\"fmt\":\"3.15\"},\"inTheMoney\":true,\"impliedVolatility\":{\"raw\":5.64062794921875,\"fmt\":\"564.06%\"},\"volume\":{\"raw\":2,\"fmt\":\"2\",\"longFmt\":\"2\"},\"contractSymbol\":\"AAPL160701C00050000\",\"ask\":{\"raw\":45.7,\"fmt\":\"45.70\"},\"lastTradeDate\":{\"raw\":1467311046,\"fmt\":\"2016-06-30\",\"longFmt\":\"2016-06-30T18:24\"},\"expiration\":{\"raw\":1467331200,\"fmt\":\"2016-07-01\",\"longFmt\":\"2016-07-01T00:00\"},\"currency\":\"USD\",\"contractSize\":\"REGULAR\",\"bid\":{\"raw\":45.3,\"fmt\":\"45.30\"},\"lastPrice\":{\"raw\":45.7,\"fmt\":\"45.70\"}},{\"percentChange\":{\"raw\":5.326232,\"fmt\":\"5.33%\"},\"openInterest\":{\"raw\":2,\"fmt\":\"2\",\"longFmt\":\"2\"},\"strike\":{\"raw\":55,\"fmt\":\"55.00\"},\"change\":{\"raw\":2,\"fmt\":\"2.00\"},\"inTheMoney\":true,\"impliedVolatility\":{\"raw\":4.882816396484374,\"fmt\":\"488.28%\"},\"volume\":{\"raw\":7,\"fmt\":\"7\",\"longFmt\":\"7\"},\"contractSymbol\":\"AAPL160701C00055000\",\"ask\":{\"raw\":40.7,\"fmt\":\"40.70\"},\"lastTradeDate\":{\"raw\":1467294641,\"fmt\":\"2016-06-30\",\"longFmt\":\"2016-06-30T13:50\"},\"expiration\":{\"raw\":1467331200,\"fmt\":\"2016-07-01\",\"longFmt\":\"2016-07-01T00:00\"},\"currency\":\"USD\",\"contractSize\":\"REGULAR\",\"bid\":{\"raw\":40.3,\"fmt\":\"40.30\"},\"lastPrice\":{\"raw\":39.55,\"fmt\":\"39.55\"}},{\"percentChange\":{\"raw\":6.2980013,\"fmt\":\"6.30%\"},\"openInterest\":{\"raw\":1,\"fmt\":\"1\",\"longFmt\":\"1\"},\"strike\":{\"raw\":60,\"fmt\":\"60.00\"},\"change\":{\"raw\":2.0499992,\"fmt\":\"2.05\"},\"inTheMoney\":true,\"impliedVolatility\":{\"raw\":4.187504765625,\"fmt\":\"418.75%\"},\"volume\":{\"raw\":1,\"fmt\":\"1\",\"longFmt\":\"1\"},\"contractSymbol\":\"AAPL160701C00060000\",\"ask\":{\"raw\":35.7,\"fmt\":\"35.70\"},\"lastTradeDate\":{\"raw\":1467294243,\"fmt\":\"2016-06-30\",\"longFmt\":\"2016-06-30T13:44\"},\"expiration\":{\"raw\":1467331200,\"fmt\":\"2016-07-01\",\"longFmt\":\"2016-07-01T00:00\"},\"currency\":\"USD\",\"contractSize\":\"REGULAR\",\"bid\":{\"raw\":35.3,\"fmt\":\"35.30\"},\"lastPrice\":{\"raw\":34.6,\"fmt\":\"34.60\"}},{\"percentChange\":{\"raw\":0,\"fmt\":\"0.00%\"},\"openInterest\":{\"raw\":1,\"fmt\":\"1\",\"longFmt\":\"1\"},\"strike\":{\"raw\":75,\"fmt\":\"75.00\"},\"change\":{\"raw\":0,\"fmt\":\"0.00\"},\"inTheMoney\":true,\"impliedVolatility\":{\"raw\":5.232425334472656,\"fmt\":\"523.24%\"},\"volume\":{\"raw\":1,\"fmt\":\"1\",\"longFmt\":\"1\"},\"contractSymbol\":\"AAPL160701C00075000\",\"ask\":{\"raw\":23.15,\"fmt\":\"23.15\"},\"lastTradeDate\":{\"raw\":1464701674,\"fmt\":\"2016-05-31\",\"longFmt\":\"2016-05-31T13:34\"},\"expiration\":{\"raw\":1467331200,\"fmt\":\"2016-07-01\",\"longFmt\":\"2016-07-01T00:00\"},\"currency\":\"USD\",\"contractSize\":\"REGULAR\",\"bid\":{\"raw\":22.8,\"fmt\":\"22.80\"},\"lastPrice\":{\"raw\":25.1,\"fmt\":\"25.10\"}},{\"percentChange\":{\"raw\":0,\"fmt\":\"0.00%\"},\"openInterest\":{\"raw\":0,\"fmt\":\"0\",\"longFmt\":\"0\"},\"strike\":{\"raw\":80,\"fmt\":\"80.00\"},\"change\":{\"raw\":0,\"fmt\":\"0.00\"},\"inTheMoney\":true,\"impliedVolatility\":{\"raw\":0.000010000000000000003,\"fmt\":\"0.00%\"},\"volume\":{\"raw\":1,\"fmt\":\"1\",\"longFmt\":\"1\"},\"contractSymbol\":\"AAPL160701C00080000\",\"ask\":{\"raw\":0,\"fmt\":\"0.00\"},\"lastTradeDate\":{\"raw\":1467034837,\"fmt\":\"2016-06-27\",\"longFmt\":\"2016-06-27T13:40\"},\"expiration\":{\"raw\":1467331200,\"fmt\":\"2016-07-01\",\"longFmt\":\"2016-07-01T00:00\"},\"currency\":\"USD\",\"contractSize\":\"REGULAR\",\"bid\":{\"raw\":0,\"fmt\":\"0.00\"},\"lastPrice\":{\"raw\":12.36,\"fmt\":\"12.36\"}},{\"percentChange\":{\"raw\":14.285706,\"fmt\":\"14.29%\"},\"openInterest\":{\"raw\":138,\"fmt\":\"138\",\"longFmt\":\"138\"},\"strike\":{\"raw\":85,\"fmt\":\"85.00\"},\"change\":{\"raw\":1.2999992,\"fmt\":\"1.30\"},\"inTheMoney\":true,\"impliedVolatility\":{\"raw\":1.140629296875,\"fmt\":\"114.06%\"},\"volume\":{\"raw\":10,\"fmt\":\"10\",\"longFmt\":\"10\"},\"contractSymbol\":\"AAPL160701C00085000\",\"ask\":{\"raw\":10.65,\"fmt\":\"10.65\"},\"lastTradeDate\":{\"raw\":1467316711,\"fmt\":\"2016-06-30\",\"longFmt\":\"2016-06-30T19:58\"},\"expiration\":{\"raw\":1467331200,\"fmt\":\"2016-07-01\",\"longFmt\":\"2016-07-01T00:00\"},\"currency\":\"USD\",\"contractSize\":\"REGULAR\",\"bid\":{\"raw\":10.3,\"fmt\":\"10.30\"},\"lastPrice\":{\"raw\":10.4,\"fmt\":\"10.40\"}},{\"percentChange\":{\"raw\":0,\"fmt\":\"0.00%\"},\"openInterest\":{\"raw\":2,\"fmt\":\"2\",\"longFmt\":\"2\"},\"strike\":{\"raw\":85.5,\"fmt\":\"85.50\"},\"change\":{\"raw\":0,\"fmt\":\"0.00\"},\"inTheMoney\":true,\"impliedVolatility\":{\"raw\":0.500005,\"fmt\":\"50.00%\"},\"volume\":{\"raw\":2,\"fmt\":\"2\",\"longFmt\":\"2\"},\"contractSymbol\":\"AAPL160701C00085500\",\"ask\":{\"raw\":10.3,\"fmt\":\"10.30\"},\"lastTradeDate\":{\"raw\":1463802459,\"fmt\":\"2016-05-21\",\"longFmt\":\"2016-05-21T03:47\"},\"expiration\":{\"raw\":1467331200,\"fmt\":\"2016-07-01\",\"longFmt\":\"2016-07-01T00:00\"},\"currency\":\"USD\",\"contractSize\":\"REGULAR\",\"bid\":{\"raw\":9.9,\"fmt\":\"9.90\"},\"lastPrice\":{\"raw\":8.72,\"fmt\":\"8.72\"}},{\"percentChange\":{\"raw\":18.055557,\"fmt\":\"18.06%\"},\"openInterest\":{\"raw\":7,\"fmt\":\"7\",\"longFmt\":\"7\"},\"strike\":{\"raw\":86,\"fmt\":\"86.00\"},\"change\":{\"raw\":1.3000002,\"fmt\":\"1.30\"},\"inTheMoney\":true,\"impliedVolatility\":{\"raw\":1.0468797656250002,\"fmt\":\"104.69%\"},\"volume\":{\"raw\":7,\"fmt\":\"7\",\"longFmt\":\"7\"},\"contractSymbol\":\"AAPL160701C00086000\",\"ask\":{\"raw\":9.65,\"fmt\":\"9.65\"},\"lastTradeDate\":{\"raw\":1467295114,\"fmt\":\"2016-06-30\",\"longFmt\":\"2016-06-30T13:58\"},\"expiration\":{\"raw\":1467331200,\"fmt\":\"2016-07-01\",\"longFmt\":\"2016-07-01T00:00\"},\"currency\":\"USD\",\"contractSize\":\"REGULAR\",\"bid\":{\"raw\":9.3,\"fmt\":\"9.30\"},\"lastPrice\":{\"raw\":8.5,\"fmt\":\"8.50\"}},{\"percentChange\":{\"raw\":16.999998,\"fmt\":\"17.00%\"},\"openInterest\":{\"raw\":18,\"fmt\":\"18\",\"longFmt\":\"18\"},\"strike\":{\"raw\":87,\"fmt\":\"87.00\"},\"change\":{\"raw\":0.8499999,\"fmt\":\"0.85\"},\"inTheMoney\":true,\"impliedVolatility\":{\"raw\":0.000010000000000000003,\"fmt\":\"0.00%\"},\"volume\":{\"raw\":4,\"fmt\":\"4\",\"longFmt\":\"4\"},\"contractSymbol\":\"AAPL160701C00087000\",\"ask\":{\"raw\":6.75,\"fmt\":\"6.75\"},\"lastTradeDate\":{\"raw\":1467124320,\"fmt\":\"2016-06-28\",\"longFmt\":\"2016-06-28T14:32\"},\"expiration\":{\"raw\":1467331200,\"fmt\":\"2016-07-01\",\"longFmt\":\"2016-07-01T00:00\"},\"currency\":\"USD\",\"contractSize\":\"REGULAR\",\"bid\":{\"raw\":6.5,\"fmt\":\"6.50\"},\"lastPrice\":{\"raw\":5.85,\"fmt\":\"5.85\"}},{\"percentChange\":{\"raw\":0,\"fmt\":\"0.00%\"},\"openInterest\":{\"raw\":0,\"fmt\":\"0\",\"longFmt\":\"0\"},\"strike\":{\"raw\":87.5,\"fmt\":\"87.50\"},\"change\":{\"raw\":0,\"fmt\":\"0.00\"},\"inTheMoney\":true,\"impliedVolatility\":{\"raw\":0.000010000000000000003,\"fmt\":\"0.00%\"},\"volume\":{\"raw\":22,\"fmt\":\"22\",\"longFmt\":\"22\"},\"contractSymbol\":\"AAPL160701C00087500\",\"ask\":{\"raw\":0,\"fmt\":\"0.00\"},\"lastTradeDate\":{\"raw\":1467041154,\"fmt\":\"2016-06-27\",\"longFmt\":\"2016-06-27T15:25\"},\"expiration\":{\"raw\":1467331200,\"fmt\":\"2016-07-01\",\"longFmt\":\"2016-07-01T00:00\"},\"currency\":\"USD\",\"contractSize\":\"REGULAR\",\"bid\":{\"raw\":0,\"fmt\":\"0.00\"},\"lastPrice\":{\"raw\":4.4,\"fmt\":\"4.40\"}},{\"percentChange\":{\"raw\":13.559318,\"fmt\":\"13.56%\"},\"openInterest\":{\"raw\":47,\"fmt\":\"47\",\"longFmt\":\"47\"},\"strike\":{\"raw\":88,\"fmt\":\"88.00\"},\"change\":{\"raw\":0.7999997,\"fmt\":\"0.80\"},\"inTheMoney\":true,\"impliedVolatility\":{\"raw\":0.9687503125,\"fmt\":\"96.88%\"},\"volume\":{\"raw\":3,\"fmt\":\"3\",\"longFmt\":\"3\"},\"contractSymbol\":\"AAPL160701C00088000\",\"ask\":{\"raw\":7.7,\"fmt\":\"7.70\"},\"lastTradeDate\":{\"raw\":1467295831,\"fmt\":\"2016-06-30\",\"longFmt\":\"2016-06-30T14:10\"},\"expiration\":{\"raw\":1467331200,\"fmt\":\"2016-07-01\",\"longFmt\":\"2016-07-01T00:00\"},\"currency\":\"USD\",\"contractSize\":\"REGULAR\",\"bid\":{\"raw\":7.3,\"fmt\":\"7.30\"},\"lastPrice\":{\"raw\":6.7,\"fmt\":\"6.70\"}},{\"percentChange\":{\"raw\":27.970755,\"fmt\":\"27.97%\"},\"openInterest\":{\"raw\":167,\"fmt\":\"167\",\"longFmt\":\"167\"},\"strike\":{\"raw\":88.5,\"fmt\":\"88.50\"},\"change\":{\"raw\":1.5300002,\"fmt\":\"1.53\"},\"inTheMoney\":true,\"impliedVolatility\":{\"raw\":0.914063359375,\"fmt\":\"91.41%\"},\"volume\":{\"raw\":5,\"fmt\":\"5\",\"longFmt\":\"5\"},\"contractSymbol\":\"AAPL160701C00088500\",\"ask\":{\"raw\":7.2,\"fmt\":\"7.20\"},\"lastTradeDate\":{\"raw\":1467309632,\"fmt\":\"2016-06-30\",\"longFmt\":\"2016-06-30T18:00\"},\"expiration\":{\"raw\":1467331200,\"fmt\":\"2016-07-01\",\"longFmt\":\"2016-07-01T00:00\"},\"currency\":\"USD\",\"contractSize\":\"REGULAR\",\"bid\":{\"raw\":6.8,\"fmt\":\"6.80\"},\"lastPrice\":{\"raw\":7,\"fmt\":\"7.00\"}},{\"percentChange\":{\"raw\":6.5420547,\"fmt\":\"6.54%\"},\"openInterest\":{\"raw\":218,\"fmt\":\"218\",\"longFmt\":\"218\"},\"strike\":{\"raw\":89,\"fmt\":\"89.00\"},\"change\":{\"raw\":0.3499999,\"fmt\":\"0.35\"},\"inTheMoney\":true,\"impliedVolatility\":{\"raw\":0.7539087109375,\"fmt\":\"75.39%\"},\"volume\":{\"raw\":20,\"fmt\":\"20\",\"longFmt\":\"20\"},\"contractSymbol\":\"AAPL160701C00089000\",\"ask\":{\"raw\":6.65,\"fmt\":\"6.65\"},\"lastTradeDate\":{\"raw\":1467296068,\"fmt\":\"2016-06-30\",\"longFmt\":\"2016-06-30T14:14\"},\"expiration\":{\"raw\":1467331200,\"fmt\":\"2016-07-01\",\"longFmt\":\"2016-07-01T00:00\"},\"currency\":\"USD\",\"contractSize\":\"REGULAR\",\"bid\":{\"raw\":6.35,\"fmt\":\"6.35\"},\"lastPrice\":{\"raw\":5.7,\"fmt\":\"5.70\"}},{\"percentChange\":{\"raw\":8.454104,\"fmt\":\"8.45%\"},\"openInterest\":{\"raw\":345,\"fmt\":\"345\",\"longFmt\":\"345\"},\"strike\":{\"raw\":89.5,\"fmt\":\"89.50\"},\"change\":{\"raw\":0.3499999,\"fmt\":\"0.35\"},\"inTheMoney\":true,\"impliedVolatility\":{\"raw\":0.000010000000000000003,\"fmt\":\"0.00%\"},\"volume\":{\"raw\":200,\"fmt\":\"200\",\"longFmt\":\"200\"},\"contractSymbol\":\"AAPL160701C00089500\",\"ask\":{\"raw\":5.1,\"fmt\":\"5.10\"},\"lastTradeDate\":{\"raw\":1467210368,\"fmt\":\"2016-06-29\",\"longFmt\":\"2016-06-29T14:26\"},\"expiration\":{\"raw\":1467331200,\"fmt\":\"2016-07-01\",\"longFmt\":\"2016-07-01T00:00\"},\"currency\":\"USD\",\"contractSize\":\"REGULAR\",\"bid\":{\"raw\":4.8,\"fmt\":\"4.80\"},\"lastPrice\":{\"raw\":4.49,\"fmt\":\"4.49\"}},{\"percentChange\":{\"raw\":25.8427,\"fmt\":\"25.84%\"},\"openInterest\":{\"raw\":1279,\"fmt\":\"1,279\",\"longFmt\":\"1,279\"},\"strike\":{\"raw\":90,\"fmt\":\"90.00\"},\"change\":{\"raw\":1.1500001,\"fmt\":\"1.15\"},\"inTheMoney\":true,\"impliedVolatility\":{\"raw\":0.6562534375000001,\"fmt\":\"65.63%\"},\"volume\":{\"raw\":210,\"fmt\":\"210\",\"longFmt\":\"210\"},\"contractSymbol\":\"AAPL160701C00090000\",\"ask\":{\"raw\":5.65,\"fmt\":\"5.65\"},\"lastTradeDate\":{\"raw\":1467315663,\"fmt\":\"2016-06-30\",\"longFmt\":\"2016-06-30T19:41\"},\"expiration\":{\"raw\":1467331200,\"fmt\":\"2016-07-01\",\"longFmt\":\"2016-07-01T00:00\"},\"currency\":\"USD\",\"contractSize\":\"REGULAR\",\"bid\":{\"raw\":5.35,\"fmt\":\"5.35\"},\"lastPrice\":{\"raw\":5.6,\"fmt\":\"5.60\"}},{\"percentChange\":{\"raw\":29.999996,\"fmt\":\"30.00%\"},\"openInterest\":{\"raw\":817,\"fmt\":\"817\",\"longFmt\":\"817\"},\"strike\":{\"raw\":90.5,\"fmt\":\"90.50\"},\"change\":{\"raw\":1.1999998,\"fmt\":\"1.20\"},\"inTheMoney\":true,\"impliedVolatility\":{\"raw\":0.6054726953125001,\"fmt\":\"60.55%\"},\"volume\":{\"raw\":5,\"fmt\":\"5\",\"longFmt\":\"5\"},\"contractSymbol\":\"AAPL160701C00090500\",\"ask\":{\"raw\":5.15,\"fmt\":\"5.15\"},\"lastTradeDate\":{\"raw\":1467312884,\"fmt\":\"2016-06-30\",\"longFmt\":\"2016-06-30T18:54\"},\"expiration\":{\"raw\":1467331200,\"fmt\":\"2016-07-01\",\"longFmt\":\"2016-07-01T00:00\"},\"currency\":\"USD\",\"contractSize\":\"REGULAR\",\"bid\":{\"raw\":4.85,\"fmt\":\"4.85\"},\"lastPrice\":{\"raw\":5.2,\"fmt\":\"5.20\"}},{\"percentChange\":{\"raw\":31.304354,\"fmt\":\"31.30%\"},\"openInterest\":{\"raw\":1717,\"fmt\":\"1,717\",\"longFmt\":\"1,717\"},\"strike\":{\"raw\":91,\"fmt\":\"91.00\"},\"change\":{\"raw\":1.0800002,\"fmt\":\"1.08\"},\"inTheMoney\":true,\"impliedVolatility\":{\"raw\":0.5546919531250001,\"fmt\":\"55.47%\"},\"volume\":{\"raw\":52,\"fmt\":\"52\",\"longFmt\":\"52\"},\"contractSymbol\":\"AAPL160701C00091000\",\"ask\":{\"raw\":4.65,\"fmt\":\"4.65\"},\"lastTradeDate\":{\"raw\":1467310513,\"fmt\":\"2016-06-30\",\"longFmt\":\"2016-06-30T18:15\"},\"expiration\":{\"raw\":1467331200,\"fmt\":\"2016-07-01\",\"longFmt\":\"2016-07-01T00:00\"},\"currency\":\"USD\",\"contractSize\":\"REGULAR\",\"bid\":{\"raw\":4.35,\"fmt\":\"4.35\"},\"lastPrice\":{\"raw\":4.53,\"fmt\":\"4.53\"}},{\"percentChange\":{\"raw\":38.983044,\"fmt\":\"38.98%\"},\"openInterest\":{\"raw\":2271,\"fmt\":\"2,271\",\"longFmt\":\"2,271\"},\"strike\":{\"raw\":91.5,\"fmt\":\"91.50\"},\"change\":{\"raw\":1.1499999,\"fmt\":\"1.15\"},\"inTheMoney\":true,\"impliedVolatility\":{\"raw\":0.5039112109375,\"fmt\":\"50.39%\"},\"volume\":{\"raw\":96,\"fmt\":\"96\",\"longFmt\":\"96\"},\"contractSymbol\":\"AAPL160701C00091500\",\"ask\":{\"raw\":4.15,\"fmt\":\"4.15\"},\"lastTradeDate\":{\"raw\":1467315566,\"fmt\":\"2016-06-30\",\"longFmt\":\"2016-06-30T19:39\"},\"expiration\":{\"raw\":1467331200,\"fmt\":\"2016-07-01\",\"longFmt\":\"2016-07-01T00:00\"},\"currency\":\"USD\",\"contractSize\":\"REGULAR\",\"bid\":{\"raw\":3.85,\"fmt\":\"3.85\"},\"lastPrice\":{\"raw\":4.1,\"fmt\":\"4.10\"}},{\"percentChange\":{\"raw\":42.682926,\"fmt\":\"42.68%\"},\"openInterest\":{\"raw\":3661,\"fmt\":\"3,661\",\"longFmt\":\"3,661\"},\"strike\":{\"raw\":92,\"fmt\":\"92.00\"},\"change\":{\"raw\":1.05,\"fmt\":\"1.05\"},\"inTheMoney\":true,\"impliedVolatility\":{\"raw\":0.45313046875,\"fmt\":\"45.31%\"},\"volume\":{\"raw\":1500,\"fmt\":\"1,500\",\"longFmt\":\"1,500\"},\"contractSymbol\":\"AAPL160701C00092000\",\"ask\":{\"raw\":3.65,\"fmt\":\"3.65\"},\"lastTradeDate\":{\"raw\":1467316778,\"fmt\":\"2016-06-30\",\"longFmt\":\"2016-06-30T19:59\"},\"expiration\":{\"raw\":1467331200,\"fmt\":\"2016-07-01\",\"longFmt\":\"2016-07-01T00:00\"},\"currency\":\"USD\",\"contractSize\":\"REGULAR\",\"bid\":{\"raw\":3.5,\"fmt\":\"3.50\"},\"lastPrice\":{\"raw\":3.51,\"fmt\":\"3.51\"}},{\"percentChange\":{\"raw\":47.500004,\"fmt\":\"47.50%\"},\"openInterest\":{\"raw\":2528,\"fmt\":\"2,528\",\"longFmt\":\"2,528\"},\"strike\":{\"raw\":92.5,\"fmt\":\"92.50\"},\"change\":{\"raw\":0.95000005,\"fmt\":\"0.95\"},\"inTheMoney\":true,\"impliedVolatility\":{\"raw\":0.4023497265625,\"fmt\":\"40.23%\"},\"volume\":{\"raw\":621,\"fmt\":\"621\",\"longFmt\":\"621\"},\"contractSymbol\":\"AAPL160701C00092500\",\"ask\":{\"raw\":3.15,\"fmt\":\"3.15\"},\"lastTradeDate\":{\"raw\":1467316748,\"fmt\":\"2016-06-30\",\"longFmt\":\"2016-06-30T19:59\"},\"expiration\":{\"raw\":1467331200,\"fmt\":\"2016-07-01\",\"longFmt\":\"2016-07-01T00:00\"},\"currency\":\"USD\",\"contractSize\":\"REGULAR\",\"bid\":{\"raw\":2.9,\"fmt\":\"2.90\"},\"lastPrice\":{\"raw\":2.95,\"fmt\":\"2.95\"}},{\"percentChange\":{\"raw\":60.000008,\"fmt\":\"60.00%\"},\"openInterest\":{\"raw\":7391,\"fmt\":\"7,391\",\"longFmt\":\"7,391\"},\"strike\":{\"raw\":93,\"fmt\":\"93.00\"},\"change\":{\"raw\":0.93000007,\"fmt\":\"0.93\"},\"inTheMoney\":true,\"impliedVolatility\":{\"raw\":0.3789124609375,\"fmt\":\"37.89%\"},\"volume\":{\"raw\":1527,\"fmt\":\"1,527\",\"longFmt\":\"1,527\"},\"contractSymbol\":\"AAPL160701C00093000\",\"ask\":{\"raw\":2.67,\"fmt\":\"2.67\"},\"lastTradeDate\":{\"raw\":1467316405,\"fmt\":\"2016-06-30\",\"longFmt\":\"2016-06-30T19:53\"},\"expiration\":{\"raw\":1467331200,\"fmt\":\"2016-07-01\",\"longFmt\":\"2016-07-01T00:00\"},\"currency\":\"USD\",\"contractSize\":\"REGULAR\",\"bid\":{\"raw\":2.52,\"fmt\":\"2.52\"},\"lastPrice\":{\"raw\":2.48,\"fmt\":\"2.48\"}},{\"percentChange\":{\"raw\":68.376076,\"fmt\":\"68.38%\"},\"openInterest\":{\"raw\":5834,\"fmt\":\"5,834\",\"longFmt\":\"5,834\"},\"strike\":{\"raw\":93.5,\"fmt\":\"93.50\"},\"change\":{\"raw\":0.8000001,\"fmt\":\"0.80\"},\"inTheMoney\":true,\"impliedVolatility\":{\"raw\":0.35547519531249994,\"fmt\":\"35.55%\"},\"volume\":{\"raw\":2008,\"fmt\":\"2,008\",\"longFmt\":\"2,008\"},\"contractSymbol\":\"AAPL160701C00093500\",\"ask\":{\"raw\":2.2,\"fmt\":\"2.20\"},\"lastTradeDate\":{\"raw\":1467315912,\"fmt\":\"2016-06-30\",\"longFmt\":\"2016-06-30T19:45\"},\"expiration\":{\"raw\":1467331200,\"fmt\":\"2016-07-01\",\"longFmt\":\"2016-07-01T00:00\"},\"currency\":\"USD\",\"contractSize\":\"REGULAR\",\"bid\":{\"raw\":1.92,\"fmt\":\"1.92\"},\"lastPrice\":{\"raw\":1.97,\"fmt\":\"1.97\"}},{\"percentChange\":{\"raw\":87.5,\"fmt\":\"87.50%\"},\"openInterest\":{\"raw\":10833,\"fmt\":\"10,833\",\"longFmt\":\"10,833\"},\"strike\":{\"raw\":94,\"fmt\":\"94.00\"},\"change\":{\"raw\":0.7,\"fmt\":\"0.70\"},\"inTheMoney\":true,\"impliedVolatility\":{\"raw\":0.30274134765625,\"fmt\":\"30.27%\"},\"volume\":{\"raw\":10616,\"fmt\":\"10,616\",\"longFmt\":\"10,616\"},\"contractSymbol\":\"AAPL160701C00094000\",\"ask\":{\"raw\":1.71,\"fmt\":\"1.71\"},\"lastTradeDate\":{\"raw\":1467316748,\"fmt\":\"2016-06-30\",\"longFmt\":\"2016-06-30T19:59\"},\"expiration\":{\"raw\":1467331200,\"fmt\":\"2016-07-01\",\"longFmt\":\"2016-07-01T00:00\"},\"currency\":\"USD\",\"contractSize\":\"REGULAR\",\"bid\":{\"raw\":1.55,\"fmt\":\"1.55\"},\"lastPrice\":{\"raw\":1.5,\"fmt\":\"1.50\"}},{\"percentChange\":{\"raw\":94.230774,\"fmt\":\"94.23%\"},\"openInterest\":{\"raw\":6078,\"fmt\":\"6,078\",\"longFmt\":\"6,078\"},\"strike\":{\"raw\":94.5,\"fmt\":\"94.50\"},\"change\":{\"raw\":0.49,\"fmt\":\"0.49\"},\"inTheMoney\":true,\"impliedVolatility\":{\"raw\":0.24414818359375,\"fmt\":\"24.41%\"},\"volume\":{\"raw\":13975,\"fmt\":\"13,975\",\"longFmt\":\"13,975\"},\"contractSymbol\":\"AAPL160701C00094500\",\"ask\":{\"raw\":1.22,\"fmt\":\"1.22\"},\"lastTradeDate\":{\"raw\":1467316597,\"fmt\":\"2016-06-30\",\"longFmt\":\"2016-06-30T19:56\"},\"expiration\":{\"raw\":1467331200,\"fmt\":\"2016-07-01\",\"longFmt\":\"2016-07-01T00:00\"},\"currency\":\"USD\",\"contractSize\":\"REGULAR\",\"bid\":{\"raw\":1.06,\"fmt\":\"1.06\"},\"lastPrice\":{\"raw\":1.01,\"fmt\":\"1.01\"}},{\"percentChange\":{\"raw\":162.06897,\"fmt\":\"162.07%\"},\"openInterest\":{\"raw\":16019,\"fmt\":\"16,019\",\"longFmt\":\"16,019\"},\"strike\":{\"raw\":95,\"fmt\":\"95.00\"},\"change\":{\"raw\":0.47,\"fmt\":\"0.47\"},\"inTheMoney\":true,\"impliedVolatility\":{\"raw\":0.21875781249999998,\"fmt\":\"21.88%\"},\"volume\":{\"raw\":15843,\"fmt\":\"15,843\",\"longFmt\":\"15,843\"},\"contractSymbol\":\"AAPL160701C00095000\",\"ask\":{\"raw\":0.8,\"fmt\":\"0.80\"},\"lastTradeDate\":{\"raw\":1467316791,\"fmt\":\"2016-06-30\",\"longFmt\":\"2016-06-30T19:59\"},\"expiration\":{\"raw\":1467331200,\"fmt\":\"2016-07-01\",\"longFmt\":\"2016-07-01T00:00\"},\"currency\":\"USD\",\"contractSize\":\"REGULAR\",\"bid\":{\"raw\":0.72,\"fmt\":\"0.72\"},\"lastPrice\":{\"raw\":0.76,\"fmt\":\"0.76\"}},{\"percentChange\":{\"raw\":166.66666,\"fmt\":\"166.67%\"},\"openInterest\":{\"raw\":6588,\"fmt\":\"6,588\",\"longFmt\":\"6,588\"},\"strike\":{\"raw\":95.5,\"fmt\":\"95.50\"},\"change\":{\"raw\":0.25,\"fmt\":\"0.25\"},\"inTheMoney\":true,\"impliedVolatility\":{\"raw\":0.20410952148437497,\"fmt\":\"20.41%\"},\"volume\":{\"raw\":12883,\"fmt\":\"12,883\",\"longFmt\":\"12,883\"},\"contractSymbol\":\"AAPL160701C00095500\",\"ask\":{\"raw\":0.46,\"fmt\":\"0.46\"},\"lastTradeDate\":{\"raw\":1467316780,\"fmt\":\"2016-06-30\",\"longFmt\":\"2016-06-30T19:59\"},\"expiration\":{\"raw\":1467331200,\"fmt\":\"2016-07-01\",\"longFmt\":\"2016-07-01T00:00\"},\"currency\":\"USD\",\"contractSize\":\"REGULAR\",\"bid\":{\"raw\":0.4,\"fmt\":\"0.40\"},\"lastPrice\":{\"raw\":0.4,\"fmt\":\"0.40\"}},{\"percentChange\":{\"raw\":150.00002,\"fmt\":\"150.00%\"},\"openInterest\":{\"raw\":12812,\"fmt\":\"12,812\",\"longFmt\":\"12,812\"},\"strike\":{\"raw\":96,\"fmt\":\"96.00\"},\"change\":{\"raw\":0.120000005,\"fmt\":\"0.12\"},\"inTheMoney\":false,\"impliedVolatility\":{\"raw\":0.18262536132812499,\"fmt\":\"18.26%\"},\"volume\":{\"raw\":18595,\"fmt\":\"18,595\",\"longFmt\":\"18,595\"},\"contractSymbol\":\"AAPL160701C00096000\",\"ask\":{\"raw\":0.2,\"fmt\":\"0.20\"},\"lastTradeDate\":{\"raw\":1467316800,\"fmt\":\"2016-06-30\",\"longFmt\":\"2016-06-30T20:00\"},\"expiration\":{\"raw\":1467331200,\"fmt\":\"2016-07-01\",\"longFmt\":\"2016-07-01T00:00\"},\"currency\":\"USD\",\"contractSize\":\"REGULAR\",\"bid\":{\"raw\":0.19,\"fmt\":\"0.19\"},\"lastPrice\":{\"raw\":0.2,\"fmt\":\"0.20\"}},{\"percentChange\":{\"raw\":100,\"fmt\":\"100.00%\"},\"openInterest\":{\"raw\":4518,\"fmt\":\"4,518\",\"longFmt\":\"4,518\"},\"strike\":{\"raw\":96.5,\"fmt\":\"96.50\"},\"change\":{\"raw\":0.04,\"fmt\":\"0.04\"},\"inTheMoney\":false,\"impliedVolatility\":{\"raw\":0.1914143359375,\"fmt\":\"19.14%\"},\"volume\":{\"raw\":6332,\"fmt\":\"6,332\",\"longFmt\":\"6,332\"},\"contractSymbol\":\"AAPL160701C00096500\",\"ask\":{\"raw\":0.09,\"fmt\":\"0.09\"},\"lastTradeDate\":{\"raw\":1467316786,\"fmt\":\"2016-06-30\",\"longFmt\":\"2016-06-30T19:59\"},\"expiration\":{\"raw\":1467331200,\"fmt\":\"2016-07-01\",\"longFmt\":\"2016-07-01T00:00\"},\"currency\":\"USD\",\"contractSize\":\"REGULAR\",\"bid\":{\"raw\":0.07,\"fmt\":\"0.07\"},\"lastPrice\":{\"raw\":0.08,\"fmt\":\"0.08\"}},{\"percentChange\":{\"raw\":0,\"fmt\":\"0.00%\"},\"openInterest\":{\"raw\":4616,\"fmt\":\"4,616\",\"longFmt\":\"4,616\"},\"strike\":{\"raw\":97,\"fmt\":\"97.00\"},\"change\":{\"raw\":0,\"fmt\":\"0.00\"},\"inTheMoney\":false,\"impliedVolatility\":{\"raw\":0.17188328125000002,\"fmt\":\"17.19%\"},\"volume\":{\"raw\":5973,\"fmt\":\"5,973\",\"longFmt\":\"5,973\"},\"contractSymbol\":\"AAPL160701C00097000\",\"ask\":{\"raw\":0.02,\"fmt\":\"0.02\"},\"lastTradeDate\":{\"raw\":1467316772,\"fmt\":\"2016-06-30\",\"longFmt\":\"2016-06-30T19:59\"},\"expiration\":{\"raw\":1467331200,\"fmt\":\"2016-07-01\",\"longFmt\":\"2016-07-01T00:00\"},\"currency\":\"USD\",\"contractSize\":\"REGULAR\",\"bid\":{\"raw\":0.01,\"fmt\":\"0.01\"},\"lastPrice\":{\"raw\":0.02,\"fmt\":\"0.02\"}},{\"percentChange\":{\"raw\":0,\"fmt\":\"0.00%\"},\"openInterest\":{\"raw\":2527,\"fmt\":\"2,527\",\"longFmt\":\"2,527\"},\"strike\":{\"raw\":97.5,\"fmt\":\"97.50\"},\"change\":{\"raw\":0,\"fmt\":\"0.00\"},\"inTheMoney\":false,\"impliedVolatility\":{\"raw\":0.195320546875,\"fmt\":\"19.53%\"},\"volume\":{\"raw\":435,\"fmt\":\"435\",\"longFmt\":\"435\"},\"contractSymbol\":\"AAPL160701C00097500\",\"ask\":{\"raw\":0.01,\"fmt\":\"0.01\"},\"lastTradeDate\":{\"raw\":1467316731,\"fmt\":\"2016-06-30\",\"longFmt\":\"2016-06-30T19:58\"},\"expiration\":{\"raw\":1467331200,\"fmt\":\"2016-07-01\",\"longFmt\":\"2016-07-01T00:00\"},\"currency\":\"USD\",\"contractSize\":\"REGULAR\",\"bid\":{\"raw\":0.01,\"fmt\":\"0.01\"},\"lastPrice\":{\"raw\":0.01,\"fmt\":\"0.01\"}},{\"percentChange\":{\"raw\":0,\"fmt\":\"0.00%\"},\"openInterest\":{\"raw\":5041,\"fmt\":\"5,041\",\"longFmt\":\"5,041\"},\"strike\":{\"raw\":98,\"fmt\":\"98.00\"},\"change\":{\"raw\":0,\"fmt\":\"0.00\"},\"inTheMoney\":false,\"impliedVolatility\":{\"raw\":0.23438265625,\"fmt\":\"23.44%\"},\"volume\":{\"raw\":139,\"fmt\":\"139\",\"longFmt\":\"139\"},\"contractSymbol\":\"AAPL160701C00098000\",\"ask\":{\"raw\":0.01,\"fmt\":\"0.01\"},\"lastTradeDate\":{\"raw\":1467315659,\"fmt\":\"2016-06-30\",\"longFmt\":\"2016-06-30T19:40\"},\"expiration\":{\"raw\":1467331200,\"fmt\":\"2016-07-01\",\"longFmt\":\"2016-07-01T00:00\"},\"currency\":\"USD\",\"contractSize\":\"REGULAR\",\"bid\":{\"raw\":0,\"fmt\":\"0.00\"},\"lastPrice\":{\"raw\":0.01,\"fmt\":\"0.01\"}},{\"percentChange\":{\"raw\":0,\"fmt\":\"0.00%\"},\"openInterest\":{\"raw\":0,\"fmt\":\"0\",\"longFmt\":\"0\"},\"strike\":{\"raw\":98.5,\"fmt\":\"98.50\"},\"change\":{\"raw\":0,\"fmt\":\"0.00\"},\"inTheMoney\":false,\"impliedVolatility\":{\"raw\":0.12500875,\"fmt\":\"12.50%\"},\"volume\":{\"raw\":426,\"fmt\":\"426\",\"longFmt\":\"426\"},\"contractSymbol\":\"AAPL160701C00098500\",\"ask\":{\"raw\":0,\"fmt\":\"0.00\"},\"lastTradeDate\":{\"raw\":1467057550,\"fmt\":\"2016-06-27\",\"longFmt\":\"2016-06-27T19:59\"},\"expiration\":{\"raw\":1467331200,\"fmt\":\"2016-07-01\",\"longFmt\":\"2016-07-01T00:00\"},\"currency\":\"USD\",\"contractSize\":\"REGULAR\",\"bid\":{\"raw\":0,\"fmt\":\"0.00\"},\"lastPrice\":{\"raw\":0.01,\"fmt\":\"0.01\"}},{\"percentChange\":{\"raw\":0,\"fmt\":\"0.00%\"},\"openInterest\":{\"raw\":3533,\"fmt\":\"3,533\",\"longFmt\":\"3,533\"},\"strike\":{\"raw\":99,\"fmt\":\"99.00\"},\"change\":{\"raw\":0,\"fmt\":\"0.00\"},\"inTheMoney\":false,\"impliedVolatility\":{\"raw\":0.35156898437499995,\"fmt\":\"35.16%\"},\"volume\":{\"raw\":54,\"fmt\":\"54\",\"longFmt\":\"54\"},\"contractSymbol\":\"AAPL160701C00099000\",\"ask\":{\"raw\":0.02,\"fmt\":\"0.02\"},\"lastTradeDate\":{\"raw\":1467316722,\"fmt\":\"2016-06-30\",\"longFmt\":\"2016-06-30T19:58\"},\"expiration\":{\"raw\":1467331200,\"fmt\":\"2016-07-01\",\"longFmt\":\"2016-07-01T00:00\"},\"currency\":\"USD\",\"contractSize\":\"REGULAR\",\"bid\":{\"raw\":0,\"fmt\":\"0.00\"},\"lastPrice\":{\"raw\":0.01,\"fmt\":\"0.01\"}},{\"percentChange\":{\"raw\":100,\"fmt\":\"100.00%\"},\"openInterest\":{\"raw\":2370,\"fmt\":\"2,370\",\"longFmt\":\"2,370\"},\"strike\":{\"raw\":99.5,\"fmt\":\"99.50\"},\"change\":{\"raw\":0.01,\"fmt\":\"0.01\"},\"inTheMoney\":false,\"impliedVolatility\":{\"raw\":0.35156898437499995,\"fmt\":\"35.16%\"},\"volume\":{\"raw\":1,\"fmt\":\"1\",\"longFmt\":\"1\"},\"contractSymbol\":\"AAPL160701C00099500\",\"ask\":{\"raw\":0.01,\"fmt\":\"0.01\"},\"lastTradeDate\":{\"raw\":1467302240,\"fmt\":\"2016-06-30\",\"longFmt\":\"2016-06-30T15:57\"},\"expiration\":{\"raw\":1467331200,\"fmt\":\"2016-07-01\",\"longFmt\":\"2016-07-01T00:00\"},\"currency\":\"USD\",\"contractSize\":\"REGULAR\",\"bid\":{\"raw\":0,\"fmt\":\"0.00\"},\"lastPrice\":{\"raw\":0.02,\"fmt\":\"0.02\"}},{\"percentChange\":{\"raw\":0,\"fmt\":\"0.00%\"},\"openInterest\":{\"raw\":22936,\"fmt\":\"22,936\",\"longFmt\":\"22,936\"},\"strike\":{\"raw\":100,\"fmt\":\"100.00\"},\"change\":{\"raw\":0,\"fmt\":\"0.00\"},\"inTheMoney\":false,\"impliedVolatility\":{\"raw\":0.39063109375,\"fmt\":\"39.06%\"},\"volume\":{\"raw\":54,\"fmt\":\"54\",\"longFmt\":\"54\"},\"contractSymbol\":\"AAPL160701C00100000\",\"ask\":{\"raw\":0.01,\"fmt\":\"0.01\"},\"lastTradeDate\":{\"raw\":1467315502,\"fmt\":\"2016-06-30\",\"longFmt\":\"2016-06-30T19:38\"},\"expiration\":{\"raw\":1467331200,\"fmt\":\"2016-07-01\",\"longFmt\":\"2016-07-01T00:00\"},\"currency\":\"USD\",\"contractSize\":\"REGULAR\",\"bid\":{\"raw\":0,\"fmt\":\"0.00\"},\"lastPrice\":{\"raw\":0.01,\"fmt\":\"0.01\"}},{\"percentChange\":{\"raw\":0,\"fmt\":\"0.00%\"},\"openInterest\":{\"raw\":3256,\"fmt\":\"3,256\",\"longFmt\":\"3,256\"},\"strike\":{\"raw\":101,\"fmt\":\"101.00\"},\"change\":{\"raw\":0,\"fmt\":\"0.00\"},\"inTheMoney\":false,\"impliedVolatility\":{\"raw\":0.4687553125,\"fmt\":\"46.88%\"},\"volume\":{\"raw\":181,\"fmt\":\"181\",\"longFmt\":\"181\"},\"contractSymbol\":\"AAPL160701C00101000\",\"ask\":{\"raw\":0.01,\"fmt\":\"0.01\"},\"lastTradeDate\":{\"raw\":1467310267,\"fmt\":\"2016-06-30\",\"longFmt\":\"2016-06-30T18:11\"},\"expiration\":{\"raw\":1467331200,\"fmt\":\"2016-07-01\",\"longFmt\":\"2016-07-01T00:00\"},\"currency\":\"USD\",\"contractSize\":\"REGULAR\",\"bid\":{\"raw\":0,\"fmt\":\"0.00\"},\"lastPrice\":{\"raw\":0.02,\"fmt\":\"0.02\"}},{\"percentChange\":{\"raw\":-50,\"fmt\":\"-50.00%\"},\"openInterest\":{\"raw\":2560,\"fmt\":\"2,560\",\"longFmt\":\"2,560\"},\"strike\":{\"raw\":102,\"fmt\":\"102.00\"},\"change\":{\"raw\":-0.01,\"fmt\":\"-0.01\"},\"inTheMoney\":false,\"impliedVolatility\":{\"raw\":0.500005,\"fmt\":\"50.00%\"},\"volume\":{\"raw\":8,\"fmt\":\"8\",\"longFmt\":\"8\"},\"contractSymbol\":\"AAPL160701C00102000\",\"ask\":{\"raw\":0.01,\"fmt\":\"0.01\"},\"lastTradeDate\":{\"raw\":1467315499,\"fmt\":\"2016-06-30\",\"longFmt\":\"2016-06-30T19:38\"},\"expiration\":{\"raw\":1467331200,\"fmt\":\"2016-07-01\",\"longFmt\":\"2016-07-01T00:00\"},\"currency\":\"USD\",\"contractSize\":\"REGULAR\",\"bid\":{\"raw\":0,\"fmt\":\"0.00\"},\"lastPrice\":{\"raw\":0.01,\"fmt\":\"0.01\"}},{\"percentChange\":{\"raw\":100,\"fmt\":\"100.00%\"},\"openInterest\":{\"raw\":3371,\"fmt\":\"3,371\",\"longFmt\":\"3,371\"},\"strike\":{\"raw\":103,\"fmt\":\"103.00\"},\"change\":{\"raw\":0.01,\"fmt\":\"0.01\"},\"inTheMoney\":false,\"impliedVolatility\":{\"raw\":0.5625043750000001,\"fmt\":\"56.25%\"},\"volume\":{\"raw\":18,\"fmt\":\"18\",\"longFmt\":\"18\"},\"contractSymbol\":\"AAPL160701C00103000\",\"ask\":{\"raw\":0.01,\"fmt\":\"0.01\"},\"lastTradeDate\":{\"raw\":1467296021,\"fmt\":\"2016-06-30\",\"longFmt\":\"2016-06-30T14:13\"},\"expiration\":{\"raw\":1467331200,\"fmt\":\"2016-07-01\",\"longFmt\":\"2016-07-01T00:00\"},\"currency\":\"USD\",\"contractSize\":\"REGULAR\",\"bid\":{\"raw\":0,\"fmt\":\"0.00\"},\"lastPrice\":{\"raw\":0.02,\"fmt\":\"0.02\"}},{\"percentChange\":{\"raw\":-66.66667,\"fmt\":\"-66.67%\"},\"openInterest\":{\"raw\":680,\"fmt\":\"680\",\"longFmt\":\"680\"},\"strike\":{\"raw\":104,\"fmt\":\"104.00\"},\"change\":{\"raw\":-0.02,\"fmt\":\"-0.02\"},\"inTheMoney\":false,\"impliedVolatility\":{\"raw\":0.6718782812500002,\"fmt\":\"67.19%\"},\"volume\":{\"raw\":6,\"fmt\":\"6\",\"longFmt\":\"6\"},\"contractSymbol\":\"AAPL160701C00104000\",\"ask\":{\"raw\":0.01,\"fmt\":\"0.01\"},\"lastTradeDate\":{\"raw\":1466796335,\"fmt\":\"2016-06-24\",\"longFmt\":\"2016-06-24T19:25\"},\"expiration\":{\"raw\":1467331200,\"fmt\":\"2016-07-01\",\"longFmt\":\"2016-07-01T00:00\"},\"currency\":\"USD\",\"contractSize\":\"REGULAR\",\"bid\":{\"raw\":0.01,\"fmt\":\"0.01\"},\"lastPrice\":{\"raw\":0.01,\"fmt\":\"0.01\"}},{\"percentChange\":{\"raw\":0,\"fmt\":\"0.00%\"},\"openInterest\":{\"raw\":8606,\"fmt\":\"8,606\",\"longFmt\":\"8,606\"},\"strike\":{\"raw\":105,\"fmt\":\"105.00\"},\"change\":{\"raw\":0,\"fmt\":\"0.00\"},\"inTheMoney\":false,\"impliedVolatility\":{\"raw\":0.6875031250000001,\"fmt\":\"68.75%\"},\"volume\":{\"raw\":62,\"fmt\":\"62\",\"longFmt\":\"62\"},\"contractSymbol\":\"AAPL160701C00105000\",\"ask\":{\"raw\":0.01,\"fmt\":\"0.01\"},\"lastTradeDate\":{\"raw\":1466786015,\"fmt\":\"2016-06-24\",\"longFmt\":\"2016-06-24T16:33\"},\"expiration\":{\"raw\":1467331200,\"fmt\":\"2016-07-01\",\"longFmt\":\"2016-07-01T00:00\"},\"currency\":\"USD\",\"contractSize\":\"REGULAR\",\"bid\":{\"raw\":0,\"fmt\":\"0.00\"},\"lastPrice\":{\"raw\":0.01,\"fmt\":\"0.01\"}},{\"percentChange\":{\"raw\":-50,\"fmt\":\"-50.00%\"},\"openInterest\":{\"raw\":462,\"fmt\":\"462\",\"longFmt\":\"462\"},\"strike\":{\"raw\":106,\"fmt\":\"106.00\"},\"change\":{\"raw\":-0.01,\"fmt\":\"-0.01\"},\"inTheMoney\":false,\"impliedVolatility\":{\"raw\":0.8125018749999999,\"fmt\":\"81.25%\"},\"volume\":{\"raw\":10,\"fmt\":\"10\",\"longFmt\":\"10\"},\"contractSymbol\":\"AAPL160701C00106000\",\"ask\":{\"raw\":0.02,\"fmt\":\"0.02\"},\"lastTradeDate\":{\"raw\":1466521951,\"fmt\":\"2016-06-21\",\"longFmt\":\"2016-06-21T15:12\"},\"expiration\":{\"raw\":1467331200,\"fmt\":\"2016-07-01\",\"longFmt\":\"2016-07-01T00:00\"},\"currency\":\"USD\",\"contractSize\":\"REGULAR\",\"bid\":{\"raw\":0,\"fmt\":\"0.00\"},\"lastPrice\":{\"raw\":0.01,\"fmt\":\"0.01\"}},{\"percentChange\":{\"raw\":-50,\"fmt\":\"-50.00%\"},\"openInterest\":{\"raw\":783,\"fmt\":\"783\",\"longFmt\":\"783\"},\"strike\":{\"raw\":107,\"fmt\":\"107.00\"},\"change\":{\"raw\":-0.02,\"fmt\":\"-0.02\"},\"inTheMoney\":false,\"impliedVolatility\":{\"raw\":0.9765627343750001,\"fmt\":\"97.66%\"},\"volume\":{\"raw\":5,\"fmt\":\"5\",\"longFmt\":\"5\"},\"contractSymbol\":\"AAPL160701C00107000\",\"ask\":{\"raw\":0.03,\"fmt\":\"0.03\"},\"lastTradeDate\":{\"raw\":1466176056,\"fmt\":\"2016-06-17\",\"longFmt\":\"2016-06-17T15:07\"},\"expiration\":{\"raw\":1467331200,\"fmt\":\"2016-07-01\",\"longFmt\":\"2016-07-01T00:00\"},\"currency\":\"USD\",\"contractSize\":\"REGULAR\",\"bid\":{\"raw\":0.02,\"fmt\":\"0.02\"},\"lastPrice\":{\"raw\":0.02,\"fmt\":\"0.02\"}},{\"percentChange\":{\"raw\":-66.66667,\"fmt\":\"-66.67%\"},\"openInterest\":{\"raw\":1422,\"fmt\":\"1,422\",\"longFmt\":\"1,422\"},\"strike\":{\"raw\":110,\"fmt\":\"110.00\"},\"change\":{\"raw\":-0.02,\"fmt\":\"-0.02\"},\"inTheMoney\":false,\"impliedVolatility\":{\"raw\":1.109379453125,\"fmt\":\"110.94%\"},\"volume\":{\"raw\":3,\"fmt\":\"3\",\"longFmt\":\"3\"},\"contractSymbol\":\"AAPL160701C00110000\",\"ask\":{\"raw\":0.02,\"fmt\":\"0.02\"},\"lastTradeDate\":{\"raw\":1466189042,\"fmt\":\"2016-06-17\",\"longFmt\":\"2016-06-17T18:44\"},\"expiration\":{\"raw\":1467331200,\"fmt\":\"2016-07-01\",\"longFmt\":\"2016-07-01T00:00\"},\"currency\":\"USD\",\"contractSize\":\"REGULAR\",\"bid\":{\"raw\":0.01,\"fmt\":\"0.01\"},\"lastPrice\":{\"raw\":0.01,\"fmt\":\"0.01\"}}],\"puts\":[{\"percentChange\":{\"raw\":0,\"fmt\":\"0.00%\"},\"openInterest\":{\"raw\":0,\"fmt\":\"0\",\"longFmt\":\"0\"},\"strike\":{\"raw\":70,\"fmt\":\"70.00\"},\"change\":{\"raw\":0,\"fmt\":\"0.00\"},\"inTheMoney\":false,\"impliedVolatility\":{\"raw\":2.5781285546875,\"fmt\":\"257.81%\"},\"volume\":{\"raw\":10,\"fmt\":\"10\",\"longFmt\":\"10\"},\"contractSymbol\":\"AAPL160701P00070000\",\"ask\":{\"raw\":0.08,\"fmt\":\"0.08\"},\"lastTradeDate\":{\"raw\":1466826680,\"fmt\":\"2016-06-25\",\"longFmt\":\"2016-06-25T03:51\"},\"expiration\":{\"raw\":1467331200,\"fmt\":\"2016-07-01\",\"longFmt\":\"2016-07-01T00:00\"},\"currency\":\"USD\",\"contractSize\":\"REGULAR\",\"bid\":{\"raw\":0,\"fmt\":\"0.00\"},\"lastPrice\":{\"raw\":0.01,\"fmt\":\"0.01\"}},{\"percentChange\":{\"raw\":0,\"fmt\":\"0.00%\"},\"openInterest\":{\"raw\":0,\"fmt\":\"0\",\"longFmt\":\"0\"},\"strike\":{\"raw\":75,\"fmt\":\"75.00\"},\"change\":{\"raw\":0,\"fmt\":\"0.00\"},\"inTheMoney\":false,\"impliedVolatility\":{\"raw\":0.500005,\"fmt\":\"50.00%\"},\"volume\":{\"raw\":109,\"fmt\":\"109\",\"longFmt\":\"109\"},\"contractSymbol\":\"AAPL160701P00075000\",\"ask\":{\"raw\":0,\"fmt\":\"0.00\"},\"lastTradeDate\":{\"raw\":1467048084,\"fmt\":\"2016-06-27\",\"longFmt\":\"2016-06-27T17:21\"},\"expiration\":{\"raw\":1467331200,\"fmt\":\"2016-07-01\",\"longFmt\":\"2016-07-01T00:00\"},\"currency\":\"USD\",\"contractSize\":\"REGULAR\",\"bid\":{\"raw\":0,\"fmt\":\"0.00\"},\"lastPrice\":{\"raw\":0.01,\"fmt\":\"0.01\"}},{\"percentChange\":{\"raw\":0,\"fmt\":\"0.00%\"},\"openInterest\":{\"raw\":0,\"fmt\":\"0\",\"longFmt\":\"0\"},\"strike\":{\"raw\":80,\"fmt\":\"80.00\"},\"change\":{\"raw\":0,\"fmt\":\"0.00\"},\"inTheMoney\":false,\"impliedVolatility\":{\"raw\":0.500005,\"fmt\":\"50.00%\"},\"volume\":{\"raw\":2072,\"fmt\":\"2,072\",\"longFmt\":\"2,072\"},\"contractSymbol\":\"AAPL160701P00080000\",\"ask\":{\"raw\":0,\"fmt\":\"0.00\"},\"lastTradeDate\":{\"raw\":1467052688,\"fmt\":\"2016-06-27\",\"longFmt\":\"2016-06-27T18:38\"},\"expiration\":{\"raw\":1467331200,\"fmt\":\"2016-07-01\",\"longFmt\":\"2016-07-01T00:00\"},\"currency\":\"USD\",\"contractSize\":\"REGULAR\",\"bid\":{\"raw\":0,\"fmt\":\"0.00\"},\"lastPrice\":{\"raw\":0.01,\"fmt\":\"0.01\"}},{\"percentChange\":{\"raw\":-50,\"fmt\":\"-50.00%\"},\"openInterest\":{\"raw\":1625,\"fmt\":\"1,625\",\"longFmt\":\"1,625\"},\"strike\":{\"raw\":81,\"fmt\":\"81.00\"},\"change\":{\"raw\":-0.01,\"fmt\":\"-0.01\"},\"inTheMoney\":false,\"impliedVolatility\":{\"raw\":1.15625421875,\"fmt\":\"115.63%\"},\"volume\":{\"raw\":1200,\"fmt\":\"1,200\",\"longFmt\":\"1,200\"},\"contractSymbol\":\"AAPL160701P00081000\",\"ask\":{\"raw\":0.01,\"fmt\":\"0.01\"},\"lastTradeDate\":{\"raw\":1467121406,\"fmt\":\"2016-06-28\",\"longFmt\":\"2016-06-28T13:43\"},\"expiration\":{\"raw\":1467331200,\"fmt\":\"2016-07-01\",\"longFmt\":\"2016-07-01T00:00\"},\"currency\":\"USD\",\"contractSize\":\"REGULAR\",\"bid\":{\"raw\":0,\"fmt\":\"0.00\"},\"lastPrice\":{\"raw\":0.01,\"fmt\":\"0.01\"}},{\"percentChange\":{\"raw\":-50,\"fmt\":\"-50.00%\"},\"openInterest\":{\"raw\":942,\"fmt\":\"942\",\"longFmt\":\"942\"},\"strike\":{\"raw\":82,\"fmt\":\"82.00\"},\"change\":{\"raw\":-0.01,\"fmt\":\"-0.01\"},\"inTheMoney\":false,\"impliedVolatility\":{\"raw\":1.0625046875000002,\"fmt\":\"106.25%\"},\"volume\":{\"raw\":265,\"fmt\":\"265\",\"longFmt\":\"265\"},\"contractSymbol\":\"AAPL160701P00082000\",\"ask\":{\"raw\":0.01,\"fmt\":\"0.01\"},\"lastTradeDate\":{\"raw\":1467121390,\"fmt\":\"2016-06-28\",\"longFmt\":\"2016-06-28T13:43\"},\"expiration\":{\"raw\":1467331200,\"fmt\":\"2016-07-01\",\"longFmt\":\"2016-07-01T00:00\"},\"currency\":\"USD\",\"contractSize\":\"REGULAR\",\"bid\":{\"raw\":0,\"fmt\":\"0.00\"},\"lastPrice\":{\"raw\":0.01,\"fmt\":\"0.01\"}},{\"percentChange\":{\"raw\":-50,\"fmt\":\"-50.00%\"},\"openInterest\":{\"raw\":1116,\"fmt\":\"1,116\",\"longFmt\":\"1,116\"},\"strike\":{\"raw\":83,\"fmt\":\"83.00\"},\"change\":{\"raw\":-0.01,\"fmt\":\"-0.01\"},\"inTheMoney\":false,\"impliedVolatility\":{\"raw\":1.0781296093750001,\"fmt\":\"107.81%\"},\"volume\":{\"raw\":511,\"fmt\":\"511\",\"longFmt\":\"511\"},\"contractSymbol\":\"AAPL160701P00083000\",\"ask\":{\"raw\":0.01,\"fmt\":\"0.01\"},\"lastTradeDate\":{\"raw\":1467143353,\"fmt\":\"2016-06-28\",\"longFmt\":\"2016-06-28T19:49\"},\"expiration\":{\"raw\":1467331200,\"fmt\":\"2016-07-01\",\"longFmt\":\"2016-07-01T00:00\"},\"currency\":\"USD\",\"contractSize\":\"REGULAR\",\"bid\":{\"raw\":0.01,\"fmt\":\"0.01\"},\"lastPrice\":{\"raw\":0.01,\"fmt\":\"0.01\"}},{\"percentChange\":{\"raw\":-66.66667,\"fmt\":\"-66.67%\"},\"openInterest\":{\"raw\":5153,\"fmt\":\"5,153\",\"longFmt\":\"5,153\"},\"strike\":{\"raw\":84,\"fmt\":\"84.00\"},\"change\":{\"raw\":-0.02,\"fmt\":\"-0.02\"},\"inTheMoney\":false,\"impliedVolatility\":{\"raw\":0.992187578125,\"fmt\":\"99.22%\"},\"volume\":{\"raw\":2889,\"fmt\":\"2,889\",\"longFmt\":\"2,889\"},\"contractSymbol\":\"AAPL160701P00084000\",\"ask\":{\"raw\":0.01,\"fmt\":\"0.01\"},\"lastTradeDate\":{\"raw\":1467143146,\"fmt\":\"2016-06-28\",\"longFmt\":\"2016-06-28T19:45\"},\"expiration\":{\"raw\":1467331200,\"fmt\":\"2016-07-01\",\"longFmt\":\"2016-07-01T00:00\"},\"currency\":\"USD\",\"contractSize\":\"REGULAR\",\"bid\":{\"raw\":0.01,\"fmt\":\"0.01\"},\"lastPrice\":{\"raw\":0.01,\"fmt\":\"0.01\"}},{\"percentChange\":{\"raw\":-50,\"fmt\":\"-50.00%\"},\"openInterest\":{\"raw\":3050,\"fmt\":\"3,050\",\"longFmt\":\"3,050\"},\"strike\":{\"raw\":85,\"fmt\":\"85.00\"},\"change\":{\"raw\":-0.01,\"fmt\":\"-0.01\"},\"inTheMoney\":false,\"impliedVolatility\":{\"raw\":0.9062509375,\"fmt\":\"90.63%\"},\"volume\":{\"raw\":26,\"fmt\":\"26\",\"longFmt\":\"26\"},\"contractSymbol\":\"AAPL160701P00085000\",\"ask\":{\"raw\":0.01,\"fmt\":\"0.01\"},\"lastTradeDate\":{\"raw\":1467305152,\"fmt\":\"2016-06-30\",\"longFmt\":\"2016-06-30T16:45\"},\"expiration\":{\"raw\":1467331200,\"fmt\":\"2016-07-01\",\"longFmt\":\"2016-07-01T00:00\"},\"currency\":\"USD\",\"contractSize\":\"REGULAR\",\"bid\":{\"raw\":0.01,\"fmt\":\"0.01\"},\"lastPrice\":{\"raw\":0.01,\"fmt\":\"0.01\"}},{\"percentChange\":{\"raw\":-79.99999,\"fmt\":\"-80.00%\"},\"openInterest\":{\"raw\":361,\"fmt\":\"361\",\"longFmt\":\"361\"},\"strike\":{\"raw\":85.5,\"fmt\":\"85.50\"},\"change\":{\"raw\":-0.04,\"fmt\":\"-0.04\"},\"inTheMoney\":false,\"impliedVolatility\":{\"raw\":0.87500125,\"fmt\":\"87.50%\"},\"volume\":{\"raw\":866,\"fmt\":\"866\",\"longFmt\":\"866\"},\"contractSymbol\":\"AAPL160701P00085500\",\"ask\":{\"raw\":0.01,\"fmt\":\"0.01\"},\"lastTradeDate\":{\"raw\":1467143382,\"fmt\":\"2016-06-28\",\"longFmt\":\"2016-06-28T19:49\"},\"expiration\":{\"raw\":1467331200,\"fmt\":\"2016-07-01\",\"longFmt\":\"2016-07-01T00:00\"},\"currency\":\"USD\",\"contractSize\":\"REGULAR\",\"bid\":{\"raw\":0.01,\"fmt\":\"0.01\"},\"lastPrice\":{\"raw\":0.01,\"fmt\":\"0.01\"}},{\"percentChange\":{\"raw\":-83.33333,\"fmt\":\"-83.33%\"},\"openInterest\":{\"raw\":1162,\"fmt\":\"1,162\",\"longFmt\":\"1,162\"},\"strike\":{\"raw\":86,\"fmt\":\"86.00\"},\"change\":{\"raw\":-0.049999997,\"fmt\":\"-0.05\"},\"inTheMoney\":false,\"impliedVolatility\":{\"raw\":0.87500125,\"fmt\":\"87.50%\"},\"volume\":{\"raw\":970,\"fmt\":\"970\",\"longFmt\":\"970\"},\"contractSymbol\":\"AAPL160701P00086000\",\"ask\":{\"raw\":0.02,\"fmt\":\"0.02\"},\"lastTradeDate\":{\"raw\":1467143691,\"fmt\":\"2016-06-28\",\"longFmt\":\"2016-06-28T19:54\"},\"expiration\":{\"raw\":1467331200,\"fmt\":\"2016-07-01\",\"longFmt\":\"2016-07-01T00:00\"},\"currency\":\"USD\",\"contractSize\":\"REGULAR\",\"bid\":{\"raw\":0.01,\"fmt\":\"0.01\"},\"lastPrice\":{\"raw\":0.01,\"fmt\":\"0.01\"}},{\"percentChange\":{\"raw\":-92.30769,\"fmt\":\"-92.31%\"},\"openInterest\":{\"raw\":528,\"fmt\":\"528\",\"longFmt\":\"528\"},\"strike\":{\"raw\":86.5,\"fmt\":\"86.50\"},\"change\":{\"raw\":-0.12,\"fmt\":\"-0.12\"},\"inTheMoney\":false,\"impliedVolatility\":{\"raw\":0.8281267187499999,\"fmt\":\"82.81%\"},\"volume\":{\"raw\":275,\"fmt\":\"275\",\"longFmt\":\"275\"},\"contractSymbol\":\"AAPL160701P00086500\",\"ask\":{\"raw\":0.02,\"fmt\":\"0.02\"},\"lastTradeDate\":{\"raw\":1467143643,\"fmt\":\"2016-06-28\",\"longFmt\":\"2016-06-28T19:54\"},\"expiration\":{\"raw\":1467331200,\"fmt\":\"2016-07-01\",\"longFmt\":\"2016-07-01T00:00\"},\"currency\":\"USD\",\"contractSize\":\"REGULAR\",\"bid\":{\"raw\":0.01,\"fmt\":\"0.01\"},\"lastPrice\":{\"raw\":0.01,\"fmt\":\"0.01\"}},{\"percentChange\":{\"raw\":-88.88889,\"fmt\":\"-88.89%\"},\"openInterest\":{\"raw\":868,\"fmt\":\"868\",\"longFmt\":\"868\"},\"strike\":{\"raw\":87,\"fmt\":\"87.00\"},\"change\":{\"raw\":-0.080000006,\"fmt\":\"-0.08\"},\"inTheMoney\":false,\"impliedVolatility\":{\"raw\":0.79687703125,\"fmt\":\"79.69%\"},\"volume\":{\"raw\":1183,\"fmt\":\"1,183\",\"longFmt\":\"1,183\"},\"contractSymbol\":\"AAPL160701P00087000\",\"ask\":{\"raw\":0.02,\"fmt\":\"0.02\"},\"lastTradeDate\":{\"raw\":1467143841,\"fmt\":\"2016-06-28\",\"longFmt\":\"2016-06-28T19:57\"},\"expiration\":{\"raw\":1467331200,\"fmt\":\"2016-07-01\",\"longFmt\":\"2016-07-01T00:00\"},\"currency\":\"USD\",\"contractSize\":\"REGULAR\",\"bid\":{\"raw\":0.01,\"fmt\":\"0.01\"},\"lastPrice\":{\"raw\":0.01,\"fmt\":\"0.01\"}},{\"percentChange\":{\"raw\":-50,\"fmt\":\"-50.00%\"},\"openInterest\":{\"raw\":1052,\"fmt\":\"1,052\",\"longFmt\":\"1,052\"},\"strike\":{\"raw\":87.5,\"fmt\":\"87.50\"},\"change\":{\"raw\":-0.01,\"fmt\":\"-0.01\"},\"inTheMoney\":false,\"impliedVolatility\":{\"raw\":0.6562534375000001,\"fmt\":\"65.63%\"},\"volume\":{\"raw\":25,\"fmt\":\"25\",\"longFmt\":\"25\"},\"contractSymbol\":\"AAPL160701P00087500\",\"ask\":{\"raw\":0.01,\"fmt\":\"0.01\"},\"lastTradeDate\":{\"raw\":1467303151,\"fmt\":\"2016-06-30\",\"longFmt\":\"2016-06-30T16:12\"},\"expiration\":{\"raw\":1467331200,\"fmt\":\"2016-07-01\",\"longFmt\":\"2016-07-01T00:00\"},\"currency\":\"USD\",\"contractSize\":\"REGULAR\",\"bid\":{\"raw\":0,\"fmt\":\"0.00\"},\"lastPrice\":{\"raw\":0.01,\"fmt\":\"0.01\"}},{\"percentChange\":{\"raw\":-50,\"fmt\":\"-50.00%\"},\"openInterest\":{\"raw\":2478,\"fmt\":\"2,478\",\"longFmt\":\"2,478\"},\"strike\":{\"raw\":88,\"fmt\":\"88.00\"},\"change\":{\"raw\":-0.01,\"fmt\":\"-0.01\"},\"inTheMoney\":false,\"impliedVolatility\":{\"raw\":0.6718782812500002,\"fmt\":\"67.19%\"},\"volume\":{\"raw\":132,\"fmt\":\"132\",\"longFmt\":\"132\"},\"contractSymbol\":\"AAPL160701P00088000\",\"ask\":{\"raw\":0.01,\"fmt\":\"0.01\"},\"lastTradeDate\":{\"raw\":1467300450,\"fmt\":\"2016-06-30\",\"longFmt\":\"2016-06-30T15:27\"},\"expiration\":{\"raw\":1467331200,\"fmt\":\"2016-07-01\",\"longFmt\":\"2016-07-01T00:00\"},\"currency\":\"USD\",\"contractSize\":\"REGULAR\",\"bid\":{\"raw\":0.01,\"fmt\":\"0.01\"},\"lastPrice\":{\"raw\":0.01,\"fmt\":\"0.01\"}},{\"percentChange\":{\"raw\":-50,\"fmt\":\"-50.00%\"},\"openInterest\":{\"raw\":1471,\"fmt\":\"1,471\",\"longFmt\":\"1,471\"},\"strike\":{\"raw\":88.5,\"fmt\":\"88.50\"},\"change\":{\"raw\":-0.01,\"fmt\":\"-0.01\"},\"inTheMoney\":false,\"impliedVolatility\":{\"raw\":0.57812921875,\"fmt\":\"57.81%\"},\"volume\":{\"raw\":58,\"fmt\":\"58\",\"longFmt\":\"58\"},\"contractSymbol\":\"AAPL160701P00088500\",\"ask\":{\"raw\":0.01,\"fmt\":\"0.01\"},\"lastTradeDate\":{\"raw\":1467315465,\"fmt\":\"2016-06-30\",\"longFmt\":\"2016-06-30T19:37\"},\"expiration\":{\"raw\":1467331200,\"fmt\":\"2016-07-01\",\"longFmt\":\"2016-07-01T00:00\"},\"currency\":\"USD\",\"contractSize\":\"REGULAR\",\"bid\":{\"raw\":0,\"fmt\":\"0.00\"},\"lastPrice\":{\"raw\":0.01,\"fmt\":\"0.01\"}},{\"percentChange\":{\"raw\":-50,\"fmt\":\"-50.00%\"},\"openInterest\":{\"raw\":2033,\"fmt\":\"2,033\",\"longFmt\":\"2,033\"},\"strike\":{\"raw\":89,\"fmt\":\"89.00\"},\"change\":{\"raw\":-0.01,\"fmt\":\"-0.01\"},\"inTheMoney\":false,\"impliedVolatility\":{\"raw\":0.5937540625000001,\"fmt\":\"59.38%\"},\"volume\":{\"raw\":333,\"fmt\":\"333\",\"longFmt\":\"333\"},\"contractSymbol\":\"AAPL160701P00089000\",\"ask\":{\"raw\":0.01,\"fmt\":\"0.01\"},\"lastTradeDate\":{\"raw\":1467310780,\"fmt\":\"2016-06-30\",\"longFmt\":\"2016-06-30T18:19\"},\"expiration\":{\"raw\":1467331200,\"fmt\":\"2016-07-01\",\"longFmt\":\"2016-07-01T00:00\"},\"currency\":\"USD\",\"contractSize\":\"REGULAR\",\"bid\":{\"raw\":0.01,\"fmt\":\"0.01\"},\"lastPrice\":{\"raw\":0.01,\"fmt\":\"0.01\"}},{\"percentChange\":{\"raw\":-50,\"fmt\":\"-50.00%\"},\"openInterest\":{\"raw\":2196,\"fmt\":\"2,196\",\"longFmt\":\"2,196\"},\"strike\":{\"raw\":89.5,\"fmt\":\"89.50\"},\"change\":{\"raw\":-0.01,\"fmt\":\"-0.01\"},\"inTheMoney\":false,\"impliedVolatility\":{\"raw\":0.5468795312500001,\"fmt\":\"54.69%\"},\"volume\":{\"raw\":240,\"fmt\":\"240\",\"longFmt\":\"240\"},\"contractSymbol\":\"AAPL160701P00089500\",\"ask\":{\"raw\":0.01,\"fmt\":\"0.01\"},\"lastTradeDate\":{\"raw\":1467316221,\"fmt\":\"2016-06-30\",\"longFmt\":\"2016-06-30T19:50\"},\"expiration\":{\"raw\":1467331200,\"fmt\":\"2016-07-01\",\"longFmt\":\"2016-07-01T00:00\"},\"currency\":\"USD\",\"contractSize\":\"REGULAR\",\"bid\":{\"raw\":0.01,\"fmt\":\"0.01\"},\"lastPrice\":{\"raw\":0.01,\"fmt\":\"0.01\"}},{\"percentChange\":{\"raw\":-66.66667,\"fmt\":\"-66.67%\"},\"openInterest\":{\"raw\":5895,\"fmt\":\"5,895\",\"longFmt\":\"5,895\"},\"strike\":{\"raw\":90,\"fmt\":\"90.00\"},\"change\":{\"raw\":-0.02,\"fmt\":\"-0.02\"},\"inTheMoney\":false,\"impliedVolatility\":{\"raw\":0.5390671093750001,\"fmt\":\"53.91%\"},\"volume\":{\"raw\":119,\"fmt\":\"119\",\"longFmt\":\"119\"},\"contractSymbol\":\"AAPL160701P00090000\",\"ask\":{\"raw\":0.02,\"fmt\":\"0.02\"},\"lastTradeDate\":{\"raw\":1467316364,\"fmt\":\"2016-06-30\",\"longFmt\":\"2016-06-30T19:52\"},\"expiration\":{\"raw\":1467331200,\"fmt\":\"2016-07-01\",\"longFmt\":\"2016-07-01T00:00\"},\"currency\":\"USD\",\"contractSize\":\"REGULAR\",\"bid\":{\"raw\":0.01,\"fmt\":\"0.01\"},\"lastPrice\":{\"raw\":0.01,\"fmt\":\"0.01\"}},{\"percentChange\":{\"raw\":-66.66667,\"fmt\":\"-66.67%\"},\"openInterest\":{\"raw\":1936,\"fmt\":\"1,936\",\"longFmt\":\"1,936\"},\"strike\":{\"raw\":90.5,\"fmt\":\"90.50\"},\"change\":{\"raw\":-0.02,\"fmt\":\"-0.02\"},\"inTheMoney\":false,\"impliedVolatility\":{\"raw\":0.4687553125,\"fmt\":\"46.88%\"},\"volume\":{\"raw\":120,\"fmt\":\"120\",\"longFmt\":\"120\"},\"contractSymbol\":\"AAPL160701P00090500\",\"ask\":{\"raw\":0.01,\"fmt\":\"0.01\"},\"lastTradeDate\":{\"raw\":1467315957,\"fmt\":\"2016-06-30\",\"longFmt\":\"2016-06-30T19:45\"},\"expiration\":{\"raw\":1467331200,\"fmt\":\"2016-07-01\",\"longFmt\":\"2016-07-01T00:00\"},\"currency\":\"USD\",\"contractSize\":\"REGULAR\",\"bid\":{\"raw\":0.01,\"fmt\":\"0.01\"},\"lastPrice\":{\"raw\":0.01,\"fmt\":\"0.01\"}},{\"percentChange\":{\"raw\":-75,\"fmt\":\"-75.00%\"},\"openInterest\":{\"raw\":5536,\"fmt\":\"5,536\",\"longFmt\":\"5,536\"},\"strike\":{\"raw\":91,\"fmt\":\"91.00\"},\"change\":{\"raw\":-0.03,\"fmt\":\"-0.03\"},\"inTheMoney\":false,\"impliedVolatility\":{\"raw\":0.4726615234375,\"fmt\":\"47.27%\"},\"volume\":{\"raw\":122,\"fmt\":\"122\",\"longFmt\":\"122\"},\"contractSymbol\":\"AAPL160701P00091000\",\"ask\":{\"raw\":0.02,\"fmt\":\"0.02\"},\"lastTradeDate\":{\"raw\":1467313135,\"fmt\":\"2016-06-30\",\"longFmt\":\"2016-06-30T18:58\"},\"expiration\":{\"raw\":1467331200,\"fmt\":\"2016-07-01\",\"longFmt\":\"2016-07-01T00:00\"},\"currency\":\"USD\",\"contractSize\":\"REGULAR\",\"bid\":{\"raw\":0.01,\"fmt\":\"0.01\"},\"lastPrice\":{\"raw\":0.01,\"fmt\":\"0.01\"}},{\"percentChange\":{\"raw\":-79.99999,\"fmt\":\"-80.00%\"},\"openInterest\":{\"raw\":3004,\"fmt\":\"3,004\",\"longFmt\":\"3,004\"},\"strike\":{\"raw\":91.5,\"fmt\":\"91.50\"},\"change\":{\"raw\":-0.04,\"fmt\":\"-0.04\"},\"inTheMoney\":false,\"impliedVolatility\":{\"raw\":0.42969320312500003,\"fmt\":\"42.97%\"},\"volume\":{\"raw\":1139,\"fmt\":\"1,139\",\"longFmt\":\"1,139\"},\"contractSymbol\":\"AAPL160701P00091500\",\"ask\":{\"raw\":0.02,\"fmt\":\"0.02\"},\"lastTradeDate\":{\"raw\":1467316092,\"fmt\":\"2016-06-30\",\"longFmt\":\"2016-06-30T19:48\"},\"expiration\":{\"raw\":1467331200,\"fmt\":\"2016-07-01\",\"longFmt\":\"2016-07-01T00:00\"},\"currency\":\"USD\",\"contractSize\":\"REGULAR\",\"bid\":{\"raw\":0.01,\"fmt\":\"0.01\"},\"lastPrice\":{\"raw\":0.01,\"fmt\":\"0.01\"}},{\"percentChange\":{\"raw\":-83.33333,\"fmt\":\"-83.33%\"},\"openInterest\":{\"raw\":7208,\"fmt\":\"7,208\",\"longFmt\":\"7,208\"},\"strike\":{\"raw\":92,\"fmt\":\"92.00\"},\"change\":{\"raw\":-0.049999997,\"fmt\":\"-0.05\"},\"inTheMoney\":false,\"impliedVolatility\":{\"raw\":0.38281867187499996,\"fmt\":\"38.28%\"},\"volume\":{\"raw\":7206,\"fmt\":\"7,206\",\"longFmt\":\"7,206\"},\"contractSymbol\":\"AAPL160701P00092000\",\"ask\":{\"raw\":0.02,\"fmt\":\"0.02\"},\"lastTradeDate\":{\"raw\":1467314748,\"fmt\":\"2016-06-30\",\"longFmt\":\"2016-06-30T19:25\"},\"expiration\":{\"raw\":1467331200,\"fmt\":\"2016-07-01\",\"longFmt\":\"2016-07-01T00:00\"},\"currency\":\"USD\",\"contractSize\":\"REGULAR\",\"bid\":{\"raw\":0.01,\"fmt\":\"0.01\"},\"lastPrice\":{\"raw\":0.01,\"fmt\":\"0.01\"}},{\"percentChange\":{\"raw\":-79.99999,\"fmt\":\"-80.00%\"},\"openInterest\":{\"raw\":4820,\"fmt\":\"4,820\",\"longFmt\":\"4,820\"},\"strike\":{\"raw\":92.5,\"fmt\":\"92.50\"},\"change\":{\"raw\":-0.08,\"fmt\":\"-0.08\"},\"inTheMoney\":false,\"impliedVolatility\":{\"raw\":0.335944140625,\"fmt\":\"33.59%\"},\"volume\":{\"raw\":3527,\"fmt\":\"3,527\",\"longFmt\":\"3,527\"},\"contractSymbol\":\"AAPL160701P00092500\",\"ask\":{\"raw\":0.02,\"fmt\":\"0.02\"},\"lastTradeDate\":{\"raw\":1467315738,\"fmt\":\"2016-06-30\",\"longFmt\":\"2016-06-30T19:42\"},\"expiration\":{\"raw\":1467331200,\"fmt\":\"2016-07-01\",\"longFmt\":\"2016-07-01T00:00\"},\"currency\":\"USD\",\"contractSize\":\"REGULAR\",\"bid\":{\"raw\":0.01,\"fmt\":\"0.01\"},\"lastPrice\":{\"raw\":0.02,\"fmt\":\"0.02\"}},{\"percentChange\":{\"raw\":-87.5,\"fmt\":\"-87.50%\"},\"openInterest\":{\"raw\":9290,\"fmt\":\"9,290\",\"longFmt\":\"9,290\"},\"strike\":{\"raw\":93,\"fmt\":\"93.00\"},\"change\":{\"raw\":-0.14,\"fmt\":\"-0.14\"},\"inTheMoney\":false,\"impliedVolatility\":{\"raw\":0.31250687499999996,\"fmt\":\"31.25%\"},\"volume\":{\"raw\":6630,\"fmt\":\"6,630\",\"longFmt\":\"6,630\"},\"contractSymbol\":\"AAPL160701P00093000\",\"ask\":{\"raw\":0.03,\"fmt\":\"0.03\"},\"lastTradeDate\":{\"raw\":1467316397,\"fmt\":\"2016-06-30\",\"longFmt\":\"2016-06-30T19:53\"},\"expiration\":{\"raw\":1467331200,\"fmt\":\"2016-07-01\",\"longFmt\":\"2016-07-01T00:00\"},\"currency\":\"USD\",\"contractSize\":\"REGULAR\",\"bid\":{\"raw\":0.02,\"fmt\":\"0.02\"},\"lastPrice\":{\"raw\":0.02,\"fmt\":\"0.02\"}},{\"percentChange\":{\"raw\":-84.61539,\"fmt\":\"-84.62%\"},\"openInterest\":{\"raw\":3834,\"fmt\":\"3,834\",\"longFmt\":\"3,834\"},\"strike\":{\"raw\":93.5,\"fmt\":\"93.50\"},\"change\":{\"raw\":-0.22,\"fmt\":\"-0.22\"},\"inTheMoney\":false,\"impliedVolatility\":{\"raw\":0.28125718749999995,\"fmt\":\"28.13%\"},\"volume\":{\"raw\":11029,\"fmt\":\"11,029\",\"longFmt\":\"11,029\"},\"contractSymbol\":\"AAPL160701P00093500\",\"ask\":{\"raw\":0.04,\"fmt\":\"0.04\"},\"lastTradeDate\":{\"raw\":1467316229,\"fmt\":\"2016-06-30\",\"longFmt\":\"2016-06-30T19:50\"},\"expiration\":{\"raw\":1467331200,\"fmt\":\"2016-07-01\",\"longFmt\":\"2016-07-01T00:00\"},\"currency\":\"USD\",\"contractSize\":\"REGULAR\",\"bid\":{\"raw\":0.03,\"fmt\":\"0.03\"},\"lastPrice\":{\"raw\":0.04,\"fmt\":\"0.04\"}},{\"percentChange\":{\"raw\":-93.02326,\"fmt\":\"-93.02%\"},\"openInterest\":{\"raw\":6455,\"fmt\":\"6,455\",\"longFmt\":\"6,455\"},\"strike\":{\"raw\":94,\"fmt\":\"94.00\"},\"change\":{\"raw\":-0.4,\"fmt\":\"-0.40\"},\"inTheMoney\":false,\"impliedVolatility\":{\"raw\":0.22657023437499998,\"fmt\":\"22.66%\"},\"volume\":{\"raw\":16014,\"fmt\":\"16,014\",\"longFmt\":\"16,014\"},\"contractSymbol\":\"AAPL160701P00094000\",\"ask\":{\"raw\":0.04,\"fmt\":\"0.04\"},\"lastTradeDate\":{\"raw\":1467316778,\"fmt\":\"2016-06-30\",\"longFmt\":\"2016-06-30T19:59\"},\"expiration\":{\"raw\":1467331200,\"fmt\":\"2016-07-01\",\"longFmt\":\"2016-07-01T00:00\"},\"currency\":\"USD\",\"contractSize\":\"REGULAR\",\"bid\":{\"raw\":0.03,\"fmt\":\"0.03\"},\"lastPrice\":{\"raw\":0.03,\"fmt\":\"0.03\"}},{\"percentChange\":{\"raw\":-83.870964,\"fmt\":\"-83.87%\"},\"openInterest\":{\"raw\":3472,\"fmt\":\"3,472\",\"longFmt\":\"3,472\"},\"strike\":{\"raw\":94.5,\"fmt\":\"94.50\"},\"change\":{\"raw\":-0.52,\"fmt\":\"-0.52\"},\"inTheMoney\":false,\"impliedVolatility\":{\"raw\":0.22852333984375,\"fmt\":\"22.85%\"},\"volume\":{\"raw\":14833,\"fmt\":\"14,833\",\"longFmt\":\"14,833\"},\"contractSymbol\":\"AAPL160701P00094500\",\"ask\":{\"raw\":0.1,\"fmt\":\"0.10\"},\"lastTradeDate\":{\"raw\":1467316793,\"fmt\":\"2016-06-30\",\"longFmt\":\"2016-06-30T19:59\"},\"expiration\":{\"raw\":1467331200,\"fmt\":\"2016-07-01\",\"longFmt\":\"2016-07-01T00:00\"},\"currency\":\"USD\",\"contractSize\":\"REGULAR\",\"bid\":{\"raw\":0.08,\"fmt\":\"0.08\"},\"lastPrice\":{\"raw\":0.1,\"fmt\":\"0.10\"}},{\"percentChange\":{\"raw\":-77.52809,\"fmt\":\"-77.53%\"},\"openInterest\":{\"raw\":6613,\"fmt\":\"6,613\",\"longFmt\":\"6,613\"},\"strike\":{\"raw\":95,\"fmt\":\"95.00\"},\"change\":{\"raw\":-0.69,\"fmt\":\"-0.69\"},\"inTheMoney\":false,\"impliedVolatility\":{\"raw\":0.21875781249999998,\"fmt\":\"21.88%\"},\"volume\":{\"raw\":24641,\"fmt\":\"24,641\",\"longFmt\":\"24,641\"},\"contractSymbol\":\"AAPL160701P00095000\",\"ask\":{\"raw\":0.2,\"fmt\":\"0.20\"},\"lastTradeDate\":{\"raw\":1467316794,\"fmt\":\"2016-06-30\",\"longFmt\":\"2016-06-30T19:59\"},\"expiration\":{\"raw\":1467331200,\"fmt\":\"2016-07-01\",\"longFmt\":\"2016-07-01T00:00\"},\"currency\":\"USD\",\"contractSize\":\"REGULAR\",\"bid\":{\"raw\":0.16,\"fmt\":\"0.16\"},\"lastPrice\":{\"raw\":0.2,\"fmt\":\"0.20\"}},{\"percentChange\":{\"raw\":-73.809525,\"fmt\":\"-73.81%\"},\"openInterest\":{\"raw\":1633,\"fmt\":\"1,633\",\"longFmt\":\"1,633\"},\"strike\":{\"raw\":95.5,\"fmt\":\"95.50\"},\"change\":{\"raw\":-0.92999995,\"fmt\":\"-0.93\"},\"inTheMoney\":false,\"impliedVolatility\":{\"raw\":0.1992267578125,\"fmt\":\"19.92%\"},\"volume\":{\"raw\":11164,\"fmt\":\"11,164\",\"longFmt\":\"11,164\"},\"contractSymbol\":\"AAPL160701P00095500\",\"ask\":{\"raw\":0.35,\"fmt\":\"0.35\"},\"lastTradeDate\":{\"raw\":1467316794,\"fmt\":\"2016-06-30\",\"longFmt\":\"2016-06-30T19:59\"},\"expiration\":{\"raw\":1467331200,\"fmt\":\"2016-07-01\",\"longFmt\":\"2016-07-01T00:00\"},\"currency\":\"USD\",\"contractSize\":\"REGULAR\",\"bid\":{\"raw\":0.32,\"fmt\":\"0.32\"},\"lastPrice\":{\"raw\":0.33,\"fmt\":\"0.33\"}},{\"percentChange\":{\"raw\":-59.393936,\"fmt\":\"-59.39%\"},\"openInterest\":{\"raw\":3328,\"fmt\":\"3,328\",\"longFmt\":\"3,328\"},\"strike\":{\"raw\":96,\"fmt\":\"96.00\"},\"change\":{\"raw\":-0.97999996,\"fmt\":\"-0.98\"},\"inTheMoney\":true,\"impliedVolatility\":{\"raw\":0.1992267578125,\"fmt\":\"19.92%\"},\"volume\":{\"raw\":6392,\"fmt\":\"6,392\",\"longFmt\":\"6,392\"},\"contractSymbol\":\"AAPL160701P00096000\",\"ask\":{\"raw\":0.63,\"fmt\":\"0.63\"},\"lastTradeDate\":{\"raw\":1467316760,\"fmt\":\"2016-06-30\",\"longFmt\":\"2016-06-30T19:59\"},\"expiration\":{\"raw\":1467331200,\"fmt\":\"2016-07-01\",\"longFmt\":\"2016-07-01T00:00\"},\"currency\":\"USD\",\"contractSize\":\"REGULAR\",\"bid\":{\"raw\":0.58,\"fmt\":\"0.58\"},\"lastPrice\":{\"raw\":0.67,\"fmt\":\"0.67\"}},{\"percentChange\":{\"raw\":-46.261684,\"fmt\":\"-46.26%\"},\"openInterest\":{\"raw\":1199,\"fmt\":\"1,199\",\"longFmt\":\"1,199\"},\"strike\":{\"raw\":96.5,\"fmt\":\"96.50\"},\"change\":{\"raw\":-0.9900001,\"fmt\":\"-0.99\"},\"inTheMoney\":true,\"impliedVolatility\":{\"raw\":0.32617861328125,\"fmt\":\"32.62%\"},\"volume\":{\"raw\":637,\"fmt\":\"637\",\"longFmt\":\"637\"},\"contractSymbol\":\"AAPL160701P00096500\",\"ask\":{\"raw\":1.2,\"fmt\":\"1.20\"},\"lastTradeDate\":{\"raw\":1467316133,\"fmt\":\"2016-06-30\",\"longFmt\":\"2016-06-30T19:48\"},\"expiration\":{\"raw\":1467331200,\"fmt\":\"2016-07-01\",\"longFmt\":\"2016-07-01T00:00\"},\"currency\":\"USD\",\"contractSize\":\"REGULAR\",\"bid\":{\"raw\":0.94,\"fmt\":\"0.94\"},\"lastPrice\":{\"raw\":1.15,\"fmt\":\"1.15\"}},{\"percentChange\":{\"raw\":-37.984493,\"fmt\":\"-37.98%\"},\"openInterest\":{\"raw\":1979,\"fmt\":\"1,979\",\"longFmt\":\"1,979\"},\"strike\":{\"raw\":97,\"fmt\":\"97.00\"},\"change\":{\"raw\":-0.9799999,\"fmt\":\"-0.98\"},\"inTheMoney\":true,\"impliedVolatility\":{\"raw\":0.367193828125,\"fmt\":\"36.72%\"},\"volume\":{\"raw\":285,\"fmt\":\"285\",\"longFmt\":\"285\"},\"contractSymbol\":\"AAPL160701P00097000\",\"ask\":{\"raw\":1.64,\"fmt\":\"1.64\"},\"lastTradeDate\":{\"raw\":1467316710,\"fmt\":\"2016-06-30\",\"longFmt\":\"2016-06-30T19:58\"},\"expiration\":{\"raw\":1467331200,\"fmt\":\"2016-07-01\",\"longFmt\":\"2016-07-01T00:00\"},\"currency\":\"USD\",\"contractSize\":\"REGULAR\",\"bid\":{\"raw\":1.36,\"fmt\":\"1.36\"},\"lastPrice\":{\"raw\":1.6,\"fmt\":\"1.60\"}},{\"percentChange\":{\"raw\":-40.625004,\"fmt\":\"-40.63%\"},\"openInterest\":{\"raw\":655,\"fmt\":\"655\",\"longFmt\":\"655\"},\"strike\":{\"raw\":97.5,\"fmt\":\"97.50\"},\"change\":{\"raw\":-1.3000001,\"fmt\":\"-1.30\"},\"inTheMoney\":true,\"impliedVolatility\":{\"raw\":0.43164630859375,\"fmt\":\"43.16%\"},\"volume\":{\"raw\":372,\"fmt\":\"372\",\"longFmt\":\"372\"},\"contractSymbol\":\"AAPL160701P00097500\",\"ask\":{\"raw\":2.13,\"fmt\":\"2.13\"},\"lastTradeDate\":{\"raw\":1467314625,\"fmt\":\"2016-06-30\",\"longFmt\":\"2016-06-30T19:23\"},\"expiration\":{\"raw\":1467331200,\"fmt\":\"2016-07-01\",\"longFmt\":\"2016-07-01T00:00\"},\"currency\":\"USD\",\"contractSize\":\"REGULAR\",\"bid\":{\"raw\":1.83,\"fmt\":\"1.83\"},\"lastPrice\":{\"raw\":1.9,\"fmt\":\"1.90\"}},{\"percentChange\":{\"raw\":-29.945057,\"fmt\":\"-29.95%\"},\"openInterest\":{\"raw\":606,\"fmt\":\"606\",\"longFmt\":\"606\"},\"strike\":{\"raw\":98,\"fmt\":\"98.00\"},\"change\":{\"raw\":-1.0900002,\"fmt\":\"-1.09\"},\"inTheMoney\":true,\"impliedVolatility\":{\"raw\":0.47363807617187503,\"fmt\":\"47.36%\"},\"volume\":{\"raw\":77,\"fmt\":\"77\",\"longFmt\":\"77\"},\"contractSymbol\":\"AAPL160701P00098000\",\"ask\":{\"raw\":2.6,\"fmt\":\"2.60\"},\"lastTradeDate\":{\"raw\":1467316266,\"fmt\":\"2016-06-30\",\"longFmt\":\"2016-06-30T19:51\"},\"expiration\":{\"raw\":1467331200,\"fmt\":\"2016-07-01\",\"longFmt\":\"2016-07-01T00:00\"},\"currency\":\"USD\",\"contractSize\":\"REGULAR\",\"bid\":{\"raw\":2.33,\"fmt\":\"2.33\"},\"lastPrice\":{\"raw\":2.55,\"fmt\":\"2.55\"}},{\"percentChange\":{\"raw\":-28.292679,\"fmt\":\"-28.29%\"},\"openInterest\":{\"raw\":673,\"fmt\":\"673\",\"longFmt\":\"673\"},\"strike\":{\"raw\":98.5,\"fmt\":\"98.50\"},\"change\":{\"raw\":-1.1599998,\"fmt\":\"-1.16\"},\"inTheMoney\":true,\"impliedVolatility\":{\"raw\":0.57812921875,\"fmt\":\"57.81%\"},\"volume\":{\"raw\":7,\"fmt\":\"7\",\"longFmt\":\"7\"},\"contractSymbol\":\"AAPL160701P00098500\",\"ask\":{\"raw\":3.15,\"fmt\":\"3.15\"},\"lastTradeDate\":{\"raw\":1467310741,\"fmt\":\"2016-06-30\",\"longFmt\":\"2016-06-30T18:19\"},\"expiration\":{\"raw\":1467331200,\"fmt\":\"2016-07-01\",\"longFmt\":\"2016-07-01T00:00\"},\"currency\":\"USD\",\"contractSize\":\"REGULAR\",\"bid\":{\"raw\":2.85,\"fmt\":\"2.85\"},\"lastPrice\":{\"raw\":2.94,\"fmt\":\"2.94\"}},{\"percentChange\":{\"raw\":-29.473686,\"fmt\":\"-29.47%\"},\"openInterest\":{\"raw\":520,\"fmt\":\"520\",\"longFmt\":\"520\"},\"strike\":{\"raw\":99,\"fmt\":\"99.00\"},\"change\":{\"raw\":-1.4000001,\"fmt\":\"-1.40\"},\"inTheMoney\":true,\"impliedVolatility\":{\"raw\":0.64062859375,\"fmt\":\"64.06%\"},\"volume\":{\"raw\":40,\"fmt\":\"40\",\"longFmt\":\"40\"},\"contractSymbol\":\"AAPL160701P00099000\",\"ask\":{\"raw\":3.65,\"fmt\":\"3.65\"},\"lastTradeDate\":{\"raw\":1467313397,\"fmt\":\"2016-06-30\",\"longFmt\":\"2016-06-30T19:03\"},\"expiration\":{\"raw\":1467331200,\"fmt\":\"2016-07-01\",\"longFmt\":\"2016-07-01T00:00\"},\"currency\":\"USD\",\"contractSize\":\"REGULAR\",\"bid\":{\"raw\":3.3,\"fmt\":\"3.30\"},\"lastPrice\":{\"raw\":3.35,\"fmt\":\"3.35\"}},{\"percentChange\":{\"raw\":-22.851559,\"fmt\":\"-22.85%\"},\"openInterest\":{\"raw\":2216,\"fmt\":\"2,216\",\"longFmt\":\"2,216\"},\"strike\":{\"raw\":99.5,\"fmt\":\"99.50\"},\"change\":{\"raw\":-1.1699998,\"fmt\":\"-1.17\"},\"inTheMoney\":true,\"impliedVolatility\":{\"raw\":0.5429733203125001,\"fmt\":\"54.30%\"},\"volume\":{\"raw\":2,\"fmt\":\"2\",\"longFmt\":\"2\"},\"contractSymbol\":\"AAPL160701P00099500\",\"ask\":{\"raw\":4.15,\"fmt\":\"4.15\"},\"lastTradeDate\":{\"raw\":1467310999,\"fmt\":\"2016-06-30\",\"longFmt\":\"2016-06-30T18:23\"},\"expiration\":{\"raw\":1467331200,\"fmt\":\"2016-07-01\",\"longFmt\":\"2016-07-01T00:00\"},\"currency\":\"USD\",\"contractSize\":\"REGULAR\",\"bid\":{\"raw\":3.85,\"fmt\":\"3.85\"},\"lastPrice\":{\"raw\":3.95,\"fmt\":\"3.95\"}},{\"percentChange\":{\"raw\":-20.000002,\"fmt\":\"-20.00%\"},\"openInterest\":{\"raw\":15902,\"fmt\":\"15,902\",\"longFmt\":\"15,902\"},\"strike\":{\"raw\":100,\"fmt\":\"100.00\"},\"change\":{\"raw\":-1.1300001,\"fmt\":\"-1.13\"},\"inTheMoney\":true,\"impliedVolatility\":{\"raw\":0.5937540625000001,\"fmt\":\"59.38%\"},\"volume\":{\"raw\":158,\"fmt\":\"158\",\"longFmt\":\"158\"},\"contractSymbol\":\"AAPL160701P00100000\",\"ask\":{\"raw\":4.65,\"fmt\":\"4.65\"},\"lastTradeDate\":{\"raw\":1467316438,\"fmt\":\"2016-06-30\",\"longFmt\":\"2016-06-30T19:53\"},\"expiration\":{\"raw\":1467331200,\"fmt\":\"2016-07-01\",\"longFmt\":\"2016-07-01T00:00\"},\"currency\":\"USD\",\"contractSize\":\"REGULAR\",\"bid\":{\"raw\":4.35,\"fmt\":\"4.35\"},\"lastPrice\":{\"raw\":4.52,\"fmt\":\"4.52\"}},{\"percentChange\":{\"raw\":-19.767445,\"fmt\":\"-19.77%\"},\"openInterest\":{\"raw\":279,\"fmt\":\"279\",\"longFmt\":\"279\"},\"strike\":{\"raw\":101,\"fmt\":\"101.00\"},\"change\":{\"raw\":-1.3600001,\"fmt\":\"-1.36\"},\"inTheMoney\":true,\"impliedVolatility\":{\"raw\":0.648441015625,\"fmt\":\"64.84%\"},\"volume\":{\"raw\":51,\"fmt\":\"51\",\"longFmt\":\"51\"},\"contractSymbol\":\"AAPL160701P00101000\",\"ask\":{\"raw\":5.65,\"fmt\":\"5.65\"},\"lastTradeDate\":{\"raw\":1467306144,\"fmt\":\"2016-06-30\",\"longFmt\":\"2016-06-30T17:02\"},\"expiration\":{\"raw\":1467331200,\"fmt\":\"2016-07-01\",\"longFmt\":\"2016-07-01T00:00\"},\"currency\":\"USD\",\"contractSize\":\"REGULAR\",\"bid\":{\"raw\":5.3,\"fmt\":\"5.30\"},\"lastPrice\":{\"raw\":5.52,\"fmt\":\"5.52\"}},{\"percentChange\":{\"raw\":-13.043481,\"fmt\":\"-13.04%\"},\"openInterest\":{\"raw\":0,\"fmt\":\"0\",\"longFmt\":\"0\"},\"strike\":{\"raw\":102,\"fmt\":\"102.00\"},\"change\":{\"raw\":-0.99000025,\"fmt\":\"-0.99\"},\"inTheMoney\":true,\"impliedVolatility\":{\"raw\":0.7851583984375,\"fmt\":\"78.52%\"},\"volume\":{\"raw\":4,\"fmt\":\"4\",\"longFmt\":\"4\"},\"contractSymbol\":\"AAPL160701P00102000\",\"ask\":{\"raw\":6.65,\"fmt\":\"6.65\"},\"lastTradeDate\":{\"raw\":1467308356,\"fmt\":\"2016-06-30\",\"longFmt\":\"2016-06-30T17:39\"},\"expiration\":{\"raw\":1467331200,\"fmt\":\"2016-07-01\",\"longFmt\":\"2016-07-01T00:00\"},\"currency\":\"USD\",\"contractSize\":\"REGULAR\",\"bid\":{\"raw\":6.35,\"fmt\":\"6.35\"},\"lastPrice\":{\"raw\":6.6,\"fmt\":\"6.60\"}},{\"percentChange\":{\"raw\":-14.662758,\"fmt\":\"-14.66%\"},\"openInterest\":{\"raw\":56,\"fmt\":\"56\",\"longFmt\":\"56\"},\"strike\":{\"raw\":103,\"fmt\":\"103.00\"},\"change\":{\"raw\":-1.5,\"fmt\":\"-1.50\"},\"inTheMoney\":true,\"impliedVolatility\":{\"raw\":1.8066415917968748,\"fmt\":\"180.66%\"},\"volume\":{\"raw\":1,\"fmt\":\"1\",\"longFmt\":\"1\"},\"contractSymbol\":\"AAPL160701P00103000\",\"ask\":{\"raw\":8.7,\"fmt\":\"8.70\"},\"lastTradeDate\":{\"raw\":1467216127,\"fmt\":\"2016-06-29\",\"longFmt\":\"2016-06-29T16:02\"},\"expiration\":{\"raw\":1467331200,\"fmt\":\"2016-07-01\",\"longFmt\":\"2016-07-01T00:00\"},\"currency\":\"USD\",\"contractSize\":\"REGULAR\",\"bid\":{\"raw\":8.4,\"fmt\":\"8.40\"},\"lastPrice\":{\"raw\":8.73,\"fmt\":\"8.73\"}},{\"percentChange\":{\"raw\":-5.3945255,\"fmt\":\"-5.39%\"},\"openInterest\":{\"raw\":10,\"fmt\":\"10\",\"longFmt\":\"10\"},\"strike\":{\"raw\":104,\"fmt\":\"104.00\"},\"change\":{\"raw\":-0.6700001,\"fmt\":\"-0.67\"},\"inTheMoney\":true,\"impliedVolatility\":{\"raw\":2.4726600683593754,\"fmt\":\"247.27%\"},\"volume\":{\"raw\":2,\"fmt\":\"2\",\"longFmt\":\"2\"},\"contractSymbol\":\"AAPL160701P00104000\",\"ask\":{\"raw\":10.55,\"fmt\":\"10.55\"},\"lastTradeDate\":{\"raw\":1467129183,\"fmt\":\"2016-06-28\",\"longFmt\":\"2016-06-28T15:53\"},\"expiration\":{\"raw\":1467331200,\"fmt\":\"2016-07-01\",\"longFmt\":\"2016-07-01T00:00\"},\"currency\":\"USD\",\"contractSize\":\"REGULAR\",\"bid\":{\"raw\":10.25,\"fmt\":\"10.25\"},\"lastPrice\":{\"raw\":11.75,\"fmt\":\"11.75\"}},{\"percentChange\":{\"raw\":-8.834592,\"fmt\":\"-8.83%\"},\"openInterest\":{\"raw\":6151,\"fmt\":\"6,151\",\"longFmt\":\"6,151\"},\"strike\":{\"raw\":105,\"fmt\":\"105.00\"},\"change\":{\"raw\":-0.94000053,\"fmt\":\"-0.94\"},\"inTheMoney\":true,\"impliedVolatility\":{\"raw\":0.9960937890625,\"fmt\":\"99.61%\"},\"volume\":{\"raw\":4,\"fmt\":\"4\",\"longFmt\":\"4\"},\"contractSymbol\":\"AAPL160701P00105000\",\"ask\":{\"raw\":9.65,\"fmt\":\"9.65\"},\"lastTradeDate\":{\"raw\":1467301592,\"fmt\":\"2016-06-30\",\"longFmt\":\"2016-06-30T15:46\"},\"expiration\":{\"raw\":1467331200,\"fmt\":\"2016-07-01\",\"longFmt\":\"2016-07-01T00:00\"},\"currency\":\"USD\",\"contractSize\":\"REGULAR\",\"bid\":{\"raw\":9.3,\"fmt\":\"9.30\"},\"lastPrice\":{\"raw\":9.7,\"fmt\":\"9.70\"}},{\"percentChange\":{\"raw\":-17.895552,\"fmt\":\"-17.90%\"},\"openInterest\":{\"raw\":11,\"fmt\":\"11\",\"longFmt\":\"11\"},\"strike\":{\"raw\":106,\"fmt\":\"106.00\"},\"change\":{\"raw\":-2.3300009,\"fmt\":\"-2.33\"},\"inTheMoney\":true,\"impliedVolatility\":{\"raw\":1.0078174609375,\"fmt\":\"100.78%\"},\"volume\":{\"raw\":4,\"fmt\":\"4\",\"longFmt\":\"4\"},\"contractSymbol\":\"AAPL160701P00106000\",\"ask\":{\"raw\":10.7,\"fmt\":\"10.70\"},\"lastTradeDate\":{\"raw\":1467301592,\"fmt\":\"2016-06-30\",\"longFmt\":\"2016-06-30T15:46\"},\"expiration\":{\"raw\":1467331200,\"fmt\":\"2016-07-01\",\"longFmt\":\"2016-07-01T00:00\"},\"currency\":\"USD\",\"contractSize\":\"REGULAR\",\"bid\":{\"raw\":10.2,\"fmt\":\"10.20\"},\"lastPrice\":{\"raw\":10.69,\"fmt\":\"10.69\"}},{\"percentChange\":{\"raw\":-13.142091,\"fmt\":\"-13.14%\"},\"openInterest\":{\"raw\":29,\"fmt\":\"29\",\"longFmt\":\"29\"},\"strike\":{\"raw\":107,\"fmt\":\"107.00\"},\"change\":{\"raw\":-1.9699993,\"fmt\":\"-1.97\"},\"inTheMoney\":true,\"impliedVolatility\":{\"raw\":2.3418010205078117,\"fmt\":\"234.18%\"},\"volume\":{\"raw\":1,\"fmt\":\"1\",\"longFmt\":\"1\"},\"contractSymbol\":\"AAPL160701P00107000\",\"ask\":{\"raw\":12.75,\"fmt\":\"12.75\"},\"lastTradeDate\":{\"raw\":1467210093,\"fmt\":\"2016-06-29\",\"longFmt\":\"2016-06-29T14:21\"},\"expiration\":{\"raw\":1467331200,\"fmt\":\"2016-07-01\",\"longFmt\":\"2016-07-01T00:00\"},\"currency\":\"USD\",\"contractSize\":\"REGULAR\",\"bid\":{\"raw\":12.45,\"fmt\":\"12.45\"},\"lastPrice\":{\"raw\":13.02,\"fmt\":\"13.02\"}},{\"percentChange\":{\"raw\":-10.965911,\"fmt\":\"-10.97%\"},\"openInterest\":{\"raw\":13,\"fmt\":\"13\",\"longFmt\":\"13\"},\"strike\":{\"raw\":110,\"fmt\":\"110.00\"},\"change\":{\"raw\":-1.9300003,\"fmt\":\"-1.93\"},\"inTheMoney\":true,\"impliedVolatility\":{\"raw\":2.6640658398437504,\"fmt\":\"266.41%\"},\"volume\":{\"raw\":2,\"fmt\":\"2\",\"longFmt\":\"2\"},\"contractSymbol\":\"AAPL160701P00110000\",\"ask\":{\"raw\":15.75,\"fmt\":\"15.75\"},\"lastTradeDate\":{\"raw\":1467216943,\"fmt\":\"2016-06-29\",\"longFmt\":\"2016-06-29T16:15\"},\"expiration\":{\"raw\":1467331200,\"fmt\":\"2016-07-01\",\"longFmt\":\"2016-07-01T00:00\"},\"currency\":\"USD\",\"contractSize\":\"REGULAR\",\"bid\":{\"raw\":15.4,\"fmt\":\"15.40\"},\"lastPrice\":{\"raw\":15.67,\"fmt\":\"15.67\"}},{\"percentChange\":{\"raw\":-8.839056,\"fmt\":\"-8.84%\"},\"openInterest\":{\"raw\":1,\"fmt\":\"1\",\"longFmt\":\"1\"},\"strike\":{\"raw\":130,\"fmt\":\"130.00\"},\"change\":{\"raw\":-3.3500023,\"fmt\":\"-3.35\"},\"inTheMoney\":true,\"impliedVolatility\":{\"raw\":2.5312536718749996,\"fmt\":\"253.13%\"},\"volume\":{\"raw\":1,\"fmt\":\"1\",\"longFmt\":\"1\"},\"contractSymbol\":\"AAPL160701P00130000\",\"ask\":{\"raw\":34.65,\"fmt\":\"34.65\"},\"lastTradeDate\":{\"raw\":1467316749,\"fmt\":\"2016-06-30\",\"longFmt\":\"2016-06-30T19:59\"},\"expiration\":{\"raw\":1467331200,\"fmt\":\"2016-07-01\",\"longFmt\":\"2016-07-01T00:00\"},\"currency\":\"USD\",\"contractSize\":\"REGULAR\",\"bid\":{\"raw\":34.25,\"fmt\":\"34.25\"},\"lastPrice\":{\"raw\":34.55,\"fmt\":\"34.55\"}},{\"percentChange\":{\"raw\":0,\"fmt\":\"0.00%\"},\"openInterest\":{\"raw\":0,\"fmt\":\"0\",\"longFmt\":\"0\"},\"strike\":{\"raw\":135,\"fmt\":\"135.00\"},\"change\":{\"raw\":0,\"fmt\":\"0.00\"},\"inTheMoney\":true,\"impliedVolatility\":{\"raw\":2.7890655273437504,\"fmt\":\"278.91%\"},\"volume\":{\"raw\":1,\"fmt\":\"1\",\"longFmt\":\"1\"},\"contractSymbol\":\"AAPL160701P00135000\",\"ask\":{\"raw\":39.65,\"fmt\":\"39.65\"},\"lastTradeDate\":{\"raw\":1467324240,\"fmt\":\"2016-06-30\",\"longFmt\":\"2016-06-30T22:04\"},\"expiration\":{\"raw\":1467331200,\"fmt\":\"2016-07-01\",\"longFmt\":\"2016-07-01T00:00\"},\"currency\":\"USD\",\"contractSize\":\"REGULAR\",\"bid\":{\"raw\":39.25,\"fmt\":\"39.25\"},\"lastPrice\":{\"raw\":39.55,\"fmt\":\"39.55\"}},{\"percentChange\":{\"raw\":-2.1953897,\"fmt\":\"-2.20%\"},\"openInterest\":{\"raw\":0,\"fmt\":\"0\",\"longFmt\":\"0\"},\"strike\":{\"raw\":140,\"fmt\":\"140.00\"},\"change\":{\"raw\":-1,\"fmt\":\"-1.00\"},\"inTheMoney\":true,\"impliedVolatility\":{\"raw\":3.031252421875,\"fmt\":\"303.13%\"},\"volume\":{\"raw\":2,\"fmt\":\"2\",\"longFmt\":\"2\"},\"contractSymbol\":\"AAPL160701P00140000\",\"ask\":{\"raw\":44.65,\"fmt\":\"44.65\"},\"lastTradeDate\":{\"raw\":1467316749,\"fmt\":\"2016-06-30\",\"longFmt\":\"2016-06-30T19:59\"},\"expiration\":{\"raw\":1467331200,\"fmt\":\"2016-07-01\",\"longFmt\":\"2016-07-01T00:00\"},\"currency\":\"USD\",\"contractSize\":\"REGULAR\",\"bid\":{\"raw\":44.25,\"fmt\":\"44.25\"},\"lastPrice\":{\"raw\":44.55,\"fmt\":\"44.55\"}}]},\"_options\":[{\"expirationDate\":1467331200,\"hasMiniOptions\":false,\"calls\":[{\"percentChange\":{\"raw\":7.4030595,\"fmt\":\"7.40%\"},\"openInterest\":{\"raw\":3,\"fmt\":\"3\",\"longFmt\":\"3\"},\"strike\":{\"raw\":50,\"fmt\":\"50.00\"},\"change\":{\"raw\":3.1500015,\"fmt\":\"3.15\"},\"inTheMoney\":true,\"impliedVolatility\":{\"raw\":5.64062794921875,\"fmt\":\"564.06%\"},\"volume\":{\"raw\":2,\"fmt\":\"2\",\"longFmt\":\"2\"},\"contractSymbol\":\"AAPL160701C00050000\",\"ask\":{\"raw\":45.7,\"fmt\":\"45.70\"},\"lastTradeDate\":{\"raw\":1467311046,\"fmt\":\"2016-06-30\",\"longFmt\":\"2016-06-30T18:24\"},\"expiration\":{\"raw\":1467331200,\"fmt\":\"2016-07-01\",\"longFmt\":\"2016-07-01T00:00\"},\"currency\":\"USD\",\"contractSize\":\"REGULAR\",\"bid\":{\"raw\":45.3,\"fmt\":\"45.30\"},\"lastPrice\":{\"raw\":45.7,\"fmt\":\"45.70\"}},{\"percentChange\":{\"raw\":5.326232,\"fmt\":\"5.33%\"},\"openInterest\":{\"raw\":2,\"fmt\":\"2\",\"longFmt\":\"2\"},\"strike\":{\"raw\":55,\"fmt\":\"55.00\"},\"change\":{\"raw\":2,\"fmt\":\"2.00\"},\"inTheMoney\":true,\"impliedVolatility\":{\"raw\":4.882816396484374,\"fmt\":\"488.28%\"},\"volume\":{\"raw\":7,\"fmt\":\"7\",\"longFmt\":\"7\"},\"contractSymbol\":\"AAPL160701C00055000\",\"ask\":{\"raw\":40.7,\"fmt\":\"40.70\"},\"lastTradeDate\":{\"raw\":1467294641,\"fmt\":\"2016-06-30\",\"longFmt\":\"2016-06-30T13:50\"},\"expiration\":{\"raw\":1467331200,\"fmt\":\"2016-07-01\",\"longFmt\":\"2016-07-01T00:00\"},\"currency\":\"USD\",\"contractSize\":\"REGULAR\",\"bid\":{\"raw\":40.3,\"fmt\":\"40.30\"},\"lastPrice\":{\"raw\":39.55,\"fmt\":\"39.55\"}},{\"percentChange\":{\"raw\":6.2980013,\"fmt\":\"6.30%\"},\"openInterest\":{\"raw\":1,\"fmt\":\"1\",\"longFmt\":\"1\"},\"strike\":{\"raw\":60,\"fmt\":\"60.00\"},\"change\":{\"raw\":2.0499992,\"fmt\":\"2.05\"},\"inTheMoney\":true,\"impliedVolatility\":{\"raw\":4.187504765625,\"fmt\":\"418.75%\"},\"volume\":{\"raw\":1,\"fmt\":\"1\",\"longFmt\":\"1\"},\"contractSymbol\":\"AAPL160701C00060000\",\"ask\":{\"raw\":35.7,\"fmt\":\"35.70\"},\"lastTradeDate\":{\"raw\":1467294243,\"fmt\":\"2016-06-30\",\"longFmt\":\"2016-06-30T13:44\"},\"expiration\":{\"raw\":1467331200,\"fmt\":\"2016-07-01\",\"longFmt\":\"2016-07-01T00:00\"},\"currency\":\"USD\",\"contractSize\":\"REGULAR\",\"bid\":{\"raw\":35.3,\"fmt\":\"35.30\"},\"lastPrice\":{\"raw\":34.6,\"fmt\":\"34.60\"}},{\"percentChange\":{\"raw\":0,\"fmt\":\"0.00%\"},\"openInterest\":{\"raw\":1,\"fmt\":\"1\",\"longFmt\":\"1\"},\"strike\":{\"raw\":75,\"fmt\":\"75.00\"},\"change\":{\"raw\":0,\"fmt\":\"0.00\"},\"inTheMoney\":true,\"impliedVolatility\":{\"raw\":5.232425334472656,\"fmt\":\"523.24%\"},\"volume\":{\"raw\":1,\"fmt\":\"1\",\"longFmt\":\"1\"},\"contractSymbol\":\"AAPL160701C00075000\",\"ask\":{\"raw\":23.15,\"fmt\":\"23.15\"},\"lastTradeDate\":{\"raw\":1464701674,\"fmt\":\"2016-05-31\",\"longFmt\":\"2016-05-31T13:34\"},\"expiration\":{\"raw\":1467331200,\"fmt\":\"2016-07-01\",\"longFmt\":\"2016-07-01T00:00\"},\"currency\":\"USD\",\"contractSize\":\"REGULAR\",\"bid\":{\"raw\":22.8,\"fmt\":\"22.80\"},\"lastPrice\":{\"raw\":25.1,\"fmt\":\"25.10\"}},{\"percentChange\":{\"raw\":0,\"fmt\":\"0.00%\"},\"openInterest\":{\"raw\":0,\"fmt\":\"0\",\"longFmt\":\"0\"},\"strike\":{\"raw\":80,\"fmt\":\"80.00\"},\"change\":{\"raw\":0,\"fmt\":\"0.00\"},\"inTheMoney\":true,\"impliedVolatility\":{\"raw\":0.000010000000000000003,\"fmt\":\"0.00%\"},\"volume\":{\"raw\":1,\"fmt\":\"1\",\"longFmt\":\"1\"},\"contractSymbol\":\"AAPL160701C00080000\",\"ask\":{\"raw\":0,\"fmt\":\"0.00\"},\"lastTradeDate\":{\"raw\":1467034837,\"fmt\":\"2016-06-27\",\"longFmt\":\"2016-06-27T13:40\"},\"expiration\":{\"raw\":1467331200,\"fmt\":\"2016-07-01\",\"longFmt\":\"2016-07-01T00:00\"},\"currency\":\"USD\",\"contractSize\":\"REGULAR\",\"bid\":{\"raw\":0,\"fmt\":\"0.00\"},\"lastPrice\":{\"raw\":12.36,\"fmt\":\"12.36\"}},{\"percentChange\":{\"raw\":14.285706,\"fmt\":\"14.29%\"},\"openInterest\":{\"raw\":138,\"fmt\":\"138\",\"longFmt\":\"138\"},\"strike\":{\"raw\":85,\"fmt\":\"85.00\"},\"change\":{\"raw\":1.2999992,\"fmt\":\"1.30\"},\"inTheMoney\":true,\"impliedVolatility\":{\"raw\":1.140629296875,\"fmt\":\"114.06%\"},\"volume\":{\"raw\":10,\"fmt\":\"10\",\"longFmt\":\"10\"},\"contractSymbol\":\"AAPL160701C00085000\",\"ask\":{\"raw\":10.65,\"fmt\":\"10.65\"},\"lastTradeDate\":{\"raw\":1467316711,\"fmt\":\"2016-06-30\",\"longFmt\":\"2016-06-30T19:58\"},\"expiration\":{\"raw\":1467331200,\"fmt\":\"2016-07-01\",\"longFmt\":\"2016-07-01T00:00\"},\"currency\":\"USD\",\"contractSize\":\"REGULAR\",\"bid\":{\"raw\":10.3,\"fmt\":\"10.30\"},\"lastPrice\":{\"raw\":10.4,\"fmt\":\"10.40\"}},{\"percentChange\":{\"raw\":0,\"fmt\":\"0.00%\"},\"openInterest\":{\"raw\":2,\"fmt\":\"2\",\"longFmt\":\"2\"},\"strike\":{\"raw\":85.5,\"fmt\":\"85.50\"},\"change\":{\"raw\":0,\"fmt\":\"0.00\"},\"inTheMoney\":true,\"impliedVolatility\":{\"raw\":0.500005,\"fmt\":\"50.00%\"},\"volume\":{\"raw\":2,\"fmt\":\"2\",\"longFmt\":\"2\"},\"contractSymbol\":\"AAPL160701C00085500\",\"ask\":{\"raw\":10.3,\"fmt\":\"10.30\"},\"lastTradeDate\":{\"raw\":1463802459,\"fmt\":\"2016-05-21\",\"longFmt\":\"2016-05-21T03:47\"},\"expiration\":{\"raw\":1467331200,\"fmt\":\"2016-07-01\",\"longFmt\":\"2016-07-01T00:00\"},\"currency\":\"USD\",\"contractSize\":\"REGULAR\",\"bid\":{\"raw\":9.9,\"fmt\":\"9.90\"},\"lastPrice\":{\"raw\":8.72,\"fmt\":\"8.72\"}},{\"percentChange\":{\"raw\":18.055557,\"fmt\":\"18.06%\"},\"openInterest\":{\"raw\":7,\"fmt\":\"7\",\"longFmt\":\"7\"},\"strike\":{\"raw\":86,\"fmt\":\"86.00\"},\"change\":{\"raw\":1.3000002,\"fmt\":\"1.30\"},\"inTheMoney\":true,\"impliedVolatility\":{\"raw\":1.0468797656250002,\"fmt\":\"104.69%\"},\"volume\":{\"raw\":7,\"fmt\":\"7\",\"longFmt\":\"7\"},\"contractSymbol\":\"AAPL160701C00086000\",\"ask\":{\"raw\":9.65,\"fmt\":\"9.65\"},\"lastTradeDate\":{\"raw\":1467295114,\"fmt\":\"2016-06-30\",\"longFmt\":\"2016-06-30T13:58\"},\"expiration\":{\"raw\":1467331200,\"fmt\":\"2016-07-01\",\"longFmt\":\"2016-07-01T00:00\"},\"currency\":\"USD\",\"contractSize\":\"REGULAR\",\"bid\":{\"raw\":9.3,\"fmt\":\"9.30\"},\"lastPrice\":{\"raw\":8.5,\"fmt\":\"8.50\"}},{\"percentChange\":{\"raw\":16.999998,\"fmt\":\"17.00%\"},\"openInterest\":{\"raw\":18,\"fmt\":\"18\",\"longFmt\":\"18\"},\"strike\":{\"raw\":87,\"fmt\":\"87.00\"},\"change\":{\"raw\":0.8499999,\"fmt\":\"0.85\"},\"inTheMoney\":true,\"impliedVolatility\":{\"raw\":0.000010000000000000003,\"fmt\":\"0.00%\"},\"volume\":{\"raw\":4,\"fmt\":\"4\",\"longFmt\":\"4\"},\"contractSymbol\":\"AAPL160701C00087000\",\"ask\":{\"raw\":6.75,\"fmt\":\"6.75\"},\"lastTradeDate\":{\"raw\":1467124320,\"fmt\":\"2016-06-28\",\"longFmt\":\"2016-06-28T14:32\"},\"expiration\":{\"raw\":1467331200,\"fmt\":\"2016-07-01\",\"longFmt\":\"2016-07-01T00:00\"},\"currency\":\"USD\",\"contractSize\":\"REGULAR\",\"bid\":{\"raw\":6.5,\"fmt\":\"6.50\"},\"lastPrice\":{\"raw\":5.85,\"fmt\":\"5.85\"}},{\"percentChange\":{\"raw\":0,\"fmt\":\"0.00%\"},\"openInterest\":{\"raw\":0,\"fmt\":\"0\",\"longFmt\":\"0\"},\"strike\":{\"raw\":87.5,\"fmt\":\"87.50\"},\"change\":{\"raw\":0,\"fmt\":\"0.00\"},\"inTheMoney\":true,\"impliedVolatility\":{\"raw\":0.000010000000000000003,\"fmt\":\"0.00%\"},\"volume\":{\"raw\":22,\"fmt\":\"22\",\"longFmt\":\"22\"},\"contractSymbol\":\"AAPL160701C00087500\",\"ask\":{\"raw\":0,\"fmt\":\"0.00\"},\"lastTradeDate\":{\"raw\":1467041154,\"fmt\":\"2016-06-27\",\"longFmt\":\"2016-06-27T15:25\"},\"expiration\":{\"raw\":1467331200,\"fmt\":\"2016-07-01\",\"longFmt\":\"2016-07-01T00:00\"},\"currency\":\"USD\",\"contractSize\":\"REGULAR\",\"bid\":{\"raw\":0,\"fmt\":\"0.00\"},\"lastPrice\":{\"raw\":4.4,\"fmt\":\"4.40\"}},{\"percentChange\":{\"raw\":13.559318,\"fmt\":\"13.56%\"},\"openInterest\":{\"raw\":47,\"fmt\":\"47\",\"longFmt\":\"47\"},\"strike\":{\"raw\":88,\"fmt\":\"88.00\"},\"change\":{\"raw\":0.7999997,\"fmt\":\"0.80\"},\"inTheMoney\":true,\"impliedVolatility\":{\"raw\":0.9687503125,\"fmt\":\"96.88%\"},\"volume\":{\"raw\":3,\"fmt\":\"3\",\"longFmt\":\"3\"},\"contractSymbol\":\"AAPL160701C00088000\",\"ask\":{\"raw\":7.7,\"fmt\":\"7.70\"},\"lastTradeDate\":{\"raw\":1467295831,\"fmt\":\"2016-06-30\",\"longFmt\":\"2016-06-30T14:10\"},\"expiration\":{\"raw\":1467331200,\"fmt\":\"2016-07-01\",\"longFmt\":\"2016-07-01T00:00\"},\"currency\":\"USD\",\"contractSize\":\"REGULAR\",\"bid\":{\"raw\":7.3,\"fmt\":\"7.30\"},\"lastPrice\":{\"raw\":6.7,\"fmt\":\"6.70\"}},{\"percentChange\":{\"raw\":27.970755,\"fmt\":\"27.97%\"},\"openInterest\":{\"raw\":167,\"fmt\":\"167\",\"longFmt\":\"167\"},\"strike\":{\"raw\":88.5,\"fmt\":\"88.50\"},\"change\":{\"raw\":1.5300002,\"fmt\":\"1.53\"},\"inTheMoney\":true,\"impliedVolatility\":{\"raw\":0.914063359375,\"fmt\":\"91.41%\"},\"volume\":{\"raw\":5,\"fmt\":\"5\",\"longFmt\":\"5\"},\"contractSymbol\":\"AAPL160701C00088500\",\"ask\":{\"raw\":7.2,\"fmt\":\"7.20\"},\"lastTradeDate\":{\"raw\":1467309632,\"fmt\":\"2016-06-30\",\"longFmt\":\"2016-06-30T18:00\"},\"expiration\":{\"raw\":1467331200,\"fmt\":\"2016-07-01\",\"longFmt\":\"2016-07-01T00:00\"},\"currency\":\"USD\",\"contractSize\":\"REGULAR\",\"bid\":{\"raw\":6.8,\"fmt\":\"6.80\"},\"lastPrice\":{\"raw\":7,\"fmt\":\"7.00\"}},{\"percentChange\":{\"raw\":6.5420547,\"fmt\":\"6.54%\"},\"openInterest\":{\"raw\":218,\"fmt\":\"218\",\"longFmt\":\"218\"},\"strike\":{\"raw\":89,\"fmt\":\"89.00\"},\"change\":{\"raw\":0.3499999,\"fmt\":\"0.35\"},\"inTheMoney\":true,\"impliedVolatility\":{\"raw\":0.7539087109375,\"fmt\":\"75.39%\"},\"volume\":{\"raw\":20,\"fmt\":\"20\",\"longFmt\":\"20\"},\"contractSymbol\":\"AAPL160701C00089000\",\"ask\":{\"raw\":6.65,\"fmt\":\"6.65\"},\"lastTradeDate\":{\"raw\":1467296068,\"fmt\":\"2016-06-30\",\"longFmt\":\"2016-06-30T14:14\"},\"expiration\":{\"raw\":1467331200,\"fmt\":\"2016-07-01\",\"longFmt\":\"2016-07-01T00:00\"},\"currency\":\"USD\",\"contractSize\":\"REGULAR\",\"bid\":{\"raw\":6.35,\"fmt\":\"6.35\"},\"lastPrice\":{\"raw\":5.7,\"fmt\":\"5.70\"}},{\"percentChange\":{\"raw\":8.454104,\"fmt\":\"8.45%\"},\"openInterest\":{\"raw\":345,\"fmt\":\"345\",\"longFmt\":\"345\"},\"strike\":{\"raw\":89.5,\"fmt\":\"89.50\"},\"change\":{\"raw\":0.3499999,\"fmt\":\"0.35\"},\"inTheMoney\":true,\"impliedVolatility\":{\"raw\":0.000010000000000000003,\"fmt\":\"0.00%\"},\"volume\":{\"raw\":200,\"fmt\":\"200\",\"longFmt\":\"200\"},\"contractSymbol\":\"AAPL160701C00089500\",\"ask\":{\"raw\":5.1,\"fmt\":\"5.10\"},\"lastTradeDate\":{\"raw\":1467210368,\"fmt\":\"2016-06-29\",\"longFmt\":\"2016-06-29T14:26\"},\"expiration\":{\"raw\":1467331200,\"fmt\":\"2016-07-01\",\"longFmt\":\"2016-07-01T00:00\"},\"currency\":\"USD\",\"contractSize\":\"REGULAR\",\"bid\":{\"raw\":4.8,\"fmt\":\"4.80\"},\"lastPrice\":{\"raw\":4.49,\"fmt\":\"4.49\"}},{\"percentChange\":{\"raw\":25.8427,\"fmt\":\"25.84%\"},\"openInterest\":{\"raw\":1279,\"fmt\":\"1,279\",\"longFmt\":\"1,279\"},\"strike\":{\"raw\":90,\"fmt\":\"90.00\"},\"change\":{\"raw\":1.1500001,\"fmt\":\"1.15\"},\"inTheMoney\":true,\"impliedVolatility\":{\"raw\":0.6562534375000001,\"fmt\":\"65.63%\"},\"volume\":{\"raw\":210,\"fmt\":\"210\",\"longFmt\":\"210\"},\"contractSymbol\":\"AAPL160701C00090000\",\"ask\":{\"raw\":5.65,\"fmt\":\"5.65\"},\"lastTradeDate\":{\"raw\":1467315663,\"fmt\":\"2016-06-30\",\"longFmt\":\"2016-06-30T19:41\"},\"expiration\":{\"raw\":1467331200,\"fmt\":\"2016-07-01\",\"longFmt\":\"2016-07-01T00:00\"},\"currency\":\"USD\",\"contractSize\":\"REGULAR\",\"bid\":{\"raw\":5.35,\"fmt\":\"5.35\"},\"lastPrice\":{\"raw\":5.6,\"fmt\":\"5.60\"}},{\"percentChange\":{\"raw\":29.999996,\"fmt\":\"30.00%\"},\"openInterest\":{\"raw\":817,\"fmt\":\"817\",\"longFmt\":\"817\"},\"strike\":{\"raw\":90.5,\"fmt\":\"90.50\"},\"change\":{\"raw\":1.1999998,\"fmt\":\"1.20\"},\"inTheMoney\":true,\"impliedVolatility\":{\"raw\":0.6054726953125001,\"fmt\":\"60.55%\"},\"volume\":{\"raw\":5,\"fmt\":\"5\",\"longFmt\":\"5\"},\"contractSymbol\":\"AAPL160701C00090500\",\"ask\":{\"raw\":5.15,\"fmt\":\"5.15\"},\"lastTradeDate\":{\"raw\":1467312884,\"fmt\":\"2016-06-30\",\"longFmt\":\"2016-06-30T18:54\"},\"expiration\":{\"raw\":1467331200,\"fmt\":\"2016-07-01\",\"longFmt\":\"2016-07-01T00:00\"},\"currency\":\"USD\",\"contractSize\":\"REGULAR\",\"bid\":{\"raw\":4.85,\"fmt\":\"4.85\"},\"lastPrice\":{\"raw\":5.2,\"fmt\":\"5.20\"}},{\"percentChange\":{\"raw\":31.304354,\"fmt\":\"31.30%\"},\"openInterest\":{\"raw\":1717,\"fmt\":\"1,717\",\"longFmt\":\"1,717\"},\"strike\":{\"raw\":91,\"fmt\":\"91.00\"},\"change\":{\"raw\":1.0800002,\"fmt\":\"1.08\"},\"inTheMoney\":true,\"impliedVolatility\":{\"raw\":0.5546919531250001,\"fmt\":\"55.47%\"},\"volume\":{\"raw\":52,\"fmt\":\"52\",\"longFmt\":\"52\"},\"contractSymbol\":\"AAPL160701C00091000\",\"ask\":{\"raw\":4.65,\"fmt\":\"4.65\"},\"lastTradeDate\":{\"raw\":1467310513,\"fmt\":\"2016-06-30\",\"longFmt\":\"2016-06-30T18:15\"},\"expiration\":{\"raw\":1467331200,\"fmt\":\"2016-07-01\",\"longFmt\":\"2016-07-01T00:00\"},\"currency\":\"USD\",\"contractSize\":\"REGULAR\",\"bid\":{\"raw\":4.35,\"fmt\":\"4.35\"},\"lastPrice\":{\"raw\":4.53,\"fmt\":\"4.53\"}},{\"percentChange\":{\"raw\":38.983044,\"fmt\":\"38.98%\"},\"openInterest\":{\"raw\":2271,\"fmt\":\"2,271\",\"longFmt\":\"2,271\"},\"strike\":{\"raw\":91.5,\"fmt\":\"91.50\"},\"change\":{\"raw\":1.1499999,\"fmt\":\"1.15\"},\"inTheMoney\":true,\"impliedVolatility\":{\"raw\":0.5039112109375,\"fmt\":\"50.39%\"},\"volume\":{\"raw\":96,\"fmt\":\"96\",\"longFmt\":\"96\"},\"contractSymbol\":\"AAPL160701C00091500\",\"ask\":{\"raw\":4.15,\"fmt\":\"4.15\"},\"lastTradeDate\":{\"raw\":1467315566,\"fmt\":\"2016-06-30\",\"longFmt\":\"2016-06-30T19:39\"},\"expiration\":{\"raw\":1467331200,\"fmt\":\"2016-07-01\",\"longFmt\":\"2016-07-01T00:00\"},\"currency\":\"USD\",\"contractSize\":\"REGULAR\",\"bid\":{\"raw\":3.85,\"fmt\":\"3.85\"},\"lastPrice\":{\"raw\":4.1,\"fmt\":\"4.10\"}},{\"percentChange\":{\"raw\":42.682926,\"fmt\":\"42.68%\"},\"openInterest\":{\"raw\":3661,\"fmt\":\"3,661\",\"longFmt\":\"3,661\"},\"strike\":{\"raw\":92,\"fmt\":\"92.00\"},\"change\":{\"raw\":1.05,\"fmt\":\"1.05\"},\"inTheMoney\":true,\"impliedVolatility\":{\"raw\":0.45313046875,\"fmt\":\"45.31%\"},\"volume\":{\"raw\":1500,\"fmt\":\"1,500\",\"longFmt\":\"1,500\"},\"contractSymbol\":\"AAPL160701C00092000\",\"ask\":{\"raw\":3.65,\"fmt\":\"3.65\"},\"lastTradeDate\":{\"raw\":1467316778,\"fmt\":\"2016-06-30\",\"longFmt\":\"2016-06-30T19:59\"},\"expiration\":{\"raw\":1467331200,\"fmt\":\"2016-07-01\",\"longFmt\":\"2016-07-01T00:00\"},\"currency\":\"USD\",\"contractSize\":\"REGULAR\",\"bid\":{\"raw\":3.5,\"fmt\":\"3.50\"},\"lastPrice\":{\"raw\":3.51,\"fmt\":\"3.51\"}},{\"percentChange\":{\"raw\":47.500004,\"fmt\":\"47.50%\"},\"openInterest\":{\"raw\":2528,\"fmt\":\"2,528\",\"longFmt\":\"2,528\"},\"strike\":{\"raw\":92.5,\"fmt\":\"92.50\"},\"change\":{\"raw\":0.95000005,\"fmt\":\"0.95\"},\"inTheMoney\":true,\"impliedVolatility\":{\"raw\":0.4023497265625,\"fmt\":\"40.23%\"},\"volume\":{\"raw\":621,\"fmt\":\"621\",\"longFmt\":\"621\"},\"contractSymbol\":\"AAPL160701C00092500\",\"ask\":{\"raw\":3.15,\"fmt\":\"3.15\"},\"lastTradeDate\":{\"raw\":1467316748,\"fmt\":\"2016-06-30\",\"longFmt\":\"2016-06-30T19:59\"},\"expiration\":{\"raw\":1467331200,\"fmt\":\"2016-07-01\",\"longFmt\":\"2016-07-01T00:00\"},\"currency\":\"USD\",\"contractSize\":\"REGULAR\",\"bid\":{\"raw\":2.9,\"fmt\":\"2.90\"},\"lastPrice\":{\"raw\":2.95,\"fmt\":\"2.95\"}},{\"percentChange\":{\"raw\":60.000008,\"fmt\":\"60.00%\"},\"openInterest\":{\"raw\":7391,\"fmt\":\"7,391\",\"longFmt\":\"7,391\"},\"strike\":{\"raw\":93,\"fmt\":\"93.00\"},\"change\":{\"raw\":0.93000007,\"fmt\":\"0.93\"},\"inTheMoney\":true,\"impliedVolatility\":{\"raw\":0.3789124609375,\"fmt\":\"37.89%\"},\"volume\":{\"raw\":1527,\"fmt\":\"1,527\",\"longFmt\":\"1,527\"},\"contractSymbol\":\"AAPL160701C00093000\",\"ask\":{\"raw\":2.67,\"fmt\":\"2.67\"},\"lastTradeDate\":{\"raw\":1467316405,\"fmt\":\"2016-06-30\",\"longFmt\":\"2016-06-30T19:53\"},\"expiration\":{\"raw\":1467331200,\"fmt\":\"2016-07-01\",\"longFmt\":\"2016-07-01T00:00\"},\"currency\":\"USD\",\"contractSize\":\"REGULAR\",\"bid\":{\"raw\":2.52,\"fmt\":\"2.52\"},\"lastPrice\":{\"raw\":2.48,\"fmt\":\"2.48\"}},{\"percentChange\":{\"raw\":68.376076,\"fmt\":\"68.38%\"},\"openInterest\":{\"raw\":5834,\"fmt\":\"5,834\",\"longFmt\":\"5,834\"},\"strike\":{\"raw\":93.5,\"fmt\":\"93.50\"},\"change\":{\"raw\":0.8000001,\"fmt\":\"0.80\"},\"inTheMoney\":true,\"impliedVolatility\":{\"raw\":0.35547519531249994,\"fmt\":\"35.55%\"},\"volume\":{\"raw\":2008,\"fmt\":\"2,008\",\"longFmt\":\"2,008\"},\"contractSymbol\":\"AAPL160701C00093500\",\"ask\":{\"raw\":2.2,\"fmt\":\"2.20\"},\"lastTradeDate\":{\"raw\":1467315912,\"fmt\":\"2016-06-30\",\"longFmt\":\"2016-06-30T19:45\"},\"expiration\":{\"raw\":1467331200,\"fmt\":\"2016-07-01\",\"longFmt\":\"2016-07-01T00:00\"},\"currency\":\"USD\",\"contractSize\":\"REGULAR\",\"bid\":{\"raw\":1.92,\"fmt\":\"1.92\"},\"lastPrice\":{\"raw\":1.97,\"fmt\":\"1.97\"}},{\"percentChange\":{\"raw\":87.5,\"fmt\":\"87.50%\"},\"openInterest\":{\"raw\":10833,\"fmt\":\"10,833\",\"longFmt\":\"10,833\"},\"strike\":{\"raw\":94,\"fmt\":\"94.00\"},\"change\":{\"raw\":0.7,\"fmt\":\"0.70\"},\"inTheMoney\":true,\"impliedVolatility\":{\"raw\":0.30274134765625,\"fmt\":\"30.27%\"},\"volume\":{\"raw\":10616,\"fmt\":\"10,616\",\"longFmt\":\"10,616\"},\"contractSymbol\":\"AAPL160701C00094000\",\"ask\":{\"raw\":1.71,\"fmt\":\"1.71\"},\"lastTradeDate\":{\"raw\":1467316748,\"fmt\":\"2016-06-30\",\"longFmt\":\"2016-06-30T19:59\"},\"expiration\":{\"raw\":1467331200,\"fmt\":\"2016-07-01\",\"longFmt\":\"2016-07-01T00:00\"},\"currency\":\"USD\",\"contractSize\":\"REGULAR\",\"bid\":{\"raw\":1.55,\"fmt\":\"1.55\"},\"lastPrice\":{\"raw\":1.5,\"fmt\":\"1.50\"}},{\"percentChange\":{\"raw\":94.230774,\"fmt\":\"94.23%\"},\"openInterest\":{\"raw\":6078,\"fmt\":\"6,078\",\"longFmt\":\"6,078\"},\"strike\":{\"raw\":94.5,\"fmt\":\"94.50\"},\"change\":{\"raw\":0.49,\"fmt\":\"0.49\"},\"inTheMoney\":true,\"impliedVolatility\":{\"raw\":0.24414818359375,\"fmt\":\"24.41%\"},\"volume\":{\"raw\":13975,\"fmt\":\"13,975\",\"longFmt\":\"13,975\"},\"contractSymbol\":\"AAPL160701C00094500\",\"ask\":{\"raw\":1.22,\"fmt\":\"1.22\"},\"lastTradeDate\":{\"raw\":1467316597,\"fmt\":\"2016-06-30\",\"longFmt\":\"2016-06-30T19:56\"},\"expiration\":{\"raw\":1467331200,\"fmt\":\"2016-07-01\",\"longFmt\":\"2016-07-01T00:00\"},\"currency\":\"USD\",\"contractSize\":\"REGULAR\",\"bid\":{\"raw\":1.06,\"fmt\":\"1.06\"},\"lastPrice\":{\"raw\":1.01,\"fmt\":\"1.01\"}},{\"percentChange\":{\"raw\":162.06897,\"fmt\":\"162.07%\"},\"openInterest\":{\"raw\":16019,\"fmt\":\"16,019\",\"longFmt\":\"16,019\"},\"strike\":{\"raw\":95,\"fmt\":\"95.00\"},\"change\":{\"raw\":0.47,\"fmt\":\"0.47\"},\"inTheMoney\":true,\"impliedVolatility\":{\"raw\":0.21875781249999998,\"fmt\":\"21.88%\"},\"volume\":{\"raw\":15843,\"fmt\":\"15,843\",\"longFmt\":\"15,843\"},\"contractSymbol\":\"AAPL160701C00095000\",\"ask\":{\"raw\":0.8,\"fmt\":\"0.80\"},\"lastTradeDate\":{\"raw\":1467316791,\"fmt\":\"2016-06-30\",\"longFmt\":\"2016-06-30T19:59\"},\"expiration\":{\"raw\":1467331200,\"fmt\":\"2016-07-01\",\"longFmt\":\"2016-07-01T00:00\"},\"currency\":\"USD\",\"contractSize\":\"REGULAR\",\"bid\":{\"raw\":0.72,\"fmt\":\"0.72\"},\"lastPrice\":{\"raw\":0.76,\"fmt\":\"0.76\"}},{\"percentChange\":{\"raw\":166.66666,\"fmt\":\"166.67%\"},\"openInterest\":{\"raw\":6588,\"fmt\":\"6,588\",\"longFmt\":\"6,588\"},\"strike\":{\"raw\":95.5,\"fmt\":\"95.50\"},\"change\":{\"raw\":0.25,\"fmt\":\"0.25\"},\"inTheMoney\":true,\"impliedVolatility\":{\"raw\":0.20410952148437497,\"fmt\":\"20.41%\"},\"volume\":{\"raw\":12883,\"fmt\":\"12,883\",\"longFmt\":\"12,883\"},\"contractSymbol\":\"AAPL160701C00095500\",\"ask\":{\"raw\":0.46,\"fmt\":\"0.46\"},\"lastTradeDate\":{\"raw\":1467316780,\"fmt\":\"2016-06-30\",\"longFmt\":\"2016-06-30T19:59\"},\"expiration\":{\"raw\":1467331200,\"fmt\":\"2016-07-01\",\"longFmt\":\"2016-07-01T00:00\"},\"currency\":\"USD\",\"contractSize\":\"REGULAR\",\"bid\":{\"raw\":0.4,\"fmt\":\"0.40\"},\"lastPrice\":{\"raw\":0.4,\"fmt\":\"0.40\"}},{\"percentChange\":{\"raw\":150.00002,\"fmt\":\"150.00%\"},\"openInterest\":{\"raw\":12812,\"fmt\":\"12,812\",\"longFmt\":\"12,812\"},\"strike\":{\"raw\":96,\"fmt\":\"96.00\"},\"change\":{\"raw\":0.120000005,\"fmt\":\"0.12\"},\"inTheMoney\":false,\"impliedVolatility\":{\"raw\":0.18262536132812499,\"fmt\":\"18.26%\"},\"volume\":{\"raw\":18595,\"fmt\":\"18,595\",\"longFmt\":\"18,595\"},\"contractSymbol\":\"AAPL160701C00096000\",\"ask\":{\"raw\":0.2,\"fmt\":\"0.20\"},\"lastTradeDate\":{\"raw\":1467316800,\"fmt\":\"2016-06-30\",\"longFmt\":\"2016-06-30T20:00\"},\"expiration\":{\"raw\":1467331200,\"fmt\":\"2016-07-01\",\"longFmt\":\"2016-07-01T00:00\"},\"currency\":\"USD\",\"contractSize\":\"REGULAR\",\"bid\":{\"raw\":0.19,\"fmt\":\"0.19\"},\"lastPrice\":{\"raw\":0.2,\"fmt\":\"0.20\"}},{\"percentChange\":{\"raw\":100,\"fmt\":\"100.00%\"},\"openInterest\":{\"raw\":4518,\"fmt\":\"4,518\",\"longFmt\":\"4,518\"},\"strike\":{\"raw\":96.5,\"fmt\":\"96.50\"},\"change\":{\"raw\":0.04,\"fmt\":\"0.04\"},\"inTheMoney\":false,\"impliedVolatility\":{\"raw\":0.1914143359375,\"fmt\":\"19.14%\"},\"volume\":{\"raw\":6332,\"fmt\":\"6,332\",\"longFmt\":\"6,332\"},\"contractSymbol\":\"AAPL160701C00096500\",\"ask\":{\"raw\":0.09,\"fmt\":\"0.09\"},\"lastTradeDate\":{\"raw\":1467316786,\"fmt\":\"2016-06-30\",\"longFmt\":\"2016-06-30T19:59\"},\"expiration\":{\"raw\":1467331200,\"fmt\":\"2016-07-01\",\"longFmt\":\"2016-07-01T00:00\"},\"currency\":\"USD\",\"contractSize\":\"REGULAR\",\"bid\":{\"raw\":0.07,\"fmt\":\"0.07\"},\"lastPrice\":{\"raw\":0.08,\"fmt\":\"0.08\"}},{\"percentChange\":{\"raw\":0,\"fmt\":\"0.00%\"},\"openInterest\":{\"raw\":4616,\"fmt\":\"4,616\",\"longFmt\":\"4,616\"},\"strike\":{\"raw\":97,\"fmt\":\"97.00\"},\"change\":{\"raw\":0,\"fmt\":\"0.00\"},\"inTheMoney\":false,\"impliedVolatility\":{\"raw\":0.17188328125000002,\"fmt\":\"17.19%\"},\"volume\":{\"raw\":5973,\"fmt\":\"5,973\",\"longFmt\":\"5,973\"},\"contractSymbol\":\"AAPL160701C00097000\",\"ask\":{\"raw\":0.02,\"fmt\":\"0.02\"},\"lastTradeDate\":{\"raw\":1467316772,\"fmt\":\"2016-06-30\",\"longFmt\":\"2016-06-30T19:59\"},\"expiration\":{\"raw\":1467331200,\"fmt\":\"2016-07-01\",\"longFmt\":\"2016-07-01T00:00\"},\"currency\":\"USD\",\"contractSize\":\"REGULAR\",\"bid\":{\"raw\":0.01,\"fmt\":\"0.01\"},\"lastPrice\":{\"raw\":0.02,\"fmt\":\"0.02\"}},{\"percentChange\":{\"raw\":0,\"fmt\":\"0.00%\"},\"openInterest\":{\"raw\":2527,\"fmt\":\"2,527\",\"longFmt\":\"2,527\"},\"strike\":{\"raw\":97.5,\"fmt\":\"97.50\"},\"change\":{\"raw\":0,\"fmt\":\"0.00\"},\"inTheMoney\":false,\"impliedVolatility\":{\"raw\":0.195320546875,\"fmt\":\"19.53%\"},\"volume\":{\"raw\":435,\"fmt\":\"435\",\"longFmt\":\"435\"},\"contractSymbol\":\"AAPL160701C00097500\",\"ask\":{\"raw\":0.01,\"fmt\":\"0.01\"},\"lastTradeDate\":{\"raw\":1467316731,\"fmt\":\"2016-06-30\",\"longFmt\":\"2016-06-30T19:58\"},\"expiration\":{\"raw\":1467331200,\"fmt\":\"2016-07-01\",\"longFmt\":\"2016-07-01T00:00\"},\"currency\":\"USD\",\"contractSize\":\"REGULAR\",\"bid\":{\"raw\":0.01,\"fmt\":\"0.01\"},\"lastPrice\":{\"raw\":0.01,\"fmt\":\"0.01\"}},{\"percentChange\":{\"raw\":0,\"fmt\":\"0.00%\"},\"openInterest\":{\"raw\":5041,\"fmt\":\"5,041\",\"longFmt\":\"5,041\"},\"strike\":{\"raw\":98,\"fmt\":\"98.00\"},\"change\":{\"raw\":0,\"fmt\":\"0.00\"},\"inTheMoney\":false,\"impliedVolatility\":{\"raw\":0.23438265625,\"fmt\":\"23.44%\"},\"volume\":{\"raw\":139,\"fmt\":\"139\",\"longFmt\":\"139\"},\"contractSymbol\":\"AAPL160701C00098000\",\"ask\":{\"raw\":0.01,\"fmt\":\"0.01\"},\"lastTradeDate\":{\"raw\":1467315659,\"fmt\":\"2016-06-30\",\"longFmt\":\"2016-06-30T19:40\"},\"expiration\":{\"raw\":1467331200,\"fmt\":\"2016-07-01\",\"longFmt\":\"2016-07-01T00:00\"},\"currency\":\"USD\",\"contractSize\":\"REGULAR\",\"bid\":{\"raw\":0,\"fmt\":\"0.00\"},\"lastPrice\":{\"raw\":0.01,\"fmt\":\"0.01\"}},{\"percentChange\":{\"raw\":0,\"fmt\":\"0.00%\"},\"openInterest\":{\"raw\":0,\"fmt\":\"0\",\"longFmt\":\"0\"},\"strike\":{\"raw\":98.5,\"fmt\":\"98.50\"},\"change\":{\"raw\":0,\"fmt\":\"0.00\"},\"inTheMoney\":false,\"impliedVolatility\":{\"raw\":0.12500875,\"fmt\":\"12.50%\"},\"volume\":{\"raw\":426,\"fmt\":\"426\",\"longFmt\":\"426\"},\"contractSymbol\":\"AAPL160701C00098500\",\"ask\":{\"raw\":0,\"fmt\":\"0.00\"},\"lastTradeDate\":{\"raw\":1467057550,\"fmt\":\"2016-06-27\",\"longFmt\":\"2016-06-27T19:59\"},\"expiration\":{\"raw\":1467331200,\"fmt\":\"2016-07-01\",\"longFmt\":\"2016-07-01T00:00\"},\"currency\":\"USD\",\"contractSize\":\"REGULAR\",\"bid\":{\"raw\":0,\"fmt\":\"0.00\"},\"lastPrice\":{\"raw\":0.01,\"fmt\":\"0.01\"}},{\"percentChange\":{\"raw\":0,\"fmt\":\"0.00%\"},\"openInterest\":{\"raw\":3533,\"fmt\":\"3,533\",\"longFmt\":\"3,533\"},\"strike\":{\"raw\":99,\"fmt\":\"99.00\"},\"change\":{\"raw\":0,\"fmt\":\"0.00\"},\"inTheMoney\":false,\"impliedVolatility\":{\"raw\":0.35156898437499995,\"fmt\":\"35.16%\"},\"volume\":{\"raw\":54,\"fmt\":\"54\",\"longFmt\":\"54\"},\"contractSymbol\":\"AAPL160701C00099000\",\"ask\":{\"raw\":0.02,\"fmt\":\"0.02\"},\"lastTradeDate\":{\"raw\":1467316722,\"fmt\":\"2016-06-30\",\"longFmt\":\"2016-06-30T19:58\"},\"expiration\":{\"raw\":1467331200,\"fmt\":\"2016-07-01\",\"longFmt\":\"2016-07-01T00:00\"},\"currency\":\"USD\",\"contractSize\":\"REGULAR\",\"bid\":{\"raw\":0,\"fmt\":\"0.00\"},\"lastPrice\":{\"raw\":0.01,\"fmt\":\"0.01\"}},{\"percentChange\":{\"raw\":100,\"fmt\":\"100.00%\"},\"openInterest\":{\"raw\":2370,\"fmt\":\"2,370\",\"longFmt\":\"2,370\"},\"strike\":{\"raw\":99.5,\"fmt\":\"99.50\"},\"change\":{\"raw\":0.01,\"fmt\":\"0.01\"},\"inTheMoney\":false,\"impliedVolatility\":{\"raw\":0.35156898437499995,\"fmt\":\"35.16%\"},\"volume\":{\"raw\":1,\"fmt\":\"1\",\"longFmt\":\"1\"},\"contractSymbol\":\"AAPL160701C00099500\",\"ask\":{\"raw\":0.01,\"fmt\":\"0.01\"},\"lastTradeDate\":{\"raw\":1467302240,\"fmt\":\"2016-06-30\",\"longFmt\":\"2016-06-30T15:57\"},\"expiration\":{\"raw\":1467331200,\"fmt\":\"2016-07-01\",\"longFmt\":\"2016-07-01T00:00\"},\"currency\":\"USD\",\"contractSize\":\"REGULAR\",\"bid\":{\"raw\":0,\"fmt\":\"0.00\"},\"lastPrice\":{\"raw\":0.02,\"fmt\":\"0.02\"}},{\"percentChange\":{\"raw\":0,\"fmt\":\"0.00%\"},\"openInterest\":{\"raw\":22936,\"fmt\":\"22,936\",\"longFmt\":\"22,936\"},\"strike\":{\"raw\":100,\"fmt\":\"100.00\"},\"change\":{\"raw\":0,\"fmt\":\"0.00\"},\"inTheMoney\":false,\"impliedVolatility\":{\"raw\":0.39063109375,\"fmt\":\"39.06%\"},\"volume\":{\"raw\":54,\"fmt\":\"54\",\"longFmt\":\"54\"},\"contractSymbol\":\"AAPL160701C00100000\",\"ask\":{\"raw\":0.01,\"fmt\":\"0.01\"},\"lastTradeDate\":{\"raw\":1467315502,\"fmt\":\"2016-06-30\",\"longFmt\":\"2016-06-30T19:38\"},\"expiration\":{\"raw\":1467331200,\"fmt\":\"2016-07-01\",\"longFmt\":\"2016-07-01T00:00\"},\"currency\":\"USD\",\"contractSize\":\"REGULAR\",\"bid\":{\"raw\":0,\"fmt\":\"0.00\"},\"lastPrice\":{\"raw\":0.01,\"fmt\":\"0.01\"}},{\"percentChange\":{\"raw\":0,\"fmt\":\"0.00%\"},\"openInterest\":{\"raw\":3256,\"fmt\":\"3,256\",\"longFmt\":\"3,256\"},\"strike\":{\"raw\":101,\"fmt\":\"101.00\"},\"change\":{\"raw\":0,\"fmt\":\"0.00\"},\"inTheMoney\":false,\"impliedVolatility\":{\"raw\":0.4687553125,\"fmt\":\"46.88%\"},\"volume\":{\"raw\":181,\"fmt\":\"181\",\"longFmt\":\"181\"},\"contractSymbol\":\"AAPL160701C00101000\",\"ask\":{\"raw\":0.01,\"fmt\":\"0.01\"},\"lastTradeDate\":{\"raw\":1467310267,\"fmt\":\"2016-06-30\",\"longFmt\":\"2016-06-30T18:11\"},\"expiration\":{\"raw\":1467331200,\"fmt\":\"2016-07-01\",\"longFmt\":\"2016-07-01T00:00\"},\"currency\":\"USD\",\"contractSize\":\"REGULAR\",\"bid\":{\"raw\":0,\"fmt\":\"0.00\"},\"lastPrice\":{\"raw\":0.02,\"fmt\":\"0.02\"}},{\"percentChange\":{\"raw\":-50,\"fmt\":\"-50.00%\"},\"openInterest\":{\"raw\":2560,\"fmt\":\"2,560\",\"longFmt\":\"2,560\"},\"strike\":{\"raw\":102,\"fmt\":\"102.00\"},\"change\":{\"raw\":-0.01,\"fmt\":\"-0.01\"},\"inTheMoney\":false,\"impliedVolatility\":{\"raw\":0.500005,\"fmt\":\"50.00%\"},\"volume\":{\"raw\":8,\"fmt\":\"8\",\"longFmt\":\"8\"},\"contractSymbol\":\"AAPL160701C00102000\",\"ask\":{\"raw\":0.01,\"fmt\":\"0.01\"},\"lastTradeDate\":{\"raw\":1467315499,\"fmt\":\"2016-06-30\",\"longFmt\":\"2016-06-30T19:38\"},\"expiration\":{\"raw\":1467331200,\"fmt\":\"2016-07-01\",\"longFmt\":\"2016-07-01T00:00\"},\"currency\":\"USD\",\"contractSize\":\"REGULAR\",\"bid\":{\"raw\":0,\"fmt\":\"0.00\"},\"lastPrice\":{\"raw\":0.01,\"fmt\":\"0.01\"}},{\"percentChange\":{\"raw\":100,\"fmt\":\"100.00%\"},\"openInterest\":{\"raw\":3371,\"fmt\":\"3,371\",\"longFmt\":\"3,371\"},\"strike\":{\"raw\":103,\"fmt\":\"103.00\"},\"change\":{\"raw\":0.01,\"fmt\":\"0.01\"},\"inTheMoney\":false,\"impliedVolatility\":{\"raw\":0.5625043750000001,\"fmt\":\"56.25%\"},\"volume\":{\"raw\":18,\"fmt\":\"18\",\"longFmt\":\"18\"},\"contractSymbol\":\"AAPL160701C00103000\",\"ask\":{\"raw\":0.01,\"fmt\":\"0.01\"},\"lastTradeDate\":{\"raw\":1467296021,\"fmt\":\"2016-06-30\",\"longFmt\":\"2016-06-30T14:13\"},\"expiration\":{\"raw\":1467331200,\"fmt\":\"2016-07-01\",\"longFmt\":\"2016-07-01T00:00\"},\"currency\":\"USD\",\"contractSize\":\"REGULAR\",\"bid\":{\"raw\":0,\"fmt\":\"0.00\"},\"lastPrice\":{\"raw\":0.02,\"fmt\":\"0.02\"}},{\"percentChange\":{\"raw\":-66.66667,\"fmt\":\"-66.67%\"},\"openInterest\":{\"raw\":680,\"fmt\":\"680\",\"longFmt\":\"680\"},\"strike\":{\"raw\":104,\"fmt\":\"104.00\"},\"change\":{\"raw\":-0.02,\"fmt\":\"-0.02\"},\"inTheMoney\":false,\"impliedVolatility\":{\"raw\":0.6718782812500002,\"fmt\":\"67.19%\"},\"volume\":{\"raw\":6,\"fmt\":\"6\",\"longFmt\":\"6\"},\"contractSymbol\":\"AAPL160701C00104000\",\"ask\":{\"raw\":0.01,\"fmt\":\"0.01\"},\"lastTradeDate\":{\"raw\":1466796335,\"fmt\":\"2016-06-24\",\"longFmt\":\"2016-06-24T19:25\"},\"expiration\":{\"raw\":1467331200,\"fmt\":\"2016-07-01\",\"longFmt\":\"2016-07-01T00:00\"},\"currency\":\"USD\",\"contractSize\":\"REGULAR\",\"bid\":{\"raw\":0.01,\"fmt\":\"0.01\"},\"lastPrice\":{\"raw\":0.01,\"fmt\":\"0.01\"}},{\"percentChange\":{\"raw\":0,\"fmt\":\"0.00%\"},\"openInterest\":{\"raw\":8606,\"fmt\":\"8,606\",\"longFmt\":\"8,606\"},\"strike\":{\"raw\":105,\"fmt\":\"105.00\"},\"change\":{\"raw\":0,\"fmt\":\"0.00\"},\"inTheMoney\":false,\"impliedVolatility\":{\"raw\":0.6875031250000001,\"fmt\":\"68.75%\"},\"volume\":{\"raw\":62,\"fmt\":\"62\",\"longFmt\":\"62\"},\"contractSymbol\":\"AAPL160701C00105000\",\"ask\":{\"raw\":0.01,\"fmt\":\"0.01\"},\"lastTradeDate\":{\"raw\":1466786015,\"fmt\":\"2016-06-24\",\"longFmt\":\"2016-06-24T16:33\"},\"expiration\":{\"raw\":1467331200,\"fmt\":\"2016-07-01\",\"longFmt\":\"2016-07-01T00:00\"},\"currency\":\"USD\",\"contractSize\":\"REGULAR\",\"bid\":{\"raw\":0,\"fmt\":\"0.00\"},\"lastPrice\":{\"raw\":0.01,\"fmt\":\"0.01\"}},{\"percentChange\":{\"raw\":-50,\"fmt\":\"-50.00%\"},\"openInterest\":{\"raw\":462,\"fmt\":\"462\",\"longFmt\":\"462\"},\"strike\":{\"raw\":106,\"fmt\":\"106.00\"},\"change\":{\"raw\":-0.01,\"fmt\":\"-0.01\"},\"inTheMoney\":false,\"impliedVolatility\":{\"raw\":0.8125018749999999,\"fmt\":\"81.25%\"},\"volume\":{\"raw\":10,\"fmt\":\"10\",\"longFmt\":\"10\"},\"contractSymbol\":\"AAPL160701C00106000\",\"ask\":{\"raw\":0.02,\"fmt\":\"0.02\"},\"lastTradeDate\":{\"raw\":1466521951,\"fmt\":\"2016-06-21\",\"longFmt\":\"2016-06-21T15:12\"},\"expiration\":{\"raw\":1467331200,\"fmt\":\"2016-07-01\",\"longFmt\":\"2016-07-01T00:00\"},\"currency\":\"USD\",\"contractSize\":\"REGULAR\",\"bid\":{\"raw\":0,\"fmt\":\"0.00\"},\"lastPrice\":{\"raw\":0.01,\"fmt\":\"0.01\"}},{\"percentChange\":{\"raw\":-50,\"fmt\":\"-50.00%\"},\"openInterest\":{\"raw\":783,\"fmt\":\"783\",\"longFmt\":\"783\"},\"strike\":{\"raw\":107,\"fmt\":\"107.00\"},\"change\":{\"raw\":-0.02,\"fmt\":\"-0.02\"},\"inTheMoney\":false,\"impliedVolatility\":{\"raw\":0.9765627343750001,\"fmt\":\"97.66%\"},\"volume\":{\"raw\":5,\"fmt\":\"5\",\"longFmt\":\"5\"},\"contractSymbol\":\"AAPL160701C00107000\",\"ask\":{\"raw\":0.03,\"fmt\":\"0.03\"},\"lastTradeDate\":{\"raw\":1466176056,\"fmt\":\"2016-06-17\",\"longFmt\":\"2016-06-17T15:07\"},\"expiration\":{\"raw\":1467331200,\"fmt\":\"2016-07-01\",\"longFmt\":\"2016-07-01T00:00\"},\"currency\":\"USD\",\"contractSize\":\"REGULAR\",\"bid\":{\"raw\":0.02,\"fmt\":\"0.02\"},\"lastPrice\":{\"raw\":0.02,\"fmt\":\"0.02\"}},{\"percentChange\":{\"raw\":-66.66667,\"fmt\":\"-66.67%\"},\"openInterest\":{\"raw\":1422,\"fmt\":\"1,422\",\"longFmt\":\"1,422\"},\"strike\":{\"raw\":110,\"fmt\":\"110.00\"},\"change\":{\"raw\":-0.02,\"fmt\":\"-0.02\"},\"inTheMoney\":false,\"impliedVolatility\":{\"raw\":1.109379453125,\"fmt\":\"110.94%\"},\"volume\":{\"raw\":3,\"fmt\":\"3\",\"longFmt\":\"3\"},\"contractSymbol\":\"AAPL160701C00110000\",\"ask\":{\"raw\":0.02,\"fmt\":\"0.02\"},\"lastTradeDate\":{\"raw\":1466189042,\"fmt\":\"2016-06-17\",\"longFmt\":\"2016-06-17T18:44\"},\"expiration\":{\"raw\":1467331200,\"fmt\":\"2016-07-01\",\"longFmt\":\"2016-07-01T00:00\"},\"currency\":\"USD\",\"contractSize\":\"REGULAR\",\"bid\":{\"raw\":0.01,\"fmt\":\"0.01\"},\"lastPrice\":{\"raw\":0.01,\"fmt\":\"0.01\"}}],\"puts\":[{\"percentChange\":{\"raw\":0,\"fmt\":\"0.00%\"},\"openInterest\":{\"raw\":0,\"fmt\":\"0\",\"longFmt\":\"0\"},\"strike\":{\"raw\":70,\"fmt\":\"70.00\"},\"change\":{\"raw\":0,\"fmt\":\"0.00\"},\"inTheMoney\":false,\"impliedVolatility\":{\"raw\":2.5781285546875,\"fmt\":\"257.81%\"},\"volume\":{\"raw\":10,\"fmt\":\"10\",\"longFmt\":\"10\"},\"contractSymbol\":\"AAPL160701P00070000\",\"ask\":{\"raw\":0.08,\"fmt\":\"0.08\"},\"lastTradeDate\":{\"raw\":1466826680,\"fmt\":\"2016-06-25\",\"longFmt\":\"2016-06-25T03:51\"},\"expiration\":{\"raw\":1467331200,\"fmt\":\"2016-07-01\",\"longFmt\":\"2016-07-01T00:00\"},\"currency\":\"USD\",\"contractSize\":\"REGULAR\",\"bid\":{\"raw\":0,\"fmt\":\"0.00\"},\"lastPrice\":{\"raw\":0.01,\"fmt\":\"0.01\"}},{\"percentChange\":{\"raw\":0,\"fmt\":\"0.00%\"},\"openInterest\":{\"raw\":0,\"fmt\":\"0\",\"longFmt\":\"0\"},\"strike\":{\"raw\":75,\"fmt\":\"75.00\"},\"change\":{\"raw\":0,\"fmt\":\"0.00\"},\"inTheMoney\":false,\"impliedVolatility\":{\"raw\":0.500005,\"fmt\":\"50.00%\"},\"volume\":{\"raw\":109,\"fmt\":\"109\",\"longFmt\":\"109\"},\"contractSymbol\":\"AAPL160701P00075000\",\"ask\":{\"raw\":0,\"fmt\":\"0.00\"},\"lastTradeDate\":{\"raw\":1467048084,\"fmt\":\"2016-06-27\",\"longFmt\":\"2016-06-27T17:21\"},\"expiration\":{\"raw\":1467331200,\"fmt\":\"2016-07-01\",\"longFmt\":\"2016-07-01T00:00\"},\"currency\":\"USD\",\"contractSize\":\"REGULAR\",\"bid\":{\"raw\":0,\"fmt\":\"0.00\"},\"lastPrice\":{\"raw\":0.01,\"fmt\":\"0.01\"}},{\"percentChange\":{\"raw\":0,\"fmt\":\"0.00%\"},\"openInterest\":{\"raw\":0,\"fmt\":\"0\",\"longFmt\":\"0\"},\"strike\":{\"raw\":80,\"fmt\":\"80.00\"},\"change\":{\"raw\":0,\"fmt\":\"0.00\"},\"inTheMoney\":false,\"impliedVolatility\":{\"raw\":0.500005,\"fmt\":\"50.00%\"},\"volume\":{\"raw\":2072,\"fmt\":\"2,072\",\"longFmt\":\"2,072\"},\"contractSymbol\":\"AAPL160701P00080000\",\"ask\":{\"raw\":0,\"fmt\":\"0.00\"},\"lastTradeDate\":{\"raw\":1467052688,\"fmt\":\"2016-06-27\",\"longFmt\":\"2016-06-27T18:38\"},\"expiration\":{\"raw\":1467331200,\"fmt\":\"2016-07-01\",\"longFmt\":\"2016-07-01T00:00\"},\"currency\":\"USD\",\"contractSize\":\"REGULAR\",\"bid\":{\"raw\":0,\"fmt\":\"0.00\"},\"lastPrice\":{\"raw\":0.01,\"fmt\":\"0.01\"}},{\"percentChange\":{\"raw\":-50,\"fmt\":\"-50.00%\"},\"openInterest\":{\"raw\":1625,\"fmt\":\"1,625\",\"longFmt\":\"1,625\"},\"strike\":{\"raw\":81,\"fmt\":\"81.00\"},\"change\":{\"raw\":-0.01,\"fmt\":\"-0.01\"},\"inTheMoney\":false,\"impliedVolatility\":{\"raw\":1.15625421875,\"fmt\":\"115.63%\"},\"volume\":{\"raw\":1200,\"fmt\":\"1,200\",\"longFmt\":\"1,200\"},\"contractSymbol\":\"AAPL160701P00081000\",\"ask\":{\"raw\":0.01,\"fmt\":\"0.01\"},\"lastTradeDate\":{\"raw\":1467121406,\"fmt\":\"2016-06-28\",\"longFmt\":\"2016-06-28T13:43\"},\"expiration\":{\"raw\":1467331200,\"fmt\":\"2016-07-01\",\"longFmt\":\"2016-07-01T00:00\"},\"currency\":\"USD\",\"contractSize\":\"REGULAR\",\"bid\":{\"raw\":0,\"fmt\":\"0.00\"},\"lastPrice\":{\"raw\":0.01,\"fmt\":\"0.01\"}},{\"percentChange\":{\"raw\":-50,\"fmt\":\"-50.00%\"},\"openInterest\":{\"raw\":942,\"fmt\":\"942\",\"longFmt\":\"942\"},\"strike\":{\"raw\":82,\"fmt\":\"82.00\"},\"change\":{\"raw\":-0.01,\"fmt\":\"-0.01\"},\"inTheMoney\":false,\"impliedVolatility\":{\"raw\":1.0625046875000002,\"fmt\":\"106.25%\"},\"volume\":{\"raw\":265,\"fmt\":\"265\",\"longFmt\":\"265\"},\"contractSymbol\":\"AAPL160701P00082000\",\"ask\":{\"raw\":0.01,\"fmt\":\"0.01\"},\"lastTradeDate\":{\"raw\":1467121390,\"fmt\":\"2016-06-28\",\"longFmt\":\"2016-06-28T13:43\"},\"expiration\":{\"raw\":1467331200,\"fmt\":\"2016-07-01\",\"longFmt\":\"2016-07-01T00:00\"},\"currency\":\"USD\",\"contractSize\":\"REGULAR\",\"bid\":{\"raw\":0,\"fmt\":\"0.00\"},\"lastPrice\":{\"raw\":0.01,\"fmt\":\"0.01\"}},{\"percentChange\":{\"raw\":-50,\"fmt\":\"-50.00%\"},\"openInterest\":{\"raw\":1116,\"fmt\":\"1,116\",\"longFmt\":\"1,116\"},\"strike\":{\"raw\":83,\"fmt\":\"83.00\"},\"change\":{\"raw\":-0.01,\"fmt\":\"-0.01\"},\"inTheMoney\":false,\"impliedVolatility\":{\"raw\":1.0781296093750001,\"fmt\":\"107.81%\"},\"volume\":{\"raw\":511,\"fmt\":\"511\",\"longFmt\":\"511\"},\"contractSymbol\":\"AAPL160701P00083000\",\"ask\":{\"raw\":0.01,\"fmt\":\"0.01\"},\"lastTradeDate\":{\"raw\":1467143353,\"fmt\":\"2016-06-28\",\"longFmt\":\"2016-06-28T19:49\"},\"expiration\":{\"raw\":1467331200,\"fmt\":\"2016-07-01\",\"longFmt\":\"2016-07-01T00:00\"},\"currency\":\"USD\",\"contractSize\":\"REGULAR\",\"bid\":{\"raw\":0.01,\"fmt\":\"0.01\"},\"lastPrice\":{\"raw\":0.01,\"fmt\":\"0.01\"}},{\"percentChange\":{\"raw\":-66.66667,\"fmt\":\"-66.67%\"},\"openInterest\":{\"raw\":5153,\"fmt\":\"5,153\",\"longFmt\":\"5,153\"},\"strike\":{\"raw\":84,\"fmt\":\"84.00\"},\"change\":{\"raw\":-0.02,\"fmt\":\"-0.02\"},\"inTheMoney\":false,\"impliedVolatility\":{\"raw\":0.992187578125,\"fmt\":\"99.22%\"},\"volume\":{\"raw\":2889,\"fmt\":\"2,889\",\"longFmt\":\"2,889\"},\"contractSymbol\":\"AAPL160701P00084000\",\"ask\":{\"raw\":0.01,\"fmt\":\"0.01\"},\"lastTradeDate\":{\"raw\":1467143146,\"fmt\":\"2016-06-28\",\"longFmt\":\"2016-06-28T19:45\"},\"expiration\":{\"raw\":1467331200,\"fmt\":\"2016-07-01\",\"longFmt\":\"2016-07-01T00:00\"},\"currency\":\"USD\",\"contractSize\":\"REGULAR\",\"bid\":{\"raw\":0.01,\"fmt\":\"0.01\"},\"lastPrice\":{\"raw\":0.01,\"fmt\":\"0.01\"}},{\"percentChange\":{\"raw\":-50,\"fmt\":\"-50.00%\"},\"openInterest\":{\"raw\":3050,\"fmt\":\"3,050\",\"longFmt\":\"3,050\"},\"strike\":{\"raw\":85,\"fmt\":\"85.00\"},\"change\":{\"raw\":-0.01,\"fmt\":\"-0.01\"},\"inTheMoney\":false,\"impliedVolatility\":{\"raw\":0.9062509375,\"fmt\":\"90.63%\"},\"volume\":{\"raw\":26,\"fmt\":\"26\",\"longFmt\":\"26\"},\"contractSymbol\":\"AAPL160701P00085000\",\"ask\":{\"raw\":0.01,\"fmt\":\"0.01\"},\"lastTradeDate\":{\"raw\":1467305152,\"fmt\":\"2016-06-30\",\"longFmt\":\"2016-06-30T16:45\"},\"expiration\":{\"raw\":1467331200,\"fmt\":\"2016-07-01\",\"longFmt\":\"2016-07-01T00:00\"},\"currency\":\"USD\",\"contractSize\":\"REGULAR\",\"bid\":{\"raw\":0.01,\"fmt\":\"0.01\"},\"lastPrice\":{\"raw\":0.01,\"fmt\":\"0.01\"}},{\"percentChange\":{\"raw\":-79.99999,\"fmt\":\"-80.00%\"},\"openInterest\":{\"raw\":361,\"fmt\":\"361\",\"longFmt\":\"361\"},\"strike\":{\"raw\":85.5,\"fmt\":\"85.50\"},\"change\":{\"raw\":-0.04,\"fmt\":\"-0.04\"},\"inTheMoney\":false,\"impliedVolatility\":{\"raw\":0.87500125,\"fmt\":\"87.50%\"},\"volume\":{\"raw\":866,\"fmt\":\"866\",\"longFmt\":\"866\"},\"contractSymbol\":\"AAPL160701P00085500\",\"ask\":{\"raw\":0.01,\"fmt\":\"0.01\"},\"lastTradeDate\":{\"raw\":1467143382,\"fmt\":\"2016-06-28\",\"longFmt\":\"2016-06-28T19:49\"},\"expiration\":{\"raw\":1467331200,\"fmt\":\"2016-07-01\",\"longFmt\":\"2016-07-01T00:00\"},\"currency\":\"USD\",\"contractSize\":\"REGULAR\",\"bid\":{\"raw\":0.01,\"fmt\":\"0.01\"},\"lastPrice\":{\"raw\":0.01,\"fmt\":\"0.01\"}},{\"percentChange\":{\"raw\":-83.33333,\"fmt\":\"-83.33%\"},\"openInterest\":{\"raw\":1162,\"fmt\":\"1,162\",\"longFmt\":\"1,162\"},\"strike\":{\"raw\":86,\"fmt\":\"86.00\"},\"change\":{\"raw\":-0.049999997,\"fmt\":\"-0.05\"},\"inTheMoney\":false,\"impliedVolatility\":{\"raw\":0.87500125,\"fmt\":\"87.50%\"},\"volume\":{\"raw\":970,\"fmt\":\"970\",\"longFmt\":\"970\"},\"contractSymbol\":\"AAPL160701P00086000\",\"ask\":{\"raw\":0.02,\"fmt\":\"0.02\"},\"lastTradeDate\":{\"raw\":1467143691,\"fmt\":\"2016-06-28\",\"longFmt\":\"2016-06-28T19:54\"},\"expiration\":{\"raw\":1467331200,\"fmt\":\"2016-07-01\",\"longFmt\":\"2016-07-01T00:00\"},\"currency\":\"USD\",\"contractSize\":\"REGULAR\",\"bid\":{\"raw\":0.01,\"fmt\":\"0.01\"},\"lastPrice\":{\"raw\":0.01,\"fmt\":\"0.01\"}},{\"percentChange\":{\"raw\":-92.30769,\"fmt\":\"-92.31%\"},\"openInterest\":{\"raw\":528,\"fmt\":\"528\",\"longFmt\":\"528\"},\"strike\":{\"raw\":86.5,\"fmt\":\"86.50\"},\"change\":{\"raw\":-0.12,\"fmt\":\"-0.12\"},\"inTheMoney\":false,\"impliedVolatility\":{\"raw\":0.8281267187499999,\"fmt\":\"82.81%\"},\"volume\":{\"raw\":275,\"fmt\":\"275\",\"longFmt\":\"275\"},\"contractSymbol\":\"AAPL160701P00086500\",\"ask\":{\"raw\":0.02,\"fmt\":\"0.02\"},\"lastTradeDate\":{\"raw\":1467143643,\"fmt\":\"2016-06-28\",\"longFmt\":\"2016-06-28T19:54\"},\"expiration\":{\"raw\":1467331200,\"fmt\":\"2016-07-01\",\"longFmt\":\"2016-07-01T00:00\"},\"currency\":\"USD\",\"contractSize\":\"REGULAR\",\"bid\":{\"raw\":0.01,\"fmt\":\"0.01\"},\"lastPrice\":{\"raw\":0.01,\"fmt\":\"0.01\"}},{\"percentChange\":{\"raw\":-88.88889,\"fmt\":\"-88.89%\"},\"openInterest\":{\"raw\":868,\"fmt\":\"868\",\"longFmt\":\"868\"},\"strike\":{\"raw\":87,\"fmt\":\"87.00\"},\"change\":{\"raw\":-0.080000006,\"fmt\":\"-0.08\"},\"inTheMoney\":false,\"impliedVolatility\":{\"raw\":0.79687703125,\"fmt\":\"79.69%\"},\"volume\":{\"raw\":1183,\"fmt\":\"1,183\",\"longFmt\":\"1,183\"},\"contractSymbol\":\"AAPL160701P00087000\",\"ask\":{\"raw\":0.02,\"fmt\":\"0.02\"},\"lastTradeDate\":{\"raw\":1467143841,\"fmt\":\"2016-06-28\",\"longFmt\":\"2016-06-28T19:57\"},\"expiration\":{\"raw\":1467331200,\"fmt\":\"2016-07-01\",\"longFmt\":\"2016-07-01T00:00\"},\"currency\":\"USD\",\"contractSize\":\"REGULAR\",\"bid\":{\"raw\":0.01,\"fmt\":\"0.01\"},\"lastPrice\":{\"raw\":0.01,\"fmt\":\"0.01\"}},{\"percentChange\":{\"raw\":-50,\"fmt\":\"-50.00%\"},\"openInterest\":{\"raw\":1052,\"fmt\":\"1,052\",\"longFmt\":\"1,052\"},\"strike\":{\"raw\":87.5,\"fmt\":\"87.50\"},\"change\":{\"raw\":-0.01,\"fmt\":\"-0.01\"},\"inTheMoney\":false,\"impliedVolatility\":{\"raw\":0.6562534375000001,\"fmt\":\"65.63%\"},\"volume\":{\"raw\":25,\"fmt\":\"25\",\"longFmt\":\"25\"},\"contractSymbol\":\"AAPL160701P00087500\",\"ask\":{\"raw\":0.01,\"fmt\":\"0.01\"},\"lastTradeDate\":{\"raw\":1467303151,\"fmt\":\"2016-06-30\",\"longFmt\":\"2016-06-30T16:12\"},\"expiration\":{\"raw\":1467331200,\"fmt\":\"2016-07-01\",\"longFmt\":\"2016-07-01T00:00\"},\"currency\":\"USD\",\"contractSize\":\"REGULAR\",\"bid\":{\"raw\":0,\"fmt\":\"0.00\"},\"lastPrice\":{\"raw\":0.01,\"fmt\":\"0.01\"}},{\"percentChange\":{\"raw\":-50,\"fmt\":\"-50.00%\"},\"openInterest\":{\"raw\":2478,\"fmt\":\"2,478\",\"longFmt\":\"2,478\"},\"strike\":{\"raw\":88,\"fmt\":\"88.00\"},\"change\":{\"raw\":-0.01,\"fmt\":\"-0.01\"},\"inTheMoney\":false,\"impliedVolatility\":{\"raw\":0.6718782812500002,\"fmt\":\"67.19%\"},\"volume\":{\"raw\":132,\"fmt\":\"132\",\"longFmt\":\"132\"},\"contractSymbol\":\"AAPL160701P00088000\",\"ask\":{\"raw\":0.01,\"fmt\":\"0.01\"},\"lastTradeDate\":{\"raw\":1467300450,\"fmt\":\"2016-06-30\",\"longFmt\":\"2016-06-30T15:27\"},\"expiration\":{\"raw\":1467331200,\"fmt\":\"2016-07-01\",\"longFmt\":\"2016-07-01T00:00\"},\"currency\":\"USD\",\"contractSize\":\"REGULAR\",\"bid\":{\"raw\":0.01,\"fmt\":\"0.01\"},\"lastPrice\":{\"raw\":0.01,\"fmt\":\"0.01\"}},{\"percentChange\":{\"raw\":-50,\"fmt\":\"-50.00%\"},\"openInterest\":{\"raw\":1471,\"fmt\":\"1,471\",\"longFmt\":\"1,471\"},\"strike\":{\"raw\":88.5,\"fmt\":\"88.50\"},\"change\":{\"raw\":-0.01,\"fmt\":\"-0.01\"},\"inTheMoney\":false,\"impliedVolatility\":{\"raw\":0.57812921875,\"fmt\":\"57.81%\"},\"volume\":{\"raw\":58,\"fmt\":\"58\",\"longFmt\":\"58\"},\"contractSymbol\":\"AAPL160701P00088500\",\"ask\":{\"raw\":0.01,\"fmt\":\"0.01\"},\"lastTradeDate\":{\"raw\":1467315465,\"fmt\":\"2016-06-30\",\"longFmt\":\"2016-06-30T19:37\"},\"expiration\":{\"raw\":1467331200,\"fmt\":\"2016-07-01\",\"longFmt\":\"2016-07-01T00:00\"},\"currency\":\"USD\",\"contractSize\":\"REGULAR\",\"bid\":{\"raw\":0,\"fmt\":\"0.00\"},\"lastPrice\":{\"raw\":0.01,\"fmt\":\"0.01\"}},{\"percentChange\":{\"raw\":-50,\"fmt\":\"-50.00%\"},\"openInterest\":{\"raw\":2033,\"fmt\":\"2,033\",\"longFmt\":\"2,033\"},\"strike\":{\"raw\":89,\"fmt\":\"89.00\"},\"change\":{\"raw\":-0.01,\"fmt\":\"-0.01\"},\"inTheMoney\":false,\"impliedVolatility\":{\"raw\":0.5937540625000001,\"fmt\":\"59.38%\"},\"volume\":{\"raw\":333,\"fmt\":\"333\",\"longFmt\":\"333\"},\"contractSymbol\":\"AAPL160701P00089000\",\"ask\":{\"raw\":0.01,\"fmt\":\"0.01\"},\"lastTradeDate\":{\"raw\":1467310780,\"fmt\":\"2016-06-30\",\"longFmt\":\"2016-06-30T18:19\"},\"expiration\":{\"raw\":1467331200,\"fmt\":\"2016-07-01\",\"longFmt\":\"2016-07-01T00:00\"},\"currency\":\"USD\",\"contractSize\":\"REGULAR\",\"bid\":{\"raw\":0.01,\"fmt\":\"0.01\"},\"lastPrice\":{\"raw\":0.01,\"fmt\":\"0.01\"}},{\"percentChange\":{\"raw\":-50,\"fmt\":\"-50.00%\"},\"openInterest\":{\"raw\":2196,\"fmt\":\"2,196\",\"longFmt\":\"2,196\"},\"strike\":{\"raw\":89.5,\"fmt\":\"89.50\"},\"change\":{\"raw\":-0.01,\"fmt\":\"-0.01\"},\"inTheMoney\":false,\"impliedVolatility\":{\"raw\":0.5468795312500001,\"fmt\":\"54.69%\"},\"volume\":{\"raw\":240,\"fmt\":\"240\",\"longFmt\":\"240\"},\"contractSymbol\":\"AAPL160701P00089500\",\"ask\":{\"raw\":0.01,\"fmt\":\"0.01\"},\"lastTradeDate\":{\"raw\":1467316221,\"fmt\":\"2016-06-30\",\"longFmt\":\"2016-06-30T19:50\"},\"expiration\":{\"raw\":1467331200,\"fmt\":\"2016-07-01\",\"longFmt\":\"2016-07-01T00:00\"},\"currency\":\"USD\",\"contractSize\":\"REGULAR\",\"bid\":{\"raw\":0.01,\"fmt\":\"0.01\"},\"lastPrice\":{\"raw\":0.01,\"fmt\":\"0.01\"}},{\"percentChange\":{\"raw\":-66.66667,\"fmt\":\"-66.67%\"},\"openInterest\":{\"raw\":5895,\"fmt\":\"5,895\",\"longFmt\":\"5,895\"},\"strike\":{\"raw\":90,\"fmt\":\"90.00\"},\"change\":{\"raw\":-0.02,\"fmt\":\"-0.02\"},\"inTheMoney\":false,\"impliedVolatility\":{\"raw\":0.5390671093750001,\"fmt\":\"53.91%\"},\"volume\":{\"raw\":119,\"fmt\":\"119\",\"longFmt\":\"119\"},\"contractSymbol\":\"AAPL160701P00090000\",\"ask\":{\"raw\":0.02,\"fmt\":\"0.02\"},\"lastTradeDate\":{\"raw\":1467316364,\"fmt\":\"2016-06-30\",\"longFmt\":\"2016-06-30T19:52\"},\"expiration\":{\"raw\":1467331200,\"fmt\":\"2016-07-01\",\"longFmt\":\"2016-07-01T00:00\"},\"currency\":\"USD\",\"contractSize\":\"REGULAR\",\"bid\":{\"raw\":0.01,\"fmt\":\"0.01\"},\"lastPrice\":{\"raw\":0.01,\"fmt\":\"0.01\"}},{\"percentChange\":{\"raw\":-66.66667,\"fmt\":\"-66.67%\"},\"openInterest\":{\"raw\":1936,\"fmt\":\"1,936\",\"longFmt\":\"1,936\"},\"strike\":{\"raw\":90.5,\"fmt\":\"90.50\"},\"change\":{\"raw\":-0.02,\"fmt\":\"-0.02\"},\"inTheMoney\":false,\"impliedVolatility\":{\"raw\":0.4687553125,\"fmt\":\"46.88%\"},\"volume\":{\"raw\":120,\"fmt\":\"120\",\"longFmt\":\"120\"},\"contractSymbol\":\"AAPL160701P00090500\",\"ask\":{\"raw\":0.01,\"fmt\":\"0.01\"},\"lastTradeDate\":{\"raw\":1467315957,\"fmt\":\"2016-06-30\",\"longFmt\":\"2016-06-30T19:45\"},\"expiration\":{\"raw\":1467331200,\"fmt\":\"2016-07-01\",\"longFmt\":\"2016-07-01T00:00\"},\"currency\":\"USD\",\"contractSize\":\"REGULAR\",\"bid\":{\"raw\":0.01,\"fmt\":\"0.01\"},\"lastPrice\":{\"raw\":0.01,\"fmt\":\"0.01\"}},{\"percentChange\":{\"raw\":-75,\"fmt\":\"-75.00%\"},\"openInterest\":{\"raw\":5536,\"fmt\":\"5,536\",\"longFmt\":\"5,536\"},\"strike\":{\"raw\":91,\"fmt\":\"91.00\"},\"change\":{\"raw\":-0.03,\"fmt\":\"-0.03\"},\"inTheMoney\":false,\"impliedVolatility\":{\"raw\":0.4726615234375,\"fmt\":\"47.27%\"},\"volume\":{\"raw\":122,\"fmt\":\"122\",\"longFmt\":\"122\"},\"contractSymbol\":\"AAPL160701P00091000\",\"ask\":{\"raw\":0.02,\"fmt\":\"0.02\"},\"lastTradeDate\":{\"raw\":1467313135,\"fmt\":\"2016-06-30\",\"longFmt\":\"2016-06-30T18:58\"},\"expiration\":{\"raw\":1467331200,\"fmt\":\"2016-07-01\",\"longFmt\":\"2016-07-01T00:00\"},\"currency\":\"USD\",\"contractSize\":\"REGULAR\",\"bid\":{\"raw\":0.01,\"fmt\":\"0.01\"},\"lastPrice\":{\"raw\":0.01,\"fmt\":\"0.01\"}},{\"percentChange\":{\"raw\":-79.99999,\"fmt\":\"-80.00%\"},\"openInterest\":{\"raw\":3004,\"fmt\":\"3,004\",\"longFmt\":\"3,004\"},\"strike\":{\"raw\":91.5,\"fmt\":\"91.50\"},\"change\":{\"raw\":-0.04,\"fmt\":\"-0.04\"},\"inTheMoney\":false,\"impliedVolatility\":{\"raw\":0.42969320312500003,\"fmt\":\"42.97%\"},\"volume\":{\"raw\":1139,\"fmt\":\"1,139\",\"longFmt\":\"1,139\"},\"contractSymbol\":\"AAPL160701P00091500\",\"ask\":{\"raw\":0.02,\"fmt\":\"0.02\"},\"lastTradeDate\":{\"raw\":1467316092,\"fmt\":\"2016-06-30\",\"longFmt\":\"2016-06-30T19:48\"},\"expiration\":{\"raw\":1467331200,\"fmt\":\"2016-07-01\",\"longFmt\":\"2016-07-01T00:00\"},\"currency\":\"USD\",\"contractSize\":\"REGULAR\",\"bid\":{\"raw\":0.01,\"fmt\":\"0.01\"},\"lastPrice\":{\"raw\":0.01,\"fmt\":\"0.01\"}},{\"percentChange\":{\"raw\":-83.33333,\"fmt\":\"-83.33%\"},\"openInterest\":{\"raw\":7208,\"fmt\":\"7,208\",\"longFmt\":\"7,208\"},\"strike\":{\"raw\":92,\"fmt\":\"92.00\"},\"change\":{\"raw\":-0.049999997,\"fmt\":\"-0.05\"},\"inTheMoney\":false,\"impliedVolatility\":{\"raw\":0.38281867187499996,\"fmt\":\"38.28%\"},\"volume\":{\"raw\":7206,\"fmt\":\"7,206\",\"longFmt\":\"7,206\"},\"contractSymbol\":\"AAPL160701P00092000\",\"ask\":{\"raw\":0.02,\"fmt\":\"0.02\"},\"lastTradeDate\":{\"raw\":1467314748,\"fmt\":\"2016-06-30\",\"longFmt\":\"2016-06-30T19:25\"},\"expiration\":{\"raw\":1467331200,\"fmt\":\"2016-07-01\",\"longFmt\":\"2016-07-01T00:00\"},\"currency\":\"USD\",\"contractSize\":\"REGULAR\",\"bid\":{\"raw\":0.01,\"fmt\":\"0.01\"},\"lastPrice\":{\"raw\":0.01,\"fmt\":\"0.01\"}},{\"percentChange\":{\"raw\":-79.99999,\"fmt\":\"-80.00%\"},\"openInterest\":{\"raw\":4820,\"fmt\":\"4,820\",\"longFmt\":\"4,820\"},\"strike\":{\"raw\":92.5,\"fmt\":\"92.50\"},\"change\":{\"raw\":-0.08,\"fmt\":\"-0.08\"},\"inTheMoney\":false,\"impliedVolatility\":{\"raw\":0.335944140625,\"fmt\":\"33.59%\"},\"volume\":{\"raw\":3527,\"fmt\":\"3,527\",\"longFmt\":\"3,527\"},\"contractSymbol\":\"AAPL160701P00092500\",\"ask\":{\"raw\":0.02,\"fmt\":\"0.02\"},\"lastTradeDate\":{\"raw\":1467315738,\"fmt\":\"2016-06-30\",\"longFmt\":\"2016-06-30T19:42\"},\"expiration\":{\"raw\":1467331200,\"fmt\":\"2016-07-01\",\"longFmt\":\"2016-07-01T00:00\"},\"currency\":\"USD\",\"contractSize\":\"REGULAR\",\"bid\":{\"raw\":0.01,\"fmt\":\"0.01\"},\"lastPrice\":{\"raw\":0.02,\"fmt\":\"0.02\"}},{\"percentChange\":{\"raw\":-87.5,\"fmt\":\"-87.50%\"},\"openInterest\":{\"raw\":9290,\"fmt\":\"9,290\",\"longFmt\":\"9,290\"},\"strike\":{\"raw\":93,\"fmt\":\"93.00\"},\"change\":{\"raw\":-0.14,\"fmt\":\"-0.14\"},\"inTheMoney\":false,\"impliedVolatility\":{\"raw\":0.31250687499999996,\"fmt\":\"31.25%\"},\"volume\":{\"raw\":6630,\"fmt\":\"6,630\",\"longFmt\":\"6,630\"},\"contractSymbol\":\"AAPL160701P00093000\",\"ask\":{\"raw\":0.03,\"fmt\":\"0.03\"},\"lastTradeDate\":{\"raw\":1467316397,\"fmt\":\"2016-06-30\",\"longFmt\":\"2016-06-30T19:53\"},\"expiration\":{\"raw\":1467331200,\"fmt\":\"2016-07-01\",\"longFmt\":\"2016-07-01T00:00\"},\"currency\":\"USD\",\"contractSize\":\"REGULAR\",\"bid\":{\"raw\":0.02,\"fmt\":\"0.02\"},\"lastPrice\":{\"raw\":0.02,\"fmt\":\"0.02\"}},{\"percentChange\":{\"raw\":-84.61539,\"fmt\":\"-84.62%\"},\"openInterest\":{\"raw\":3834,\"fmt\":\"3,834\",\"longFmt\":\"3,834\"},\"strike\":{\"raw\":93.5,\"fmt\":\"93.50\"},\"change\":{\"raw\":-0.22,\"fmt\":\"-0.22\"},\"inTheMoney\":false,\"impliedVolatility\":{\"raw\":0.28125718749999995,\"fmt\":\"28.13%\"},\"volume\":{\"raw\":11029,\"fmt\":\"11,029\",\"longFmt\":\"11,029\"},\"contractSymbol\":\"AAPL160701P00093500\",\"ask\":{\"raw\":0.04,\"fmt\":\"0.04\"},\"lastTradeDate\":{\"raw\":1467316229,\"fmt\":\"2016-06-30\",\"longFmt\":\"2016-06-30T19:50\"},\"expiration\":{\"raw\":1467331200,\"fmt\":\"2016-07-01\",\"longFmt\":\"2016-07-01T00:00\"},\"currency\":\"USD\",\"contractSize\":\"REGULAR\",\"bid\":{\"raw\":0.03,\"fmt\":\"0.03\"},\"lastPrice\":{\"raw\":0.04,\"fmt\":\"0.04\"}},{\"percentChange\":{\"raw\":-93.02326,\"fmt\":\"-93.02%\"},\"openInterest\":{\"raw\":6455,\"fmt\":\"6,455\",\"longFmt\":\"6,455\"},\"strike\":{\"raw\":94,\"fmt\":\"94.00\"},\"change\":{\"raw\":-0.4,\"fmt\":\"-0.40\"},\"inTheMoney\":false,\"impliedVolatility\":{\"raw\":0.22657023437499998,\"fmt\":\"22.66%\"},\"volume\":{\"raw\":16014,\"fmt\":\"16,014\",\"longFmt\":\"16,014\"},\"contractSymbol\":\"AAPL160701P00094000\",\"ask\":{\"raw\":0.04,\"fmt\":\"0.04\"},\"lastTradeDate\":{\"raw\":1467316778,\"fmt\":\"2016-06-30\",\"longFmt\":\"2016-06-30T19:59\"},\"expiration\":{\"raw\":1467331200,\"fmt\":\"2016-07-01\",\"longFmt\":\"2016-07-01T00:00\"},\"currency\":\"USD\",\"contractSize\":\"REGULAR\",\"bid\":{\"raw\":0.03,\"fmt\":\"0.03\"},\"lastPrice\":{\"raw\":0.03,\"fmt\":\"0.03\"}},{\"percentChange\":{\"raw\":-83.870964,\"fmt\":\"-83.87%\"},\"openInterest\":{\"raw\":3472,\"fmt\":\"3,472\",\"longFmt\":\"3,472\"},\"strike\":{\"raw\":94.5,\"fmt\":\"94.50\"},\"change\":{\"raw\":-0.52,\"fmt\":\"-0.52\"},\"inTheMoney\":false,\"impliedVolatility\":{\"raw\":0.22852333984375,\"fmt\":\"22.85%\"},\"volume\":{\"raw\":14833,\"fmt\":\"14,833\",\"longFmt\":\"14,833\"},\"contractSymbol\":\"AAPL160701P00094500\",\"ask\":{\"raw\":0.1,\"fmt\":\"0.10\"},\"lastTradeDate\":{\"raw\":1467316793,\"fmt\":\"2016-06-30\",\"longFmt\":\"2016-06-30T19:59\"},\"expiration\":{\"raw\":1467331200,\"fmt\":\"2016-07-01\",\"longFmt\":\"2016-07-01T00:00\"},\"currency\":\"USD\",\"contractSize\":\"REGULAR\",\"bid\":{\"raw\":0.08,\"fmt\":\"0.08\"},\"lastPrice\":{\"raw\":0.1,\"fmt\":\"0.10\"}},{\"percentChange\":{\"raw\":-77.52809,\"fmt\":\"-77.53%\"},\"openInterest\":{\"raw\":6613,\"fmt\":\"6,613\",\"longFmt\":\"6,613\"},\"strike\":{\"raw\":95,\"fmt\":\"95.00\"},\"change\":{\"raw\":-0.69,\"fmt\":\"-0.69\"},\"inTheMoney\":false,\"impliedVolatility\":{\"raw\":0.21875781249999998,\"fmt\":\"21.88%\"},\"volume\":{\"raw\":24641,\"fmt\":\"24,641\",\"longFmt\":\"24,641\"},\"contractSymbol\":\"AAPL160701P00095000\",\"ask\":{\"raw\":0.2,\"fmt\":\"0.20\"},\"lastTradeDate\":{\"raw\":1467316794,\"fmt\":\"2016-06-30\",\"longFmt\":\"2016-06-30T19:59\"},\"expiration\":{\"raw\":1467331200,\"fmt\":\"2016-07-01\",\"longFmt\":\"2016-07-01T00:00\"},\"currency\":\"USD\",\"contractSize\":\"REGULAR\",\"bid\":{\"raw\":0.16,\"fmt\":\"0.16\"},\"lastPrice\":{\"raw\":0.2,\"fmt\":\"0.20\"}},{\"percentChange\":{\"raw\":-73.809525,\"fmt\":\"-73.81%\"},\"openInterest\":{\"raw\":1633,\"fmt\":\"1,633\",\"longFmt\":\"1,633\"},\"strike\":{\"raw\":95.5,\"fmt\":\"95.50\"},\"change\":{\"raw\":-0.92999995,\"fmt\":\"-0.93\"},\"inTheMoney\":false,\"impliedVolatility\":{\"raw\":0.1992267578125,\"fmt\":\"19.92%\"},\"volume\":{\"raw\":11164,\"fmt\":\"11,164\",\"longFmt\":\"11,164\"},\"contractSymbol\":\"AAPL160701P00095500\",\"ask\":{\"raw\":0.35,\"fmt\":\"0.35\"},\"lastTradeDate\":{\"raw\":1467316794,\"fmt\":\"2016-06-30\",\"longFmt\":\"2016-06-30T19:59\"},\"expiration\":{\"raw\":1467331200,\"fmt\":\"2016-07-01\",\"longFmt\":\"2016-07-01T00:00\"},\"currency\":\"USD\",\"contractSize\":\"REGULAR\",\"bid\":{\"raw\":0.32,\"fmt\":\"0.32\"},\"lastPrice\":{\"raw\":0.33,\"fmt\":\"0.33\"}},{\"percentChange\":{\"raw\":-59.393936,\"fmt\":\"-59.39%\"},\"openInterest\":{\"raw\":3328,\"fmt\":\"3,328\",\"longFmt\":\"3,328\"},\"strike\":{\"raw\":96,\"fmt\":\"96.00\"},\"change\":{\"raw\":-0.97999996,\"fmt\":\"-0.98\"},\"inTheMoney\":true,\"impliedVolatility\":{\"raw\":0.1992267578125,\"fmt\":\"19.92%\"},\"volume\":{\"raw\":6392,\"fmt\":\"6,392\",\"longFmt\":\"6,392\"},\"contractSymbol\":\"AAPL160701P00096000\",\"ask\":{\"raw\":0.63,\"fmt\":\"0.63\"},\"lastTradeDate\":{\"raw\":1467316760,\"fmt\":\"2016-06-30\",\"longFmt\":\"2016-06-30T19:59\"},\"expiration\":{\"raw\":1467331200,\"fmt\":\"2016-07-01\",\"longFmt\":\"2016-07-01T00:00\"},\"currency\":\"USD\",\"contractSize\":\"REGULAR\",\"bid\":{\"raw\":0.58,\"fmt\":\"0.58\"},\"lastPrice\":{\"raw\":0.67,\"fmt\":\"0.67\"}},{\"percentChange\":{\"raw\":-46.261684,\"fmt\":\"-46.26%\"},\"openInterest\":{\"raw\":1199,\"fmt\":\"1,199\",\"longFmt\":\"1,199\"},\"strike\":{\"raw\":96.5,\"fmt\":\"96.50\"},\"change\":{\"raw\":-0.9900001,\"fmt\":\"-0.99\"},\"inTheMoney\":true,\"impliedVolatility\":{\"raw\":0.32617861328125,\"fmt\":\"32.62%\"},\"volume\":{\"raw\":637,\"fmt\":\"637\",\"longFmt\":\"637\"},\"contractSymbol\":\"AAPL160701P00096500\",\"ask\":{\"raw\":1.2,\"fmt\":\"1.20\"},\"lastTradeDate\":{\"raw\":1467316133,\"fmt\":\"2016-06-30\",\"longFmt\":\"2016-06-30T19:48\"},\"expiration\":{\"raw\":1467331200,\"fmt\":\"2016-07-01\",\"longFmt\":\"2016-07-01T00:00\"},\"currency\":\"USD\",\"contractSize\":\"REGULAR\",\"bid\":{\"raw\":0.94,\"fmt\":\"0.94\"},\"lastPrice\":{\"raw\":1.15,\"fmt\":\"1.15\"}},{\"percentChange\":{\"raw\":-37.984493,\"fmt\":\"-37.98%\"},\"openInterest\":{\"raw\":1979,\"fmt\":\"1,979\",\"longFmt\":\"1,979\"},\"strike\":{\"raw\":97,\"fmt\":\"97.00\"},\"change\":{\"raw\":-0.9799999,\"fmt\":\"-0.98\"},\"inTheMoney\":true,\"impliedVolatility\":{\"raw\":0.367193828125,\"fmt\":\"36.72%\"},\"volume\":{\"raw\":285,\"fmt\":\"285\",\"longFmt\":\"285\"},\"contractSymbol\":\"AAPL160701P00097000\",\"ask\":{\"raw\":1.64,\"fmt\":\"1.64\"},\"lastTradeDate\":{\"raw\":1467316710,\"fmt\":\"2016-06-30\",\"longFmt\":\"2016-06-30T19:58\"},\"expiration\":{\"raw\":1467331200,\"fmt\":\"2016-07-01\",\"longFmt\":\"2016-07-01T00:00\"},\"currency\":\"USD\",\"contractSize\":\"REGULAR\",\"bid\":{\"raw\":1.36,\"fmt\":\"1.36\"},\"lastPrice\":{\"raw\":1.6,\"fmt\":\"1.60\"}},{\"percentChange\":{\"raw\":-40.625004,\"fmt\":\"-40.63%\"},\"openInterest\":{\"raw\":655,\"fmt\":\"655\",\"longFmt\":\"655\"},\"strike\":{\"raw\":97.5,\"fmt\":\"97.50\"},\"change\":{\"raw\":-1.3000001,\"fmt\":\"-1.30\"},\"inTheMoney\":true,\"impliedVolatility\":{\"raw\":0.43164630859375,\"fmt\":\"43.16%\"},\"volume\":{\"raw\":372,\"fmt\":\"372\",\"longFmt\":\"372\"},\"contractSymbol\":\"AAPL160701P00097500\",\"ask\":{\"raw\":2.13,\"fmt\":\"2.13\"},\"lastTradeDate\":{\"raw\":1467314625,\"fmt\":\"2016-06-30\",\"longFmt\":\"2016-06-30T19:23\"},\"expiration\":{\"raw\":1467331200,\"fmt\":\"2016-07-01\",\"longFmt\":\"2016-07-01T00:00\"},\"currency\":\"USD\",\"contractSize\":\"REGULAR\",\"bid\":{\"raw\":1.83,\"fmt\":\"1.83\"},\"lastPrice\":{\"raw\":1.9,\"fmt\":\"1.90\"}},{\"percentChange\":{\"raw\":-29.945057,\"fmt\":\"-29.95%\"},\"openInterest\":{\"raw\":606,\"fmt\":\"606\",\"longFmt\":\"606\"},\"strike\":{\"raw\":98,\"fmt\":\"98.00\"},\"change\":{\"raw\":-1.0900002,\"fmt\":\"-1.09\"},\"inTheMoney\":true,\"impliedVolatility\":{\"raw\":0.47363807617187503,\"fmt\":\"47.36%\"},\"volume\":{\"raw\":77,\"fmt\":\"77\",\"longFmt\":\"77\"},\"contractSymbol\":\"AAPL160701P00098000\",\"ask\":{\"raw\":2.6,\"fmt\":\"2.60\"},\"lastTradeDate\":{\"raw\":1467316266,\"fmt\":\"2016-06-30\",\"longFmt\":\"2016-06-30T19:51\"},\"expiration\":{\"raw\":1467331200,\"fmt\":\"2016-07-01\",\"longFmt\":\"2016-07-01T00:00\"},\"currency\":\"USD\",\"contractSize\":\"REGULAR\",\"bid\":{\"raw\":2.33,\"fmt\":\"2.33\"},\"lastPrice\":{\"raw\":2.55,\"fmt\":\"2.55\"}},{\"percentChange\":{\"raw\":-28.292679,\"fmt\":\"-28.29%\"},\"openInterest\":{\"raw\":673,\"fmt\":\"673\",\"longFmt\":\"673\"},\"strike\":{\"raw\":98.5,\"fmt\":\"98.50\"},\"change\":{\"raw\":-1.1599998,\"fmt\":\"-1.16\"},\"inTheMoney\":true,\"impliedVolatility\":{\"raw\":0.57812921875,\"fmt\":\"57.81%\"},\"volume\":{\"raw\":7,\"fmt\":\"7\",\"longFmt\":\"7\"},\"contractSymbol\":\"AAPL160701P00098500\",\"ask\":{\"raw\":3.15,\"fmt\":\"3.15\"},\"lastTradeDate\":{\"raw\":1467310741,\"fmt\":\"2016-06-30\",\"longFmt\":\"2016-06-30T18:19\"},\"expiration\":{\"raw\":1467331200,\"fmt\":\"2016-07-01\",\"longFmt\":\"2016-07-01T00:00\"},\"currency\":\"USD\",\"contractSize\":\"REGULAR\",\"bid\":{\"raw\":2.85,\"fmt\":\"2.85\"},\"lastPrice\":{\"raw\":2.94,\"fmt\":\"2.94\"}},{\"percentChange\":{\"raw\":-29.473686,\"fmt\":\"-29.47%\"},\"openInterest\":{\"raw\":520,\"fmt\":\"520\",\"longFmt\":\"520\"},\"strike\":{\"raw\":99,\"fmt\":\"99.00\"},\"change\":{\"raw\":-1.4000001,\"fmt\":\"-1.40\"},\"inTheMoney\":true,\"impliedVolatility\":{\"raw\":0.64062859375,\"fmt\":\"64.06%\"},\"volume\":{\"raw\":40,\"fmt\":\"40\",\"longFmt\":\"40\"},\"contractSymbol\":\"AAPL160701P00099000\",\"ask\":{\"raw\":3.65,\"fmt\":\"3.65\"},\"lastTradeDate\":{\"raw\":1467313397,\"fmt\":\"2016-06-30\",\"longFmt\":\"2016-06-30T19:03\"},\"expiration\":{\"raw\":1467331200,\"fmt\":\"2016-07-01\",\"longFmt\":\"2016-07-01T00:00\"},\"currency\":\"USD\",\"contractSize\":\"REGULAR\",\"bid\":{\"raw\":3.3,\"fmt\":\"3.30\"},\"lastPrice\":{\"raw\":3.35,\"fmt\":\"3.35\"}},{\"percentChange\":{\"raw\":-22.851559,\"fmt\":\"-22.85%\"},\"openInterest\":{\"raw\":2216,\"fmt\":\"2,216\",\"longFmt\":\"2,216\"},\"strike\":{\"raw\":99.5,\"fmt\":\"99.50\"},\"change\":{\"raw\":-1.1699998,\"fmt\":\"-1.17\"},\"inTheMoney\":true,\"impliedVolatility\":{\"raw\":0.5429733203125001,\"fmt\":\"54.30%\"},\"volume\":{\"raw\":2,\"fmt\":\"2\",\"longFmt\":\"2\"},\"contractSymbol\":\"AAPL160701P00099500\",\"ask\":{\"raw\":4.15,\"fmt\":\"4.15\"},\"lastTradeDate\":{\"raw\":1467310999,\"fmt\":\"2016-06-30\",\"longFmt\":\"2016-06-30T18:23\"},\"expiration\":{\"raw\":1467331200,\"fmt\":\"2016-07-01\",\"longFmt\":\"2016-07-01T00:00\"},\"currency\":\"USD\",\"contractSize\":\"REGULAR\",\"bid\":{\"raw\":3.85,\"fmt\":\"3.85\"},\"lastPrice\":{\"raw\":3.95,\"fmt\":\"3.95\"}},{\"percentChange\":{\"raw\":-20.000002,\"fmt\":\"-20.00%\"},\"openInterest\":{\"raw\":15902,\"fmt\":\"15,902\",\"longFmt\":\"15,902\"},\"strike\":{\"raw\":100,\"fmt\":\"100.00\"},\"change\":{\"raw\":-1.1300001,\"fmt\":\"-1.13\"},\"inTheMoney\":true,\"impliedVolatility\":{\"raw\":0.5937540625000001,\"fmt\":\"59.38%\"},\"volume\":{\"raw\":158,\"fmt\":\"158\",\"longFmt\":\"158\"},\"contractSymbol\":\"AAPL160701P00100000\",\"ask\":{\"raw\":4.65,\"fmt\":\"4.65\"},\"lastTradeDate\":{\"raw\":1467316438,\"fmt\":\"2016-06-30\",\"longFmt\":\"2016-06-30T19:53\"},\"expiration\":{\"raw\":1467331200,\"fmt\":\"2016-07-01\",\"longFmt\":\"2016-07-01T00:00\"},\"currency\":\"USD\",\"contractSize\":\"REGULAR\",\"bid\":{\"raw\":4.35,\"fmt\":\"4.35\"},\"lastPrice\":{\"raw\":4.52,\"fmt\":\"4.52\"}},{\"percentChange\":{\"raw\":-19.767445,\"fmt\":\"-19.77%\"},\"openInterest\":{\"raw\":279,\"fmt\":\"279\",\"longFmt\":\"279\"},\"strike\":{\"raw\":101,\"fmt\":\"101.00\"},\"change\":{\"raw\":-1.3600001,\"fmt\":\"-1.36\"},\"inTheMoney\":true,\"impliedVolatility\":{\"raw\":0.648441015625,\"fmt\":\"64.84%\"},\"volume\":{\"raw\":51,\"fmt\":\"51\",\"longFmt\":\"51\"},\"contractSymbol\":\"AAPL160701P00101000\",\"ask\":{\"raw\":5.65,\"fmt\":\"5.65\"},\"lastTradeDate\":{\"raw\":1467306144,\"fmt\":\"2016-06-30\",\"longFmt\":\"2016-06-30T17:02\"},\"expiration\":{\"raw\":1467331200,\"fmt\":\"2016-07-01\",\"longFmt\":\"2016-07-01T00:00\"},\"currency\":\"USD\",\"contractSize\":\"REGULAR\",\"bid\":{\"raw\":5.3,\"fmt\":\"5.30\"},\"lastPrice\":{\"raw\":5.52,\"fmt\":\"5.52\"}},{\"percentChange\":{\"raw\":-13.043481,\"fmt\":\"-13.04%\"},\"openInterest\":{\"raw\":0,\"fmt\":\"0\",\"longFmt\":\"0\"},\"strike\":{\"raw\":102,\"fmt\":\"102.00\"},\"change\":{\"raw\":-0.99000025,\"fmt\":\"-0.99\"},\"inTheMoney\":true,\"impliedVolatility\":{\"raw\":0.7851583984375,\"fmt\":\"78.52%\"},\"volume\":{\"raw\":4,\"fmt\":\"4\",\"longFmt\":\"4\"},\"contractSymbol\":\"AAPL160701P00102000\",\"ask\":{\"raw\":6.65,\"fmt\":\"6.65\"},\"lastTradeDate\":{\"raw\":1467308356,\"fmt\":\"2016-06-30\",\"longFmt\":\"2016-06-30T17:39\"},\"expiration\":{\"raw\":1467331200,\"fmt\":\"2016-07-01\",\"longFmt\":\"2016-07-01T00:00\"},\"currency\":\"USD\",\"contractSize\":\"REGULAR\",\"bid\":{\"raw\":6.35,\"fmt\":\"6.35\"},\"lastPrice\":{\"raw\":6.6,\"fmt\":\"6.60\"}},{\"percentChange\":{\"raw\":-14.662758,\"fmt\":\"-14.66%\"},\"openInterest\":{\"raw\":56,\"fmt\":\"56\",\"longFmt\":\"56\"},\"strike\":{\"raw\":103,\"fmt\":\"103.00\"},\"change\":{\"raw\":-1.5,\"fmt\":\"-1.50\"},\"inTheMoney\":true,\"impliedVolatility\":{\"raw\":1.8066415917968748,\"fmt\":\"180.66%\"},\"volume\":{\"raw\":1,\"fmt\":\"1\",\"longFmt\":\"1\"},\"contractSymbol\":\"AAPL160701P00103000\",\"ask\":{\"raw\":8.7,\"fmt\":\"8.70\"},\"lastTradeDate\":{\"raw\":1467216127,\"fmt\":\"2016-06-29\",\"longFmt\":\"2016-06-29T16:02\"},\"expiration\":{\"raw\":1467331200,\"fmt\":\"2016-07-01\",\"longFmt\":\"2016-07-01T00:00\"},\"currency\":\"USD\",\"contractSize\":\"REGULAR\",\"bid\":{\"raw\":8.4,\"fmt\":\"8.40\"},\"lastPrice\":{\"raw\":8.73,\"fmt\":\"8.73\"}},{\"percentChange\":{\"raw\":-5.3945255,\"fmt\":\"-5.39%\"},\"openInterest\":{\"raw\":10,\"fmt\":\"10\",\"longFmt\":\"10\"},\"strike\":{\"raw\":104,\"fmt\":\"104.00\"},\"change\":{\"raw\":-0.6700001,\"fmt\":\"-0.67\"},\"inTheMoney\":true,\"impliedVolatility\":{\"raw\":2.4726600683593754,\"fmt\":\"247.27%\"},\"volume\":{\"raw\":2,\"fmt\":\"2\",\"longFmt\":\"2\"},\"contractSymbol\":\"AAPL160701P00104000\",\"ask\":{\"raw\":10.55,\"fmt\":\"10.55\"},\"lastTradeDate\":{\"raw\":1467129183,\"fmt\":\"2016-06-28\",\"longFmt\":\"2016-06-28T15:53\"},\"expiration\":{\"raw\":1467331200,\"fmt\":\"2016-07-01\",\"longFmt\":\"2016-07-01T00:00\"},\"currency\":\"USD\",\"contractSize\":\"REGULAR\",\"bid\":{\"raw\":10.25,\"fmt\":\"10.25\"},\"lastPrice\":{\"raw\":11.75,\"fmt\":\"11.75\"}},{\"percentChange\":{\"raw\":-8.834592,\"fmt\":\"-8.83%\"},\"openInterest\":{\"raw\":6151,\"fmt\":\"6,151\",\"longFmt\":\"6,151\"},\"strike\":{\"raw\":105,\"fmt\":\"105.00\"},\"change\":{\"raw\":-0.94000053,\"fmt\":\"-0.94\"},\"inTheMoney\":true,\"impliedVolatility\":{\"raw\":0.9960937890625,\"fmt\":\"99.61%\"},\"volume\":{\"raw\":4,\"fmt\":\"4\",\"longFmt\":\"4\"},\"contractSymbol\":\"AAPL160701P00105000\",\"ask\":{\"raw\":9.65,\"fmt\":\"9.65\"},\"lastTradeDate\":{\"raw\":1467301592,\"fmt\":\"2016-06-30\",\"longFmt\":\"2016-06-30T15:46\"},\"expiration\":{\"raw\":1467331200,\"fmt\":\"2016-07-01\",\"longFmt\":\"2016-07-01T00:00\"},\"currency\":\"USD\",\"contractSize\":\"REGULAR\",\"bid\":{\"raw\":9.3,\"fmt\":\"9.30\"},\"lastPrice\":{\"raw\":9.7,\"fmt\":\"9.70\"}},{\"percentChange\":{\"raw\":-17.895552,\"fmt\":\"-17.90%\"},\"openInterest\":{\"raw\":11,\"fmt\":\"11\",\"longFmt\":\"11\"},\"strike\":{\"raw\":106,\"fmt\":\"106.00\"},\"change\":{\"raw\":-2.3300009,\"fmt\":\"-2.33\"},\"inTheMoney\":true,\"impliedVolatility\":{\"raw\":1.0078174609375,\"fmt\":\"100.78%\"},\"volume\":{\"raw\":4,\"fmt\":\"4\",\"longFmt\":\"4\"},\"contractSymbol\":\"AAPL160701P00106000\",\"ask\":{\"raw\":10.7,\"fmt\":\"10.70\"},\"lastTradeDate\":{\"raw\":1467301592,\"fmt\":\"2016-06-30\",\"longFmt\":\"2016-06-30T15:46\"},\"expiration\":{\"raw\":1467331200,\"fmt\":\"2016-07-01\",\"longFmt\":\"2016-07-01T00:00\"},\"currency\":\"USD\",\"contractSize\":\"REGULAR\",\"bid\":{\"raw\":10.2,\"fmt\":\"10.20\"},\"lastPrice\":{\"raw\":10.69,\"fmt\":\"10.69\"}},{\"percentChange\":{\"raw\":-13.142091,\"fmt\":\"-13.14%\"},\"openInterest\":{\"raw\":29,\"fmt\":\"29\",\"longFmt\":\"29\"},\"strike\":{\"raw\":107,\"fmt\":\"107.00\"},\"change\":{\"raw\":-1.9699993,\"fmt\":\"-1.97\"},\"inTheMoney\":true,\"impliedVolatility\":{\"raw\":2.3418010205078117,\"fmt\":\"234.18%\"},\"volume\":{\"raw\":1,\"fmt\":\"1\",\"longFmt\":\"1\"},\"contractSymbol\":\"AAPL160701P00107000\",\"ask\":{\"raw\":12.75,\"fmt\":\"12.75\"},\"lastTradeDate\":{\"raw\":1467210093,\"fmt\":\"2016-06-29\",\"longFmt\":\"2016-06-29T14:21\"},\"expiration\":{\"raw\":1467331200,\"fmt\":\"2016-07-01\",\"longFmt\":\"2016-07-01T00:00\"},\"currency\":\"USD\",\"contractSize\":\"REGULAR\",\"bid\":{\"raw\":12.45,\"fmt\":\"12.45\"},\"lastPrice\":{\"raw\":13.02,\"fmt\":\"13.02\"}},{\"percentChange\":{\"raw\":-10.965911,\"fmt\":\"-10.97%\"},\"openInterest\":{\"raw\":13,\"fmt\":\"13\",\"longFmt\":\"13\"},\"strike\":{\"raw\":110,\"fmt\":\"110.00\"},\"change\":{\"raw\":-1.9300003,\"fmt\":\"-1.93\"},\"inTheMoney\":true,\"impliedVolatility\":{\"raw\":2.6640658398437504,\"fmt\":\"266.41%\"},\"volume\":{\"raw\":2,\"fmt\":\"2\",\"longFmt\":\"2\"},\"contractSymbol\":\"AAPL160701P00110000\",\"ask\":{\"raw\":15.75,\"fmt\":\"15.75\"},\"lastTradeDate\":{\"raw\":1467216943,\"fmt\":\"2016-06-29\",\"longFmt\":\"2016-06-29T16:15\"},\"expiration\":{\"raw\":1467331200,\"fmt\":\"2016-07-01\",\"longFmt\":\"2016-07-01T00:00\"},\"currency\":\"USD\",\"contractSize\":\"REGULAR\",\"bid\":{\"raw\":15.4,\"fmt\":\"15.40\"},\"lastPrice\":{\"raw\":15.67,\"fmt\":\"15.67\"}},{\"percentChange\":{\"raw\":-8.839056,\"fmt\":\"-8.84%\"},\"openInterest\":{\"raw\":1,\"fmt\":\"1\",\"longFmt\":\"1\"},\"strike\":{\"raw\":130,\"fmt\":\"130.00\"},\"change\":{\"raw\":-3.3500023,\"fmt\":\"-3.35\"},\"inTheMoney\":true,\"impliedVolatility\":{\"raw\":2.5312536718749996,\"fmt\":\"253.13%\"},\"volume\":{\"raw\":1,\"fmt\":\"1\",\"longFmt\":\"1\"},\"contractSymbol\":\"AAPL160701P00130000\",\"ask\":{\"raw\":34.65,\"fmt\":\"34.65\"},\"lastTradeDate\":{\"raw\":1467316749,\"fmt\":\"2016-06-30\",\"longFmt\":\"2016-06-30T19:59\"},\"expiration\":{\"raw\":1467331200,\"fmt\":\"2016-07-01\",\"longFmt\":\"2016-07-01T00:00\"},\"currency\":\"USD\",\"contractSize\":\"REGULAR\",\"bid\":{\"raw\":34.25,\"fmt\":\"34.25\"},\"lastPrice\":{\"raw\":34.55,\"fmt\":\"34.55\"}},{\"percentChange\":{\"raw\":0,\"fmt\":\"0.00%\"},\"openInterest\":{\"raw\":0,\"fmt\":\"0\",\"longFmt\":\"0\"},\"strike\":{\"raw\":135,\"fmt\":\"135.00\"},\"change\":{\"raw\":0,\"fmt\":\"0.00\"},\"inTheMoney\":true,\"impliedVolatility\":{\"raw\":2.7890655273437504,\"fmt\":\"278.91%\"},\"volume\":{\"raw\":1,\"fmt\":\"1\",\"longFmt\":\"1\"},\"contractSymbol\":\"AAPL160701P00135000\",\"ask\":{\"raw\":39.65,\"fmt\":\"39.65\"},\"lastTradeDate\":{\"raw\":1467324240,\"fmt\":\"2016-06-30\",\"longFmt\":\"2016-06-30T22:04\"},\"expiration\":{\"raw\":1467331200,\"fmt\":\"2016-07-01\",\"longFmt\":\"2016-07-01T00:00\"},\"currency\":\"USD\",\"contractSize\":\"REGULAR\",\"bid\":{\"raw\":39.25,\"fmt\":\"39.25\"},\"lastPrice\":{\"raw\":39.55,\"fmt\":\"39.55\"}},{\"percentChange\":{\"raw\":-2.1953897,\"fmt\":\"-2.20%\"},\"openInterest\":{\"raw\":0,\"fmt\":\"0\",\"longFmt\":\"0\"},\"strike\":{\"raw\":140,\"fmt\":\"140.00\"},\"change\":{\"raw\":-1,\"fmt\":\"-1.00\"},\"inTheMoney\":true,\"impliedVolatility\":{\"raw\":3.031252421875,\"fmt\":\"303.13%\"},\"volume\":{\"raw\":2,\"fmt\":\"2\",\"longFmt\":\"2\"},\"contractSymbol\":\"AAPL160701P00140000\",\"ask\":{\"raw\":44.65,\"fmt\":\"44.65\"},\"lastTradeDate\":{\"raw\":1467316749,\"fmt\":\"2016-06-30\",\"longFmt\":\"2016-06-30T19:59\"},\"expiration\":{\"raw\":1467331200,\"fmt\":\"2016-07-01\",\"longFmt\":\"2016-07-01T00:00\"},\"currency\":\"USD\",\"contractSize\":\"REGULAR\",\"bid\":{\"raw\":44.25,\"fmt\":\"44.25\"},\"lastPrice\":{\"raw\":44.55,\"fmt\":\"44.55\"}}]}],\"epochs\":[1467331200,1467936000,1468540800,1469145600,1469750400,1470355200,1470960000,1471564800,1473984000,1477008000,1484870400,1489708800,1492732800,1497571200,1516320000]},\"columns\":{\"list_table_columns\":[{\"column\":{\"name\":\"STRIKE\",\"header_cell_class\":\"column-strike Pstart-38 low-high\",\"body_cell_class\":\"Pstart-10\",\"template\":\"table/columns/strike\",\"sortable\":true,\"align\":null,\"sort_order\":null,\"column_id\":\"\",\"sort_name\":\"strike\",\"filter\":true}},{\"column\":{\"name\":\"CONTRACT_NAME\",\"header_cell_class\":\"column-contractName Pstart-10\",\"body_cell_class\":\"w-100\",\"template\":\"table/columns/contract_name\",\"sortable\":false,\"align\":null,\"sort_order\":null,\"column_id\":\"\",\"sort_name\":\"symbol\"}},{\"column\":{\"name\":\"LAST\",\"header_cell_class\":\"column-last Pstart-10\",\"body_cell_class\":\"w-100\",\"template\":\"table/columns/last\",\"sortable\":true,\"align\":null,\"sort_order\":null,\"column_id\":\"\",\"sort_name\":\"lastPrice\"}},{\"column\":{\"name\":\"BID\",\"header_cell_class\":\"column-bid Pstart-10\",\"body_cell_class\":\"w-100\",\"template\":\"table/columns/bid\",\"sortable\":true,\"align\":null,\"sort_order\":null,\"column_id\":\"\",\"sort_name\":\"bid\"}},{\"column\":{\"name\":\"ASK\",\"header_cell_class\":\"column-ask Pstart-10\",\"body_cell_class\":\"w-100\",\"template\":\"table/columns/ask\",\"sortable\":true,\"align\":null,\"sort_order\":null,\"column_id\":\"\",\"sort_name\":\"ask\"}},{\"column\":{\"name\":\"CHANGE\",\"header_cell_class\":\"column-change Pstart-14\",\"body_cell_class\":\"w-100\",\"template\":\"table/columns/change\",\"sortable\":true,\"align\":null,\"sort_order\":null,\"column_id\":\"\",\"sort_name\":\"change\"}},{\"column\":{\"name\":\"PERCENT_CHANGE\",\"header_cell_class\":\"column-percentChange Pstart-16\",\"body_cell_class\":\"w-100\",\"template\":\"table/columns/pct_change\",\"sortable\":true,\"align\":null,\"sort_order\":null,\"column_id\":\"\",\"sort_name\":\"percentChange\"}},{\"column\":{\"name\":\"VOLUME\",\"header_cell_class\":\"column-volume Pstart-14\",\"body_cell_class\":\"w-100\",\"template\":\"table/columns/volume\",\"sortable\":true,\"align\":null,\"sort_order\":null,\"column_id\":\"\",\"sort_name\":\"volume\"}},{\"column\":{\"name\":\"OPEN_INTEREST\",\"header_cell_class\":\"column-openInterest Pstart-14\",\"body_cell_class\":\"w-100\",\"template\":\"table/columns/open_interest\",\"sortable\":true,\"align\":null,\"sort_order\":null,\"column_id\":\"\",\"sort_name\":\"openInterest\"}},{\"column\":{\"name\":\"IMPLIED_VOLATILITY\",\"header_cell_class\":\"column-impliedVolatility Pstart-10\",\"body_cell_class\":\"w-100\",\"template\":\"table/columns/implied_volatility\",\"sortable\":true,\"align\":null,\"sort_order\":null,\"column_id\":\"\",\"sort_name\":\"impliedVolatility\"}}],\"straddle_table_columns\":[{\"column\":{\"name\":\"EXPAND_ALL\",\"header_cell_class\":\"column-expand-all Pstart-38\",\"body_cell_class\":\"Pstart-10\",\"template\":\"table/columns/strike\",\"sortable\":false,\"align\":null,\"sort_order\":null,\"column_id\":\"\",\"sort_name\":\"expand\",\"filter\":false}},{\"column\":{\"name\":\"LAST\",\"header_cell_class\":\"column-last Pstart-10\",\"body_cell_class\":\"w-100\",\"template\":\"table/columns/last\",\"sortable\":true,\"align\":null,\"sort_order\":null,\"column_id\":\"\",\"sort_name\":\"call.lastPrice\",\"filter\":false}},{\"column\":{\"name\":\"CHANGE\",\"header_cell_class\":\"column-change Pstart-10\",\"body_cell_class\":\"w-100\",\"template\":\"table/columns/change\",\"sortable\":true,\"align\":null,\"sort_order\":null,\"column_id\":\"\",\"sort_name\":\"call.change\"}},{\"column\":{\"name\":\"PERCENT_CHANGE\",\"header_cell_class\":\"column-pctchange\",\"body_cell_class\":\"w-100\",\"template\":\"table/columns/pct_change\",\"sortable\":true,\"align\":null,\"sort_order\":null,\"column_id\":\"\",\"sort_name\":\"call.percentChange\"}},{\"column\":{\"name\":\"VOLUME\",\"header_cell_class\":\"column-volume Pstart-10\",\"body_cell_class\":\"w-100\",\"template\":\"table/columns/volume\",\"sortable\":true,\"align\":null,\"sort_order\":null,\"column_id\":\"\",\"sort_name\":\"call.volume\"}},{\"column\":{\"name\":\"OPEN_INTEREST\",\"header_cell_class\":\"column-openInterest Pstart-10\",\"body_cell_class\":\"w-100\",\"template\":\"table/columns/open_interest\",\"sortable\":true,\"align\":null,\"sort_order\":null,\"column_id\":\"\",\"sort_name\":\"call.openInterest\"}},{\"column\":{\"name\":\"STRIKE\",\"header_cell_class\":\"column-strike\",\"body_cell_class\":\"Pstart-10\",\"template\":\"table/columns/strike\",\"sortable\":false,\"align\":null,\"sort_order\":null,\"column_id\":\"\",\"sort_name\":\"strike\",\"filter\":true}},{\"column\":{\"name\":\"LAST\",\"header_cell_class\":\"column-last Pstart-10\",\"body_cell_class\":\"w-100\",\"template\":\"table/columns/last\",\"sortable\":true,\"align\":null,\"sort_order\":null,\"column_id\":\"\",\"sort_name\":\"put.lastPrice\",\"filter\":false}},{\"column\":{\"name\":\"CHANGE\",\"header_cell_class\":\"column-change Pstart-10\",\"body_cell_class\":\"w-100\",\"template\":\"table/columns/change\",\"sortable\":true,\"align\":null,\"sort_order\":null,\"column_id\":\"\",\"sort_name\":\"put.change\"}},{\"column\":{\"name\":\"PERCENT_CHANGE\",\"header_cell_class\":\"column-pctchange\",\"body_cell_class\":\"w-100\",\"template\":\"table/columns/pct_change\",\"sortable\":true,\"align\":null,\"sort_order\":null,\"column_id\":\"\",\"sort_name\":\"put.percentChange\"}},{\"column\":{\"name\":\"VOLUME\",\"header_cell_class\":\"column-volume Pstart-10\",\"body_cell_class\":\"w-100\",\"template\":\"table/columns/volume\",\"sortable\":true,\"align\":null,\"sort_order\":null,\"column_id\":\"\",\"sort_name\":\"put.volume\"}},{\"column\":{\"name\":\"OPEN_INTEREST\",\"header_cell_class\":\"column-openInterest Pstart-10\",\"body_cell_class\":\"w-100\",\"template\":\"table/columns/open_interest\",\"sortable\":true,\"align\":null,\"sort_order\":null,\"column_id\":\"\",\"sort_name\":\"put.openInterest\"}}],\"single_strike_filter_list_table_columns\":[{\"column\":{\"name\":\"EXPIRES\",\"header_cell_class\":\"column-expires Pstart-38 low-high\",\"body_cell_class\":\"Pstart-10\",\"sortable\":true,\"align\":null,\"sort_order\":null,\"column_id\":\"\",\"sort_name\":\"expiration\",\"filter\":false}},{\"column\":{\"name\":\"CONTRACT_NAME\",\"header_cell_class\":\"column-contractName Pstart-10\",\"body_cell_class\":\"w-100\",\"template\":\"table/columns/contract_name\",\"sortable\":false,\"align\":null,\"sort_order\":null,\"column_id\":\"\",\"sort_name\":\"symbol\"}},{\"column\":{\"name\":\"LAST\",\"header_cell_class\":\"column-last Pstart-10\",\"body_cell_class\":\"w-100\",\"template\":\"table/columns/last\",\"sortable\":true,\"align\":null,\"sort_order\":null,\"column_id\":\"\",\"sort_name\":\"lastPrice\"}},{\"column\":{\"name\":\"BID\",\"header_cell_class\":\"column-bid Pstart-10\",\"body_cell_class\":\"w-100\",\"template\":\"table/columns/bid\",\"sortable\":true,\"align\":null,\"sort_order\":null,\"column_id\":\"\",\"sort_name\":\"bid\"}},{\"column\":{\"name\":\"ASK\",\"header_cell_class\":\"column-ask Pstart-10\",\"body_cell_class\":\"w-100\",\"template\":\"table/columns/ask\",\"sortable\":true,\"align\":null,\"sort_order\":null,\"column_id\":\"\",\"sort_name\":\"ask\"}},{\"column\":{\"name\":\"CHANGE\",\"header_cell_class\":\"column-change Pstart-14\",\"body_cell_class\":\"w-100\",\"template\":\"table/columns/change\",\"sortable\":true,\"align\":null,\"sort_order\":null,\"column_id\":\"\",\"sort_name\":\"change\"}},{\"column\":{\"name\":\"PERCENT_CHANGE\",\"header_cell_class\":\"column-percentChange Pstart-16\",\"body_cell_class\":\"w-100\",\"template\":\"table/columns/pct_change\",\"sortable\":true,\"align\":null,\"sort_order\":null,\"column_id\":\"\",\"sort_name\":\"percentChange\"}},{\"column\":{\"name\":\"VOLUME\",\"header_cell_class\":\"column-volume Pstart-14\",\"body_cell_class\":\"w-100\",\"template\":\"table/columns/volume\",\"sortable\":true,\"align\":null,\"sort_order\":null,\"column_id\":\"\",\"sort_name\":\"volume\"}},{\"column\":{\"name\":\"OPEN_INTEREST\",\"header_cell_class\":\"column-openInterest Pstart-14\",\"body_cell_class\":\"w-100\",\"template\":\"table/columns/open_interest\",\"sortable\":true,\"align\":null,\"sort_order\":null,\"column_id\":\"\",\"sort_name\":\"openInterest\"}},{\"column\":{\"name\":\"IMPLIED_VOLATILITY\",\"header_cell_class\":\"column-impliedVolatility Pstart-10\",\"body_cell_class\":\"w-100\",\"template\":\"table/columns/implied_volatility\",\"sortable\":true,\"align\":null,\"sort_order\":null,\"column_id\":\"\",\"sort_name\":\"impliedVolatility\"}}],\"single_strike_filter_straddle_table_columns\":[{\"column\":{\"name\":\"EXPAND_ALL\",\"header_cell_class\":\"column-expand-all Pstart-38\",\"body_cell_class\":\"Pstart-10\",\"template\":\"table/columns/strike\",\"sortable\":false,\"align\":null,\"sort_order\":null,\"column_id\":\"\",\"sort_name\":\"expand\",\"filter\":false}},{\"column\":{\"name\":\"LAST\",\"header_cell_class\":\"column-last Pstart-10\",\"body_cell_class\":\"w-100\",\"template\":\"table/columns/last\",\"sortable\":true,\"align\":null,\"sort_order\":null,\"column_id\":\"\",\"sort_name\":\"call.lastPrice\",\"filter\":false}},{\"column\":{\"name\":\"CHANGE\",\"header_cell_class\":\"column-change Pstart-10\",\"body_cell_class\":\"w-100\",\"template\":\"table/columns/change\",\"sortable\":true,\"align\":null,\"sort_order\":null,\"column_id\":\"\",\"sort_name\":\"call.change\"}},{\"column\":{\"name\":\"PERCENT_CHANGE\",\"header_cell_class\":\"column-pctchange\",\"body_cell_class\":\"w-100\",\"template\":\"table/columns/pct_change\",\"sortable\":true,\"align\":null,\"sort_order\":null,\"column_id\":\"\",\"sort_name\":\"call.percentChange\"}},{\"column\":{\"name\":\"VOLUME\",\"header_cell_class\":\"column-volume Pstart-10\",\"body_cell_class\":\"w-100\",\"template\":\"table/columns/volume\",\"sortable\":true,\"align\":null,\"sort_order\":null,\"column_id\":\"\",\"sort_name\":\"call.volume\"}},{\"column\":{\"name\":\"OPEN_INTEREST\",\"header_cell_class\":\"column-openInterest Pstart-10\",\"body_cell_class\":\"w-100\",\"template\":\"table/columns/open_interest\",\"sortable\":true,\"align\":null,\"sort_order\":null,\"column_id\":\"\",\"sort_name\":\"call.openInterest\"}},{\"column\":{\"name\":\"EXPIRES\",\"header_cell_class\":\"column-expires\",\"body_cell_class\":\"Pstart-10\",\"sortable\":true,\"align\":null,\"sort_order\":null,\"column_id\":\"\",\"sort_name\":\"expiration\"}},{\"column\":{\"name\":\"LAST\",\"header_cell_class\":\"column-last Pstart-10\",\"body_cell_class\":\"w-100\",\"template\":\"table/columns/last\",\"sortable\":true,\"align\":null,\"sort_order\":null,\"column_id\":\"\",\"sort_name\":\"put.lastPrice\",\"filter\":false}},{\"column\":{\"name\":\"CHANGE\",\"header_cell_class\":\"column-change Pstart-10\",\"body_cell_class\":\"w-100\",\"template\":\"table/columns/change\",\"sortable\":true,\"align\":null,\"sort_order\":null,\"column_id\":\"\",\"sort_name\":\"put.change\"}},{\"column\":{\"name\":\"PERCENT_CHANGE\",\"header_cell_class\":\"column-pctchange\",\"body_cell_class\":\"w-100\",\"template\":\"table/columns/pct_change\",\"sortable\":true,\"align\":null,\"sort_order\":null,\"column_id\":\"\",\"sort_name\":\"put.percentChange\"}},{\"column\":{\"name\":\"VOLUME\",\"header_cell_class\":\"column-volume Pstart-10\",\"body_cell_class\":\"w-100\",\"template\":\"table/columns/volume\",\"sortable\":true,\"align\":null,\"sort_order\":null,\"column_id\":\"\",\"sort_name\":\"put.volume\"}},{\"column\":{\"name\":\"OPEN_INTEREST\",\"header_cell_class\":\"column-openInterest Pstart-10\",\"body_cell_class\":\"w-100\",\"template\":\"table/columns/open_interest\",\"sortable\":true,\"align\":null,\"sort_order\":null,\"column_id\":\"\",\"sort_name\":\"put.openInterest\"}}]},\"params\":{\"size\":false,\"straddle\":false,\"ticker\":\"AAPL\",\"singleStrikeFilter\":false,\"date\":1467331200}}}},\"views\":{\"main\":{\"yui_module\":\"td-options-table-mainview\",\"yui_class\":\"TD.Options-table.MainView\"}},\"templates\":{\"main\":{\"yui_module\":\"td-applet-options-table-templates-main\",\"template_name\":\"td-applet-options-table-templates-main\"},\"error\":{\"yui_module\":\"td-applet-options-table-templates-error\",\"template_name\":\"td-applet-options-table-templates-error\"}},\"i18n\":{\"TITLE\":\"options-table\",\"SYMBOL_SEARCH_TEXT\":\"Enter Symbol\",\"ERROR_MSG\":\"There was an error retrieving options.\",\"ERROR_LINK\":\"Click here to try again.\",\"IN_THE_MONEY\":\"In The Money\",\"MINI\":\"Mini\",\"REGULAR\":\"Regular\",\"LIST_VIEW\":\"List\",\"STRADDLE_VIEW\":\"Straddle\",\"OPTION_SEARCH_TEXT\":\"Lookup Option\",\"FILTER\":\"Filter\",\"MODIFY_FILTER\":\"modify\",\"SHOW_ME_STRIKES_FROM\":\"Show Me Strikes From\",\"TO\":\"to\",\"APPLY_FILTER\":\"Apply Filter\",\"CLEAR_FILTER\":\"Clear Filter\",\"CONTRACT_NAME\":\"Contract Name\",\"STRIKE\":\"Strike\",\"LAST\":\"Last\",\"BID\":\"Bid\",\"ASK\":\"Ask\",\"CHANGE\":\"Change\",\"PERCENT_CHANGE\":\"%Change\",\"VOLUME\":\"Volume\",\"OPEN_INTEREST\":\"Open Interest\",\"IMPLIED_VOLATILITY\":\"Implied Volatility\",\"CALL_OPTIONS\":\"Calls\",\"PUT_OPTIONS\":\"Puts\"},\"transport\":{\"xhr\":\"/_td_charts_api\"},\"context\":{\"bucket\":\"\",\"crumb\":\"Qq4OCqUfEv6\",\"device\":\"desktop\",\"lang\":\"en-US\",\"region\":\"US\",\"site\":\"finance\"}};\\n        \\n\\n        if (!window.YMedia) { var YMedia = YUI(); YMedia.includes = []; }{ \"positions\": [ { \"html\": \"<!-- SpaceID=0 robot -->\\\\n\", \"id\": \"FB2-1\", \"meta\": { \"y\": { \"cscHTML\": \"\", \"cscURI\": \"\", \"impID\": \"\", \"supp_ugc\": \"\", \"placementID\": \"-1\", \"creativeID\": \"-1\", \"serveTime\": \"-1\", \"behavior\": \"non_exp\", \"adID\": \"#19\", \"matchID\": \"#19\", \"err\": \"robot\", \"facStatus\": {}, \"hasExternal\": 0, \"size\": \"\", \"bookID\": \"\", \"serveType\": \"\", \"slotID\": \"\", \"fdb\": \"{ \\\\\"fdb_url\\\\\": \\\\\"http:\\\\\\\\/\\\\\\\\/beap-bc.yahoo.com\\\\\\\\/af?bv=1.0.0&bs=(15ir45r6b(gid$jmTVQDk4LjHHbFsHU5jMkgKkMTAuNwAAAACljpkK,st$1402537233026922,srv$1,si$13303551,adv$25941429036,ct$25,li$3239250051,exp$1402544433026922,cr$4154984551,pbid$25372728133,v$1.0))&al=(type${type},cmnt${cmnt},subo${subo})&r=10\\\\\", \\\\\"fdb_on\\\\\": \\\\\"1\\\\\", \\\\\"fdb_exp\\\\\": \\\\\"1402544433026\\\\\", \\\\\"fdb_intl\\\\\": \\\\\"en-us\\\\\" , \\\\\"d\\\\\" : \\\\\"1\\\\\" }\", \"slotData\": {}, \"adc\": \"{\\\\\"label\\\\\":\\\\\"AdChoices\\\\\",\\\\\"url\\\\\":\\\\\"https:\\\\\\\\/\\\\\\\\/info.yahoo.com\\\\\\\\/privacy\\\\\\\\/us\\\\\\\\/yahoo\\\\\\\\/relevantads.html\\\\\",\\\\\"close\\\\\":\\\\\"Close\\\\\",\\\\\"closeAd\\\\\":\\\\\"Close Ad\\\\\",\\\\\"showAd\\\\\":\\\\\"Show ad\\\\\",\\\\\"collapse\\\\\":\\\\\"Collapse\\\\\",\\\\\"fdb\\\\\":\\\\\"I don\\'t like this ad\\\\\",\\\\\"code\\\\\":\\\\\"en-us\\\\\"}\", \"is3rd\": \"1\", \"userProvidedData\": {} } } },{ \"html\": \"\", \"id\": \"FB2-2\", \"meta\": { \"y\": { \"cscHTML\": \"\", \"cscURI\": \"\", \"impID\": \"\", \"supp_ugc\": \"\", \"placementID\": \"-1\", \"creativeID\": \"-1\", \"serveTime\": \"-1\", \"behavior\": \"non_exp\", \"adID\": \"\", \"matchID\": \"\", \"err\": \"\", \"facStatus\": {}, \"hasExternal\": 0, \"size\": \"\", \"bookID\": \"\", \"serveType\": \"\", \"slotID\": \"\", \"fdb\": \"{ \\\\\"fdb_url\\\\\": \\\\\"http:\\\\\\\\/\\\\\\\\/beap-bc.yahoo.com\\\\\\\\/af?bv=1.0.0&bs=(15ir45r6b(gid$jmTVQDk4LjHHbFsHU5jMkgKkMTAuNwAAAACljpkK,st$1402537233026922,srv$1,si$13303551,adv$25941429036,ct$25,li$3239250051,exp$1402544433026922,cr$4154984551,pbid$25372728133,v$1.0))&al=(type${type},cmnt${cmnt},subo${subo})&r=10\\\\\", \\\\\"fdb_on\\\\\": \\\\\"1\\\\\", \\\\\"fdb_exp\\\\\": \\\\\"1402544433026\\\\\", \\\\\"fdb_intl\\\\\": \\\\\"en-us\\\\\" , \\\\\"d\\\\\" : \\\\\"1\\\\\" }\", \"slotData\": {}, \"adc\": \"{\\\\\"label\\\\\":\\\\\"AdChoices\\\\\",\\\\\"url\\\\\":\\\\\"https:\\\\\\\\/\\\\\\\\/info.yahoo.com\\\\\\\\/privacy\\\\\\\\/us\\\\\\\\/yahoo\\\\\\\\/relevantads.html\\\\\",\\\\\"close\\\\\":\\\\\"Close\\\\\",\\\\\"closeAd\\\\\":\\\\\"Close Ad\\\\\",\\\\\"showAd\\\\\":\\\\\"Show ad\\\\\",\\\\\"collapse\\\\\":\\\\\"Collapse\\\\\",\\\\\"fdb\\\\\":\\\\\"I don\\'t like this ad\\\\\",\\\\\"code\\\\\":\\\\\"en-us\\\\\"}\", \"is3rd\": \"1\", \"userProvidedData\": {} } } },{ \"html\": \"\", \"id\": \"FB2-3\", \"meta\": { \"y\": { \"cscHTML\": \"\", \"cscURI\": \"\", \"impID\": \"\", \"supp_ugc\": \"\", \"placementID\": \"-1\", \"creativeID\": \"-1\", \"serveTime\": \"-1\", \"behavior\": \"non_exp\", \"adID\": \"\", \"matchID\": \"\", \"err\": \"\", \"facStatus\": {}, \"hasExternal\": 0, \"size\": \"\", \"bookID\": \"\", \"serveType\": \"\", \"slotID\": \"\", \"fdb\": \"{ \\\\\"fdb_url\\\\\": \\\\\"http:\\\\\\\\/\\\\\\\\/beap-bc.yahoo.com\\\\\\\\/af?bv=1.0.0&bs=(15ir45r6b(gid$jmTVQDk4LjHHbFsHU5jMkgKkMTAuNwAAAACljpkK,st$1402537233026922,srv$1,si$13303551,adv$25941429036,ct$25,li$3239250051,exp$1402544433026922,cr$4154984551,pbid$25372728133,v$1.0))&al=(type${type},cmnt${cmnt},subo${subo})&r=10\\\\\", \\\\\"fdb_on\\\\\": \\\\\"1\\\\\", \\\\\"fdb_exp\\\\\": \\\\\"1402544433026\\\\\", \\\\\"fdb_intl\\\\\": \\\\\"en-us\\\\\" , \\\\\"d\\\\\" : \\\\\"1\\\\\" }\", \"slotData\": {}, \"adc\": \"{\\\\\"label\\\\\":\\\\\"AdChoices\\\\\",\\\\\"url\\\\\":\\\\\"https:\\\\\\\\/\\\\\\\\/info.yahoo.com\\\\\\\\/privacy\\\\\\\\/us\\\\\\\\/yahoo\\\\\\\\/relevantads.html\\\\\",\\\\\"close\\\\\":\\\\\"Close\\\\\",\\\\\"closeAd\\\\\":\\\\\"Close Ad\\\\\",\\\\\"showAd\\\\\":\\\\\"Show ad\\\\\",\\\\\"collapse\\\\\":\\\\\"Collapse\\\\\",\\\\\"fdb\\\\\":\\\\\"I don\\'t like this ad\\\\\",\\\\\"code\\\\\":\\\\\"en-us\\\\\"}\", \"is3rd\": \"1\", \"userProvidedData\": {} } } },{ \"html\": \"\", \"id\": \"FB2-4\", \"meta\": { \"y\": { \"cscHTML\": \"\", \"cscURI\": \"\", \"impID\": \"\", \"supp_ugc\": \"\", \"placementID\": \"-1\", \"creativeID\": \"-1\", \"serveTime\": \"-1\", \"behavior\": \"non_exp\", \"adID\": \"\", \"matchID\": \"\", \"err\": \"\", \"facStatus\": {}, \"hasExternal\": 0, \"size\": \"\", \"bookID\": \"\", \"serveType\": \"\", \"slotID\": \"\", \"fdb\": \"{ \\\\\"fdb_url\\\\\": \\\\\"http:\\\\\\\\/\\\\\\\\/beap-bc.yahoo.com\\\\\\\\/af?bv=1.0.0&bs=(15ir45r6b(gid$jmTVQDk4LjHHbFsHU5jMkgKkMTAuNwAAAACljpkK,st$1402537233026922,srv$1,si$13303551,adv$25941429036,ct$25,li$3239250051,exp$1402544433026922,cr$4154984551,pbid$25372728133,v$1.0))&al=(type${type},cmnt${cmnt},subo${subo})&r=10\\\\\", \\\\\"fdb_on\\\\\": \\\\\"1\\\\\", \\\\\"fdb_exp\\\\\": \\\\\"1402544433026\\\\\", \\\\\"fdb_intl\\\\\": \\\\\"en-us\\\\\" , \\\\\"d\\\\\" : \\\\\"1\\\\\" }\", \"slotData\": {}, \"adc\": \"{\\\\\"label\\\\\":\\\\\"AdChoices\\\\\",\\\\\"url\\\\\":\\\\\"https:\\\\\\\\/\\\\\\\\/info.yahoo.com\\\\\\\\/privacy\\\\\\\\/us\\\\\\\\/yahoo\\\\\\\\/relevantads.html\\\\\",\\\\\"close\\\\\":\\\\\"Close\\\\\",\\\\\"closeAd\\\\\":\\\\\"Close Ad\\\\\",\\\\\"showAd\\\\\":\\\\\"Show ad\\\\\",\\\\\"collapse\\\\\":\\\\\"Collapse\\\\\",\\\\\"fdb\\\\\":\\\\\"I don\\'t like this ad\\\\\",\\\\\"code\\\\\":\\\\\"en-us\\\\\"}\", \"is3rd\": \"1\", \"userProvidedData\": {} } } },{ \"html\": \"<!-- SpaceID=0 robot -->\\\\n\", \"id\": \"SKY\", \"meta\": { \"y\": { \"cscHTML\": \"\", \"cscURI\": \"\", \"impID\": \"\", \"supp_ugc\": \"\", \"placementID\": \"-1\", \"creativeID\": \"-1\", \"serveTime\": \"-1\", \"behavior\": \"non_exp\", \"adID\": \"#19\", \"matchID\": \"#19\", \"err\": \"robot\", \"facStatus\": {}, \"hasExternal\": 0, \"size\": \"\", \"bookID\": \"\", \"serveType\": \"\", \"slotID\": \"\", \"fdb\": \"{ \\\\\"fdb_url\\\\\": \\\\\"http:\\\\\\\\/\\\\\\\\/beap-bc.yahoo.com\\\\\\\\/af?bv=1.0.0&bs=(15ir45r6b(gid$jmTVQDk4LjHHbFsHU5jMkgKkMTAuNwAAAACljpkK,st$1402537233026922,srv$1,si$13303551,adv$25941429036,ct$25,li$3239250051,exp$1402544433026922,cr$4154984551,pbid$25372728133,v$1.0))&al=(type${type},cmnt${cmnt},subo${subo})&r=10\\\\\", \\\\\"fdb_on\\\\\": \\\\\"1\\\\\", \\\\\"fdb_exp\\\\\": \\\\\"1402544433026\\\\\", \\\\\"fdb_intl\\\\\": \\\\\"en-us\\\\\" , \\\\\"d\\\\\" : \\\\\"1\\\\\" }\", \"slotData\": {}, \"adc\": \"{\\\\\"label\\\\\":\\\\\"AdChoices\\\\\",\\\\\"url\\\\\":\\\\\"https:\\\\\\\\/\\\\\\\\/info.yahoo.com\\\\\\\\/privacy\\\\\\\\/us\\\\\\\\/yahoo\\\\\\\\/relevantads.html\\\\\",\\\\\"close\\\\\":\\\\\"Close\\\\\",\\\\\"closeAd\\\\\":\\\\\"Close Ad\\\\\",\\\\\"showAd\\\\\":\\\\\"Show ad\\\\\",\\\\\"collapse\\\\\":\\\\\"Collapse\\\\\",\\\\\"fdb\\\\\":\\\\\"I don\\'t like this ad\\\\\",\\\\\"code\\\\\":\\\\\"en-us\\\\\"}\", \"is3rd\": \"1\", \"userProvidedData\": {} } } } ], \"meta\": { \"y\": { \"pageEndHTML\": \"\", \"pos_list\": [ \"FB2-1\",\"FB2-2\",\"FB2-3\",\"FB2-4\",\"LOGO\",\"SKY\" ], \"filtered\": [ \"LOGO\" ], \"spaceID\": \"28951412\", \"host\": \"finance.yahoo.com\", \"lookupTime\": \"1\", \"k2_uri\": \"\", \"fac_rt\": \"\", \"serveTime\":\"-1\", \"pvid\": \"S7ZwmTIwNi6gUPB2IVNPHgE0MTgyLld2a57_ieZY\", \"tID\": \"darla_prefetch_1467378590304_495278998_1\", \"npv\": \"1\", \"ep\": \"{\\\\\"site-attribute\\\\\":{},\\\\\"ult\\\\\":{\\\\\"ln\\\\\":{\\\\\"slk\\\\\":\\\\\"ads\\\\\"}},\\\\\"nopageview\\\\\":true,\\\\\"ref\\\\\":\\\\\"http:\\\\\\\\/\\\\\\\\/finance.yahoo.com\\\\\\\\/q\\\\\\\\/op\\\\\",\\\\\"filter\\\\\":\\\\\"no_expandable;exp_iframe_expandable;\\\\\",\\\\\"darlaID\\\\\":\\\\\"darla_instance_1467378590304_2055435158_0\\\\\"}\", \"pe\": \"\", \"pym\": \"\" } } } \\nDARLA_CONFIG = {\"useYAC\":0,\"usePE\":0,\"servicePath\":\"http:\\\\/\\\\/finance.yahoo.com\\\\/__darla\\\\/php\\\\/fc.php\",\"xservicePath\":\"\",\"beaconPath\":\"http:\\\\/\\\\/finance.yahoo.com\\\\/__darla\\\\/php\\\\/b.php\",\"renderPath\":\"\",\"allowFiF\":false,\"srenderPath\":\"http:\\\\/\\\\/l.yimg.com\\\\/rq\\\\/darla\\\\/2-9-9\\\\/html\\\\/r-sf.html\",\"renderFile\":\"http:\\\\/\\\\/l.yimg.com\\\\/rq\\\\/darla\\\\/2-9-9\\\\/html\\\\/r-sf.html\",\"sfbrenderPath\":\"http:\\\\/\\\\/l.yimg.com\\\\/rq\\\\/darla\\\\/2-9-9\\\\/html\\\\/r-sf.html\",\"msgPath\":\"http:\\\\/\\\\/finance.yahoo.com\\\\/__darla\\\\/2-9-9\\\\/html\\\\/msg.html\",\"cscPath\":\"http:\\\\/\\\\/l.yimg.com\\\\/rq\\\\/darla\\\\/2-9-9\\\\/html\\\\/r-csc.html\",\"root\":\"__darla\",\"edgeRoot\":\"http:\\\\/\\\\/l.yimg.com\\\\/rq\\\\/darla\\\\/2-9-9\",\"sedgeRoot\":\"https:\\\\/\\\\/s.yimg.com\\\\/rq\\\\/darla\\\\/2-9-9\",\"version\":\"2-9-9\",\"tpbURI\":\"\",\"hostFile\":\"http:\\\\/\\\\/l.yimg.com\\\\/rq\\\\/darla\\\\/2-9-9\\\\/js\\\\/g-r-min.js\",\"beaconsDisabled\":true,\"rotationTimingDisabled\":true,\"fdb_locale\":\"What don\\'t you like about this ad?|It\\'s offensive|Something else|Thank you for helping us improve your Yahoo experience|It\\'s not relevant|It\\'s distracting|I don\\'t like this ad|Send|Done|Why do I see ads?|Learn more about your feedback.\",\"positions\":{\"FB2-1\":[],\"FB2-2\":[],\"FB2-3\":[],\"FB2-4\":[],\"LOGO\":[],\"SKY\":[]}};\\nDARLA_CONFIG.servicePath = DARLA_CONFIG.servicePath.replace(/\\\\:8033/g, \"\");\\nDARLA_CONFIG.msgPath = DARLA_CONFIG.msgPath.replace(/\\\\:8033/g, \"\");\\nDARLA_CONFIG.k2E2ERate = 2;\\nDARLA_CONFIG.positions = {\"FB2-4\":{\"w\":\"198\",\"h\":\"60\",\"dest\":\"yom-ad-FB2-4-iframe\",\"fr\":\"expIfr_exp\",\"pos\":\"FB2-4\",\"id\":\"FB2-4\",\"clean\":\"yom-ad-FB2-4\",\"rmxp\":0},\"FB2-1\":{\"w\":\"198\",\"h\":\"60\",\"dest\":\"yom-ad-FB2-1-iframe\",\"fr\":\"expIfr_exp\",\"pos\":\"FB2-1\",\"id\":\"FB2-1\",\"clean\":\"yom-ad-FB2-1\",\"rmxp\":0},\"FB2-2\":{\"w\":\"198\",\"h\":\"60\",\"dest\":\"yom-ad-FB2-2-iframe\",\"fr\":\"expIfr_exp\",\"pos\":\"FB2-2\",\"id\":\"FB2-2\",\"clean\":\"yom-ad-FB2-2\",\"rmxp\":0},\"SKY\":{\"w\":\"160\",\"h\":\"600\",\"dest\":\"yom-ad-SKY-iframe\",\"fr\":\"expIfr_exp\",\"pos\":\"SKY\",\"id\":\"SKY\",\"clean\":\"yom-ad-SKY\",\"rmxp\":0},\"FB2-3\":{\"w\":\"198\",\"h\":\"60\",\"dest\":\"yom-ad-FB2-3-iframe\",\"fr\":\"expIfr_exp\",\"pos\":\"FB2-3\",\"id\":\"FB2-3\",\"clean\":\"yom-ad-FB2-3\",\"rmxp\":0},\"FB2-0\":{\"w\":\"120\",\"h\":\"60\",\"dest\":\"yom-ad-FB2-0-iframe\",\"fr\":\"expIfr_exp\",\"pos\":\"FB2-0\",\"id\":\"FB2-0\",\"clean\":\"yom-ad-FB2-0\",\"rmxp\":0},\"WBTN-1\":{\"w\":\"120\",\"h\":\"60\",\"dest\":\"yom-ad-WBTN-1-iframe\",\"fr\":\"expIfr_exp\",\"pos\":\"WBTN-1\",\"id\":\"WBTN-1\",\"clean\":\"yom-ad-WBTN-1\",\"rmxp\":0},\"WBTN\":{\"w\":\"120\",\"h\":\"60\",\"dest\":\"yom-ad-WBTN-iframe\",\"fr\":\"expIfr_exp\",\"pos\":\"WBTN\",\"id\":\"WBTN\",\"clean\":\"yom-ad-WBTN\",\"rmxp\":0},\"LDRP\":{\"w\":\"320\",\"h\":\"76\",\"dest\":\"yom-ad-LDRP-iframe\",\"fr\":\"expIfr_exp\",\"pos\":\"LDRP\",\"id\":\"LDRP\",\"clean\":\"yom-ad-LDRP\",\"rmxp\":0,\"metaSize\":true,\"supports\":{\"exp-ovr\":1,\"exp-push\":1}},\"LREC\":{\"w\":\"300\",\"h\":\"265\",\"dest\":\"yom-ad-LREC-iframe\",\"fr\":\"expIfr_exp\",\"pos\":\"LREC\",\"id\":\"LREC\",\"clean\":\"yom-ad-LREC\",\"rmxp\":0,\"metaSize\":true,\"supports\":{\"exp-ovr\":1,\"lyr\":1}},\"LREC-1\":{\"w\":\"300\",\"h\":\"265\",\"dest\":\"yom-ad-LREC-iframe-lb\",\"fr\":\"expIfr_exp\",\"pos\":\"LREC\",\"id\":\"LREC-1\",\"clean\":\"yom-ad-LREC-lb\",\"rmxp\":0,\"metaSize\":true,\"supports\":{\"exp-ovr\":1,\"lyr\":1}}};DARLA_CONFIG.positions[\\'DEFAULT\\'] = { meta: { title: document.title, url: document.URL || location.href, urlref: document.referrer }};\\nDARLA_CONFIG.events = {\"darla_td\":{\"lvl\":\"\",\"sp\":\"28951412\",\"npv\":true,\"bg\":\"\",\"sa\":[],\"sa_orig\":[],\"filter\":\"no_expandable;exp_iframe_expandable;\",\"mpid\":\"\",\"mpnm\":\"\",\"locale\":\"\",\"ps\":\"LREC,FB2-1,FB2-2,FB2-3,FB2-4,LDRP,WBTN,WBTN-1,FB2-0,SKY\",\"ml\":\"\",\"mps\":\"\",\"ssl\":\"0\"}};YMedia.later(10, this, function() {YMedia.use(\"node-base\", function(Y){\\n\\n    /* YUI Ads Darla begins... */\\n    YUI.AdsDarla = (function (){\\n\\n        var NAME = \\'AdsDarla\\',\\n            LB_EVENT = \\'lightbox\\',\\n            AUTO_EVENT = \\'AUTO\\',\\n            LREC3_EVENT = \\'lrec3Event\\',\\n            MUTEX_ADS = {},\\n            AD_PERF_COMP = [];\\n\\n        if (DARLA_CONFIG.positions && DARLA_CONFIG.positions[\\'TL1\\']) {\\n            var navlink = Y.one(\\'ul.navlist li>a\\'),\\n                linkcolor;\\n            if (navlink) {\\n                linkcolor = navlink.getStyle(\\'color\\');\\n                DARLA_CONFIG.positions[\\'TL1\\'].css = \".ad-tl2b {overflow:hidden; text-align:left;} p {margin:0px;} .y-fp-pg-controls {margin-top:5px; margin-bottom:5px;} #tl1_slug { font-family:\\'Helvetica Neue\\',Helvetica,Arial,sans-serif; font-size:12px; color:\" + linkcolor + \";} #fc_align a {font-family:\\'Helvetica Neue\\',Helvetica,Arial,sans-serif; font-size:11px; color:\" + linkcolor + \";} a:link {text-decoration:none;} a:hover {color: \" + linkcolor + \";}\";\\n            }\\n        }\\n\\n    /* setting up DARLA events */\\n    var w = window,\\n        D = w.DARLA,\\n        C = w.DARLA_CONFIG,\\n        DM = w.DOC_DOMAIN_SET || 0,\\n        ltime = 0;\\n    if (D) {\\n        if (D && C) {\\n            C.dm = DM;\\n        }\\n\\n\\n        /* setting DARLA configuration */\\n        DARLA.config(C);\\n\\n        /* prefetch Ads if applicable */\\n        DARLA.prefetched(\"fc\");\\n\\n        /* rendering prefetched Ad */\\n\\n        if (___adLT___ !== undefined && window.performance !== undefined && window.performance.now !== undefined) {\\n            ltime = window.performance.now();\\n            ___adLT___.push([\\'DARLA_RSTART\\', Math.round(ltime)]);\\n        }\\n        DARLA.render();\\n\\n\\n        if (___adLT___ !== undefined && window.performance !== undefined && window.performance.now !== undefined) {\\n            ltime = window.performance.now();\\n            ___adLT___.push([\\'DARLA_REND\\', Math.round(ltime)]);\\n        }\\n    }\\n\\n    return {\\n        event: function (eventId, spaceId, adsSa) {\\n            if (window.DARLA && eventId) {\\n                var eventConfig = {};\\n                if (!isNaN(spaceId)) {\\n                    eventConfig.sp = spaceId;\\n                }\\n                /* Site attributes */\\n                adsSa = (typeof adsSa !== \"undefined\" && adsSa !== null) ? adsSa : \"\";\\n                eventConfig.sa = DARLA_CONFIG.events[eventId].sa_orig.replace ? DARLA_CONFIG.events[eventId].sa_orig.replace(\"ADSSA\", adsSa) : \"\";\\n                DARLA.event(eventId, eventConfig);\\n            }\\n        },\\n        render: function() {\\n            if (!!(Y.one(\\'#yom-slideshow-lightbox\\') || Y.one(\\'#content-lightbox\\') || false)) {\\n                /* skip configuring DARLA in case of lightbox being triggered */\\n            } else {\\n                // abort current darla action\\n                if (DARLA && DARLA.abort) {\\n                    DARLA.abort();\\n                }\\n\\n                /* setting DARLA configuration */\\n                DARLA.config(DARLA_CONFIG);\\n\\n                /* prefetch Ads if applicable */\\n                DARLA.prefetched(\"fc\");\\n\\n                /* rendering prefetched Ad */\\n                DARLA.render();\\n            }\\n        }\\n    };\\n\\n})(); /* End of YUI.AdsDarla */\\n\\nYUI.AdsDarla.darla_td = { fetch: (Y.bind(YUI.AdsDarla.event, YUI.AdsDarla, \\'darla_td\\')) };    YUI.AdsDarla.fetch = YUI.AdsDarla.darla_td.fetch;\\n    Y.Global.fire(\\'darla:ready\\'); \\n}); /* End of YMedia */}); /* End of YMedia.later */var ___adLT___ = [];\\nfunction onDarlaStartParse() {\\n  if (window.performance !== undefined && window.performance.now !== undefined) {\\n    var ltime = window.performance.now();\\n    ___adLT___.push([\\'DARLA_PSTART\\', Math.round(ltime)]);\\n  }\\n}\\nfunction onDarlaStartPosRender(position) {\\n  if (window.performance !== undefined && window.performance.now !== undefined) {\\n    var ltime = window.performance.now();\\n    ___adLT___.push([\\'ADSTART_\\'+position.pos, Math.round(ltime)]);\\n  }\\n}\\nfunction onDarlaFinishPosRender(position) {\\n  if (window.performance !== undefined && window.performance.now !== undefined) {\\n    var ltime = window.performance.now();\\n    ___adLT___.push([\\'ADEND_\\'+position, Math.round(ltime)]);\\n    setTimeout(function () {\\n        if (window.LH !== undefined && window.YAFT !== undefined && window.YAFT.isInitialized()) {\\n          window.YAFT.triggerCustomTiming(\\'yom-ad-\\'+position, \\'\\', ltime);\\n        }\\n    },1000);\\n  }\\n}\\n\\nif ((DARLA && DARLA.config) || DARLA_CONFIG) {\\n    var oldConf = DARLA.config() || DARLA_CONFIG || null;\\n    if (oldConf) {\\n        if (oldConf.onStartParse) {\\n            (function() {\\n                var oldVersion = oldConf.onStartParse;\\n                oldConf.onStartParse = function(eventName) {\\n                    onDarlaStartParse(eventName);\\n                    return oldVersion.apply(me, arguments);\\n                };\\n            })();\\n        } else {\\n            oldConf.onStartParse  = onDarlaStartParse;\\n        }\\n        if (oldConf.onStartPosRender) {\\n            (function() {\\n                var oldVersion = oldConf.onStartPosRender;\\n                oldConf.onStartPosRender = function(position) {\\n                    onDarlaStartPosRender(position);\\n                    return oldVersion.apply(me, arguments);\\n                };\\n            })();\\n        } else {\\n            oldConf.onStartPosRender  = onDarlaStartPosRender;\\n        }\\n        if (oldConf.onFinishPosRender) {\\n            (function() {\\n                var oldVersion = oldConf.onFinishPosRender;\\n                oldConf.onFinishPosRender = function(position) {\\n                    onDarlaFinishPosRender(position);\\n                    return oldVersion.apply(me, arguments);\\n                };\\n            })();\\n        } else {\\n            oldConf.onFinishPosRender  = onDarlaFinishPosRender;\\n        }\\n        DARLA.config(oldConf);\\n    }\\n}\\n\\n\\n\\n\\n        \\n\\n        window.YAHOO = window.YAHOO || {}; window.YAHOO.i13n = window.YAHOO.i13n || {}; if (!window.YMedia) { var YMedia = YUI(); YMedia.includes = []; }YAHOO.i13n.YWA_CF_MAP = {\"_p\":20,\"ad\":58,\"authfb\":11,\"bpos\":24,\"camp\":54,\"cat\":25,\"code\":55,\"cpos\":21,\"ct\":23,\"dcl\":26,\"dir\":108,\"domContentLoadedEventEnd\":44,\"elm\":56,\"elmt\":57,\"f\":40,\"ft\":51,\"grpt\":109,\"ilc\":39,\"itc\":111,\"loadEventEnd\":45,\"ltxt\":17,\"mpos\":110,\"mrkt\":12,\"pcp\":67,\"pct\":48,\"pd\":46,\"pkgt\":22,\"pos\":20,\"prov\":114,\"psp\":72,\"pst\":68,\"pstcat\":47,\"pt\":13,\"rescode\":27,\"responseEnd\":43,\"responseStart\":41,\"rspns\":107,\"sca\":53,\"sec\":18,\"site\":42,\"slk\":19,\"sort\":28,\"t1\":121,\"t2\":122,\"t3\":123,\"t4\":124,\"t5\":125,\"t6\":126,\"t7\":127,\"t8\":128,\"t9\":129,\"tar\":113,\"test\":14,\"v\":52,\"ver\":49,\"x\":50};YAHOO.i13n.YWA_ACTION_MAP = {\"click\":12,\"hvr\":115,\"rottn\":128,\"drag\":105};YAHOO.i13n.YWA_OUTCOME_MAP = {};YMedia.rapid = new YAHOO.i13n.Rapid({\"spaceid\":\"28951412\",\"client_only\":1,\"test_id\":\"\",\"compr_type\":\"deflate\",\"webworker_file\":\"/rapid-worker.js\",\"text_link_len\":8,\"keys\":{\"version\":\"td app\",\"site\":\"mobile-web-quotes\"},\"ywa\":{\"project_id\":\"1000911397279\",\"document_group\":\"interactive-chart\",\"host\":\"y.analytics.yahoo.com\"},\"tracked_mods\":[\"yfi_investing_nav\",\"chart-details\"],\"perf_navigationtime\":0,\"perf_resourcetime\":0,\"nofollow_class\":[],\"pageview_on_init\":true});\\n\\n        \\n            YMedia.use(\\'main\\');\\n        \\n\\n\\t    \\n\\t    \\n\\n    '"
      ]
     },
     "execution_count": 97,
     "metadata": {},
     "output_type": "execute_result"
    }
   ],
   "source": [
    "calls.body.text_content()"
   ]
  },
  {
   "cell_type": "markdown",
   "metadata": {},
   "source": [
    "각 table 에는 header 가 하나씩 있고, 그 다음이 데이터이다."
   ]
  },
  {
   "cell_type": "code",
   "execution_count": 93,
   "metadata": {
    "collapsed": false
   },
   "outputs": [],
   "source": [
    "rows = calls.findall('.//tr')"
   ]
  },
  {
   "cell_type": "code",
   "execution_count": 87,
   "metadata": {
    "collapsed": true
   },
   "outputs": [],
   "source": [
    "def _unpack(row, kind='td'):\n",
    "    elts = row.findall('.//%s' % kind)\n",
    "    return [val.text_content().strip() for val in elts]"
   ]
  },
  {
   "cell_type": "code",
   "execution_count": 88,
   "metadata": {
    "collapsed": false
   },
   "outputs": [
    {
     "data": {
      "text/plain": [
       "['Strike\\n                    \\n                        \\ue004\\n                        \\ue002\\n                    \\n                \\n                ∵ Filter',\n",
       " 'Contract Name',\n",
       " 'Last\\n                    \\n                        \\ue004\\n                        \\ue002',\n",
       " 'Bid\\n                    \\n                        \\ue004\\n                        \\ue002',\n",
       " 'Ask\\n                    \\n                        \\ue004\\n                        \\ue002',\n",
       " 'Change\\n                    \\n                        \\ue004\\n                        \\ue002',\n",
       " '%Change\\n                    \\n                        \\ue004\\n                        \\ue002',\n",
       " 'Volume\\n                    \\n                        \\ue004\\n                        \\ue002',\n",
       " 'Open Interest\\n                    \\n                        \\ue004\\n                        \\ue002',\n",
       " 'Implied Volatility\\n                    \\n                        \\ue004\\n                        \\ue002']"
      ]
     },
     "execution_count": 88,
     "metadata": {},
     "output_type": "execute_result"
    }
   ],
   "source": [
    "_unpack(rows[0], kind='th')"
   ]
  },
  {
   "cell_type": "code",
   "execution_count": 89,
   "metadata": {
    "collapsed": false
   },
   "outputs": [
    {
     "data": {
      "text/plain": [
       "['✕\\n                            [modify]']"
      ]
     },
     "execution_count": 89,
     "metadata": {},
     "output_type": "execute_result"
    }
   ],
   "source": [
    "_unpack(rows[1], kind='td')"
   ]
  },
  {
   "cell_type": "code",
   "execution_count": null,
   "metadata": {
    "collapsed": true
   },
   "outputs": [],
   "source": []
  }
 ],
 "metadata": {
  "kernelspec": {
   "display_name": "Python 3",
   "language": "python",
   "name": "python3"
  },
  "language_info": {
   "codemirror_mode": {
    "name": "ipython",
    "version": 3
   },
   "file_extension": ".py",
   "mimetype": "text/x-python",
   "name": "python",
   "nbconvert_exporter": "python",
   "pygments_lexer": "ipython3",
   "version": "3.5.1"
  }
 },
 "nbformat": 4,
 "nbformat_minor": 0
}
